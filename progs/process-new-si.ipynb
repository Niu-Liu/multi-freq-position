{
 "cells": [
  {
   "cell_type": "markdown",
   "id": "adopted-roberts",
   "metadata": {},
   "source": [
    "I processed the new SI measurements based on VLBI images from astrogeo. \n",
    "\n",
    "These results will be used to complement those available in the BVID database."
   ]
  },
  {
   "cell_type": "code",
   "execution_count": 1,
   "id": "uniform-chart",
   "metadata": {
    "ExecuteTime": {
     "end_time": "2021-04-22T06:55:11.879952Z",
     "start_time": "2021-04-22T06:55:10.723391Z"
    }
   },
   "outputs": [],
   "source": [
    "from astropy.table import Table, setdiff, join, vstack\n",
    "from astropy.time import Time\n",
    "# import astropy.units as u\n",
    "import matplotlib.pyplot as plt\n",
    "from matplotlib.ticker import MultipleLocator\n",
    "import numpy as np"
   ]
  },
  {
   "cell_type": "code",
   "execution_count": 2,
   "id": "specified-business",
   "metadata": {
    "ExecuteTime": {
     "end_time": "2021-04-22T06:55:11.886004Z",
     "start_time": "2021-04-22T06:55:11.882670Z"
    }
   },
   "outputs": [],
   "source": [
    "def epoch_convert(epoch_str):\n",
    "    \"\"\"Convert XXXX_XX_XX into XXXX-XX-XX\n",
    "    \"\"\"\n",
    "    \n",
    "    epoch_str_new = epoch_str.replace(\"_\", \"-\")\n",
    "    \n",
    "    return epoch_str_new"
   ]
  },
  {
   "cell_type": "code",
   "execution_count": 3,
   "id": "imported-salem",
   "metadata": {
    "ExecuteTime": {
     "end_time": "2021-04-22T06:55:11.897197Z",
     "start_time": "2021-04-22T06:55:11.888657Z"
    }
   },
   "outputs": [],
   "source": [
    "si_x_table = Table.read(\"../data/astrogeo_SI.txt\", format=\"ascii\")"
   ]
  },
  {
   "cell_type": "markdown",
   "id": "environmental-pipeline",
   "metadata": {},
   "source": [
    "Convert the epoch from string into `astropy.time.Time` type."
   ]
  },
  {
   "cell_type": "code",
   "execution_count": 4,
   "id": "resistant-death",
   "metadata": {
    "ExecuteTime": {
     "end_time": "2021-04-22T06:55:11.940292Z",
     "start_time": "2021-04-22T06:55:11.898747Z"
    }
   },
   "outputs": [],
   "source": [
    "new_epoch_str = [epoch_convert(epoch_str) for epoch_str in si_x_table[\"Epoch\"]]\n",
    "\n",
    "epoch = Time(new_epoch_str, scale=\"utc\")\n",
    "si_x_table[\"Epoch\"] = epoch.jyear"
   ]
  },
  {
   "cell_type": "code",
   "execution_count": 5,
   "id": "virtual-sleeve",
   "metadata": {
    "ExecuteTime": {
     "end_time": "2021-04-22T06:55:11.944930Z",
     "start_time": "2021-04-22T06:55:11.942072Z"
    }
   },
   "outputs": [],
   "source": [
    "si_x_table.rename_columns([\"Source\", \"IERS_name\", \"Epoch\", \"SI\", \"Band\"],\n",
    "                          [\"j2000_name\", \"iers_name\", \"year\", \"si\", \"band\"])"
   ]
  },
  {
   "cell_type": "code",
   "execution_count": 6,
   "id": "toxic-silence",
   "metadata": {
    "ExecuteTime": {
     "end_time": "2021-04-22T06:55:11.985365Z",
     "start_time": "2021-04-22T06:55:11.946721Z"
    }
   },
   "outputs": [
    {
     "name": "stdout",
     "output_type": "stream",
     "text": [
      "196 sources are gvien the SI seasurements.\n"
     ]
    }
   ],
   "source": [
    "# Table of 512 sources\n",
    "com_sou_list = Table.read(\"../data/com-sou-list.txt\", format=\"ascii\")\n",
    "# com_sou_list2 = Table.read(\"../data/com-sou-list-DR2.txt\", format=\"ascii\")\n",
    "\n",
    "# Cross-match\n",
    "si_4_com_sou = join(si_x_table, com_sou_list, keys=\"iers_name\")\n",
    "\n",
    "# To see how many sources are given a SI measurement\n",
    "si_4_com_sou_g = si_4_com_sou.group_by(\"iers_name\")\n",
    "\n",
    "com_sou_with_si = si_4_com_sou_g.groups.keys\n",
    "print(len(com_sou_with_si), \"sources are gvien the SI seasurements.\")"
   ]
  },
  {
   "cell_type": "code",
   "execution_count": 7,
   "id": "vital-constitution",
   "metadata": {
    "ExecuteTime": {
     "end_time": "2021-04-22T06:55:12.130256Z",
     "start_time": "2021-04-22T06:55:11.992257Z"
    }
   },
   "outputs": [],
   "source": [
    "num_sou_with_si = len(com_sou_with_si)\n",
    "num_si = np.zeros(num_sou_with_si)\n",
    "med_si = np.zeros(num_sou_with_si)\n",
    "std_si = np.zeros(num_sou_with_si)\n",
    "si_dif = np.zeros(num_sou_with_si)\n",
    "med_epo = np.zeros(num_sou_with_si)\n",
    "epo_dif = np.zeros(num_sou_with_si)\n",
    "si_val = np.zeros(num_sou_with_si)\n",
    "epo_si_val = np.zeros(num_sou_with_si)\n",
    "epo_to_2015 = np.zeros(num_sou_with_si)\n",
    "\n",
    "for i, group in enumerate(si_4_com_sou_g.groups):\n",
    "    num_si[i] = len(group)\n",
    "\n",
    "    if len(group) == 1:\n",
    "        std_si[i] = 0\n",
    "    else:\n",
    "        std_si[i] = np.std(group[\"si\"])\n",
    "\n",
    "    med_si[i] = np.median(group[\"si\"])\n",
    "    med_epo[i] = np.median(group[\"year\"])\n",
    "\n",
    "    si_dif[i] = group[\"si\"].max() - group[\"si\"].min()\n",
    "    epo_dif[i] = group[\"year\"].max() - group[\"year\"].min()\n",
    "\n",
    "    dif_2015 = np.fabs(group[\"year\"] - 2015)\n",
    "\n",
    "    ind = dif_2015.argmin()\n",
    "    si_val[i] = group[\"si\"][ind]\n",
    "    epo_si_val[i] = group[\"year\"][ind]\n",
    "    epo_to_2015[i] = dif_2015[ind]\n",
    "\n",
    "si_sta = Table([\n",
    "    com_sou_with_si[\"iers_name\"], num_si, std_si, si_dif, epo_dif, si_val,\n",
    "    epo_to_2015\n",
    "],\n",
    "               names=[\n",
    "                   \"iers_name\", \"nb_si\", \"si_std\", \"si_dif\", \"epo_dif\", \"si\",\n",
    "                   \"epo_2_2015\"\n",
    "               ])"
   ]
  },
  {
   "cell_type": "code",
   "execution_count": 8,
   "id": "stuffed-aviation",
   "metadata": {
    "ExecuteTime": {
     "end_time": "2021-04-22T06:55:12.458832Z",
     "start_time": "2021-04-22T06:55:12.133082Z"
    }
   },
   "outputs": [
    {
     "name": "stdout",
     "output_type": "stream",
     "text": [
      "#Sou with only one SI measurements are 72.0\n"
     ]
    },
    {
     "data": {
      "image/png": "[encoded data removed]",
      "text/plain": [
       "<Figure size 864x288 with 2 Axes>"
      ]
     },
     "metadata": {
      "needs_background": "light"
     },
     "output_type": "display_data"
    }
   ],
   "source": [
    "fig, (ax0, ax1) = plt.subplots(figsize=(12, 4), ncols=2, sharex=True)\n",
    "\n",
    "bins = np.arange(1, 50)\n",
    "\n",
    "cou, _, _ = ax0.hist(si_sta[\"nb_si\"], bins)\n",
    "ax0.set_xlabel(\"No. SI\")\n",
    "ax0.set_ylabel(\"No. Source\")\n",
    "ax0.set_title(\"Fig.1 No. SI per source at X-band\")\n",
    "ax0.grid(lw=0.1)\n",
    "\n",
    "num = len(si_sta)\n",
    "ax1.hist(si_sta[\"nb_si\"], bins, histtype=\"step\", cumulative=True, weights=np.ones(num)/num)\n",
    "ax1.grid(lw=0.1)\n",
    "\n",
    "print(\"#Sou with only one SI measurements are\", cou[0])"
   ]
  },
  {
   "cell_type": "code",
   "execution_count": 9,
   "id": "varying-independence",
   "metadata": {
    "ExecuteTime": {
     "end_time": "2021-04-22T06:55:12.758675Z",
     "start_time": "2021-04-22T06:55:12.460795Z"
    }
   },
   "outputs": [
    {
     "name": "stdout",
     "output_type": "stream",
     "text": [
      "Fig.2 Standard deviation of SI at X-band (Astrogeo)\n"
     ]
    },
    {
     "data": {
      "image/png": "[encoded data removed]",
      "text/plain": [
       "<Figure size 864x288 with 2 Axes>"
      ]
     },
     "metadata": {
      "needs_background": "light"
     },
     "output_type": "display_data"
    }
   ],
   "source": [
    "fig, (ax0, ax1) = plt.subplots(figsize=(12, 4), ncols=2, sharex=True)\n",
    "\n",
    "bins = np.arange(0.1, 4, 0.1)\n",
    "cou_s, _, _ = ax0.hist(si_sta[\"si_std\"], bins)\n",
    "\n",
    "ax0.set_xlabel(\"Std of SI for individual source\")\n",
    "ax0.set_ylabel(\"No. Source\")\n",
    "ax0.set_xlim([0, 2])\n",
    "ax0.set_xticks(np.arange(0, 4.1, 0.5))\n",
    "ax0.grid(lw=0.3)\n",
    "\n",
    "num = len(si_sta[\"si_std\"])\n",
    "ax1.hist(si_sta[\"si_std\"], bins, histtype=\"step\", cumulative=True, weights=np.ones(num)/num)\n",
    "ax1.grid(lw=0.3)\n",
    "\n",
    "print(\"Fig.2 Standard deviation of SI at X-band (Astrogeo)\")"
   ]
  },
  {
   "cell_type": "code",
   "execution_count": 10,
   "id": "gorgeous-milwaukee",
   "metadata": {
    "ExecuteTime": {
     "end_time": "2021-04-22T06:55:13.052011Z",
     "start_time": "2021-04-22T06:55:12.760149Z"
    }
   },
   "outputs": [
    {
     "name": "stdout",
     "output_type": "stream",
     "text": [
      "Fig.3 Maximum absolute difference in SI at X-band (Astrogeo)\n"
     ]
    },
    {
     "data": {
      "image/png": "[encoded data removed]",
      "text/plain": [
       "<Figure size 864x288 with 2 Axes>"
      ]
     },
     "metadata": {
      "needs_background": "light"
     },
     "output_type": "display_data"
    }
   ],
   "source": [
    "fig, (ax0, ax1) = plt.subplots(figsize=(12, 4), ncols=2, sharex=True)\n",
    "\n",
    "bins = np.arange(0.1, 4, 0.1)\n",
    "cou_s, _, _ = ax0.hist(si_sta[\"si_dif\"], bins)\n",
    "\n",
    "ax0.set_xlabel(\"Differences of SI for individual source\")\n",
    "ax0.set_ylabel(\"No. Source\")\n",
    "ax0.set_xlim([0, 4])\n",
    "ax0.set_xticks(np.arange(0, 4.1, 0.5))\n",
    "ax0.set_ylim([0, 25])\n",
    "ax0.grid(lw=0.3)\n",
    "\n",
    "num = len(si_sta[\"si_dif\"])\n",
    "ax1.hist(si_sta[\"si_dif\"], bins, histtype=\"step\", cumulative=True, weights=np.ones(num)/num)\n",
    "ax1.grid(lw=0.3)\n",
    "\n",
    "print(\"Fig.3 Maximum absolute difference in SI at X-band (Astrogeo)\")"
   ]
  },
  {
   "cell_type": "code",
   "execution_count": 11,
   "id": "accessible-cholesterol",
   "metadata": {
    "ExecuteTime": {
     "end_time": "2021-04-22T06:55:13.310773Z",
     "start_time": "2021-04-22T06:55:13.054105Z"
    }
   },
   "outputs": [
    {
     "name": "stdout",
     "output_type": "stream",
     "text": [
      "Fig.4 Epoch difference of image (Astrogeo)\n"
     ]
    },
    {
     "data": {
      "image/png": "[encoded data removed]",
      "text/plain": [
       "<Figure size 432x288 with 1 Axes>"
      ]
     },
     "metadata": {
      "needs_background": "light"
     },
     "output_type": "display_data"
    }
   ],
   "source": [
    "fig, ax = plt.subplots()\n",
    "\n",
    "bins = np.arange(0.1, 25, 0.5)\n",
    "cou_s, _, _ = ax.hist(si_sta[\"epo_dif\"], bins)\n",
    "\n",
    "ax.set_xlabel(\"Epoch difference for individual source (yr)\")\n",
    "ax.set_ylabel(\"No. Source\")\n",
    "\n",
    "ax.set_xlim([0, 25])\n",
    "ax.xaxis.set_minor_locator(MultipleLocator(1))\n",
    "\n",
    "ax.grid(lw=0.1)\n",
    "\n",
    "print(\"Fig.4 Epoch difference of image (Astrogeo)\")"
   ]
  },
  {
   "cell_type": "code",
   "execution_count": 12,
   "id": "indian-monitoring",
   "metadata": {
    "ExecuteTime": {
     "end_time": "2021-04-22T06:55:13.917378Z",
     "start_time": "2021-04-22T06:55:13.312937Z"
    }
   },
   "outputs": [
    {
     "name": "stdout",
     "output_type": "stream",
     "text": [
      "Fig.5 Epoch difference to J2015 (Astrogeo)\n"
     ]
    },
    {
     "data": {
      "image/png": "[encoded data removed]",
      "text/plain": [
       "<Figure size 864x288 with 2 Axes>"
      ]
     },
     "metadata": {
      "needs_background": "light"
     },
     "output_type": "display_data"
    }
   ],
   "source": [
    "fig, (ax0, ax1) = plt.subplots(figsize=(12, 4), ncols=2, sharex=True)\n",
    "\n",
    "bins = np.arange(0, 20, 0.5)\n",
    "cou_s, _, _ = ax0.hist(si_sta[\"epo_2_2015\"], bins)\n",
    "\n",
    "ax0.set_xlabel(\"Minimum epoch difference to $J2015$ (yr)\")\n",
    "ax0.set_ylabel(\"No. Source\")\n",
    "ax0.set_xlim([-0.5, 20.5])\n",
    "ax0.set_xticks(np.arange(0, 20.1, 5))\n",
    "ax0.xaxis.set_minor_locator(MultipleLocator(1))\n",
    "ax0.grid(lw=0.3)\n",
    "\n",
    "num = len(si_sta[\"si_dif\"])\n",
    "ax1.hist(si_sta[\"si_dif\"], bins, histtype=\"step\", cumulative=True, weights=np.ones(num)/num)\n",
    "ax1.grid(lw=0.3)\n",
    "\n",
    "print(\"Fig.5 Epoch difference to J2015 (Astrogeo)\")"
   ]
  },
  {
   "cell_type": "code",
   "execution_count": 13,
   "id": "consecutive-child",
   "metadata": {
    "ExecuteTime": {
     "end_time": "2021-04-22T06:55:13.962152Z",
     "start_time": "2021-04-22T06:55:13.919387Z"
    }
   },
   "outputs": [],
   "source": [
    "# Store the results\n",
    "si_tab_astro = Table(\n",
    "    [com_sou_with_si[\"iers_name\"], med_si, med_epo, si_val, epo_si_val],\n",
    "    names=[\"iers_name\", \"si_med\", \"epo_med\", \"si_c15\", \"epo_c15\"])\n",
    "\n",
    "si_tab_astro.write(\"../data/si_from_astrogeo.fits\", overwrite=True)"
   ]
  },
  {
   "cell_type": "markdown",
   "id": "developmental-spotlight",
   "metadata": {},
   "source": [
    "Compare with the one from BVID."
   ]
  },
  {
   "cell_type": "code",
   "execution_count": 14,
   "id": "ignored-semester",
   "metadata": {
    "ExecuteTime": {
     "end_time": "2021-04-22T06:55:13.974614Z",
     "start_time": "2021-04-22T06:55:13.963381Z"
    }
   },
   "outputs": [],
   "source": [
    "si_tab_bvid = Table.read(\"../data/si_from_bvid.fits\")"
   ]
  },
  {
   "cell_type": "markdown",
   "id": "hourly-father",
   "metadata": {
    "ExecuteTime": {
     "end_time": "2021-04-22T06:42:20.139870Z",
     "start_time": "2021-04-22T06:42:20.131099Z"
    }
   },
   "source": [
    "Any common sources between these two tables?"
   ]
  },
  {
   "cell_type": "code",
   "execution_count": 15,
   "id": "experimental-omega",
   "metadata": {
    "ExecuteTime": {
     "end_time": "2021-04-22T06:55:13.981077Z",
     "start_time": "2021-04-22T06:55:13.976160Z"
    }
   },
   "outputs": [],
   "source": [
    "com_sou = join(si_tab_bvid, si_tab_astro, keys=\"iers_name\", table_names=[\"B\", \"A\"])"
   ]
  },
  {
   "cell_type": "markdown",
   "id": "adjusted-mainstream",
   "metadata": {
    "ExecuteTime": {
     "end_time": "2021-04-22T06:51:15.541052Z",
     "start_time": "2021-04-22T06:51:15.532203Z"
    }
   },
   "source": [
    "I found 95 common sources."
   ]
  },
  {
   "cell_type": "code",
   "execution_count": 16,
   "id": "material-escape",
   "metadata": {
    "ExecuteTime": {
     "end_time": "2021-04-22T06:55:14.118965Z",
     "start_time": "2021-04-22T06:55:13.983095Z"
    }
   },
   "outputs": [
    {
     "data": {
      "text/plain": [
       "Text(0, 0.5, 'SI from Astorgeo')"
      ]
     },
     "execution_count": 16,
     "metadata": {},
     "output_type": "execute_result"
    },
    {
     "data": {
      "image/png": "[encoded data removed]",
      "text/plain": [
       "<Figure size 432x288 with 1 Axes>"
      ]
     },
     "metadata": {
      "needs_background": "light"
     },
     "output_type": "display_data"
    }
   ],
   "source": [
    "fig, ax = plt.subplots()\n",
    "\n",
    "ax.plot(com_sou[\"si_c15_B\"], com_sou[\"si_c15_A\"], \".\")\n",
    "\n",
    "ax.axis(\"square\")\n",
    "ax.axis([0, 8, 0, 8])\n",
    "\n",
    "ax.set_xlabel(\"SI from BVID\")\n",
    "ax.set_ylabel(\"SI from Astorgeo\")"
   ]
  },
  {
   "cell_type": "code",
   "execution_count": 17,
   "id": "electrical-upgrade",
   "metadata": {
    "ExecuteTime": {
     "end_time": "2021-04-22T06:55:14.242510Z",
     "start_time": "2021-04-22T06:55:14.121045Z"
    }
   },
   "outputs": [
    {
     "data": {
      "text/plain": [
       "Text(0, 0.5, 'SI from Astorgeo')"
      ]
     },
     "execution_count": 17,
     "metadata": {},
     "output_type": "execute_result"
    },
    {
     "data": {
      "image/png": "[encoded data removed]",
      "text/plain": [
       "<Figure size 432x288 with 1 Axes>"
      ]
     },
     "metadata": {
      "needs_background": "light"
     },
     "output_type": "display_data"
    }
   ],
   "source": [
    "fig, ax = plt.subplots()\n",
    "\n",
    "ax.plot(com_sou[\"epo_c15_B\"], com_sou[\"epo_c15_A\"], \".\")\n",
    "\n",
    "ax.axis(\"square\")\n",
    "ax.axis([1995, 2020, 1995, 2020])\n",
    "\n",
    "ax.set_xlabel(\"SI from BVID\")\n",
    "ax.set_ylabel(\"SI from Astorgeo\")"
   ]
  },
  {
   "cell_type": "code",
   "execution_count": 18,
   "id": "micro-universe",
   "metadata": {
    "ExecuteTime": {
     "end_time": "2021-04-22T06:55:14.247046Z",
     "start_time": "2021-04-22T06:55:14.244359Z"
    }
   },
   "outputs": [],
   "source": [
    "com_sou_list = Table([com_sou[\"iers_name\"]])"
   ]
  },
  {
   "cell_type": "markdown",
   "id": "legislative-isaac",
   "metadata": {},
   "source": [
    "Construct two SI tables:\n",
    "\n",
    "- A: mainly based on the BVID table\n",
    "\n",
    "- B: mainly based on the Astrogeo table"
   ]
  },
  {
   "cell_type": "code",
   "execution_count": 19,
   "id": "lesser-joseph",
   "metadata": {
    "ExecuteTime": {
     "end_time": "2021-04-22T06:55:14.265646Z",
     "start_time": "2021-04-22T06:55:14.249076Z"
    }
   },
   "outputs": [],
   "source": [
    "tmp = setdiff(si_tab_astro, com_sou_list, keys=\"iers_name\")\n",
    "\n",
    "si_tab_A = vstack((si_tab_bvid, tmp))\n",
    "\n",
    "si_tab_A.write(\"../data/si_table_A.fits\", overwrite=True)"
   ]
  },
  {
   "cell_type": "code",
   "execution_count": 20,
   "id": "secondary-apple",
   "metadata": {
    "ExecuteTime": {
     "end_time": "2021-04-22T06:55:14.287592Z",
     "start_time": "2021-04-22T06:55:14.268030Z"
    }
   },
   "outputs": [],
   "source": [
    "tmp = setdiff(si_tab_bvid, com_sou_list, keys=\"iers_name\")\n",
    "\n",
    "si_tab_B = vstack((si_tab_astro, tmp))\n",
    "\n",
    "si_tab_B.write(\"../data/si_table_B.fits\", overwrite=True)"
   ]
  }
 ],
 "metadata": {
  "hide_input": false,
  "kernelspec": {
   "display_name": "Python 3",
   "language": "python",
   "name": "python3"
  },
  "language_info": {
   "codemirror_mode": {
    "name": "ipython",
    "version": 3
   },
   "file_extension": ".py",
   "mimetype": "text/x-python",
   "name": "python",
   "nbconvert_exporter": "python",
   "pygments_lexer": "ipython3",
   "version": "3.7.10"
  }
 },
 "nbformat": 4,
 "nbformat_minor": 5
}
