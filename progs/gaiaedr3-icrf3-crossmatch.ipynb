{
 "cells": [
  {
   "cell_type": "markdown",
   "metadata": {},
   "source": [
    "This notebook includes the main procedures of cross-match between ICRF3 and Gaia-EDR3 catalogs."
   ]
  },
  {
   "cell_type": "code",
   "execution_count": 1,
   "metadata": {
    "ExecuteTime": {
     "end_time": "2021-03-05T05:06:50.938235Z",
     "start_time": "2021-03-05T05:06:49.918027Z"
    }
   },
   "outputs": [],
   "source": [
    "import time\n",
    "import numpy as np\n",
    "from astropy.table import Table, join, Column\n",
    "from astropy import units as u\n",
    "\n",
    "# My progs\n",
    "from my_progs.catalog.read_icrf import read_icrf3\n",
    "from my_progs.catalog.read_gaia import read_edr3_icrf_sou, read_dr2_iers\n",
    "from my_progs.catalog.pos_diff import radio_cat_diff_calc"
   ]
  },
  {
   "cell_type": "markdown",
   "metadata": {},
   "source": [
    "Get the Gaia EDR3 data."
   ]
  },
  {
   "cell_type": "code",
   "execution_count": 2,
   "metadata": {
    "ExecuteTime": {
     "end_time": "2021-03-05T05:06:51.206576Z",
     "start_time": "2021-03-05T05:06:50.940810Z"
    }
   },
   "outputs": [],
   "source": [
    "gedr3 = read_edr3_icrf_sou(True)"
   ]
  },
  {
   "cell_type": "markdown",
   "metadata": {},
   "source": [
    "Crossmatch with ICRF3 S/X catalog."
   ]
  },
  {
   "cell_type": "code",
   "execution_count": 3,
   "metadata": {
    "ExecuteTime": {
     "end_time": "2021-03-05T05:06:52.552132Z",
     "start_time": "2021-03-05T05:06:51.209122Z"
    }
   },
   "outputs": [],
   "source": [
    "icrf3sx = read_icrf3(wv=\"sx\")"
   ]
  },
  {
   "cell_type": "markdown",
   "metadata": {},
   "source": [
    "Calculate positional offset between ICRF3 S/X catalog and Gaia EDR3, in sense of S/X minus EDR3."
   ]
  },
  {
   "cell_type": "code",
   "execution_count": 4,
   "metadata": {
    "ExecuteTime": {
     "end_time": "2021-03-05T05:06:53.108915Z",
     "start_time": "2021-03-05T05:06:52.555050Z"
    }
   },
   "outputs": [],
   "source": [
    "pos_oft = radio_cat_diff_calc(icrf3sx, gedr3, sou_name=\"icrf_name\")\n",
    "pos_oft.remove_columns(['ra_err_1', 'dec_err_1', 'ra', 'ra_err_2', 'dec','dec_err_2'])\n",
    "\n",
    "pos_oft1 = radio_cat_diff_calc(gedr3, icrf3sx, sou_name=\"icrf_name\")\n",
    "pos_oft1.remove_columns(['ra_err_1', 'dec_err_1', 'ra', 'ra_err_2', 'dec','dec_err_2'])"
   ]
  },
  {
   "cell_type": "markdown",
   "metadata": {},
   "source": [
    "Join the positional offset table with original catalogs for further access."
   ]
  },
  {
   "cell_type": "code",
   "execution_count": 5,
   "metadata": {
    "ExecuteTime": {
     "end_time": "2021-03-05T05:06:53.158390Z",
     "start_time": "2021-03-05T05:06:53.111299Z"
    }
   },
   "outputs": [],
   "source": [
    "gedr3_icrf3sx = join(gedr3, icrf3sx, keys='icrf_name', table_names=['gedr3', 'icrf3sx'])\n",
    "gedr3_icrf3sx_oft = join(gedr3_icrf3sx, pos_oft, keys='icrf_name')\n",
    "\n",
    "gedr3_icrf3sx_oft.rename_columns(['ra_gedr3', 'dec_gedr3'],\n",
    "                                 ['ra', 'dec'])"
   ]
  },
  {
   "cell_type": "code",
   "execution_count": 6,
   "metadata": {
    "ExecuteTime": {
     "end_time": "2021-03-05T05:06:53.188630Z",
     "start_time": "2021-03-05T05:06:53.161213Z"
    }
   },
   "outputs": [],
   "source": [
    "icrf3sx_gedr3_oft = join(gedr3_icrf3sx, pos_oft1, keys='icrf_name')\n",
    "icrf3sx_gedr3_oft.rename_columns(['ra_icrf3sx', 'dec_icrf3sx'],\n",
    "                                 ['ra', 'dec'])"
   ]
  },
  {
   "cell_type": "markdown",
   "metadata": {},
   "source": [
    "Save the data."
   ]
  },
  {
   "cell_type": "code",
   "execution_count": 7,
   "metadata": {
    "ExecuteTime": {
     "end_time": "2021-03-05T05:06:53.706263Z",
     "start_time": "2021-03-05T05:06:53.193478Z"
    }
   },
   "outputs": [
    {
     "name": "stderr",
     "output_type": "stream",
     "text": [
      "WARNING: UnitsWarning: ''electron'.s**-1' did not parse as fits unit: At col 0, Unit ''electron'' not supported by the FITS standard.  If this is meant to be a custom unit, define it with 'u.def_unit'. To have it recognized inside a file reader or other code, enable it with 'u.add_enabled_units'. For details, see https://docs.astropy.org/en/latest/units/combining_and_defining.html [astropy.units.core]\n",
      "WARNING: UnitsWarning: 'log(cm.s**-2)' did not parse as fits unit: 'log' is not a recognized function If this is meant to be a custom unit, define it with 'u.def_unit'. To have it recognized inside a file reader or other code, enable it with 'u.add_enabled_units'. For details, see https://docs.astropy.org/en/latest/units/combining_and_defining.html [astropy.units.core]\n",
      "WARNING: UnitsWarning: 'dex' did not parse as fits unit: At col 0, Unit 'dex' not supported by the FITS standard.  If this is meant to be a custom unit, define it with 'u.def_unit'. To have it recognized inside a file reader or other code, enable it with 'u.add_enabled_units'. For details, see https://docs.astropy.org/en/latest/units/combining_and_defining.html [astropy.units.core]\n"
     ]
    }
   ],
   "source": [
    "gedr3_icrf3sx_oft.write('../data/icrf3sx_gedr3.fits', overwrite=True)\n",
    "icrf3sx_gedr3_oft.write('../data/gedr3_icrf3sx.fits', overwrite=True)"
   ]
  },
  {
   "cell_type": "markdown",
   "metadata": {},
   "source": [
    "Repeat the same procedures for K and X/Ka catalogs."
   ]
  },
  {
   "cell_type": "code",
   "execution_count": 8,
   "metadata": {
    "ExecuteTime": {
     "end_time": "2021-03-05T05:06:54.319025Z",
     "start_time": "2021-03-05T05:06:53.709181Z"
    }
   },
   "outputs": [],
   "source": [
    "icrf3k = read_icrf3(wv=\"k\")\n",
    "\n",
    "pos_oft = radio_cat_diff_calc(icrf3k, gedr3, sou_name=\"icrf_name\")\n",
    "pos_oft.remove_columns(['ra_err_1', 'dec_err_1', 'ra',\n",
    "                        'ra_err_2', 'dec', 'dec_err_2'])\n",
    "\n",
    "gedr3_icrf3k = join(gedr3, icrf3k, keys='icrf_name',\n",
    "                    table_names=['gedr3', 'icrf3k'])\n",
    "gedr3_icrf3k_oft = join(gedr3_icrf3k, pos_oft, keys='icrf_name')\n",
    "gedr3_icrf3k_oft.rename_columns(['ra_gedr3', 'dec_gedr3'],\n",
    "                                ['ra', 'dec'])\n",
    "\n",
    "gedr3_icrf3k_oft.write('../data/icrf3k_gedr3.fits', overwrite=True)"
   ]
  },
  {
   "cell_type": "code",
   "execution_count": 9,
   "metadata": {
    "ExecuteTime": {
     "end_time": "2021-03-05T05:06:54.845302Z",
     "start_time": "2021-03-05T05:06:54.321281Z"
    }
   },
   "outputs": [],
   "source": [
    "icrf3xka = read_icrf3(wv=\"xka\")\n",
    "\n",
    "pos_oft = radio_cat_diff_calc(icrf3xka, gedr3, sou_name=\"icrf_name\")\n",
    "pos_oft.remove_columns(['ra_err_1', 'dec_err_1', 'ra',\n",
    "                        'ra_err_2', 'dec', 'dec_err_2'])\n",
    "\n",
    "gedr3_icrf3xka = join(gedr3, icrf3xka, keys='icrf_name',\n",
    "                      table_names=['gedr3', 'icrf3xka'])\n",
    "gedr3_icrf3xka_oft = join(gedr3_icrf3xka, pos_oft, keys='icrf_name')\n",
    "\n",
    "gedr3_icrf3xka_oft.rename_columns(['ra_gedr3', 'dec_gedr3'],\n",
    "                                  ['ra', 'dec'])\n",
    "\n",
    "gedr3_icrf3xka_oft.write('../data/icrf3xka_gedr3.fits', overwrite=True)"
   ]
  },
  {
   "cell_type": "markdown",
   "metadata": {},
   "source": [
    "Crossmatch with Gaia DR2 IERS sample."
   ]
  },
  {
   "cell_type": "code",
   "execution_count": 10,
   "metadata": {
    "ExecuteTime": {
     "end_time": "2021-03-05T05:06:55.108033Z",
     "start_time": "2021-03-05T05:06:54.847334Z"
    }
   },
   "outputs": [],
   "source": [
    "gdr2 = read_dr2_iers()"
   ]
  },
  {
   "cell_type": "code",
   "execution_count": 11,
   "metadata": {
    "ExecuteTime": {
     "end_time": "2021-03-05T05:06:56.437463Z",
     "start_time": "2021-03-05T05:06:55.110447Z"
    },
    "scrolled": true
   },
   "outputs": [
    {
     "name": "stderr",
     "output_type": "stream",
     "text": [
      "WARNING: MergeConflictWarning: Cannot merge meta key 'EXTNAME' types <class 'str'> and <class 'str'>, choosing EXTNAME='Joined' [astropy.utils.metadata]\n",
      "WARNING: MergeConflictWarning: Cannot merge meta key 'TCOMM1' types <class 'str'> and <class 'str'>, choosing TCOMM1='Solution Identifier' [astropy.utils.metadata]\n",
      "WARNING: MergeConflictWarning: Cannot merge meta key 'TUCD1' types <class 'str'> and <class 'str'>, choosing TUCD1='meta.version' [astropy.utils.metadata]\n",
      "WARNING: MergeConflictWarning: Cannot merge meta key 'TCOMM2' types <class 'str'> and <class 'str'>, choosing TCOMM2='Unique source designation (unique across all Data Releases)' [astropy.utils.metadata]\n",
      "WARNING: MergeConflictWarning: Cannot merge meta key 'TUCD2' types <class 'str'> and <class 'str'>, choosing TUCD2='meta.id;meta.main' [astropy.utils.metadata]\n",
      "WARNING: MergeConflictWarning: Cannot merge meta key 'TCOMM3' types <class 'str'> and <class 'str'>, choosing TCOMM3='Unique source identifier (unique within a particular Data Release)' [astropy.utils.metadata]\n",
      "WARNING: MergeConflictWarning: Cannot merge meta key 'TUCD3' types <class 'str'> and <class 'str'>, choosing TUCD3='meta.id' [astropy.utils.metadata]\n",
      "WARNING: MergeConflictWarning: Cannot merge meta key 'TCOMM4' types <class 'str'> and <class 'str'>, choosing TCOMM4='Random index used to select subsets' [astropy.utils.metadata]\n",
      "WARNING: MergeConflictWarning: Cannot merge meta key 'TUCD4' types <class 'str'> and <class 'str'>, choosing TUCD4='meta.code' [astropy.utils.metadata]\n",
      "WARNING: MergeConflictWarning: Cannot merge meta key 'TCOMM5' types <class 'str'> and <class 'str'>, choosing TCOMM5='Reference epoch' [astropy.utils.metadata]\n",
      "WARNING: MergeConflictWarning: Cannot merge meta key 'TUCD5' types <class 'str'> and <class 'str'>, choosing TUCD5='meta.ref;time.epoch' [astropy.utils.metadata]\n",
      "WARNING: MergeConflictWarning: Cannot merge meta key 'TCOMM6' types <class 'str'> and <class 'str'>, choosing TCOMM6='Right ascension' [astropy.utils.metadata]\n",
      "WARNING: MergeConflictWarning: Cannot merge meta key 'TUCD6' types <class 'str'> and <class 'str'>, choosing TUCD6='pos.eq.ra;meta.main' [astropy.utils.metadata]\n",
      "WARNING: MergeConflictWarning: Cannot merge meta key 'TCOMM7' types <class 'str'> and <class 'str'>, choosing TCOMM7='Standard error of right ascension' [astropy.utils.metadata]\n",
      "WARNING: MergeConflictWarning: Cannot merge meta key 'TUCD7' types <class 'str'> and <class 'str'>, choosing TUCD7='stat.error;pos.eq.ra' [astropy.utils.metadata]\n",
      "WARNING: MergeConflictWarning: Cannot merge meta key 'TCOMM8' types <class 'str'> and <class 'str'>, choosing TCOMM8='Declination' [astropy.utils.metadata]\n",
      "WARNING: MergeConflictWarning: Cannot merge meta key 'TUCD8' types <class 'str'> and <class 'str'>, choosing TUCD8='pos.eq.dec;meta.main' [astropy.utils.metadata]\n",
      "WARNING: MergeConflictWarning: Cannot merge meta key 'TCOMM9' types <class 'str'> and <class 'str'>, choosing TCOMM9='Standard error of declination' [astropy.utils.metadata]\n",
      "WARNING: MergeConflictWarning: Cannot merge meta key 'TUCD9' types <class 'str'> and <class 'str'>, choosing TUCD9='stat.error;pos.eq.dec' [astropy.utils.metadata]\n",
      "WARNING: MergeConflictWarning: Cannot merge meta key 'TCOMM10' types <class 'str'> and <class 'str'>, choosing TCOMM10='Parallax' [astropy.utils.metadata]\n",
      "WARNING: MergeConflictWarning: Cannot merge meta key 'TUCD10' types <class 'str'> and <class 'str'>, choosing TUCD10='pos.parallax.trig' [astropy.utils.metadata]\n",
      "WARNING: MergeConflictWarning: Cannot merge meta key 'TCOMM11' types <class 'str'> and <class 'str'>, choosing TCOMM11='Standard error of parallax' [astropy.utils.metadata]\n",
      "WARNING: MergeConflictWarning: Cannot merge meta key 'TUCD11' types <class 'str'> and <class 'str'>, choosing TUCD11='stat.error;pos.parallax.trig' [astropy.utils.metadata]\n",
      "WARNING: MergeConflictWarning: Cannot merge meta key 'TCOMM12' types <class 'str'> and <class 'str'>, choosing TCOMM12='Parallax divided by its standard error' [astropy.utils.metadata]\n",
      "WARNING: MergeConflictWarning: Cannot merge meta key 'TUCD12' types <class 'str'> and <class 'str'>, choosing TUCD12='stat.snr;pos.parallax.trig' [astropy.utils.metadata]\n",
      "WARNING: MergeConflictWarning: Cannot merge meta key 'TCOMM13' types <class 'str'> and <class 'str'>, choosing TCOMM13='Total proper motion' [astropy.utils.metadata]\n",
      "WARNING: MergeConflictWarning: Cannot merge meta key 'TUCD13' types <class 'str'> and <class 'str'>, choosing TUCD13='pos.pm;pos.eq' [astropy.utils.metadata]\n",
      "WARNING: MergeConflictWarning: Cannot merge meta key 'TUCD18' types <class 'str'> and <class 'str'>, choosing TUCD18='stat.correlation' [astropy.utils.metadata]\n",
      "WARNING: MergeConflictWarning: Cannot merge meta key 'TUCD19' types <class 'str'> and <class 'str'>, choosing TUCD19='stat.correlation' [astropy.utils.metadata]\n",
      "WARNING: MergeConflictWarning: Cannot merge meta key 'TUCD20' types <class 'str'> and <class 'str'>, choosing TUCD20='stat.correlation' [astropy.utils.metadata]\n",
      "WARNING: MergeConflictWarning: Cannot merge meta key 'TUCD21' types <class 'str'> and <class 'str'>, choosing TUCD21='stat.correlation' [astropy.utils.metadata]\n",
      "WARNING: MergeConflictWarning: Cannot merge meta key 'TUCD22' types <class 'str'> and <class 'str'>, choosing TUCD22='stat.correlation' [astropy.utils.metadata]\n",
      "WARNING: MergeConflictWarning: Cannot merge meta key 'TUCD23' types <class 'str'> and <class 'str'>, choosing TUCD23='stat.correlation' [astropy.utils.metadata]\n",
      "WARNING: MergeConflictWarning: Cannot merge meta key 'TUCD24' types <class 'str'> and <class 'str'>, choosing TUCD24='stat.correlation' [astropy.utils.metadata]\n",
      "WARNING: MergeConflictWarning: Cannot merge meta key 'TUCD25' types <class 'str'> and <class 'str'>, choosing TUCD25='stat.correlation' [astropy.utils.metadata]\n",
      "WARNING: MergeConflictWarning: Cannot merge meta key 'TUCD26' types <class 'str'> and <class 'str'>, choosing TUCD26='stat.correlation' [astropy.utils.metadata]\n",
      "WARNING: MergeConflictWarning: Cannot merge meta key 'TUCD27' types <class 'str'> and <class 'str'>, choosing TUCD27='stat.correlation' [astropy.utils.metadata]\n",
      "WARNING: MergeConflictWarning: Cannot merge meta key 'TCOMM38' types <class 'str'> and <class 'str'>, choosing TCOMM38='Effective wavenumber of the source used in the astrometric solution' [astropy.utils.metadata]\n",
      "WARNING: MergeConflictWarning: Cannot merge meta key 'TUCD38' types <class 'str'> and <class 'str'>, choosing TUCD38='em.wavenumber' [astropy.utils.metadata]\n",
      "WARNING: MergeConflictWarning: Cannot merge meta key 'TCOMM39' types <class 'str'> and <class 'str'>, choosing TCOMM39='Astrometrically estimated pseudocolour of the source' [astropy.utils.metadata]\n",
      "WARNING: MergeConflictWarning: Cannot merge meta key 'TUCD40' types <class 'str'> and <class 'str'>, choosing TUCD40='stat.error;em.wavenumber' [astropy.utils.metadata]\n",
      "WARNING: MergeConflictWarning: Cannot merge meta key 'TCOMM41' types <class 'str'> and <class 'str'>, choosing TCOMM41='Correlation between right ascension and pseudocolour' [astropy.utils.metadata]\n",
      "WARNING: MergeConflictWarning: Cannot merge meta key 'TUCD41' types <class 'str'> and <class 'str'>, choosing TUCD41='stat.correlation;em.wavenumber;pos.eq.ra' [astropy.utils.metadata]\n",
      "WARNING: MergeConflictWarning: Cannot merge meta key 'TCOMM42' types <class 'str'> and <class 'str'>, choosing TCOMM42='Correlation between declination and pseudocolour' [astropy.utils.metadata]\n",
      "WARNING: MergeConflictWarning: Cannot merge meta key 'TUCD42' types <class 'str'> and <class 'str'>, choosing TUCD42='stat.correlation;em.wavenumber;pos.eq.dec' [astropy.utils.metadata]\n",
      "WARNING: MergeConflictWarning: Cannot merge meta key 'TCOMM43' types <class 'str'> and <class 'str'>, choosing TCOMM43='Correlation between parallax and pseudocolour' [astropy.utils.metadata]\n",
      "WARNING: MergeConflictWarning: Cannot merge meta key 'TUCD43' types <class 'str'> and <class 'str'>, choosing TUCD43='stat.correlation;em.wavenumber;pos.parallax' [astropy.utils.metadata]\n",
      "WARNING: MergeConflictWarning: Cannot merge meta key 'TCOMM44' types <class 'str'> and <class 'str'>, choosing TCOMM44='Correlation between proper motion in right asension and pseudocolour' [astropy.utils.metadata]\n",
      "WARNING: MergeConflictWarning: Cannot merge meta key 'TUCD44' types <class 'str'> and <class 'str'>, choosing TUCD44='stat.correlation;em.wavenumber;pos.pm;pos.eq.ra' [astropy.utils.metadata]\n",
      "WARNING: MergeConflictWarning: Cannot merge meta key 'TCOMM45' types <class 'str'> and <class 'str'>, choosing TCOMM45='Correlation between proper motion in declination and pseudocolour' [astropy.utils.metadata]\n",
      "WARNING: MergeConflictWarning: Cannot merge meta key 'TUCD45' types <class 'str'> and <class 'str'>, choosing TUCD45='stat.correlation;em.wavenumber;pos.pm;pos.eq.dec' [astropy.utils.metadata]\n",
      "WARNING: MergeConflictWarning: Cannot merge meta key 'TCOMM46' types <class 'str'> and <class 'str'>, choosing TCOMM46='Matched FOV transits used in the AGIS solution' [astropy.utils.metadata]\n",
      "WARNING: MergeConflictWarning: Cannot merge meta key 'TCOMM47' types <class 'str'> and <class 'str'>, choosing TCOMM47='Number of visibility periods used in Astrometric solution' [astropy.utils.metadata]\n",
      "WARNING: MergeConflictWarning: Cannot merge meta key 'TUCD47' types <class 'str'> and <class 'str'>, choosing TUCD47='meta.number' [astropy.utils.metadata]\n",
      "WARNING: MergeConflictWarning: Cannot merge meta key 'TCOMM48' types <class 'str'> and <class 'str'>, choosing TCOMM48='The longest semi-major axis of the 5-d error ellipsoid' [astropy.utils.metadata]\n",
      "WARNING: MergeConflictWarning: Cannot merge meta key 'TUCD48' types <class 'str'> and <class 'str'>, choosing TUCD48='stat;pos.errorEllipse' [astropy.utils.metadata]\n",
      "WARNING: MergeConflictWarning: Cannot merge meta key 'TCOMM49' types <class 'str'> and <class 'str'>, choosing TCOMM49='The number of transits matched to this source' [astropy.utils.metadata]\n",
      "WARNING: MergeConflictWarning: Cannot merge meta key 'TUCD49' types <class 'str'> and <class 'str'>, choosing TUCD49='meta.number' [astropy.utils.metadata]\n",
      "WARNING: MergeConflictWarning: Cannot merge meta key 'TUCD50' types <class 'str'> and <class 'str'>, choosing TUCD50='meta.number' [astropy.utils.metadata]\n",
      "WARNING: MergeConflictWarning: Cannot merge meta key 'TUCD51' types <class 'str'> and <class 'str'>, choosing TUCD51='meta.number' [astropy.utils.metadata]\n",
      "WARNING: MergeConflictWarning: Cannot merge meta key 'TCOMM52' types <class 'str'> and <class 'str'>, choosing TCOMM52='Amplitude of the IPD GoF versus position angle of scan' [astropy.utils.metadata]\n",
      "WARNING: MergeConflictWarning: Cannot merge meta key 'TUCD52' types <class 'str'> and <class 'str'>, choosing TUCD52='stat.value' [astropy.utils.metadata]\n",
      "WARNING: MergeConflictWarning: Cannot merge meta key 'TCOMM53' types <class 'str'> and <class 'str'>, choosing TCOMM53='Phase of the IPD GoF versus position angle of scan' [astropy.utils.metadata]\n",
      "WARNING: MergeConflictWarning: Cannot merge meta key 'TUCD53' types <class 'str'> and <class 'str'>, choosing TUCD53='pos.posAng;stat.value' [astropy.utils.metadata]\n",
      "WARNING: MergeConflictWarning: Cannot merge meta key 'TCOMM54' types <class 'str'> and <class 'str'>, choosing TCOMM54='Percent of successful-IPD windows with more than one peak' [astropy.utils.metadata]\n",
      "WARNING: MergeConflictWarning: Cannot merge meta key 'TUCD54' types <class 'str'> and <class 'str'>, choosing TUCD54='stat.value' [astropy.utils.metadata]\n",
      "WARNING: MergeConflictWarning: Cannot merge meta key 'TCOMM55' types <class 'str'> and <class 'str'>, choosing TCOMM55='Percent of transits with truncated windows or multiple gate' [astropy.utils.metadata]\n",
      "WARNING: MergeConflictWarning: Cannot merge meta key 'TUCD55' types <class 'str'> and <class 'str'>, choosing TUCD55='stat.value' [astropy.utils.metadata]\n",
      "WARNING: MergeConflictWarning: Cannot merge meta key 'TCOMM56' types <class 'str'> and <class 'str'>, choosing TCOMM56='Renormalised unit weight error' [astropy.utils.metadata]\n",
      "WARNING: MergeConflictWarning: Cannot merge meta key 'TUCD56' types <class 'str'> and <class 'str'>, choosing TUCD56='stat.error' [astropy.utils.metadata]\n",
      "WARNING: MergeConflictWarning: Cannot merge meta key 'TCOMM57' types <class 'str'> and <class 'str'>, choosing TCOMM57='Degree of concentration of scan directions across the source' [astropy.utils.metadata]\n",
      "WARNING: MergeConflictWarning: Cannot merge meta key 'TUCD57' types <class 'str'> and <class 'str'>, choosing TUCD57='stat.value' [astropy.utils.metadata]\n",
      "WARNING: MergeConflictWarning: Cannot merge meta key 'TCOMM58' types <class 'str'> and <class 'str'>, choosing TCOMM58='Degree of concentration of scan directions across the source' [astropy.utils.metadata]\n",
      "WARNING: MergeConflictWarning: Cannot merge meta key 'TUCD58' types <class 'str'> and <class 'str'>, choosing TUCD58='stat.value' [astropy.utils.metadata]\n",
      "WARNING: MergeConflictWarning: Cannot merge meta key 'TCOMM59' types <class 'str'> and <class 'str'>, choosing TCOMM59='Degree of concentration of scan directions across the source' [astropy.utils.metadata]\n",
      "WARNING: MergeConflictWarning: Cannot merge meta key 'TUCD59' types <class 'str'> and <class 'str'>, choosing TUCD59='stat.value' [astropy.utils.metadata]\n",
      "WARNING: MergeConflictWarning: Cannot merge meta key 'TCOMM60' types <class 'str'> and <class 'str'>, choosing TCOMM60='Degree of concentration of scan directions across the source' [astropy.utils.metadata]\n",
      "WARNING: MergeConflictWarning: Cannot merge meta key 'TUCD60' types <class 'str'> and <class 'str'>, choosing TUCD60='stat.value' [astropy.utils.metadata]\n",
      "WARNING: MergeConflictWarning: Cannot merge meta key 'TCOMM61' types <class 'str'> and <class 'str'>, choosing TCOMM61='Mean position angle of scan directions across the source' [astropy.utils.metadata]\n",
      "WARNING: MergeConflictWarning: Cannot merge meta key 'TUCD61' types <class 'str'> and <class 'str'>, choosing TUCD61='pos.posAng;stat.mean' [astropy.utils.metadata]\n",
      "WARNING: MergeConflictWarning: Cannot merge meta key 'TCOMM62' types <class 'str'> and <class 'str'>, choosing TCOMM62='Mean position angle of scan directions across the source' [astropy.utils.metadata]\n",
      "WARNING: MergeConflictWarning: Cannot merge meta key 'TUCD62' types <class 'str'> and <class 'str'>, choosing TUCD62='pos.posAng;stat.mean' [astropy.utils.metadata]\n",
      "WARNING: MergeConflictWarning: Cannot merge meta key 'TCOMM63' types <class 'str'> and <class 'str'>, choosing TCOMM63='Mean position angle of scan directions across the source' [astropy.utils.metadata]\n",
      "WARNING: MergeConflictWarning: Cannot merge meta key 'TCOMM64' types <class 'str'> and <class 'str'>, choosing TCOMM64='Mean position angle of scan directions across the source' [astropy.utils.metadata]\n",
      "WARNING: MergeConflictWarning: Cannot merge meta key 'TCOMM65' types <class 'str'> and <class 'str'>, choosing TCOMM65='Source with multiple source identifiers' [astropy.utils.metadata]\n",
      "WARNING: MergeConflictWarning: Cannot merge meta key 'TUCD65' types <class 'str'> and <class 'str'>, choosing TUCD65='meta.code.status' [astropy.utils.metadata]\n",
      "WARNING: MergeConflictWarning: Cannot merge meta key 'TCOMM66' types <class 'str'> and <class 'str'>, choosing TCOMM66='Number of observations contributing to G photometry' [astropy.utils.metadata]\n",
      "WARNING: MergeConflictWarning: Cannot merge meta key 'TUCD66' types <class 'str'> and <class 'str'>, choosing TUCD66='meta.number' [astropy.utils.metadata]\n",
      "WARNING: MergeConflictWarning: Cannot merge meta key 'TCOMM67' types <class 'str'> and <class 'str'>, choosing TCOMM67='G-band mean flux' [astropy.utils.metadata]\n",
      "WARNING: MergeConflictWarning: Cannot merge meta key 'TUCD67' types <class 'str'> and <class 'str'>, choosing TUCD67='phot.flux;em.opt' [astropy.utils.metadata]\n",
      "WARNING: MergeConflictWarning: Cannot merge meta key 'TCOMM68' types <class 'str'> and <class 'str'>, choosing TCOMM68='Error on G-band mean flux' [astropy.utils.metadata]\n",
      "WARNING: MergeConflictWarning: Cannot merge meta key 'TUCD68' types <class 'str'> and <class 'str'>, choosing TUCD68='stat.error;phot.flux;em.opt' [astropy.utils.metadata]\n",
      "WARNING: MergeConflictWarning: Cannot merge meta key 'TCOMM69' types <class 'str'> and <class 'str'>, choosing TCOMM69='G-band mean flux divided by its error' [astropy.utils.metadata]\n",
      "WARNING: MergeConflictWarning: Cannot merge meta key 'TUCD69' types <class 'str'> and <class 'str'>, choosing TUCD69='stat.snr;phot.flux;em.opt' [astropy.utils.metadata]\n",
      "WARNING: MergeConflictWarning: Cannot merge meta key 'TCOMM70' types <class 'str'> and <class 'str'>, choosing TCOMM70='G-band mean magnitude' [astropy.utils.metadata]\n",
      "WARNING: MergeConflictWarning: Cannot merge meta key 'TUCD70' types <class 'str'> and <class 'str'>, choosing TUCD70='phot.mag;em.opt' [astropy.utils.metadata]\n",
      "WARNING: MergeConflictWarning: Cannot merge meta key 'TCOMM71' types <class 'str'> and <class 'str'>, choosing TCOMM71='Number of observations contributing to BP photometry' [astropy.utils.metadata]\n",
      "WARNING: MergeConflictWarning: Cannot merge meta key 'TUCD71' types <class 'str'> and <class 'str'>, choosing TUCD71='meta.number' [astropy.utils.metadata]\n",
      "WARNING: MergeConflictWarning: Cannot merge meta key 'TCOMM72' types <class 'str'> and <class 'str'>, choosing TCOMM72='Integrated BP mean flux' [astropy.utils.metadata]\n",
      "WARNING: MergeConflictWarning: Cannot merge meta key 'TUCD72' types <class 'str'> and <class 'str'>, choosing TUCD72='phot.flux;em.opt.B' [astropy.utils.metadata]\n",
      "WARNING: MergeConflictWarning: Cannot merge meta key 'TCOMM73' types <class 'str'> and <class 'str'>, choosing TCOMM73='Error on the integrated BP mean flux' [astropy.utils.metadata]\n",
      "WARNING: MergeConflictWarning: Cannot merge meta key 'TUCD73' types <class 'str'> and <class 'str'>, choosing TUCD73='stat.error;phot.flux;em.opt.B' [astropy.utils.metadata]\n",
      "WARNING: MergeConflictWarning: Cannot merge meta key 'TCOMM74' types <class 'str'> and <class 'str'>, choosing TCOMM74='Integrated BP mean flux divided by its error' [astropy.utils.metadata]\n",
      "WARNING: MergeConflictWarning: Cannot merge meta key 'TUCD74' types <class 'str'> and <class 'str'>, choosing TUCD74='stat.snr;phot.flux;em.opt.B' [astropy.utils.metadata]\n",
      "WARNING: MergeConflictWarning: Cannot merge meta key 'TCOMM75' types <class 'str'> and <class 'str'>, choosing TCOMM75='Integrated BP mean magnitude' [astropy.utils.metadata]\n",
      "WARNING: MergeConflictWarning: Cannot merge meta key 'TUCD75' types <class 'str'> and <class 'str'>, choosing TUCD75='phot.mag;em.opt.B' [astropy.utils.metadata]\n",
      "WARNING: MergeConflictWarning: Cannot merge meta key 'TCOMM76' types <class 'str'> and <class 'str'>, choosing TCOMM76='Number of observations contributing to RP photometry' [astropy.utils.metadata]\n"
     ]
    },
    {
     "name": "stderr",
     "output_type": "stream",
     "text": [
      "WARNING: MergeConflictWarning: Cannot merge meta key 'TUCD76' types <class 'str'> and <class 'str'>, choosing TUCD76='meta.number' [astropy.utils.metadata]\n",
      "WARNING: MergeConflictWarning: Cannot merge meta key 'TCOMM77' types <class 'str'> and <class 'str'>, choosing TCOMM77='Integrated RP mean flux' [astropy.utils.metadata]\n",
      "WARNING: MergeConflictWarning: Cannot merge meta key 'TUCD77' types <class 'str'> and <class 'str'>, choosing TUCD77='phot.flux;em.opt.R' [astropy.utils.metadata]\n",
      "WARNING: MergeConflictWarning: Cannot merge meta key 'TCOMM78' types <class 'str'> and <class 'str'>, choosing TCOMM78='Error on the integrated RP mean flux' [astropy.utils.metadata]\n",
      "WARNING: MergeConflictWarning: Cannot merge meta key 'TUCD78' types <class 'str'> and <class 'str'>, choosing TUCD78='stat.error;phot.flux;em.opt.R' [astropy.utils.metadata]\n",
      "WARNING: MergeConflictWarning: Cannot merge meta key 'TCOMM79' types <class 'str'> and <class 'str'>, choosing TCOMM79='Integrated RP mean flux divided by its error' [astropy.utils.metadata]\n",
      "WARNING: MergeConflictWarning: Cannot merge meta key 'TUCD79' types <class 'str'> and <class 'str'>, choosing TUCD79='stat.snr;phot.flux;em.opt.R' [astropy.utils.metadata]\n",
      "WARNING: MergeConflictWarning: Cannot merge meta key 'TCOMM80' types <class 'str'> and <class 'str'>, choosing TCOMM80='Integrated RP mean magnitude' [astropy.utils.metadata]\n",
      "WARNING: MergeConflictWarning: Cannot merge meta key 'TUCD80' types <class 'str'> and <class 'str'>, choosing TUCD80='phot.mag;em.opt.R' [astropy.utils.metadata]\n",
      "WARNING: MergeConflictWarning: Cannot merge meta key 'TCOMM81' types <class 'str'> and <class 'str'>, choosing TCOMM81='Number of BP contaminated transits' [astropy.utils.metadata]\n",
      "WARNING: MergeConflictWarning: Cannot merge meta key 'TUCD81' types <class 'str'> and <class 'str'>, choosing TUCD81='meta.number' [astropy.utils.metadata]\n",
      "WARNING: MergeConflictWarning: Cannot merge meta key 'TCOMM82' types <class 'str'> and <class 'str'>, choosing TCOMM82='Number of BP blended transits' [astropy.utils.metadata]\n",
      "WARNING: MergeConflictWarning: Cannot merge meta key 'TUCD82' types <class 'str'> and <class 'str'>, choosing TUCD82='meta.number' [astropy.utils.metadata]\n",
      "WARNING: MergeConflictWarning: Cannot merge meta key 'TCOMM83' types <class 'str'> and <class 'str'>, choosing TCOMM83='Number of RP contaminated transits' [astropy.utils.metadata]\n",
      "WARNING: MergeConflictWarning: Cannot merge meta key 'TUCD83' types <class 'str'> and <class 'str'>, choosing TUCD83='meta.number' [astropy.utils.metadata]\n",
      "WARNING: MergeConflictWarning: Cannot merge meta key 'TCOMM84' types <class 'str'> and <class 'str'>, choosing TCOMM84='Number of RP blended transits' [astropy.utils.metadata]\n",
      "WARNING: MergeConflictWarning: Cannot merge meta key 'TUCD84' types <class 'str'> and <class 'str'>, choosing TUCD84='meta.number' [astropy.utils.metadata]\n",
      "WARNING: MergeConflictWarning: Cannot merge meta key 'TCOMM85' types <class 'str'> and <class 'str'>, choosing TCOMM85='Photometry processing mode' [astropy.utils.metadata]\n",
      "WARNING: MergeConflictWarning: Cannot merge meta key 'TUCD85' types <class 'str'> and <class 'str'>, choosing TUCD85='meta.code' [astropy.utils.metadata]\n",
      "WARNING: MergeConflictWarning: Cannot merge meta key 'TCOMM86' types <class 'str'> and <class 'str'>, choosing TCOMM86='BP/RP excess factor' [astropy.utils.metadata]\n",
      "WARNING: MergeConflictWarning: Cannot merge meta key 'TCOMM87' types <class 'str'> and <class 'str'>, choosing TCOMM87='BP - RP colour' [astropy.utils.metadata]\n",
      "WARNING: MergeConflictWarning: Cannot merge meta key 'TCOMM88' types <class 'str'> and <class 'str'>, choosing TCOMM88='BP - G colour' [astropy.utils.metadata]\n",
      "WARNING: MergeConflictWarning: Cannot merge meta key 'TCOMM89' types <class 'str'> and <class 'str'>, choosing TCOMM89='G - RP colour' [astropy.utils.metadata]\n",
      "WARNING: MergeConflictWarning: Cannot merge meta key 'TUCD89' types <class 'str'> and <class 'str'>, choosing TUCD89='phot.color;em.opt;em.opt.R' [astropy.utils.metadata]\n",
      "WARNING: MergeConflictWarning: Cannot merge meta key 'TCOMM90' types <class 'str'> and <class 'str'>, choosing TCOMM90='Radial velocity from Gaia DR2' [astropy.utils.metadata]\n",
      "WARNING: MergeConflictWarning: Cannot merge meta key 'TUCD90' types <class 'str'> and <class 'str'>, choosing TUCD90='spect.dopplerVeloc.opt;em.opt.I' [astropy.utils.metadata]\n",
      "WARNING: MergeConflictWarning: Cannot merge meta key 'TCOMM91' types <class 'str'> and <class 'str'>, choosing TCOMM91='Radial velocity error from Gaia DR2' [astropy.utils.metadata]\n",
      "WARNING: MergeConflictWarning: Cannot merge meta key 'TUCD91' types <class 'str'> and <class 'str'>, choosing TUCD91='stat.error;spect.dopplerVeloc.opt;em.opt.I' [astropy.utils.metadata]\n",
      "WARNING: MergeConflictWarning: Cannot merge meta key 'TCOMM92' types <class 'str'> and <class 'str'>, choosing TCOMM92='Number of transits used to compute radial velocity in Gaia DR2' [astropy.utils.metadata]\n",
      "WARNING: MergeConflictWarning: Cannot merge meta key 'TUCD92' types <class 'str'> and <class 'str'>, choosing TUCD92='meta.number' [astropy.utils.metadata]\n",
      "WARNING: MergeConflictWarning: Cannot merge meta key 'TCOMM93' types <class 'str'> and <class 'str'>, choosing TCOMM93='Teff of the template used to compute radial velocity in Gaia DR2' [astropy.utils.metadata]\n",
      "WARNING: MergeConflictWarning: Cannot merge meta key 'TUCD93' types <class 'str'> and <class 'str'>, choosing TUCD93='stat.fit.param' [astropy.utils.metadata]\n",
      "WARNING: MergeConflictWarning: Cannot merge meta key 'TCOMM94' types <class 'str'> and <class 'str'>, choosing TCOMM94='logg of the template used to compute radial velocity in Gaia DR2' [astropy.utils.metadata]\n",
      "WARNING: MergeConflictWarning: Cannot merge meta key 'TUCD94' types <class 'str'> and <class 'str'>, choosing TUCD94='stat.fit.param' [astropy.utils.metadata]\n",
      "WARNING: MergeConflictWarning: Cannot merge meta key 'TCOMM95' types <class 'str'> and <class 'str'>, choosing TCOMM95='Fe/H of the template used to compute radial velocity in Gaia DR2' [astropy.utils.metadata]\n",
      "WARNING: MergeConflictWarning: Cannot merge meta key 'TUCD95' types <class 'str'> and <class 'str'>, choosing TUCD95='stat.fit.param' [astropy.utils.metadata]\n",
      "WARNING: MergeConflictWarning: Cannot merge meta key 'TCOMM96' types <class 'str'> and <class 'str'>, choosing TCOMM96='Galactic longitude' [astropy.utils.metadata]\n",
      "WARNING: MergeConflictWarning: Cannot merge meta key 'TUCD96' types <class 'str'> and <class 'str'>, choosing TUCD96='pos.galactic.lon' [astropy.utils.metadata]\n",
      "WARNING: MergeConflictWarning: Cannot merge meta key 'TCOMM97' types <class 'str'> and <class 'str'>, choosing TCOMM97='Galactic latitude' [astropy.utils.metadata]\n",
      "WARNING: MergeConflictWarning: Cannot merge meta key 'TUCD97' types <class 'str'> and <class 'str'>, choosing TUCD97='pos.galactic.lat' [astropy.utils.metadata]\n",
      "WARNING: MergeConflictWarning: Cannot merge meta key 'DATE-HDU' types <class 'str'> and <class 'str'>, choosing DATE-HDU='2020-12-08T07:57:35' [astropy.utils.metadata]\n",
      "WARNING: MergeConflictWarning: Cannot merge meta key 'STILVERS' types <class 'str'> and <class 'str'>, choosing STILVERS='3.4-2' [astropy.utils.metadata]\n",
      "WARNING: MergeConflictWarning: Cannot merge meta key 'EXTNAME' types <class 'str'> and <class 'str'>, choosing EXTNAME='sync' [astropy.utils.metadata]\n",
      "WARNING: MergeConflictWarning: Cannot merge meta key 'TCOMM1' types <class 'str'> and <class 'str'>, choosing TCOMM1='IERS name' [astropy.utils.metadata]\n",
      "WARNING: MergeConflictWarning: Cannot merge meta key 'TUCD1' types <class 'str'> and <class 'str'>, choosing TUCD1='meta.id.cross;meta.main' [astropy.utils.metadata]\n",
      "WARNING: MergeConflictWarning: Cannot merge meta key 'TCOMM2' types <class 'str'> and <class 'str'>, choosing TCOMM2='Solution Identifier' [astropy.utils.metadata]\n",
      "WARNING: MergeConflictWarning: Cannot merge meta key 'TUCD2' types <class 'str'> and <class 'str'>, choosing TUCD2='meta.version' [astropy.utils.metadata]\n",
      "WARNING: MergeConflictWarning: Cannot merge meta key 'TCOMM3' types <class 'str'> and <class 'str'>, choosing TCOMM3='Unique source designation (unique across all Data Releases)' [astropy.utils.metadata]\n",
      "WARNING: MergeConflictWarning: Cannot merge meta key 'TUCD3' types <class 'str'> and <class 'str'>, choosing TUCD3='meta.id;meta.main' [astropy.utils.metadata]\n",
      "WARNING: MergeConflictWarning: Cannot merge meta key 'TCOMM4' types <class 'str'> and <class 'str'>, choosing TCOMM4='Unique source identifier (unique within a particular Data Release)' [astropy.utils.metadata]\n",
      "WARNING: MergeConflictWarning: Cannot merge meta key 'TUCD4' types <class 'str'> and <class 'str'>, choosing TUCD4='meta.id' [astropy.utils.metadata]\n",
      "WARNING: MergeConflictWarning: Cannot merge meta key 'TCOMM5' types <class 'str'> and <class 'str'>, choosing TCOMM5='Random index used to select subsets' [astropy.utils.metadata]\n",
      "WARNING: MergeConflictWarning: Cannot merge meta key 'TUCD5' types <class 'str'> and <class 'str'>, choosing TUCD5='meta.code' [astropy.utils.metadata]\n",
      "WARNING: MergeConflictWarning: Cannot merge meta key 'TCOMM6' types <class 'str'> and <class 'str'>, choosing TCOMM6='Reference epoch' [astropy.utils.metadata]\n",
      "WARNING: MergeConflictWarning: Cannot merge meta key 'TUCD6' types <class 'str'> and <class 'str'>, choosing TUCD6='meta.ref;time.epoch' [astropy.utils.metadata]\n",
      "WARNING: MergeConflictWarning: Cannot merge meta key 'TCOMM7' types <class 'str'> and <class 'str'>, choosing TCOMM7='Right ascension' [astropy.utils.metadata]\n",
      "WARNING: MergeConflictWarning: Cannot merge meta key 'TUCD7' types <class 'str'> and <class 'str'>, choosing TUCD7='pos.eq.ra;meta.main' [astropy.utils.metadata]\n",
      "WARNING: MergeConflictWarning: Cannot merge meta key 'TCOMM8' types <class 'str'> and <class 'str'>, choosing TCOMM8='Standard error of right ascension' [astropy.utils.metadata]\n",
      "WARNING: MergeConflictWarning: Cannot merge meta key 'TUCD8' types <class 'str'> and <class 'str'>, choosing TUCD8='stat.error;pos.eq.ra' [astropy.utils.metadata]\n",
      "WARNING: MergeConflictWarning: Cannot merge meta key 'TCOMM9' types <class 'str'> and <class 'str'>, choosing TCOMM9='Declination' [astropy.utils.metadata]\n",
      "WARNING: MergeConflictWarning: Cannot merge meta key 'TUCD9' types <class 'str'> and <class 'str'>, choosing TUCD9='pos.eq.dec;meta.main' [astropy.utils.metadata]\n",
      "WARNING: MergeConflictWarning: Cannot merge meta key 'TCOMM10' types <class 'str'> and <class 'str'>, choosing TCOMM10='Standard error of declination' [astropy.utils.metadata]\n",
      "WARNING: MergeConflictWarning: Cannot merge meta key 'TUCD10' types <class 'str'> and <class 'str'>, choosing TUCD10='stat.error;pos.eq.dec' [astropy.utils.metadata]\n",
      "WARNING: MergeConflictWarning: Cannot merge meta key 'TCOMM11' types <class 'str'> and <class 'str'>, choosing TCOMM11='Parallax' [astropy.utils.metadata]\n",
      "WARNING: MergeConflictWarning: Cannot merge meta key 'TUCD11' types <class 'str'> and <class 'str'>, choosing TUCD11='pos.parallax' [astropy.utils.metadata]\n",
      "WARNING: MergeConflictWarning: Cannot merge meta key 'TCOMM12' types <class 'str'> and <class 'str'>, choosing TCOMM12='Standard error of parallax' [astropy.utils.metadata]\n",
      "WARNING: MergeConflictWarning: Cannot merge meta key 'TUCD12' types <class 'str'> and <class 'str'>, choosing TUCD12='stat.error;pos.parallax' [astropy.utils.metadata]\n",
      "WARNING: MergeConflictWarning: Cannot merge meta key 'TCOMM13' types <class 'str'> and <class 'str'>, choosing TCOMM13='Parallax divided by its error' [astropy.utils.metadata]\n",
      "WARNING: MergeConflictWarning: Cannot merge meta key 'TUCD13' types <class 'str'> and <class 'str'>, choosing TUCD13='arith.ratio' [astropy.utils.metadata]\n",
      "WARNING: MergeConflictWarning: Cannot merge meta key 'TUCD18' types <class 'str'> and <class 'str'>, choosing TUCD18='stat.correlation;pos.eq.ra;pos.eq.dec' [astropy.utils.metadata]\n",
      "WARNING: MergeConflictWarning: Cannot merge meta key 'TUCD19' types <class 'str'> and <class 'str'>, choosing TUCD19='stat.correlation;pos.eq.ra;pos.parallax' [astropy.utils.metadata]\n",
      "WARNING: MergeConflictWarning: Cannot merge meta key 'TUCD20' types <class 'str'> and <class 'str'>, choosing TUCD20='stat.correlation;pos.eq.ra;pos.pm;pos.eq.ra' [astropy.utils.metadata]\n",
      "WARNING: MergeConflictWarning: Cannot merge meta key 'TUCD21' types <class 'str'> and <class 'str'>, choosing TUCD21='stat.correlation;pos.eq.ra;pos.pm;pos.eq.dec' [astropy.utils.metadata]\n",
      "WARNING: MergeConflictWarning: Cannot merge meta key 'TUCD22' types <class 'str'> and <class 'str'>, choosing TUCD22='stat.correlation;pos.eq.dec;pos.parallax' [astropy.utils.metadata]\n",
      "WARNING: MergeConflictWarning: Cannot merge meta key 'TUCD23' types <class 'str'> and <class 'str'>, choosing TUCD23='stat.correlation;pos.eq.dec;pos.pm;pos.eq.ra' [astropy.utils.metadata]\n",
      "WARNING: MergeConflictWarning: Cannot merge meta key 'TUCD24' types <class 'str'> and <class 'str'>, choosing TUCD24='stat.correlation;pos.eq.dec;pos.pm;pos.eq.dec' [astropy.utils.metadata]\n",
      "WARNING: MergeConflictWarning: Cannot merge meta key 'TUCD25' types <class 'str'> and <class 'str'>, choosing TUCD25='stat.correlation;pos.parallax;pos.pm;pos.eq.ra' [astropy.utils.metadata]\n",
      "WARNING: MergeConflictWarning: Cannot merge meta key 'TUCD26' types <class 'str'> and <class 'str'>, choosing TUCD26='stat.correlation;pos.parallax;pos.pm;pos.eq.dec' [astropy.utils.metadata]\n",
      "WARNING: MergeConflictWarning: Cannot merge meta key 'TUCD27' types <class 'str'> and <class 'str'>, choosing TUCD27='stat.correlation;pos.pm;pos.eq.ra;pos.pm;pos.eq.dec' [astropy.utils.metadata]\n",
      "WARNING: MergeConflictWarning: Cannot merge meta key 'TCOMM38' types <class 'str'> and <class 'str'>, choosing TCOMM38='Mean astrometric weight of the source' [astropy.utils.metadata]\n",
      "WARNING: MergeConflictWarning: Cannot merge meta key 'TUCD38' types <class 'str'> and <class 'str'>, choosing TUCD38='stat.weight;stat.mean' [astropy.utils.metadata]\n",
      "WARNING: MergeConflictWarning: Cannot merge meta key 'TCOMM39' types <class 'str'> and <class 'str'>, choosing TCOMM39='Astrometrically determined pseudocolour of the source' [astropy.utils.metadata]\n",
      "WARNING: MergeConflictWarning: Cannot merge meta key 'TUCD40' types <class 'str'> and <class 'str'>, choosing TUCD40='em.wavenumber;stat.error' [astropy.utils.metadata]\n",
      "WARNING: MergeConflictWarning: Cannot merge meta key 'TCOMM41' types <class 'str'> and <class 'str'>, choosing TCOMM41='Mean Parallax factor AL' [astropy.utils.metadata]\n",
      "WARNING: MergeConflictWarning: Cannot merge meta key 'TUCD41' types <class 'str'> and <class 'str'>, choosing TUCD41='arith.factor;pos.parallax' [astropy.utils.metadata]\n",
      "WARNING: MergeConflictWarning: Cannot merge meta key 'TCOMM42' types <class 'str'> and <class 'str'>, choosing TCOMM42='Matched FOV transits used in the AGIS solution' [astropy.utils.metadata]\n",
      "WARNING: MergeConflictWarning: Cannot merge meta key 'TUCD42' types <class 'str'> and <class 'str'>, choosing TUCD42='meta.number' [astropy.utils.metadata]\n",
      "WARNING: MergeConflictWarning: Cannot merge meta key 'TCOMM43' types <class 'str'> and <class 'str'>, choosing TCOMM43='Number of visibility periods used in Astrometric solution' [astropy.utils.metadata]\n",
      "WARNING: MergeConflictWarning: Cannot merge meta key 'TUCD43' types <class 'str'> and <class 'str'>, choosing TUCD43='meta.number' [astropy.utils.metadata]\n",
      "WARNING: MergeConflictWarning: Cannot merge meta key 'TCOMM44' types <class 'str'> and <class 'str'>, choosing TCOMM44='The longest semi-major axis of the 5-d error ellipsoid' [astropy.utils.metadata]\n",
      "WARNING: MergeConflictWarning: Cannot merge meta key 'TUCD44' types <class 'str'> and <class 'str'>, choosing TUCD44='pos.errorEllipse;stat.max' [astropy.utils.metadata]\n",
      "WARNING: MergeConflictWarning: Cannot merge meta key 'TCOMM45' types <class 'str'> and <class 'str'>, choosing TCOMM45='The type of the source mainly used for frame rotation' [astropy.utils.metadata]\n",
      "WARNING: MergeConflictWarning: Cannot merge meta key 'TUCD45' types <class 'str'> and <class 'str'>, choosing TUCD45='meta.code' [astropy.utils.metadata]\n",
      "WARNING: MergeConflictWarning: Cannot merge meta key 'TCOMM46' types <class 'str'> and <class 'str'>, choosing TCOMM46='Amount of observations matched to this source' [astropy.utils.metadata]\n",
      "WARNING: MergeConflictWarning: Cannot merge meta key 'TCOMM47' types <class 'str'> and <class 'str'>, choosing TCOMM47='Source with duplicate sources' [astropy.utils.metadata]\n",
      "WARNING: MergeConflictWarning: Cannot merge meta key 'TUCD47' types <class 'str'> and <class 'str'>, choosing TUCD47='meta.code.status' [astropy.utils.metadata]\n",
      "WARNING: MergeConflictWarning: Cannot merge meta key 'TCOMM48' types <class 'str'> and <class 'str'>, choosing TCOMM48='Number of observations contributing to G photometry' [astropy.utils.metadata]\n",
      "WARNING: MergeConflictWarning: Cannot merge meta key 'TUCD48' types <class 'str'> and <class 'str'>, choosing TUCD48='meta.number' [astropy.utils.metadata]\n",
      "WARNING: MergeConflictWarning: Cannot merge meta key 'TCOMM49' types <class 'str'> and <class 'str'>, choosing TCOMM49='G-band mean flux' [astropy.utils.metadata]\n",
      "WARNING: MergeConflictWarning: Cannot merge meta key 'TUCD49' types <class 'str'> and <class 'str'>, choosing TUCD49='phot.flux;stat.mean;em.opt' [astropy.utils.metadata]\n",
      "WARNING: MergeConflictWarning: Cannot merge meta key 'TUCD50' types <class 'str'> and <class 'str'>, choosing TUCD50='stat.error;phot.flux;stat.mean;em.opt' [astropy.utils.metadata]\n",
      "WARNING: MergeConflictWarning: Cannot merge meta key 'TUCD51' types <class 'str'> and <class 'str'>, choosing TUCD51='arith.ratio' [astropy.utils.metadata]\n",
      "WARNING: MergeConflictWarning: Cannot merge meta key 'TCOMM52' types <class 'str'> and <class 'str'>, choosing TCOMM52='G-band mean magnitude' [astropy.utils.metadata]\n",
      "WARNING: MergeConflictWarning: Cannot merge meta key 'TUCD52' types <class 'str'> and <class 'str'>, choosing TUCD52='phot.mag;stat.mean;em.opt' [astropy.utils.metadata]\n",
      "WARNING: MergeConflictWarning: Cannot merge meta key 'TCOMM53' types <class 'str'> and <class 'str'>, choosing TCOMM53='Number of observations contributing to BP photometry' [astropy.utils.metadata]\n",
      "WARNING: MergeConflictWarning: Cannot merge meta key 'TUCD53' types <class 'str'> and <class 'str'>, choosing TUCD53='meta.number' [astropy.utils.metadata]\n",
      "WARNING: MergeConflictWarning: Cannot merge meta key 'TCOMM54' types <class 'str'> and <class 'str'>, choosing TCOMM54='Integrated BP mean flux' [astropy.utils.metadata]\n",
      "WARNING: MergeConflictWarning: Cannot merge meta key 'TUCD54' types <class 'str'> and <class 'str'>, choosing TUCD54='phot.flux;stat.mean' [astropy.utils.metadata]\n",
      "WARNING: MergeConflictWarning: Cannot merge meta key 'TCOMM55' types <class 'str'> and <class 'str'>, choosing TCOMM55='Error on the integrated BP mean flux' [astropy.utils.metadata]\n",
      "WARNING: MergeConflictWarning: Cannot merge meta key 'TUCD55' types <class 'str'> and <class 'str'>, choosing TUCD55='stat.error;phot.flux;stat.mean' [astropy.utils.metadata]\n",
      "WARNING: MergeConflictWarning: Cannot merge meta key 'TCOMM56' types <class 'str'> and <class 'str'>, choosing TCOMM56='Integrated BP mean flux divided by its error' [astropy.utils.metadata]\n",
      "WARNING: MergeConflictWarning: Cannot merge meta key 'TUCD56' types <class 'str'> and <class 'str'>, choosing TUCD56='arith.ratio' [astropy.utils.metadata]\n",
      "WARNING: MergeConflictWarning: Cannot merge meta key 'TCOMM57' types <class 'str'> and <class 'str'>, choosing TCOMM57='Integrated BP mean magnitude' [astropy.utils.metadata]\n",
      "WARNING: MergeConflictWarning: Cannot merge meta key 'TUCD57' types <class 'str'> and <class 'str'>, choosing TUCD57='phot.mag;stat.mean' [astropy.utils.metadata]\n",
      "WARNING: MergeConflictWarning: Cannot merge meta key 'TCOMM58' types <class 'str'> and <class 'str'>, choosing TCOMM58='Number of observations contributing to RP photometry' [astropy.utils.metadata]\n",
      "WARNING: MergeConflictWarning: Cannot merge meta key 'TUCD58' types <class 'str'> and <class 'str'>, choosing TUCD58='meta.number' [astropy.utils.metadata]\n",
      "WARNING: MergeConflictWarning: Cannot merge meta key 'TCOMM59' types <class 'str'> and <class 'str'>, choosing TCOMM59='Integrated RP mean flux' [astropy.utils.metadata]\n",
      "WARNING: MergeConflictWarning: Cannot merge meta key 'TUCD59' types <class 'str'> and <class 'str'>, choosing TUCD59='phot.flux;stat.mean' [astropy.utils.metadata]\n",
      "WARNING: MergeConflictWarning: Cannot merge meta key 'TCOMM60' types <class 'str'> and <class 'str'>, choosing TCOMM60='Error on the integrated RP mean flux' [astropy.utils.metadata]\n",
      "WARNING: MergeConflictWarning: Cannot merge meta key 'TUCD60' types <class 'str'> and <class 'str'>, choosing TUCD60='stat.error;phot.flux' [astropy.utils.metadata]\n",
      "WARNING: MergeConflictWarning: Cannot merge meta key 'TCOMM61' types <class 'str'> and <class 'str'>, choosing TCOMM61='Integrated RP mean flux divided by its error' [astropy.utils.metadata]\n",
      "WARNING: MergeConflictWarning: Cannot merge meta key 'TUCD61' types <class 'str'> and <class 'str'>, choosing TUCD61='arith.ratio' [astropy.utils.metadata]\n",
      "WARNING: MergeConflictWarning: Cannot merge meta key 'TCOMM62' types <class 'str'> and <class 'str'>, choosing TCOMM62='Integrated RP mean magnitude' [astropy.utils.metadata]\n",
      "WARNING: MergeConflictWarning: Cannot merge meta key 'TUCD62' types <class 'str'> and <class 'str'>, choosing TUCD62='phot.mag;stat.mean' [astropy.utils.metadata]\n",
      "WARNING: MergeConflictWarning: Cannot merge meta key 'TCOMM63' types <class 'str'> and <class 'str'>, choosing TCOMM63='BP/RP excess factor' [astropy.utils.metadata]\n",
      "WARNING: MergeConflictWarning: Cannot merge meta key 'TCOMM64' types <class 'str'> and <class 'str'>, choosing TCOMM64='Photometry processing mode' [astropy.utils.metadata]\n",
      "WARNING: MergeConflictWarning: Cannot merge meta key 'TCOMM65' types <class 'str'> and <class 'str'>, choosing TCOMM65='BP - RP colour' [astropy.utils.metadata]\n",
      "WARNING: MergeConflictWarning: Cannot merge meta key 'TUCD65' types <class 'str'> and <class 'str'>, choosing TUCD65='phot.color' [astropy.utils.metadata]\n",
      "WARNING: MergeConflictWarning: Cannot merge meta key 'TCOMM66' types <class 'str'> and <class 'str'>, choosing TCOMM66='BP - G colour' [astropy.utils.metadata]\n",
      "WARNING: MergeConflictWarning: Cannot merge meta key 'TUCD66' types <class 'str'> and <class 'str'>, choosing TUCD66='phot.color' [astropy.utils.metadata]\n",
      "WARNING: MergeConflictWarning: Cannot merge meta key 'TCOMM67' types <class 'str'> and <class 'str'>, choosing TCOMM67='G - RP colour' [astropy.utils.metadata]\n",
      "WARNING: MergeConflictWarning: Cannot merge meta key 'TUCD67' types <class 'str'> and <class 'str'>, choosing TUCD67='phot.color' [astropy.utils.metadata]\n",
      "WARNING: MergeConflictWarning: Cannot merge meta key 'TCOMM68' types <class 'str'> and <class 'str'>, choosing TCOMM68='Radial velocity' [astropy.utils.metadata]\n",
      "WARNING: MergeConflictWarning: Cannot merge meta key 'TUCD68' types <class 'str'> and <class 'str'>, choosing TUCD68='spect.dopplerVeloc.opt' [astropy.utils.metadata]\n",
      "WARNING: MergeConflictWarning: Cannot merge meta key 'TCOMM69' types <class 'str'> and <class 'str'>, choosing TCOMM69='Radial velocity error' [astropy.utils.metadata]\n",
      "WARNING: MergeConflictWarning: Cannot merge meta key 'TUCD69' types <class 'str'> and <class 'str'>, choosing TUCD69='stat.error;spect.dopplerVeloc.opt' [astropy.utils.metadata]\n",
      "WARNING: MergeConflictWarning: Cannot merge meta key 'TCOMM70' types <class 'str'> and <class 'str'>, choosing TCOMM70='Number of transits used to compute radial velocity' [astropy.utils.metadata]\n",
      "WARNING: MergeConflictWarning: Cannot merge meta key 'TUCD70' types <class 'str'> and <class 'str'>, choosing TUCD70='meta.number' [astropy.utils.metadata]\n",
      "WARNING: MergeConflictWarning: Cannot merge meta key 'TCOMM71' types <class 'str'> and <class 'str'>, choosing TCOMM71='Teff of the template used to compute radial velocity' [astropy.utils.metadata]\n",
      "WARNING: MergeConflictWarning: Cannot merge meta key 'TUCD71' types <class 'str'> and <class 'str'>, choosing TUCD71='stat.fit.param' [astropy.utils.metadata]\n",
      "WARNING: MergeConflictWarning: Cannot merge meta key 'TCOMM72' types <class 'str'> and <class 'str'>, choosing TCOMM72='logg of the template used to compute radial velocity' [astropy.utils.metadata]\n",
      "WARNING: MergeConflictWarning: Cannot merge meta key 'TUCD72' types <class 'str'> and <class 'str'>, choosing TUCD72='stat.fit.param' [astropy.utils.metadata]\n"
     ]
    },
    {
     "name": "stderr",
     "output_type": "stream",
     "text": [
      "WARNING: MergeConflictWarning: Cannot merge meta key 'TCOMM73' types <class 'str'> and <class 'str'>, choosing TCOMM73='Fe/H of the template used to compute radial velocity' [astropy.utils.metadata]\n",
      "WARNING: MergeConflictWarning: Cannot merge meta key 'TUCD73' types <class 'str'> and <class 'str'>, choosing TUCD73='stat.fit.param' [astropy.utils.metadata]\n",
      "WARNING: MergeConflictWarning: Cannot merge meta key 'TCOMM74' types <class 'str'> and <class 'str'>, choosing TCOMM74='Photometric variability flag' [astropy.utils.metadata]\n",
      "WARNING: MergeConflictWarning: Cannot merge meta key 'TUCD74' types <class 'str'> and <class 'str'>, choosing TUCD74='meta.code;src.var' [astropy.utils.metadata]\n",
      "WARNING: MergeConflictWarning: Cannot merge meta key 'TCOMM75' types <class 'str'> and <class 'str'>, choosing TCOMM75='Galactic longitude' [astropy.utils.metadata]\n",
      "WARNING: MergeConflictWarning: Cannot merge meta key 'TUCD75' types <class 'str'> and <class 'str'>, choosing TUCD75='pos.galactic.lon' [astropy.utils.metadata]\n",
      "WARNING: MergeConflictWarning: Cannot merge meta key 'TCOMM76' types <class 'str'> and <class 'str'>, choosing TCOMM76='Galactic latitude' [astropy.utils.metadata]\n",
      "WARNING: MergeConflictWarning: Cannot merge meta key 'TUCD76' types <class 'str'> and <class 'str'>, choosing TUCD76='pos.galactic.lat' [astropy.utils.metadata]\n",
      "WARNING: MergeConflictWarning: Cannot merge meta key 'TCOMM77' types <class 'str'> and <class 'str'>, choosing TCOMM77='Ecliptic longitude' [astropy.utils.metadata]\n",
      "WARNING: MergeConflictWarning: Cannot merge meta key 'TUCD77' types <class 'str'> and <class 'str'>, choosing TUCD77='pos.ecliptic.lon' [astropy.utils.metadata]\n",
      "WARNING: MergeConflictWarning: Cannot merge meta key 'TCOMM78' types <class 'str'> and <class 'str'>, choosing TCOMM78='Ecliptic latitude' [astropy.utils.metadata]\n",
      "WARNING: MergeConflictWarning: Cannot merge meta key 'TUCD78' types <class 'str'> and <class 'str'>, choosing TUCD78='pos.ecliptic.lat' [astropy.utils.metadata]\n",
      "WARNING: MergeConflictWarning: Cannot merge meta key 'TCOMM79' types <class 'str'> and <class 'str'>, choosing TCOMM79='flags for the Apsis-Priam results' [astropy.utils.metadata]\n",
      "WARNING: MergeConflictWarning: Cannot merge meta key 'TUCD79' types <class 'str'> and <class 'str'>, choosing TUCD79='meta.code' [astropy.utils.metadata]\n",
      "WARNING: MergeConflictWarning: Cannot merge meta key 'TCOMM80' types <class 'str'> and <class 'str'>, choosing TCOMM80='stellar effective temperature' [astropy.utils.metadata]\n",
      "WARNING: MergeConflictWarning: Cannot merge meta key 'TUCD80' types <class 'str'> and <class 'str'>, choosing TUCD80='phys.temperature.effective' [astropy.utils.metadata]\n",
      "WARNING: MergeConflictWarning: Cannot merge meta key 'TCOMM81' types <class 'str'> and <class 'str'>, choosing TCOMM81='teffVal lower uncertainty' [astropy.utils.metadata]\n",
      "WARNING: MergeConflictWarning: Cannot merge meta key 'TUCD81' types <class 'str'> and <class 'str'>, choosing TUCD81='phys.temperature.effective;stat.min' [astropy.utils.metadata]\n",
      "WARNING: MergeConflictWarning: Cannot merge meta key 'TCOMM82' types <class 'str'> and <class 'str'>, choosing TCOMM82='teffVal upper uncertainty' [astropy.utils.metadata]\n",
      "WARNING: MergeConflictWarning: Cannot merge meta key 'TUCD82' types <class 'str'> and <class 'str'>, choosing TUCD82='phys.temperature.effective;stat.max' [astropy.utils.metadata]\n",
      "WARNING: MergeConflictWarning: Cannot merge meta key 'TCOMM83' types <class 'str'> and <class 'str'>, choosing TCOMM83='line-of-sight extinction in the G band, A_G)' [astropy.utils.metadata]\n",
      "WARNING: MergeConflictWarning: Cannot merge meta key 'TUCD83' types <class 'str'> and <class 'str'>, choosing TUCD83='phys.absorption.gal' [astropy.utils.metadata]\n",
      "WARNING: MergeConflictWarning: Cannot merge meta key 'TCOMM84' types <class 'str'> and <class 'str'>, choosing TCOMM84='aGVal lower uncertainty' [astropy.utils.metadata]\n",
      "WARNING: MergeConflictWarning: Cannot merge meta key 'TUCD84' types <class 'str'> and <class 'str'>, choosing TUCD84='phys.absorption.gal;stat.min' [astropy.utils.metadata]\n",
      "WARNING: MergeConflictWarning: Cannot merge meta key 'TCOMM85' types <class 'str'> and <class 'str'>, choosing TCOMM85='aGVal upper uncertainty' [astropy.utils.metadata]\n",
      "WARNING: MergeConflictWarning: Cannot merge meta key 'TUCD85' types <class 'str'> and <class 'str'>, choosing TUCD85='phys.absorption.gal;stat.max' [astropy.utils.metadata]\n",
      "WARNING: MergeConflictWarning: Cannot merge meta key 'TCOMM86' types <class 'str'> and <class 'str'>, choosing TCOMM86='line-of-sight reddening E(BP-RP)' [astropy.utils.metadata]\n",
      "WARNING: MergeConflictWarning: Cannot merge meta key 'TCOMM87' types <class 'str'> and <class 'str'>, choosing TCOMM87='eBPminRPVal lower uncertainty' [astropy.utils.metadata]\n",
      "WARNING: MergeConflictWarning: Cannot merge meta key 'TCOMM88' types <class 'str'> and <class 'str'>, choosing TCOMM88='eBPminRPVal upper uncertainty' [astropy.utils.metadata]\n",
      "WARNING: MergeConflictWarning: Cannot merge meta key 'TCOMM89' types <class 'str'> and <class 'str'>, choosing TCOMM89='Flags for the Apsis-FLAME results' [astropy.utils.metadata]\n",
      "WARNING: MergeConflictWarning: Cannot merge meta key 'TUCD89' types <class 'str'> and <class 'str'>, choosing TUCD89='meta.code' [astropy.utils.metadata]\n",
      "WARNING: MergeConflictWarning: Cannot merge meta key 'TCOMM90' types <class 'str'> and <class 'str'>, choosing TCOMM90='stellar radius' [astropy.utils.metadata]\n",
      "WARNING: MergeConflictWarning: Cannot merge meta key 'TUCD90' types <class 'str'> and <class 'str'>, choosing TUCD90='phys.size.radius' [astropy.utils.metadata]\n",
      "WARNING: MergeConflictWarning: Cannot merge meta key 'TCOMM91' types <class 'str'> and <class 'str'>, choosing TCOMM91='radiusVal lower uncertainty' [astropy.utils.metadata]\n",
      "WARNING: MergeConflictWarning: Cannot merge meta key 'TUCD91' types <class 'str'> and <class 'str'>, choosing TUCD91='phys.size.radius;stat.error' [astropy.utils.metadata]\n",
      "WARNING: MergeConflictWarning: Cannot merge meta key 'TCOMM92' types <class 'str'> and <class 'str'>, choosing TCOMM92='radiusVal upper uncertainty' [astropy.utils.metadata]\n",
      "WARNING: MergeConflictWarning: Cannot merge meta key 'TUCD92' types <class 'str'> and <class 'str'>, choosing TUCD92='phys.size.radius;stat.error' [astropy.utils.metadata]\n",
      "WARNING: MergeConflictWarning: Cannot merge meta key 'TCOMM93' types <class 'str'> and <class 'str'>, choosing TCOMM93='stellar luminosity' [astropy.utils.metadata]\n",
      "WARNING: MergeConflictWarning: Cannot merge meta key 'TUCD93' types <class 'str'> and <class 'str'>, choosing TUCD93='phys.luminosity' [astropy.utils.metadata]\n",
      "WARNING: MergeConflictWarning: Cannot merge meta key 'TCOMM94' types <class 'str'> and <class 'str'>, choosing TCOMM94='lumVal lower uncertainty' [astropy.utils.metadata]\n",
      "WARNING: MergeConflictWarning: Cannot merge meta key 'TUCD94' types <class 'str'> and <class 'str'>, choosing TUCD94='phys.luminosity;stat.error' [astropy.utils.metadata]\n",
      "WARNING: MergeConflictWarning: Cannot merge meta key 'TCOMM95' types <class 'str'> and <class 'str'>, choosing TCOMM95='lumVal upper uncertainty' [astropy.utils.metadata]\n",
      "WARNING: MergeConflictWarning: Cannot merge meta key 'TUCD95' types <class 'str'> and <class 'str'>, choosing TUCD95='phys.luminosity;stat.error' [astropy.utils.metadata]\n",
      "WARNING: MergeConflictWarning: Cannot merge meta key 'TCOMM96' types <class 'str'> and <class 'str'>, choosing TCOMM96='datalink url' [astropy.utils.metadata]\n",
      "WARNING: MergeConflictWarning: Cannot merge meta key 'TUCD96' types <class 'str'> and <class 'str'>, choosing TUCD96='meta.ref.url' [astropy.utils.metadata]\n",
      "WARNING: MergeConflictWarning: Cannot merge meta key 'TCOMM97' types <class 'str'> and <class 'str'>, choosing TCOMM97='epoch photometry url' [astropy.utils.metadata]\n",
      "WARNING: MergeConflictWarning: Cannot merge meta key 'TUCD97' types <class 'str'> and <class 'str'>, choosing TUCD97='meta.ref.url' [astropy.utils.metadata]\n",
      "WARNING: MergeConflictWarning: Cannot merge meta key 'DATE-HDU' types <class 'str'> and <class 'str'>, choosing DATE-HDU='2018-04-27T09:44:27' [astropy.utils.metadata]\n",
      "WARNING: MergeConflictWarning: Cannot merge meta key 'STILVERS' types <class 'str'> and <class 'str'>, choosing STILVERS='3.3' [astropy.utils.metadata]\n"
     ]
    }
   ],
   "source": [
    "pos_oft = radio_cat_diff_calc(gdr2, gedr3, sou_name='iers_name')\n",
    "pos_oft.remove_columns(['ra_err_1', 'dec_err_1', 'ra',\n",
    "                        'ra_err_2', 'dec', 'dec_err_2'])\n",
    "\n",
    "gedr3_dr2 = join(gedr3, gdr2, keys='iers_name',\n",
    "                 table_names=['gedr3', 'gdr2'])\n",
    "gedr3_dr2_oft = join(gedr3_dr2, pos_oft)\n",
    "\n",
    "gedr3_dr2_oft.rename_columns(['ra_gedr3', 'dec_gedr3'],\n",
    "                             ['ra', 'dec'])\n",
    "\n",
    "gedr3_dr2_oft.write('../data/gdr2_gedr3.fits', overwrite=True)"
   ]
  },
  {
   "cell_type": "markdown",
   "metadata": {},
   "source": [
    "Collect the multi-frequency position offsets for the common sample."
   ]
  },
  {
   "cell_type": "code",
   "execution_count": 12,
   "metadata": {
    "ExecuteTime": {
     "end_time": "2021-03-05T05:06:56.444474Z",
     "start_time": "2021-03-05T05:06:56.439924Z"
    }
   },
   "outputs": [],
   "source": [
    "gedr3_icrf3sx_oft.keep_columns([\n",
    "    'source_id',\n",
    "    'ra', 'ra_err_gedr3', 'dec', 'dec_err_gedr3',\n",
    "    'parallax', 'parallax_err', 'parallax_over_error',\n",
    "    'pm', 'pmra', 'pmra_err', 'pmdec', 'pmdec_err',\n",
    "    'ra_dec_corr_gedr3', 'astrometric_n_obs_al',\n",
    "    'astrometric_gof_al', 'astrometric_chi2_al',\n",
    "    'astrometric_matched_transits', 'visibility_periods_used',\n",
    "    'astrometric_sigma5d_max', 'ruwe',\n",
    "    'duplicated_source', 'phot_g_mean_mag',\n",
    "    'phot_bp_mean_mag', 'phot_rp_mean_mag',\n",
    "    'bp_rp', 'bp_g', 'g_rp', 'l', 'b',\n",
    "    'ecl_lon', 'ecl_lat',\n",
    "    'considered_for_reference_frame_orientation',\n",
    "    'used_for_reference_frame_orientation',\n",
    "    'icrf_name', 'iers_name_gedr3',\n",
    "    'pos_err_max_gedr3', 'pos_err_min_gedr3', 'eepa_gedr3',\n",
    "    'type',\n",
    "    'ra_icrf3sx', 'dec_icrf3sx', 'ra_err_icrf3sx', 'dec_err_icrf3sx',\n",
    "    'ra_dec_corr_icrf3sx', 'mean_obs',\n",
    "    'pos_err_max_icrf3sx', 'pos_err_min_icrf3sx', 'eepa_icrf3sx',\n",
    "    'beg_obs', 'end_obs', 'nb_sess', 'nb_del',\n",
    "    'dra', 'ddec', 'dra_err', 'ddec_err', 'dra_ddec_cov',\n",
    "    'ang_sep', 'ang_sep_err', 'pa', 'pa_err',\n",
    "    'nor_ra', 'nor_dec', 'nor_sep'])\n",
    "\n",
    "gedr3_icrf3sx_oft.rename_column('iers_name_gedr3', 'iers_name')"
   ]
  },
  {
   "cell_type": "code",
   "execution_count": 13,
   "metadata": {
    "ExecuteTime": {
     "end_time": "2021-03-05T05:06:56.449755Z",
     "start_time": "2021-03-05T05:06:56.446389Z"
    }
   },
   "outputs": [],
   "source": [
    "gedr3_icrf3k_oft.keep_columns([\n",
    "    'source_id', 'ra_icrf3k', 'dec_icrf3k',\n",
    "    'ra_err_icrf3k', 'dec_err_icrf3k', 'ra_dec_corr_icrf3k',\n",
    "    'mean_obs', 'pos_err_max_icrf3k',\n",
    "    'pos_err_min_icrf3k', 'eepa_icrf3k',\n",
    "    'beg_obs', 'end_obs', 'nb_sess', 'nb_del',\n",
    "    'dra', 'ddec', 'dra_err', 'ddec_err', 'dra_ddec_cov',\n",
    "    'ang_sep', 'ang_sep_err', 'pa', 'pa_err',\n",
    "    'nor_ra', 'nor_dec', 'nor_sep'])"
   ]
  },
  {
   "cell_type": "code",
   "execution_count": 14,
   "metadata": {
    "ExecuteTime": {
     "end_time": "2021-03-05T05:06:56.454955Z",
     "start_time": "2021-03-05T05:06:56.451479Z"
    }
   },
   "outputs": [],
   "source": [
    "gedr3_icrf3xka_oft.keep_columns([\n",
    "    'source_id', 'ra_icrf3xka', 'dec_icrf3xka',\n",
    "    'ra_icrf3xka', 'dec_icrf3xka',\n",
    "    'ra_err_icrf3xka', 'dec_err_icrf3xka', 'ra_dec_corr_icrf3xka',\n",
    "    'mean_obs', 'pos_err_max_icrf3xka', \n",
    "    'pos_err_min_icrf3xka', 'eepa_icrf3xka',\n",
    "    'beg_obs', 'end_obs', 'nb_sess', 'nb_del',\n",
    "    'dra', 'ddec', 'dra_err', 'ddec_err', 'dra_ddec_cov',\n",
    "    'ang_sep', 'ang_sep_err', 'pa', 'pa_err',\n",
    "    'nor_ra', 'nor_dec', 'nor_sep'])"
   ]
  },
  {
   "cell_type": "code",
   "execution_count": 15,
   "metadata": {
    "ExecuteTime": {
     "end_time": "2021-03-05T05:06:56.460319Z",
     "start_time": "2021-03-05T05:06:56.456838Z"
    }
   },
   "outputs": [],
   "source": [
    "gedr3_dr2_oft.keep_columns([\n",
    "    'source_id_gedr3', 'ra_gdr2', 'dec_gdr2',\n",
    "    'ra_err_gdr2', 'dec_err_gdr2', 'ra_dec_corr_gdr2',\n",
    "    'pos_err_max_gdr2', 'pos_err_min_gdr2', 'eepa_gdr2',\n",
    "    'dra', 'ddec', 'dra_err', 'ddec_err', 'dra_ddec_cov',\n",
    "    'ang_sep', 'ang_sep_err', 'pa', 'pa_err',\n",
    "    'nor_ra', 'nor_dec', 'nor_sep'])\n",
    "\n",
    "gedr3_dr2_oft.rename_column('source_id_gedr3', 'source_id')"
   ]
  },
  {
   "cell_type": "code",
   "execution_count": 16,
   "metadata": {
    "ExecuteTime": {
     "end_time": "2021-03-05T05:06:56.511349Z",
     "start_time": "2021-03-05T05:06:56.462096Z"
    }
   },
   "outputs": [],
   "source": [
    "temp1 = join(gedr3_icrf3sx_oft, gedr3_icrf3k_oft, \n",
    "             keys=\"source_id\", table_names=[\"sx\", \"k\"])\n",
    "\n",
    "temp2 = join(gedr3_icrf3xka_oft, gedr3_dr2_oft, \n",
    "             keys=\"source_id\", table_names=[\"xka\", \"dr2\"],\n",
    "            join_type=\"left\")\n",
    "\n",
    "multi_freq_oft = join(temp1, temp2, keys=\"source_id\")"
   ]
  },
  {
   "cell_type": "code",
   "execution_count": 17,
   "metadata": {
    "ExecuteTime": {
     "end_time": "2021-03-05T05:06:56.710517Z",
     "start_time": "2021-03-05T05:06:56.513283Z"
    }
   },
   "outputs": [],
   "source": [
    "multi_freq_oft.meta[\"comments\"] = [\n",
    "    \"Position offset for {} common sources between ICRF3 (all 3 bands) and Gaia-CRF2\"\n",
    "    \"wrt. Gaia EDR3\".format(len(multi_freq_oft)),\n",
    "    \"Created at {}\".format(time.asctime())]\n",
    "\n",
    "multi_freq_oft.write(\"../data/multi_pos_oft_wrt_edr3.fits\", overwrite=True)"
   ]
  },
  {
   "cell_type": "code",
   "execution_count": 18,
   "metadata": {
    "ExecuteTime": {
     "end_time": "2021-03-05T05:06:56.742415Z",
     "start_time": "2021-03-05T05:06:56.713058Z"
    }
   },
   "outputs": [],
   "source": [
    "multi_freq_oft.meta[\"comments\"] = [\n",
    "    \"List of {} common sources between ICRF3 (all 3 bands) and Gaia-CRF3\".format(len(multi_freq_oft)),\n",
    "    \"Created at {}\".format(time.asctime())]\n",
    "multi_freq_oft.write(\"../data/com-sou-list.txt\", format=\"ascii\",\n",
    "                    include_names=[\"iers_name\"], overwrite=True)"
   ]
  },
  {
   "cell_type": "markdown",
   "metadata": {},
   "source": [
    "A crossmatch betweem ICRF3 K, ICRF3 X/Ka and ICRF3 S/X is also made."
   ]
  },
  {
   "cell_type": "code",
   "execution_count": 19,
   "metadata": {
    "ExecuteTime": {
     "end_time": "2021-03-05T05:06:56.745693Z",
     "start_time": "2021-03-05T05:06:56.743752Z"
    }
   },
   "outputs": [],
   "source": [
    "# pos_oft = radio_cat_diff_calc(icrf3k, icrf3sx, sou_name=\"iers_name\")\n",
    "# pos_oft.remove_columns(['ra_err_1', 'dec_err_1', 'ra',\n",
    "#                         'ra_err_2', 'dec', 'dec_err_2'])\n",
    "\n",
    "# icrf3sx_icrf3k = join(icrf3sx, icrf3k, keys='iers_name',\n",
    "#                       table_names=['icrf3sx', 'icrf3k'])\n",
    "# icrf3sx_icrf3k_oft = join(icrf3sx_icrf3k, pos_oft, keys='iers_name')\n",
    "# icrf3sx_icrf3k_oft.rename_columns(['ra_icrf3sx', 'dec_icrf3sx'],\n",
    "#                                   ['ra', 'dec'])\n",
    "\n",
    "# icrf3sx_icrf3k_oft.write('../data/icrf3k_icrf3sx.fits', overwrite=True)"
   ]
  },
  {
   "cell_type": "code",
   "execution_count": 20,
   "metadata": {
    "ExecuteTime": {
     "end_time": "2021-03-05T05:06:56.749773Z",
     "start_time": "2021-03-05T05:06:56.747496Z"
    }
   },
   "outputs": [],
   "source": [
    "# pos_oft = radio_cat_diff_calc(icrf3xka, icrf3sx, sou_name=\"iers_name\")\n",
    "# pos_oft.remove_columns(['ra_err_1', 'dec_err_1', 'ra',\n",
    "#                         'ra_err_2', 'dec', 'dec_err_2'])\n",
    "\n",
    "# icrf3sx_icrf3xka = join(icrf3sx, icrf3xka, keys='iers_name',\n",
    "#                       table_names=['icrf3sx', 'icrf3xka'])\n",
    "# icrf3sx_icrf3xka_oft = join(icrf3sx_icrf3xka, pos_oft, keys='iers_name')\n",
    "# icrf3sx_icrf3xka_oft.rename_columns(['ra_icrf3sx', 'dec_icrf3sx'],\n",
    "#                                   ['ra', 'dec'])\n",
    "\n",
    "# icrf3sx_icrf3xka_oft.write('../data/icrf3xka_icrf3sx.fits', overwrite=True)"
   ]
  }
 ],
 "metadata": {
  "hide_input": false,
  "kernelspec": {
   "display_name": "Python 3",
   "language": "python",
   "name": "python3"
  },
  "language_info": {
   "codemirror_mode": {
    "name": "ipython",
    "version": 3
   },
   "file_extension": ".py",
   "mimetype": "text/x-python",
   "name": "python",
   "nbconvert_exporter": "python",
   "pygments_lexer": "ipython3",
   "version": "3.7.10"
  },
  "varInspector": {
   "cols": {
    "lenName": 16,
    "lenType": 16,
    "lenVar": 40
   },
   "kernels_config": {
    "python": {
     "delete_cmd_postfix": "",
     "delete_cmd_prefix": "del ",
     "library": "var_list.py",
     "varRefreshCmd": "print(var_dic_list())"
    },
    "r": {
     "delete_cmd_postfix": ") ",
     "delete_cmd_prefix": "rm(",
     "library": "var_list.r",
     "varRefreshCmd": "cat(var_dic_list()) "
    }
   },
   "types_to_exclude": [
    "module",
    "function",
    "builtin_function_or_method",
    "instance",
    "_Feature"
   ],
   "window_display": false
  }
 },
 "nbformat": 4,
 "nbformat_minor": 4
}
