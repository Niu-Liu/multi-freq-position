{
 "cells": [
  {
   "cell_type": "markdown",
   "metadata": {},
   "source": [
    "Sebastien suggested to make a random permutation of source positions and re-calculate the PA of optical-to-radio vectors. \n",
    "\n",
    "This procedure is repeated for 1000/10000 times for Gaia-to-SX, Gaia-to-K, and Gaia-to-XKa."
   ]
  },
  {
   "cell_type": "code",
   "execution_count": 1,
   "metadata": {},
   "outputs": [],
   "source": [
    "from astropy.table import Table, join\n",
    "import astropy.units as u\n",
    "import matplotlib.pyplot as plt\n",
    "import numpy as np\n",
    "from numpy import sqrt, cos\n",
    "from random import shuffle\n",
    "\n",
    "%matplotlib inline"
   ]
  },
  {
   "cell_type": "markdown",
   "metadata": {},
   "source": [
    "Only look at the results of 1000 iterations."
   ]
  },
  {
   "cell_type": "code",
   "execution_count": 2,
   "metadata": {},
   "outputs": [],
   "source": [
    "numbin = 13\n",
    "bins_set = np.linspace(0, 360, numbin) - 360 / numbin / 2"
   ]
  },
  {
   "cell_type": "markdown",
   "metadata": {},
   "source": [
    "# 1. Mean distribution"
   ]
  },
  {
   "cell_type": "code",
   "execution_count": 3,
   "metadata": {},
   "outputs": [],
   "source": [
    "pa_sx_sim = Table.read(\"../logs/gaia-sx-pa-sim1e6.dat\", format=\"ascii\")\n",
    "\n",
    "cols = pa_sx_sim.colnames\n",
    "\n",
    "binmean = np.zeros(len(cols))\n",
    "binstd = np.zeros(len(cols))\n",
    "\n",
    "for i, col in enumerate(cols):\n",
    "    binmean[i] = np.mean(pa_sx_sim[col])\n",
    "    binstd[i] = np.std(pa_sx_sim[col])"
   ]
  },
  {
   "cell_type": "code",
   "execution_count": 4,
   "metadata": {},
   "outputs": [
    {
     "name": "stdout",
     "output_type": "stream",
     "text": [
      "PA of Gaia-to-SX (iter_time=1000000)\n"
     ]
    },
    {
     "data": {
      "image/png": "[encoded data removed]",
      "text/plain": [
       "<Figure size 432x288 with 1 Axes>"
      ]
     },
     "metadata": {
      "needs_background": "light"
     },
     "output_type": "display_data"
    }
   ],
   "source": [
    "fig, ax = plt.subplots()\n",
    "ax.plot(bins_set[1:], binmean, \"r-\", lw=1)\n",
    "ax.fill_between(bins_set[1:], binmean+binstd, binmean-binstd,\n",
    "                color=\"k\", alpha=0.1)\n",
    "ax.fill_between(bins_set[1:], binmean+2*binstd, binmean+binstd,\n",
    "                color=\"g\", alpha=0.1)\n",
    "ax.fill_between(bins_set[1:], binmean-binstd, binmean-2*binstd,\n",
    "                color=\"g\", alpha=0.1)\n",
    "ax.fill_between(bins_set[1:], binmean+3*binstd, binmean+2*binstd,\n",
    "                color=\"r\", alpha=0.1)\n",
    "ax.fill_between(bins_set[1:], binmean-3*binstd, binmean-2*binstd,\n",
    "                color=\"r\", alpha=0.1)\n",
    "\n",
    "ax.grid(lw=0.2)\n",
    "ax.set_xlim([0, 360])\n",
    "ax.set_xticks(np.arange(0, 361, 60))\n",
    "\n",
    "print(\"PA of Gaia-to-SX (iter_time=1000000)\")\n",
    "# plt.savefig(\"../plots/sim-pa-x-to-k.png\")"
   ]
  },
  {
   "cell_type": "code",
   "execution_count": 5,
   "metadata": {},
   "outputs": [],
   "source": [
    "pa_k_sim = Table.read(\"../logs/gaia-k-pa-sim1e6.dat\", format=\"ascii\")\n",
    "\n",
    "# cols = pa_k_sim.colnames\n",
    "\n",
    "binmean = np.zeros(len(cols))\n",
    "binstd = np.zeros(len(cols))\n",
    "\n",
    "for i, col in enumerate(cols):\n",
    "    binmean[i] = np.mean(pa_k_sim[col])\n",
    "    binstd[i] = np.std(pa_k_sim[col])"
   ]
  },
  {
   "cell_type": "code",
   "execution_count": 6,
   "metadata": {},
   "outputs": [
    {
     "name": "stdout",
     "output_type": "stream",
     "text": [
      "PA of Gaia-to-K (iter_time=1000000)\n"
     ]
    },
    {
     "data": {
      "image/png": "[encoded data removed]",
      "text/plain": [
       "<Figure size 432x288 with 1 Axes>"
      ]
     },
     "metadata": {
      "needs_background": "light"
     },
     "output_type": "display_data"
    }
   ],
   "source": [
    "fig, ax = plt.subplots()\n",
    "ax.plot(bins_set[1:], binmean, \"r-\", lw=1)\n",
    "ax.fill_between(bins_set[1:], binmean+binstd, binmean-binstd,\n",
    "                color=\"k\", alpha=0.1)\n",
    "ax.fill_between(bins_set[1:], binmean+2*binstd, binmean+binstd,\n",
    "                color=\"g\", alpha=0.1)\n",
    "ax.fill_between(bins_set[1:], binmean-binstd, binmean-2*binstd,\n",
    "                color=\"g\", alpha=0.1)\n",
    "ax.fill_between(bins_set[1:], binmean+3*binstd, binmean+2*binstd,\n",
    "                color=\"r\", alpha=0.1)\n",
    "ax.fill_between(bins_set[1:], binmean-3*binstd, binmean-2*binstd,\n",
    "                color=\"r\", alpha=0.1)\n",
    "\n",
    "ax.grid(lw=0.2)\n",
    "ax.set_xlim([0, 360])\n",
    "ax.set_xticks(np.arange(0, 361, 60))\n",
    "\n",
    "print(\"PA of Gaia-to-K (iter_time=1000000)\")\n",
    "# plt.savefig(\"../plots/sim-pa-x-to-k.png\")"
   ]
  },
  {
   "cell_type": "code",
   "execution_count": 7,
   "metadata": {},
   "outputs": [],
   "source": [
    "pa_ka_sim = Table.read(\"../logs/gaia-xka-pa-sim1e6.dat\", format=\"ascii\")\n",
    "\n",
    "# cols = pa_ka_sim.colnames\n",
    "\n",
    "binmean = np.zeros(len(cols))\n",
    "binstd = np.zeros(len(cols))\n",
    "\n",
    "for i, col in enumerate(cols):\n",
    "    binmean[i] = np.mean(pa_ka_sim[col])\n",
    "    binstd[i] = np.std(pa_ka_sim[col])"
   ]
  },
  {
   "cell_type": "code",
   "execution_count": 8,
   "metadata": {
    "scrolled": false
   },
   "outputs": [
    {
     "name": "stdout",
     "output_type": "stream",
     "text": [
      "PA of Gaia-to-XKa (iter_time=1000000)\n"
     ]
    },
    {
     "data": {
      "image/png": "[encoded data removed]",
      "text/plain": [
       "<Figure size 432x288 with 1 Axes>"
      ]
     },
     "metadata": {
      "needs_background": "light"
     },
     "output_type": "display_data"
    }
   ],
   "source": [
    "fig, ax = plt.subplots()\n",
    "ax.plot(bins_set[1:], binmean, \"r-\", lw=1)\n",
    "ax.fill_between(bins_set[1:], binmean+binstd, binmean-binstd,\n",
    "                color=\"k\", alpha=0.1)\n",
    "ax.fill_between(bins_set[1:], binmean+2*binstd, binmean+binstd,\n",
    "                color=\"g\", alpha=0.1)\n",
    "ax.fill_between(bins_set[1:], binmean-binstd, binmean-2*binstd,\n",
    "                color=\"g\", alpha=0.1)\n",
    "ax.fill_between(bins_set[1:], binmean+3*binstd, binmean+2*binstd,\n",
    "                color=\"r\", alpha=0.1)\n",
    "ax.fill_between(bins_set[1:], binmean-3*binstd, binmean-2*binstd,\n",
    "                color=\"r\", alpha=0.1)\n",
    "\n",
    "ax.grid(lw=0.2)\n",
    "\n",
    "ax.set_xlim([0, 360])\n",
    "ax.set_xticks(np.arange(0, 361, 60))\n",
    "\n",
    "print(\"PA of Gaia-to-XKa (iter_time=1000000)\")"
   ]
  },
  {
   "cell_type": "markdown",
   "metadata": {},
   "source": [
    "# 2. Peak location"
   ]
  },
  {
   "cell_type": "code",
   "execution_count": 9,
   "metadata": {},
   "outputs": [
    {
     "data": {
      "text/plain": [
       "Text(0.5, 0, 'Gaia-to-SX PA')"
      ]
     },
     "execution_count": 9,
     "metadata": {},
     "output_type": "execute_result"
    },
    {
     "data": {
      "image/png": "[encoded data removed]",
      "text/plain": [
       "<Figure size 432x288 with 1 Axes>"
      ]
     },
     "metadata": {
      "needs_background": "light"
     },
     "output_type": "display_data"
    }
   ],
   "source": [
    "col_names = pa_sx_sim.colnames\n",
    "\n",
    "n1, n2 = len(pa_sx_sim), len(col_names)\n",
    "data = np.zeros((n1, n2))\n",
    "\n",
    "for i, col_name in enumerate(col_names):\n",
    "    data[:,i] = pa_sx_sim[col_name].data\n",
    "    \n",
    "peak = np.max(data, axis=1)\n",
    "peak_ind = np.argmax(data, axis=1)\n",
    "\n",
    "# Plot the results\n",
    "fig, ax = plt.subplots()\n",
    "\n",
    "ax.hist(peak_ind, bins=np.arange(0, 13, 1), \n",
    "        density=True, stacked=True)\n",
    "\n",
    "ax.set_xlim([0, 11])\n",
    "ax.set_xticks(np.arange(0, 13, 1))\n",
    "\n",
    "xlabels = [\"{}\".format((i)*30) for i in range(numbin)]\n",
    "ax.set_xticklabels(xlabels)\n",
    "\n",
    "ax.set_ylabel(\"Probability\")\n",
    "ax.set_xlabel(\"Gaia-to-SX PA\")"
   ]
  },
  {
   "cell_type": "code",
   "execution_count": 10,
   "metadata": {},
   "outputs": [
    {
     "data": {
      "text/plain": [
       "array([51., 48., 52., ..., 50., 53., 61.])"
      ]
     },
     "execution_count": 10,
     "metadata": {},
     "output_type": "execute_result"
    }
   ],
   "source": [
    "# 120-150\n",
    "ind1 = 4\n",
    "peak[peak_ind == 4]"
   ]
  },
  {
   "cell_type": "code",
   "execution_count": 11,
   "metadata": {},
   "outputs": [
    {
     "data": {
      "text/plain": [
       "(array([3.9050e+03, 2.4105e+04, 3.0345e+04, 1.7840e+04, 6.8060e+03,\n",
       "        2.4410e+03, 2.8100e+02, 7.5000e+01, 5.0000e+00, 1.0000e+00]),\n",
       " array([43. , 46.2, 49.4, 52.6, 55.8, 59. , 62.2, 65.4, 68.6, 71.8, 75. ]),\n",
       " <a list of 10 Patch objects>)"
      ]
     },
     "execution_count": 11,
     "metadata": {},
     "output_type": "execute_result"
    },
    {
     "data": {
      "image/png": "[encoded data removed]",
      "text/plain": [
       "<Figure size 432x288 with 1 Axes>"
      ]
     },
     "metadata": {
      "needs_background": "light"
     },
     "output_type": "display_data"
    }
   ],
   "source": [
    "plt.hist(peak[peak_ind == 4])"
   ]
  },
  {
   "cell_type": "code",
   "execution_count": 12,
   "metadata": {},
   "outputs": [
    {
     "data": {
      "text/plain": [
       "(array([9.4900e+02, 1.5696e+04, 3.0957e+04, 2.2056e+04, 9.9030e+03,\n",
       "        3.0920e+03, 8.5500e+02, 1.9800e+02, 3.4000e+01, 1.1000e+01]),\n",
       " array([42. , 45.1, 48.2, 51.3, 54.4, 57.5, 60.6, 63.7, 66.8, 69.9, 73. ]),\n",
       " <a list of 10 Patch objects>)"
      ]
     },
     "execution_count": 12,
     "metadata": {},
     "output_type": "execute_result"
    },
    {
     "data": {
      "image/png": "[encoded data removed]",
      "text/plain": [
       "<Figure size 432x288 with 1 Axes>"
      ]
     },
     "metadata": {
      "needs_background": "light"
     },
     "output_type": "display_data"
    }
   ],
   "source": [
    "plt.hist(peak[peak_ind == 5])"
   ]
  },
  {
   "cell_type": "code",
   "execution_count": 13,
   "metadata": {},
   "outputs": [
    {
     "data": {
      "text/plain": [
       "(array([4.2700e+02, 1.1255e+04, 2.7282e+04, 2.1341e+04, 9.4870e+03,\n",
       "        3.1870e+03, 8.2400e+02, 2.0400e+02, 3.5000e+01, 6.0000e+00]),\n",
       " array([43., 46., 49., 52., 55., 58., 61., 64., 67., 70., 73.]),\n",
       " <a list of 10 Patch objects>)"
      ]
     },
     "execution_count": 13,
     "metadata": {},
     "output_type": "execute_result"
    },
    {
     "data": {
      "image/png": "[encoded data removed]",
      "text/plain": [
       "<Figure size 432x288 with 1 Axes>"
      ]
     },
     "metadata": {
      "needs_background": "light"
     },
     "output_type": "display_data"
    }
   ],
   "source": [
    "plt.hist(peak[peak_ind == 11])"
   ]
  },
  {
   "cell_type": "code",
   "execution_count": 14,
   "metadata": {},
   "outputs": [
    {
     "data": {
      "text/plain": [
       "Text(0.5, 0, 'Gaia-to-SX PA')"
      ]
     },
     "execution_count": 14,
     "metadata": {},
     "output_type": "execute_result"
    },
    {
     "data": {
      "image/png": "[encoded data removed]",
      "text/plain": [
       "<Figure size 432x288 with 1 Axes>"
      ]
     },
     "metadata": {
      "needs_background": "light"
     },
     "output_type": "display_data"
    }
   ],
   "source": [
    "n1, n2 = len(cols), len(pa_sx_sim)\n",
    "data = np.zeros((n1, n2))\n",
    "\n",
    "for i, col_name in enumerate(cols):\n",
    "    data[i,:] = pa_sx_sim[col_name].data\n",
    "    \n",
    "peak = np.max(data, axis=0)\n",
    "peak_ind = np.argmax(data, axis=0)\n",
    "\n",
    "# Plot the results\n",
    "fig, ax = plt.subplots()\n",
    "\n",
    "ax.hist(peak_ind, bins=np.arange(12), density=True, stacked=True)\n",
    "\n",
    "ax.set_xlim([0, 11])\n",
    "ax.set_xticks(np.arange(0, 12, 1))\n",
    "\n",
    "xlabels = [\"{}\".format((i+1)*30) for i in range(numbin-1)]\n",
    "ax.set_xticklabels(xlabels)\n",
    "\n",
    "ax.set_ylabel(\"Probability\")\n",
    "ax.set_xlabel(\"Gaia-to-SX PA\")"
   ]
  }
 ],
 "metadata": {
  "hide_input": false,
  "kernelspec": {
   "display_name": "Python 3",
   "language": "python",
   "name": "python3"
  },
  "language_info": {
   "codemirror_mode": {
    "name": "ipython",
    "version": 3
   },
   "file_extension": ".py",
   "mimetype": "text/x-python",
   "name": "python",
   "nbconvert_exporter": "python",
   "pygments_lexer": "ipython3",
   "version": "3.7.7"
  },
  "latex_envs": {
   "LaTeX_envs_menu_present": true,
   "autoclose": false,
   "autocomplete": true,
   "bibliofile": "biblio.bib",
   "cite_by": "apalike",
   "current_citInitial": 1,
   "eqLabelWithNumbers": true,
   "eqNumInitial": 1,
   "hotkeys": {
    "equation": "Ctrl-E",
    "itemize": "Ctrl-I"
   },
   "labels_anchors": false,
   "latex_user_defs": false,
   "report_style_numbering": false,
   "user_envs_cfg": false
  }
 },
 "nbformat": 4,
 "nbformat_minor": 2
}
