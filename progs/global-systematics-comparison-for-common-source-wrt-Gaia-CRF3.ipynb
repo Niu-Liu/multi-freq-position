{
 "cells": [
  {
   "cell_type": "code",
   "execution_count": 1,
   "metadata": {
    "ExecuteTime": {
     "end_time": "2021-03-08T13:57:20.516486Z",
     "start_time": "2021-03-08T13:57:18.365494Z"
    }
   },
   "outputs": [],
   "source": [
    "import time\n",
    "import numpy as np\n",
    "import matplotlib.pyplot as plt\n",
    "from matplotlib.ticker import MultipleLocator, NullFormatter\n",
    "%matplotlib inline\n",
    "\n",
    "from astropy.table import Table, join \n",
    "\n",
    "from my_progs.vsh.vsh_fit import rotgliquad_fit_4_table\n",
    "from func_tools import recalc_position_oft"
   ]
  },
  {
   "cell_type": "markdown",
   "metadata": {},
   "source": [
    "Load the data."
   ]
  },
  {
   "cell_type": "code",
   "execution_count": 2,
   "metadata": {
    "ExecuteTime": {
     "end_time": "2021-03-08T13:57:20.990096Z",
     "start_time": "2021-03-08T13:57:20.519739Z"
    }
   },
   "outputs": [],
   "source": [
    "# List of 512 common sources in four catalogs\n",
    "com_sou = Table.read(\"../data/com-sou-list.txt\", format=\"ascii\")\n",
    "\n",
    "# Gaia EDR3 - S/X\n",
    "sx_g = Table.read(\"../data/icrf3sx_gedr3.fits\")\n",
    "sx_g.rename_column(\"iers_name_gedr3\", \"iers_name\")\n",
    "\n",
    "# K - Gaia EDR3\n",
    "k_g = Table.read(\"../data/icrf3k_gedr3.fits\")\n",
    "k_g.rename_column(\"iers_name_gedr3\", \"iers_name\")\n",
    "\n",
    "# X/Ka - Gaia EDR3\n",
    "xka_g = Table.read(\"../data/icrf3xka_gedr3.fits\")\n",
    "xka_g.rename_column(\"iers_name_gedr3\", \"iers_name\")\n",
    "\n",
    "# Cross-match for the common source sample\n",
    "sx_g_com = join(sx_g, com_sou, keys=\"iers_name\")\n",
    "k_g_com = join(k_g, com_sou, keys=\"iers_name\")\n",
    "xka_g_com = join(xka_g, com_sou, keys=\"iers_name\")"
   ]
  },
  {
   "cell_type": "code",
   "execution_count": 3,
   "metadata": {
    "ExecuteTime": {
     "end_time": "2021-03-08T13:57:20.995500Z",
     "start_time": "2021-03-08T13:57:20.992970Z"
    }
   },
   "outputs": [],
   "source": [
    "kappa = 3"
   ]
  },
  {
   "cell_type": "markdown",
   "metadata": {},
   "source": [
    "Perform the VSH fits."
   ]
  },
  {
   "cell_type": "code",
   "execution_count": 4,
   "metadata": {
    "ExecuteTime": {
     "end_time": "2021-03-08T13:57:21.117560Z",
     "start_time": "2021-03-08T13:57:20.997140Z"
    }
   },
   "outputs": [
    {
     "name": "stdout",
     "output_type": "stream",
     "text": [
      "----------------------- VSH Fit (by Niu LIU) -----------------------\n",
      "\n",
      "Pre-fit information:\n",
      "    Number of sources                       512\n",
      "    Maximum degree of VSH                     2\n",
      "    Number of unknowns to determine          16\n",
      "    Number of degree of freedom            1007\n",
      "\n",
      "An upper limit will be put on the normalized separation X.\n",
      "Since no value is given, the default value (sqrt(2*ln(#sou))) predicted from a standard Rayleigh distribution is used.\n",
      "The LSQ fit is performed based a clean sample consisted ofall source with a normalized separation with X<=3.532.\n",
      "\n",
      "==================== Standard-elimination ====================\n",
      "    Nb_sources    Nb_outliers    Threshold\n",
      "          396          116        3.532\n",
      "\n",
      "Statistics information\n",
      "-------------------------------------------------------------------\n",
      "             Pre-fit             |             Post-fit            \n",
      "-------------------------------------------------------------------\n",
      "         dRA*         dDec       |         dRA*         dDec       \n",
      "Bias     -0.0          0.0       |         -0.0          0.0\n",
      "WRMS      0.3          0.4       |          0.3          0.4\n",
      "RSE       0.4          0.4       |          0.4          0.4\n",
      "-------------------------------------------------------------------\n",
      "    Nor. dRA*    Nor. dDec       |    Nor. dRA*    Nor. dDec       \n",
      "-------------------------------------------------------------------\n",
      "         dRA*         dDec       |         dRA*         dDec       \n",
      "Bias     -0.1          0.0       |         -0.1          0.0\n",
      "Std       3.1          3.4       |          3.1          3.4\n",
      "RSE       1.8          2.1       |          1.8          2.0\n",
      "-------------------------------------------------------------------\n",
      "Chi-Square         11277.1       |                   11067.1\n",
      "Red. Chi-square       11.2       |                      11.0\n",
      "Good-of-fitness        0.0       |                       0.0\n",
      "-------------------------------------------------------------------\n",
      "\n",
      "Significance level \n",
      "--------------------------------------------------------------------\n",
      "Degree  P_t^0.5      Z_t   P_s^0.5      Z_s  P_rem^0.5\n",
      "--------------------------------------------------------------------\n",
      "     0                                             3.3\n",
      "     1      0.1     2.37       0.1     2.57        3.3\n",
      "     2      0.1     3.67       0.1     3.01        3.3\n",
      "--------------------------------------------------------------------\n",
      "\n",
      "Convert t_lm/s_lm at l=1 into rotation/glide vector\n",
      "--------------------------------------------------------------------\n",
      "           Glide [uas]                 Rotation [uas]   \n",
      "  G1         G2        G3         R1         R2        R3       \n",
      "--------------------------------------------------------------------\n",
      "  -0    0    +0    0   -0    0    +0    0   -0    0    -0    0  \n",
      "--------------------------------------------------------------------\n"
     ]
    }
   ],
   "source": [
    "# S/X - Gaia (common)\n",
    "# output_sx1 = rotgliquad_fit_4_table(sx_g_com, clip_limit=kappa)\n",
    "output_sx1 = rotgliquad_fit_4_table(sx_g_com, std_clean=True)"
   ]
  },
  {
   "cell_type": "code",
   "execution_count": 5,
   "metadata": {
    "ExecuteTime": {
     "end_time": "2021-03-08T13:57:21.671084Z",
     "start_time": "2021-03-08T13:57:21.119476Z"
    }
   },
   "outputs": [
    {
     "name": "stdout",
     "output_type": "stream",
     "text": [
      "----------------------- VSH Fit (by Niu LIU) -----------------------\n",
      "\n",
      "Pre-fit information:\n",
      "    Number of sources                      3142\n",
      "    Maximum degree of VSH                     2\n",
      "    Number of unknowns to determine          16\n",
      "    Number of degree of freedom            6267\n",
      "\n",
      "An upper limit will be put on the normalized separation X.\n",
      "Since no value is given, the default value (sqrt(2*ln(#sou))) predicted from a standard Rayleigh distribution is used.\n",
      "The LSQ fit is performed based a clean sample consisted ofall source with a normalized separation with X<=4.013.\n",
      "\n",
      "==================== Standard-elimination ====================\n",
      "    Nb_sources    Nb_outliers    Threshold\n",
      "         2594          548        4.013\n",
      "\n",
      "Statistics information\n",
      "-------------------------------------------------------------------\n",
      "             Pre-fit             |             Post-fit            \n",
      "-------------------------------------------------------------------\n",
      "         dRA*         dDec       |         dRA*         dDec       \n",
      "Bias     -0.0         -0.0       |         -0.0         -0.0\n",
      "WRMS      1.3          1.0       |          1.3          1.0\n",
      "RSE       0.6          0.7       |          0.6          0.7\n",
      "-------------------------------------------------------------------\n",
      "    Nor. dRA*    Nor. dDec       |    Nor. dRA*    Nor. dDec       \n",
      "-------------------------------------------------------------------\n",
      "         dRA*         dDec       |         dRA*         dDec       \n",
      "Bias     -0.2          0.0       |         -0.2          0.0\n",
      "Std       8.2          5.6       |          8.2          5.6\n",
      "RSE       1.9          1.8       |          1.9          1.8\n",
      "-------------------------------------------------------------------\n",
      "Chi-Square        310858.1       |                  310852.8\n",
      "Red. Chi-square       49.6       |                      49.6\n",
      "Good-of-fitness        0.0       |                       0.0\n",
      "-------------------------------------------------------------------\n",
      "\n",
      "Significance level \n",
      "--------------------------------------------------------------------\n",
      "Degree  P_t^0.5      Z_t   P_s^0.5      Z_s  P_rem^0.5\n",
      "--------------------------------------------------------------------\n",
      "     0                                            14.6\n",
      "     1      0.0     2.26       0.0     1.27       14.6\n",
      "     2      0.1     2.80       0.1     6.46       14.6\n",
      "--------------------------------------------------------------------\n",
      "\n",
      "Convert t_lm/s_lm at l=1 into rotation/glide vector\n",
      "--------------------------------------------------------------------\n",
      "           Glide [uas]                 Rotation [uas]   \n",
      "  G1         G2        G3         R1         R2        R3       \n",
      "--------------------------------------------------------------------\n",
      "  -0    0    -0    0   +0    0    -0    0   -0    0    +0    0  \n",
      "--------------------------------------------------------------------\n"
     ]
    }
   ],
   "source": [
    "# S/X - Gaia (All)\n",
    "# output_sx2 = rotgliquad_fit_4_table(sx_g, clip_limit=kappa)\n",
    "output_sx2 = rotgliquad_fit_4_table(sx_g, std_clean=True)"
   ]
  },
  {
   "cell_type": "code",
   "execution_count": 6,
   "metadata": {
    "ExecuteTime": {
     "end_time": "2021-03-08T13:57:21.791866Z",
     "start_time": "2021-03-08T13:57:21.672993Z"
    }
   },
   "outputs": [
    {
     "name": "stdout",
     "output_type": "stream",
     "text": [
      "----------------------- VSH Fit (by Niu LIU) -----------------------\n",
      "\n",
      "Pre-fit information:\n",
      "    Number of sources                       512\n",
      "    Maximum degree of VSH                     2\n",
      "    Number of unknowns to determine          16\n",
      "    Number of degree of freedom            1007\n",
      "\n",
      "An upper limit will be put on the normalized separation X.\n",
      "Since no value is given, the default value (sqrt(2*ln(#sou))) predicted from a standard Rayleigh distribution is used.\n",
      "The LSQ fit is performed based a clean sample consisted ofall source with a normalized separation with X<=3.532.\n",
      "\n",
      "==================== Standard-elimination ====================\n",
      "    Nb_sources    Nb_outliers    Threshold\n",
      "          432           80        3.532\n",
      "\n",
      "Statistics information\n",
      "-------------------------------------------------------------------\n",
      "             Pre-fit             |             Post-fit            \n",
      "-------------------------------------------------------------------\n",
      "         dRA*         dDec       |         dRA*         dDec       \n",
      "Bias     -0.0          0.0       |          0.0          0.0\n",
      "WRMS      0.3          0.4       |          0.3          0.4\n",
      "RSE       0.4          0.4       |          0.4          0.4\n",
      "-------------------------------------------------------------------\n",
      "    Nor. dRA*    Nor. dDec       |    Nor. dRA*    Nor. dDec       \n",
      "-------------------------------------------------------------------\n",
      "         dRA*         dDec       |         dRA*         dDec       \n",
      "Bias     -0.0          0.1       |          0.0         -0.0\n",
      "Std       2.4          2.5       |          2.3          2.4\n",
      "RSE       1.5          1.5       |          1.5          1.5\n",
      "-------------------------------------------------------------------\n",
      "Chi-Square          6127.0       |                    5978.0\n",
      "Red. Chi-square        6.1       |                       5.9\n",
      "Good-of-fitness        0.0       |                       0.0\n",
      "-------------------------------------------------------------------\n",
      "\n",
      "Significance level \n",
      "--------------------------------------------------------------------\n",
      "Degree  P_t^0.5      Z_t   P_s^0.5      Z_s  P_rem^0.5\n",
      "--------------------------------------------------------------------\n",
      "     0                                             3.2\n",
      "     1      0.1     2.39       0.1     4.11        3.2\n",
      "     2      0.2     4.28       0.1     2.54        3.2\n",
      "--------------------------------------------------------------------\n",
      "\n",
      "Convert t_lm/s_lm at l=1 into rotation/glide vector\n",
      "--------------------------------------------------------------------\n",
      "           Glide [uas]                 Rotation [uas]   \n",
      "  G1         G2        G3         R1         R2        R3       \n",
      "--------------------------------------------------------------------\n",
      "  -0    0    +0    0   +0    0    +0    0   -0    0    -0    0  \n",
      "--------------------------------------------------------------------\n"
     ]
    }
   ],
   "source": [
    "# K - Gaia(common)\n",
    "# output_k1 = rotgliquad_fit_4_table(k_g_com, clip_limit=kappa)\n",
    "output_k1 = rotgliquad_fit_4_table(k_g_com, std_clean=True)"
   ]
  },
  {
   "cell_type": "code",
   "execution_count": 7,
   "metadata": {
    "ExecuteTime": {
     "end_time": "2021-03-08T13:57:21.953835Z",
     "start_time": "2021-03-08T13:57:21.799042Z"
    }
   },
   "outputs": [
    {
     "name": "stdout",
     "output_type": "stream",
     "text": [
      "----------------------- VSH Fit (by Niu LIU) -----------------------\n",
      "\n",
      "Pre-fit information:\n",
      "    Number of sources                       660\n",
      "    Maximum degree of VSH                     2\n",
      "    Number of unknowns to determine          16\n",
      "    Number of degree of freedom            1303\n",
      "\n",
      "An upper limit will be put on the normalized separation X.\n",
      "Since no value is given, the default value (sqrt(2*ln(#sou))) predicted from a standard Rayleigh distribution is used.\n",
      "The LSQ fit is performed based a clean sample consisted ofall source with a normalized separation with X<=3.603.\n",
      "\n",
      "==================== Standard-elimination ====================\n",
      "    Nb_sources    Nb_outliers    Threshold\n",
      "          559          101        3.603\n",
      "\n",
      "Statistics information\n",
      "-------------------------------------------------------------------\n",
      "             Pre-fit             |             Post-fit            \n",
      "-------------------------------------------------------------------\n",
      "         dRA*         dDec       |         dRA*         dDec       \n",
      "Bias      0.0         -0.0       |          0.0         -0.0\n",
      "WRMS      0.6          0.6       |          0.6          0.6\n",
      "RSE       0.4          0.4       |          0.4          0.4\n",
      "-------------------------------------------------------------------\n",
      "    Nor. dRA*    Nor. dDec       |    Nor. dRA*    Nor. dDec       \n",
      "-------------------------------------------------------------------\n",
      "         dRA*         dDec       |         dRA*         dDec       \n",
      "Bias      0.1         -0.1       |          0.2         -0.2\n",
      "Std       4.3          3.2       |          4.3          3.2\n",
      "RSE       1.6          1.5       |          1.7          1.5\n",
      "-------------------------------------------------------------------\n",
      "Chi-Square         19561.5       |                   19402.6\n",
      "Red. Chi-square       15.0       |                      14.9\n",
      "Good-of-fitness        0.0       |                       0.0\n",
      "-------------------------------------------------------------------\n",
      "\n",
      "Significance level \n",
      "--------------------------------------------------------------------\n",
      "Degree  P_t^0.5      Z_t   P_s^0.5      Z_s  P_rem^0.5\n",
      "--------------------------------------------------------------------\n",
      "     0                                             7.0\n",
      "     1      0.1     4.07       0.2     4.88        7.0\n",
      "     2      0.2     5.57       0.1     2.84        7.0\n",
      "--------------------------------------------------------------------\n",
      "\n",
      "Convert t_lm/s_lm at l=1 into rotation/glide vector\n",
      "--------------------------------------------------------------------\n",
      "           Glide [uas]                 Rotation [uas]   \n",
      "  G1         G2        G3         R1         R2        R3       \n",
      "--------------------------------------------------------------------\n",
      "  -0    0    +0    0   +0    0    +0    0   -0    0    -0    0  \n",
      "--------------------------------------------------------------------\n"
     ]
    }
   ],
   "source": [
    "# K - Gaia (All)\n",
    "# output_k2 = rotgliquad_fit_4_table(k_g, clip_limit=kappa)\n",
    "output_k2 = rotgliquad_fit_4_table(k_g, std_clean=True)"
   ]
  },
  {
   "cell_type": "code",
   "execution_count": 8,
   "metadata": {
    "ExecuteTime": {
     "end_time": "2021-03-08T13:57:22.134033Z",
     "start_time": "2021-03-08T13:57:21.958986Z"
    }
   },
   "outputs": [
    {
     "name": "stdout",
     "output_type": "stream",
     "text": [
      "----------------------- VSH Fit (by Niu LIU) -----------------------\n",
      "\n",
      "Pre-fit information:\n",
      "    Number of sources                       512\n",
      "    Maximum degree of VSH                     2\n",
      "    Number of unknowns to determine          16\n",
      "    Number of degree of freedom            1007\n",
      "\n",
      "An upper limit will be put on the normalized separation X.\n",
      "Since no value is given, the default value (sqrt(2*ln(#sou))) predicted from a standard Rayleigh distribution is used.\n",
      "The LSQ fit is performed based a clean sample consisted ofall source with a normalized separation with X<=3.532.\n",
      "\n",
      "==================== Standard-elimination ====================\n",
      "    Nb_sources    Nb_outliers    Threshold\n",
      "          357          155        3.532\n",
      "\n",
      "Statistics information\n",
      "-------------------------------------------------------------------\n",
      "             Pre-fit             |             Post-fit            \n",
      "-------------------------------------------------------------------\n",
      "         dRA*         dDec       |         dRA*         dDec       \n",
      "Bias      0.0         -0.3       |          0.0         -0.1\n",
      "WRMS      0.3          0.4       |          0.3          0.4\n",
      "RSE       0.4          0.4       |          0.4          0.4\n",
      "-------------------------------------------------------------------\n",
      "    Nor. dRA*    Nor. dDec       |    Nor. dRA*    Nor. dDec       \n",
      "-------------------------------------------------------------------\n",
      "         dRA*         dDec       |         dRA*         dDec       \n",
      "Bias      0.1         -1.6       |         -0.0         -0.7\n",
      "Std       2.6          2.9       |          2.3          2.7\n",
      "RSE       2.0          2.1       |          1.6          1.8\n",
      "-------------------------------------------------------------------\n",
      "Chi-Square          9625.1       |                    7005.2\n",
      "Red. Chi-square        9.6       |                       7.0\n",
      "Good-of-fitness        0.0       |                       0.0\n",
      "-------------------------------------------------------------------\n",
      "\n",
      "Significance level \n",
      "--------------------------------------------------------------------\n",
      "Degree  P_t^0.5      Z_t   P_s^0.5      Z_s  P_rem^0.5\n",
      "--------------------------------------------------------------------\n",
      "     0                                             4.1\n",
      "     1      0.1     3.26       0.6    12.93        4.1\n",
      "     2      0.4    10.89       0.2     6.32        4.0\n",
      "--------------------------------------------------------------------\n",
      "\n",
      "Convert t_lm/s_lm at l=1 into rotation/glide vector\n",
      "--------------------------------------------------------------------\n",
      "           Glide [uas]                 Rotation [uas]   \n",
      "  G1         G2        G3         R1         R2        R3       \n",
      "--------------------------------------------------------------------\n",
      "  -0    0    +0    0   -0    0    -0    0   -0    0    +0    0  \n",
      "--------------------------------------------------------------------\n"
     ]
    }
   ],
   "source": [
    "# X/Ka -  Gaia (common)\n",
    "# output_ka1 = rotgliquad_fit_4_table(xka_g_com, clip_limit=kappa)\n",
    "output_ka1 = rotgliquad_fit_4_table(xka_g_com, std_clean=True)"
   ]
  },
  {
   "cell_type": "code",
   "execution_count": 9,
   "metadata": {
    "ExecuteTime": {
     "end_time": "2021-03-08T13:57:22.298414Z",
     "start_time": "2021-03-08T13:57:22.137434Z"
    }
   },
   "outputs": [
    {
     "name": "stdout",
     "output_type": "stream",
     "text": [
      "----------------------- VSH Fit (by Niu LIU) -----------------------\n",
      "\n",
      "Pre-fit information:\n",
      "    Number of sources                       576\n",
      "    Maximum degree of VSH                     2\n",
      "    Number of unknowns to determine          16\n",
      "    Number of degree of freedom            1135\n",
      "\n",
      "An upper limit will be put on the normalized separation X.\n",
      "Since no value is given, the default value (sqrt(2*ln(#sou))) predicted from a standard Rayleigh distribution is used.\n",
      "The LSQ fit is performed based a clean sample consisted ofall source with a normalized separation with X<=3.565.\n",
      "\n",
      "==================== Standard-elimination ====================\n",
      "    Nb_sources    Nb_outliers    Threshold\n",
      "          410          166        3.565\n",
      "\n",
      "Statistics information\n",
      "-------------------------------------------------------------------\n",
      "             Pre-fit             |             Post-fit            \n",
      "-------------------------------------------------------------------\n",
      "         dRA*         dDec       |         dRA*         dDec       \n",
      "Bias      0.0         -0.3       |          0.0         -0.1\n",
      "WRMS      0.4          0.4       |          0.3          0.4\n",
      "RSE       0.4          0.4       |          0.4          0.4\n",
      "-------------------------------------------------------------------\n",
      "    Nor. dRA*    Nor. dDec       |    Nor. dRA*    Nor. dDec       \n",
      "-------------------------------------------------------------------\n",
      "         dRA*         dDec       |         dRA*         dDec       \n",
      "Bias      0.1         -1.5       |         -0.0         -0.6\n",
      "Std       2.6          2.8       |          2.3          2.6\n",
      "RSE       2.0          2.0       |          1.6          1.7\n",
      "-------------------------------------------------------------------\n",
      "Chi-Square         10074.9       |                    7379.1\n",
      "Red. Chi-square        8.9       |                       6.5\n",
      "Good-of-fitness        0.0       |                       0.0\n",
      "-------------------------------------------------------------------\n",
      "\n",
      "Significance level \n",
      "--------------------------------------------------------------------\n",
      "Degree  P_t^0.5      Z_t   P_s^0.5      Z_s  P_rem^0.5\n",
      "--------------------------------------------------------------------\n",
      "     0                                             4.1\n",
      "     1      0.1     3.16       0.6    13.63        4.0\n",
      "     2      0.4    11.13       0.2     6.69        4.0\n",
      "--------------------------------------------------------------------\n",
      "\n",
      "Convert t_lm/s_lm at l=1 into rotation/glide vector\n",
      "--------------------------------------------------------------------\n",
      "           Glide [uas]                 Rotation [uas]   \n",
      "  G1         G2        G3         R1         R2        R3       \n",
      "--------------------------------------------------------------------\n",
      "  -0    0    +0    0   -0    0    -0    0   -0    0    +0    0  \n",
      "--------------------------------------------------------------------\n"
     ]
    }
   ],
   "source": [
    "# X/Ka - gaia (All)\n",
    "# output_ka2 = rotgliquad_fit_4_table(xka_g, clip_limit=kappa)\n",
    "output_ka2 = rotgliquad_fit_4_table(xka_g, std_clean=True)"
   ]
  },
  {
   "cell_type": "code",
   "execution_count": 10,
   "metadata": {
    "ExecuteTime": {
     "end_time": "2021-03-08T13:57:22.306987Z",
     "start_time": "2021-03-08T13:57:22.302989Z"
    }
   },
   "outputs": [],
   "source": [
    "cat_names = [\"S/X$-$Gaia\", \"K$-$Gaia\", \"X/Ka$-$Gaia\"]\n",
    "\n",
    "names = [\"$D_1$\", \"$D_2$\", \"$D_3$\", \"$R_1$\", \"$R_2$\", \"$R_3$\",\n",
    "        \"$E_{22}^R$\", \"$E_{22}^I$\", \"$E_{21}^R$\", \"$E_{21}^I$\", \"$E_{20}$\",\n",
    "        \"$M_{22}^R$\", \"$M_{22}^I$\", \"$M_{21}^R$\", \"$M_{21}^I$\", \"$M_{20}$\"]\n",
    "\n",
    "num = len(names)\n",
    "width = 0.2\n",
    "loc = np.arange(num) * 2"
   ]
  },
  {
   "cell_type": "code",
   "execution_count": 11,
   "metadata": {
    "ExecuteTime": {
     "end_time": "2021-03-08T13:57:22.314672Z",
     "start_time": "2021-03-08T13:57:22.309207Z"
    }
   },
   "outputs": [],
   "source": [
    "estimates = [[output_sx1[\"pmt2\"]*1e3, output_sx2[\"pmt2\"]*1e3],\n",
    "             [output_k1[\"pmt2\"]*1e3, output_k2[\"pmt2\"]*1e3],\n",
    "             [output_ka1[\"pmt2\"]*1e3, output_ka2[\"pmt2\"]*1e3]\n",
    "             ]\n",
    "\n",
    "heights = [[2*output_sx1[\"sig2\"]*1e3, 2*output_sx2[\"sig2\"]*1e3],\n",
    "           [2*output_k1[\"sig2\"]*1e3, 2*output_k2[\"sig2\"]*1e3],\n",
    "           [2*output_ka1[\"sig2\"]*1e3, 2*output_ka2[\"sig2\"]*1e3]]\n",
    "\n",
    "bottoms = [[(output_sx1[\"pmt2\"]-output_sx1[\"sig2\"])*1e3,\n",
    "            (output_sx2[\"pmt2\"]-output_sx2[\"sig2\"])*1e3],\n",
    "           [(output_k1[\"pmt2\"]-output_k1[\"sig2\"])*1e3,\n",
    "            (output_k2[\"pmt2\"]-output_k2[\"sig2\"])*1e3],\n",
    "           [(output_ka1[\"pmt2\"]-output_ka1[\"sig2\"])*1e3,\n",
    "            (output_ka2[\"pmt2\"]-output_ka2[\"sig2\"])*1e3]]"
   ]
  },
  {
   "cell_type": "code",
   "execution_count": 12,
   "metadata": {
    "ExecuteTime": {
     "end_time": "2021-03-08T13:57:23.537944Z",
     "start_time": "2021-03-08T13:57:22.316828Z"
    }
   },
   "outputs": [
    {
     "data": {
      "image/png": "[encoded data removed]",
      "text/plain": [
       "<Figure size 864x432 with 3 Axes>"
      ]
     },
     "metadata": {
      "needs_background": "light"
     },
     "output_type": "display_data"
    }
   ],
   "source": [
    "fig, ax = plt.subplots(figsize=(12, 6), nrows=3, sharex=True)\n",
    "\n",
    "for i, cat_name in enumerate(cat_names):\n",
    "    ax[i].bar(loc-width, heights[i][0], fill=False,\n",
    "              bottom=bottoms[i][0], edgecolor=\"r\",\n",
    "              width=width, align=\"edge\", label=\"All\")\n",
    "    \n",
    "    ax[i].bar(loc, heights[i][1], fill=False,\n",
    "              bottom=bottoms[i][1], edgecolor=\"b\",\n",
    "              width=width, align=\"edge\", label=\"Common\")\n",
    "    \n",
    "    ax[i].hlines(estimates[i][0], loc-width, loc)\n",
    "    ax[i].hlines(estimates[i][1], loc, loc+width)\n",
    "    \n",
    "    ax[i].legend(fontsize=\"x-small\")\n",
    "\n",
    "    ax[i].set_ylabel(\"{}($\\mu$as)\".format(cat_name))\n",
    "\n",
    "ax[2].set_xticks(loc)\n",
    "ax[2].set_xticklabels(names)\n",
    "plt.tight_layout()"
   ]
  },
  {
   "cell_type": "markdown",
   "metadata": {},
   "source": [
    "The results of the VSH fit from all common sources (labelled as `All`) and 512 common sources (labelled as `Common`) are genenrally consistent within their formal uncertainties."
   ]
  },
  {
   "cell_type": "markdown",
   "metadata": {},
   "source": [
    "The next step is to model and remove the global differences."
   ]
  },
  {
   "cell_type": "code",
   "execution_count": 13,
   "metadata": {
    "ExecuteTime": {
     "end_time": "2021-03-08T13:57:23.693829Z",
     "start_time": "2021-03-08T13:57:23.539983Z"
    },
    "scrolled": true
   },
   "outputs": [],
   "source": [
    "# S/X - Gaia (common sources)\n",
    "sx_g.keep_columns([\n",
    "    \"source_id\", \"ra\", \"dec\", \"ra_err_gedr3\", \"dec_err_gedr3\", \"parallax\",\n",
    "    \"parallax_err\", \"parallax_over_error\", \"pm\", \"pmra\", \"pmra_err\", \"pmdec\",\n",
    "    \"pmdec_err\", \"ra_dec_corr_gedr3\", \"icrf_name\", \"iers_name\",\n",
    "    \"pos_err_max_gedr3\", \"pos_err_min_gedr3\", \"eepa_gedr3\", \"type\",\n",
    "    \"ra_icrf3sx\", \"dec_icrf3sx\", \"ra_err_icrf3sx\", \"dec_err_icrf3sx\",\n",
    "    \"ra_dec_corr_icrf3sx\", \"mean_obs\", \"pos_err_max_icrf3sx\",\n",
    "    \"pos_err_min_icrf3sx\", \"eepa_icrf3sx\", \"beg_obs\", \"end_obs\", \"nb_sess\",\n",
    "    \"nb_del\", \"dra\", \"ddec\", \"dra_err\", \"ddec_err\", \"dra_ddec_cov\", \"ang_sep\",\n",
    "    \"ang_sep_err\", \"pa\", \"pa_err\", \"nor_ra\", \"nor_dec\", \"nor_sep\"\n",
    "])\n",
    "\n",
    "recalc_position_oft(sx_g, output_sx2[\"residual\"], \"cor\")\n",
    "sx_g.write(\"../data/icrf3sx_gedr3_all_combined.fits\", overwrite=True)"
   ]
  },
  {
   "cell_type": "code",
   "execution_count": 14,
   "metadata": {
    "ExecuteTime": {
     "end_time": "2021-03-08T13:57:23.822552Z",
     "start_time": "2021-03-08T13:57:23.696860Z"
    },
    "scrolled": true
   },
   "outputs": [],
   "source": [
    "# S/X - Gaia (common sources in four bands)\n",
    "sx_g_com.keep_columns([\"source_id\", \"ra\", \"dec\", \"ra_err_gedr3\", \"dec_err_gedr3\",\n",
    "                       \"parallax\", \"parallax_err\", \"parallax_over_error\",\n",
    "                       \"pm\", \"pmra\", \"pmra_err\", \"pmdec\", \"pmdec_err\",\n",
    "                       \"ra_dec_corr_gedr3\",\n",
    "                       \"icrf_name\", \"iers_name\",\n",
    "                       \"pos_err_max_gedr3\", \"pos_err_min_gedr3\", \"eepa_gedr3\",\n",
    "                       \"type\", \"ra_icrf3sx\", \"dec_icrf3sx\",\n",
    "                       \"ra_err_icrf3sx\", \"dec_err_icrf3sx\", \"ra_dec_corr_icrf3sx\",\n",
    "                       \"mean_obs\", \"pos_err_max_icrf3sx\", \"pos_err_min_icrf3sx\",\n",
    "                       \"eepa_icrf3sx\", \"beg_obs\", \"end_obs\", \"nb_sess\", \"nb_del\",\n",
    "                       \"dra\", \"ddec\", \"dra_err\", \"ddec_err\", \"dra_ddec_cov\",\n",
    "                       \"ang_sep\", \"ang_sep_err\", \"pa\", \"pa_err\",\n",
    "                       \"nor_ra\", \"nor_dec\", \"nor_sep\"])\n",
    "\n",
    "\n",
    "recalc_position_oft(sx_g_com, output_sx1[\"residual\"], \"cor\")\n",
    "sx_g_com.write(\"../data/icrf3sx_gedr3_com_combined.fits\", overwrite=True)"
   ]
  },
  {
   "cell_type": "code",
   "execution_count": 15,
   "metadata": {
    "ExecuteTime": {
     "end_time": "2021-03-08T13:57:23.916832Z",
     "start_time": "2021-03-08T13:57:23.824668Z"
    }
   },
   "outputs": [],
   "source": [
    "# K - Gaia (common sources)\n",
    "k_g.keep_columns([\n",
    "    \"source_id\", \"ra\", \"dec\", \"ra_err_gedr3\", \"dec_err_gedr3\", \"parallax\",\n",
    "    \"parallax_err\", \"parallax_over_error\", \"pm\", \"pmra\", \"pmra_err\", \"pmdec\",\n",
    "    \"pmdec_err\", \"ra_dec_corr_gedr3\", \"icrf_name\", \"iers_name\",\n",
    "    \"pos_err_max_gedr3\", \"pos_err_min_gedr3\", \"eepa_gedr3\", \"type\",\n",
    "    \"ra_icrf3k\", \"dec_icrf3k\", \"ra_err_icrf3k\", \"dec_err_icrf3k\",\n",
    "    \"ra_dec_corr_icrf3k\", \"mean_obs\", \"pos_err_max_icrf3k\",\n",
    "    \"pos_err_min_icrf3k\", \"eepa_icrf3k\", \"beg_obs\", \"end_obs\", \"nb_sess\",\n",
    "    \"nb_del\", \"dra\", \"ddec\", \"dra_err\", \"ddec_err\", \"dra_ddec_cov\", \"ang_sep\",\n",
    "    \"ang_sep_err\", \"pa\", \"pa_err\", \"nor_ra\", \"nor_dec\", \"nor_sep\"\n",
    "])\n",
    "\n",
    "recalc_position_oft(k_g, output_k2[\"residual\"], \"cor\")\n",
    "k_g.write(\"../data/icrf3k_gedr3_all_combined.fits\", overwrite=True)"
   ]
  },
  {
   "cell_type": "code",
   "execution_count": 16,
   "metadata": {
    "ExecuteTime": {
     "end_time": "2021-03-08T13:57:24.014092Z",
     "start_time": "2021-03-08T13:57:23.919479Z"
    }
   },
   "outputs": [],
   "source": [
    "# K - Gaia (common sources in four bands)\n",
    "k_g_com.keep_columns([\n",
    "    \"source_id\", \"ra\", \"dec\", \"ra_err_gedr3\", \"dec_err_gedr3\", \"parallax\",\n",
    "    \"parallax_err\", \"parallax_over_error\", \"pm\", \"pmra\", \"pmra_err\", \"pmdec\",\n",
    "    \"pmdec_err\", \"ra_dec_corr_gedr3\", \"icrf_name\", \"iers_name\",\n",
    "    \"pos_err_max_gedr3\", \"pos_err_min_gedr3\", \"eepa_gedr3\", \"type\",\n",
    "    \"ra_icrf3k\", \"dec_icrf3k\", \"ra_err_icrf3k\", \"dec_err_icrf3k\",\n",
    "    \"ra_dec_corr_icrf3k\", \"mean_obs\", \"pos_err_max_icrf3k\",\n",
    "    \"pos_err_min_icrf3k\", \"eepa_icrf3k\", \"beg_obs\", \"end_obs\", \"nb_sess\",\n",
    "    \"nb_del\", \"dra\", \"ddec\", \"dra_err\", \"ddec_err\", \"dra_ddec_cov\", \"ang_sep\",\n",
    "    \"ang_sep_err\", \"pa\", \"pa_err\", \"nor_ra\", \"nor_dec\", \"nor_sep\"\n",
    "])\n",
    "\n",
    "recalc_position_oft(k_g_com, output_k1[\"residual\"], \"cor\")\n",
    "k_g_com.write(\"../data/icrf3k_gedr3_com_combined.fits\", overwrite=True)"
   ]
  },
  {
   "cell_type": "code",
   "execution_count": 17,
   "metadata": {
    "ExecuteTime": {
     "end_time": "2021-03-08T13:57:24.111072Z",
     "start_time": "2021-03-08T13:57:24.016392Z"
    }
   },
   "outputs": [],
   "source": [
    "# X/Ka - Gaia (common sources)\n",
    "xka_g.keep_columns([\n",
    "    \"source_id\", \"ra\", \"dec\", \"ra_err_gedr3\", \"dec_err_gedr3\", \"parallax\",\n",
    "    \"parallax_err\", \"parallax_over_error\", \"pm\", \"pmra\", \"pmra_err\", \"pmdec\",\n",
    "    \"pmdec_err\", \"ra_dec_corr_gedr3\", \"icrf_name\", \"iers_name\",\n",
    "    \"pos_err_max_gedr3\", \"pos_err_min_gedr3\", \"eepa_gedr3\", \"type\",\n",
    "    \"ra_icrf3xka\", \"dec_icrf3xka\", \"ra_err_icrf3xka\", \"dec_err_icrf3xka\",\n",
    "    \"ra_dec_corr_icrf3xka\", \"mean_obs\", \"pos_err_max_icrf3xka\",\n",
    "    \"pos_err_min_icrf3xka\", \"eepa_icrf3xka\", \"beg_obs\", \"end_obs\", \"nb_sess\",\n",
    "    \"nb_del\", \"dra\", \"ddec\", \"dra_err\", \"ddec_err\", \"dra_ddec_cov\", \"ang_sep\",\n",
    "    \"ang_sep_err\", \"pa\", \"pa_err\", \"nor_ra\", \"nor_dec\", \"nor_sep\"\n",
    "])\n",
    "\n",
    "recalc_position_oft(xka_g, output_ka2[\"residual\"], \"cor\")\n",
    "xka_g.write(\"../data/icrf3xka_gedr3_all_combined.fits\", overwrite=True)"
   ]
  },
  {
   "cell_type": "code",
   "execution_count": 18,
   "metadata": {
    "ExecuteTime": {
     "end_time": "2021-03-08T13:57:24.216614Z",
     "start_time": "2021-03-08T13:57:24.113300Z"
    }
   },
   "outputs": [],
   "source": [
    "# X/Ka - Gaia (common sources in four bands)\n",
    "xka_g_com.keep_columns([\n",
    "    \"source_id\", \"ra\", \"dec\", \"ra_err_gedr3\", \"dec_err_gedr3\", \"parallax\",\n",
    "    \"parallax_err\", \"parallax_over_error\", \"pm\", \"pmra\", \"pmra_err\", \"pmdec\",\n",
    "    \"pmdec_err\", \"ra_dec_corr_gedr3\", \"icrf_name\", \"iers_name\",\n",
    "    \"pos_err_max_gedr3\", \"pos_err_min_gedr3\", \"eepa_gedr3\", \"type\",\n",
    "    \"ra_icrf3xka\", \"dec_icrf3xka\", \"ra_err_icrf3xka\", \"dec_err_icrf3xka\",\n",
    "    \"ra_dec_corr_icrf3xka\", \"mean_obs\", \"pos_err_max_icrf3xka\",\n",
    "    \"pos_err_min_icrf3xka\", \"eepa_icrf3xka\", \"beg_obs\", \"end_obs\", \"nb_sess\",\n",
    "    \"nb_del\", \"dra\", \"ddec\", \"dra_err\", \"ddec_err\", \"dra_ddec_cov\", \"ang_sep\",\n",
    "    \"ang_sep_err\", \"pa\", \"pa_err\", \"nor_ra\", \"nor_dec\", \"nor_sep\"\n",
    "])\n",
    "\n",
    "recalc_position_oft(xka_g_com, output_ka1[\"residual\"], \"cor\")\n",
    "xka_g_com.write(\"../data/icrf3xka_gedr3_com_combined.fits\", overwrite=True)"
   ]
  },
  {
   "cell_type": "markdown",
   "metadata": {},
   "source": [
    "Cross-match for four band positions."
   ]
  },
  {
   "cell_type": "code",
   "execution_count": 19,
   "metadata": {
    "ExecuteTime": {
     "end_time": "2021-03-08T13:57:24.230977Z",
     "start_time": "2021-03-08T13:57:24.219680Z"
    }
   },
   "outputs": [],
   "source": [
    "sx_g_com = sx_g_com[\"icrf_name\", \"iers_name\", \"source_id\", \"ra\", \"dec\", \"dra\",\n",
    "                    \"ddec\", \"dra_err\", \"ddec_err\", \"dra_ddec_cov\", \"ang_sep\",\n",
    "                    \"ang_sep_err\", \"pa\", \"pa_err\", \"nor_ra\", \"nor_dec\",\n",
    "                    \"nor_sep\", \"dra_cor\", \"ddec_cor\", \"ang_sep_cor\", \"pa_cor\",\n",
    "                    \"nor_ra_cor\", \"nor_dec_cor\", \"nor_sep_cor\", \"ra_err_gedr3\",\n",
    "                    \"dec_err_gedr3\", \"ra_dec_corr_gedr3\", \"pos_err_max_gedr3\",\n",
    "                    \"pos_err_min_gedr3\", \"eepa_gedr3\", \"ra_err_icrf3sx\",\n",
    "                    \"dec_err_icrf3sx\", \"ra_dec_corr_icrf3sx\",\n",
    "                    \"pos_err_max_icrf3sx\", \"pos_err_min_icrf3sx\",\n",
    "                    \"eepa_icrf3sx\", \"parallax\", \"parallax_err\", \"pm\", \"pmra\",\n",
    "                    \"pmra_err\", \"pmdec\", \"pmdec_err\"]\n",
    "\n",
    "sx_g_com.rename_columns([\n",
    "    \"dra\", \"ddec\", \"dra_err\", \"ddec_err\", \"dra_ddec_cov\", \n",
    "    \"ang_sep\", \"ang_sep_err\", \"pa\", \"pa_err\", \n",
    "    \"nor_ra\", \"nor_dec\", \"nor_sep\", \n",
    "    \"dra_cor\", \"ddec_cor\", \"ang_sep_cor\",\"pa_cor\", \n",
    "    \"nor_ra_cor\", \"nor_dec_cor\", \"nor_sep_cor\"\n",
    "], [\n",
    "    \"dra_sx\", \"ddec_sx\", \"dra_err_sx\", \"ddec_err_sx\", \"dra_ddec_cov_sx\",\n",
    "    \"ang_sep_sx\", \"ang_sep_err_sx\", \"pa_sx\", \"pa_err_sx\", \n",
    "    \"nor_ra_sx\", \"nor_dec_sx\", \"nor_sep_sx\", \n",
    "    \"dra_sx_cor\", \"ddec_sx_cor\", \"ang_sep_sx_cor\", \"pa_sx_cor\", \n",
    "    \"nor_ra_sx_cor\", \"nor_dec_sx_cor\", \"nor_sep_sx_cor\"\n",
    "])"
   ]
  },
  {
   "cell_type": "code",
   "execution_count": 20,
   "metadata": {
    "ExecuteTime": {
     "end_time": "2021-03-08T13:57:24.243171Z",
     "start_time": "2021-03-08T13:57:24.235680Z"
    }
   },
   "outputs": [],
   "source": [
    "k_g_com = k_g_com[\"iers_name\", \"dra\", \"ddec\", \"dra_err\", \"ddec_err\",\n",
    "                  \"dra_ddec_cov\", \"ang_sep\", \"ang_sep_err\", \"pa\", \"pa_err\",\n",
    "                  \"nor_ra\", \"nor_dec\", \"nor_sep\", \"dra_cor\", \"ddec_cor\",\n",
    "                  \"ang_sep_cor\", \"pa_cor\", \"nor_ra_cor\", \"nor_dec_cor\",\n",
    "                  \"nor_sep_cor\", \"ra_err_icrf3k\", \"dec_err_icrf3k\",\n",
    "                  \"ra_dec_corr_icrf3k\", \"pos_err_max_icrf3k\",\n",
    "                  \"pos_err_min_icrf3k\", \"eepa_icrf3k\"]\n",
    "\n",
    "k_g_com.rename_columns([\n",
    "    \"dra\", \"ddec\", \"dra_err\", \"ddec_err\", \"dra_ddec_cov\", \"ang_sep\",\n",
    "    \"ang_sep_err\", \"pa\", \"pa_err\", \"nor_ra\", \"nor_dec\", \"nor_sep\", \"dra_cor\",\n",
    "    \"ddec_cor\", \"ang_sep_cor\", \"pa_cor\", \"nor_ra_cor\", \"nor_dec_cor\",\n",
    "    \"nor_sep_cor\"\n",
    "], [\n",
    "    \"dra_k\", \"ddec_k\", \"dra_err_k\", \"ddec_err_k\", \"dra_ddec_cov_k\",\n",
    "    \"ang_sep_k\", \"ang_sep_err_k\", \"pa_k\", \"pa_err_k\", \"nor_ra_k\", \"nor_dec_k\",\n",
    "    \"nor_sep_k\", \"dra_k_cor\", \"ddec_k_cor\", \"ang_sep_k_cor\", \"pa_k_cor\",\n",
    "    \"nor_ra_k_cor\", \"nor_dec_k_cor\", \"nor_sep_k_cor\"\n",
    "])"
   ]
  },
  {
   "cell_type": "code",
   "execution_count": 21,
   "metadata": {
    "ExecuteTime": {
     "end_time": "2021-03-08T13:57:24.251620Z",
     "start_time": "2021-03-08T13:57:24.245107Z"
    }
   },
   "outputs": [],
   "source": [
    "xka_g_com = xka_g_com[\"iers_name\", \"dra\", \"ddec\", \"dra_err\", \"ddec_err\",\n",
    "                      \"dra_ddec_cov\", \"ang_sep\", \"ang_sep_err\", \"pa\", \"pa_err\",\n",
    "                      \"nor_ra\", \"nor_dec\", \"nor_sep\", \"dra_cor\", \"ddec_cor\",\n",
    "                      \"ang_sep_cor\", \"pa_cor\", \"nor_ra_cor\", \"nor_dec_cor\",\n",
    "                      \"nor_sep_cor\", \"ra_err_icrf3xka\", \"dec_err_icrf3xka\",\n",
    "                      \"ra_dec_corr_icrf3xka\", \"pos_err_max_icrf3xka\",\n",
    "                      \"pos_err_min_icrf3xka\", \"eepa_icrf3xka\"]\n",
    "\n",
    "xka_g_com.rename_columns([\n",
    "    \"dra\", \"ddec\", \"dra_err\", \"ddec_err\", \"dra_ddec_cov\", \"ang_sep\",\n",
    "    \"ang_sep_err\", \"pa\", \"pa_err\", \"nor_ra\", \"nor_dec\", \"nor_sep\", \"dra_cor\",\n",
    "    \"ddec_cor\", \"ang_sep_cor\", \"pa_cor\", \"nor_ra_cor\", \"nor_dec_cor\",\n",
    "    \"nor_sep_cor\"\n",
    "], [\n",
    "    \"dra_ka\", \"ddec_ka\", \"dra_err_ka\", \"ddec_err_ka\", \"dra_ddec_cov_ka\",\n",
    "    \"ang_sep_ka\", \"ang_sep_err_ka\", \"pa_ka\", \"pa_err_ka\", \"nor_ra_ka\",\n",
    "    \"nor_dec_ka\", \"nor_sep_ka\", \"dra_ka_cor\", \"ddec_ka_cor\", \"ang_sep_ka_cor\",\n",
    "    \"pa_ka_cor\", \"nor_ra_ka_cor\", \"nor_dec_ka_cor\", \"nor_sep_ka_cor\"\n",
    "])"
   ]
  },
  {
   "cell_type": "code",
   "execution_count": 22,
   "metadata": {
    "ExecuteTime": {
     "end_time": "2021-03-08T13:57:24.470714Z",
     "start_time": "2021-03-08T13:57:24.258879Z"
    }
   },
   "outputs": [],
   "source": [
    "temp1 = join(sx_g_com, k_g_com, keys=\"iers_name\")\n",
    "\n",
    "multi_freq_oft = join(temp1, xka_g_com, keys=\"iers_name\")\n",
    "\n",
    "multi_freq_oft.meta[\"comments\"] = [\n",
    "    \"Position offset for {} common sources between ICRF3 S/X ICRF3 K, and ICRF3 X/Ka \"\n",
    "    \"wrt. Gaia\".format(len(multi_freq_oft)),\n",
    "    \"Created at {}\".format(time.asctime())]\n",
    "\n",
    "multi_freq_oft.write(\"../data/multiwav-offset-in-Gaia-frame.fits\", overwrite=True)"
   ]
  },
  {
   "cell_type": "code",
   "execution_count": 23,
   "metadata": {
    "ExecuteTime": {
     "end_time": "2021-03-08T13:57:25.357178Z",
     "start_time": "2021-03-08T13:57:24.475108Z"
    }
   },
   "outputs": [
    {
     "data": {
      "image/png": "[encoded data removed]",
      "text/plain": [
       "<Figure size 576x432 with 1 Axes>"
      ]
     },
     "metadata": {
      "needs_background": "light"
     },
     "output_type": "display_data"
    }
   ],
   "source": [
    "width = 0.5\n",
    "estimates = [\n",
    "    output_sx1[\"pmt2\"] * 1e3, output_k1[\"pmt2\"] * 1e3, output_ka1[\"pmt2\"] * 1e3\n",
    "]\n",
    "\n",
    "heights = [\n",
    "    2 * output_sx1[\"sig2\"] * 1e3, 2 * output_k1[\"sig2\"] * 1e3, 2 * output_ka1[\"sig2\"] * 1e3,\n",
    "\n",
    "]\n",
    "\n",
    "bottoms = [(output_sx1[\"pmt2\"] - output_sx1[\"sig2\"]) * 1e3,\n",
    "           (output_k1[\"pmt2\"] - output_k1[\"sig2\"]) * 1e3,\n",
    "           (output_ka1[\"pmt2\"] - output_ka1[\"sig2\"]) * 1e3]\n",
    "\n",
    "fig, ax = plt.subplots(figsize=(8, 6))\n",
    "\n",
    "ax.bar(loc - width,\n",
    "       heights[0],\n",
    "       fill=False,\n",
    "       bottom=bottoms[0],\n",
    "       edgecolor=\"r\",\n",
    "       width=width,\n",
    "       align=\"edge\",\n",
    "       label=\"S/X$-$Gaia\")\n",
    "\n",
    "ax.bar(loc,\n",
    "       heights[1],\n",
    "       fill=False,\n",
    "       bottom=bottoms[1],\n",
    "       edgecolor=\"b\",\n",
    "       width=width,\n",
    "       align=\"edge\",\n",
    "       label=\"K$-$Gaia\")\n",
    "\n",
    "ax.bar(loc + width,\n",
    "       heights[2],\n",
    "       fill=False,\n",
    "       bottom=bottoms[2],\n",
    "       edgecolor=\"k\",\n",
    "       width=width,\n",
    "       align=\"edge\",\n",
    "       label=\"X/Ka$-$Gaia\")\n",
    "\n",
    "ax.hlines(estimates[0], loc - width, loc)\n",
    "ax.hlines(estimates[1], loc, loc + width)\n",
    "ax.hlines(estimates[2], loc + width, loc + 2 * width)\n",
    "\n",
    "ax.legend()\n",
    "\n",
    "ax.set_ylabel(\"Fitted value ($\\mu$as)\", fontsize=15)\n",
    "# ax.set_xlabel(\"VSH terms\", fontsize=15)\n",
    "\n",
    "ax.set_xticks(loc)\n",
    "ax.set_xticklabels(names, fontsize=15)\n",
    "ax.set_ylim([-400, 300])\n",
    "\n",
    "ax.grid(lw=0.5)\n",
    "\n",
    "plt.tight_layout()\n",
    "# plt.savefig(\"../plots/vsh-par.eps\")b"
   ]
  },
  {
   "cell_type": "code",
   "execution_count": 24,
   "metadata": {
    "ExecuteTime": {
     "end_time": "2021-03-08T13:57:25.367987Z",
     "start_time": "2021-03-08T13:57:25.361175Z"
    }
   },
   "outputs": [],
   "source": [
    "from my_progs.catalog.vsh_output import print_vsh_result"
   ]
  },
  {
   "cell_type": "code",
   "execution_count": 25,
   "metadata": {
    "ExecuteTime": {
     "end_time": "2021-03-08T13:57:25.388243Z",
     "start_time": "2021-03-08T13:57:25.374044Z"
    }
   },
   "outputs": [
    {
     "name": "stdout",
     "output_type": "stream",
     "text": [
      "S/X-Gaia\n",
      "VSH parameter Estimate Error\n",
      "                uas     uas \n",
      "------------- -------- -----\n",
      "           D1      -13    28\n",
      "           D2       17    28\n",
      "           D3       -8    25\n",
      "           R1       11    27\n",
      "           R2      -17    28\n",
      "           R3       -5    27\n",
      "         E22R       12    18\n",
      "         E22I       -1    17\n",
      "         E21R       15    34\n",
      "         E21I       17    35\n",
      "          E20       23    31\n",
      "         M22R      -14    17\n",
      "         M22I       10    16\n",
      "         M21R       26    36\n",
      "         M21I       11    36\n",
      "          M20       15    31\n",
      "\n",
      "Correlation coefficient\n",
      "---------------------------------------------------------\n",
      "          D1    D2    D3    R1    R2    R3  E22R  E22I  E21R  E21I   E20  M22R  M22I  M21R  M21I   M20\n",
      "    D1  +1.0\n",
      "    D2  +0.0  +1.0\n",
      "    D3  -0.0  +0.1  +1.0\n",
      "    R1  -0.0  +0.1  -0.1  +1.0\n",
      "    R2  -0.1  +0.0  -0.0  +0.1  +1.0\n",
      "    R3  +0.1  -0.1  -0.0  -0.1  -0.0  +1.0\n",
      "  E22R  +0.0  +0.1  +0.0  -0.0  +0.1  +0.2  +1.0\n",
      "  E22I  +0.1  +0.0  +0.0  +0.1  +0.0  +0.0  +0.0  +1.0\n",
      "  E21R  +0.0  +0.0  +0.0  +0.1  -0.2  -0.0  -0.2  +0.2  +1.0\n",
      "  E21I  -0.0  -0.1  -0.1  -0.2  +0.1  +0.1  +0.1  +0.0  -0.0  +1.0\n",
      "   E20  -0.1  +0.0  -0.1  -0.0  -0.1  -0.0  -0.1  -0.1  -0.0  -0.1  +1.0\n",
      "  M22R  -0.0  -0.1  -0.2  +0.0  +0.0  +0.0  +0.0  -0.1  +0.0  +0.0  +0.0  +1.0\n",
      "  M22I  -0.1  +0.0  -0.0  +0.1  +0.0  +0.0  +0.0  +0.0  +0.1  +0.1  -0.1  +0.0  +1.0\n",
      "  M21R  -0.1  +0.1  -0.0  +0.0  +0.0  +0.0  -0.0  -0.1  -0.0  -0.1  +0.1  -0.1  +0.0  +1.0\n",
      "  M21I  +0.1  -0.1  -0.1  -0.0  -0.1  -0.1  +0.0  -0.1  +0.0  -0.0  -0.0  +0.2  +0.0  -0.0  +1.0\n",
      "   M20  -0.1  +0.2  -0.0  +0.0  +0.1  -0.1  -0.0  +0.1  -0.0  +0.0  -0.0  -0.0  -0.1  +0.0  -0.0  +1.0\n"
     ]
    }
   ],
   "source": [
    "print(\"S/X-Gaia\")\n",
    "print_vsh_result(output_sx1[\"pmt2\"]*1e3, output_sx1[\"sig2\"]*1e3, output_sx1[\"cor2\"])"
   ]
  },
  {
   "cell_type": "code",
   "execution_count": 26,
   "metadata": {
    "ExecuteTime": {
     "end_time": "2021-03-08T13:57:25.405392Z",
     "start_time": "2021-03-08T13:57:25.390932Z"
    }
   },
   "outputs": [
    {
     "name": "stdout",
     "output_type": "stream",
     "text": [
      "K-Gaia\n",
      "VSH parameter Estimate Error\n",
      "                uas     uas \n",
      "------------- -------- -----\n",
      "           D1      -21    26\n",
      "           D2       40    27\n",
      "           D3       19    26\n",
      "           R1       19    29\n",
      "           R2      -19    28\n",
      "           R3       -9    20\n",
      "         E22R        2    13\n",
      "         E22I       -8    13\n",
      "         E21R      -30    31\n",
      "         E21I       -9    33\n",
      "          E20       26    33\n",
      "         M22R        7    16\n",
      "         M22I       -3    16\n",
      "         M21R       61    32\n",
      "         M21I       -4    33\n",
      "          M20      -20    25\n",
      "\n",
      "Correlation coefficient\n",
      "---------------------------------------------------------\n",
      "          D1    D2    D3    R1    R2    R3  E22R  E22I  E21R  E21I   E20  M22R  M22I  M21R  M21I   M20\n",
      "    D1  +1.0\n",
      "    D2  +0.0  +1.0\n",
      "    D3  -0.0  +0.1  +1.0\n",
      "    R1  +0.0  +0.4  -0.0  +1.0\n",
      "    R2  -0.4  +0.0  -0.0  -0.0  +1.0\n",
      "    R3  +0.1  -0.0  -0.1  -0.1  -0.0  +1.0\n",
      "  E22R  +0.0  +0.0  -0.0  -0.0  +0.1  +0.1  +1.0\n",
      "  E22I  +0.1  -0.0  -0.0  -0.0  -0.0  +0.1  +0.0  +1.0\n",
      "  E21R  +0.2  +0.0  -0.0  +0.0  -0.2  +0.0  -0.1  +0.1  +1.0\n",
      "  E21I  +0.0  -0.3  -0.1  -0.1  +0.1  +0.1  +0.0  +0.0  -0.0  +1.0\n",
      "   E20  -0.1  +0.0  -0.4  -0.1  -0.1  +0.0  -0.0  -0.0  -0.0  -0.1  +1.0\n",
      "  M22R  -0.0  -0.1  -0.0  +0.1  +0.0  -0.0  +0.1  -0.2  +0.0  +0.0  -0.0  +1.0\n",
      "  M22I  -0.1  -0.0  -0.1  +0.1  -0.0  +0.0  +0.2  +0.1  +0.0  +0.1  -0.0  -0.0  +1.0\n",
      "  M21R  -0.0  +0.5  +0.0  +0.3  -0.1  -0.0  -0.0  -0.1  -0.0  -0.2  +0.1  -0.1  -0.0  +1.0\n",
      "  M21I  +0.4  -0.0  -0.0  -0.0  -0.4  -0.1  -0.1  -0.1  +0.2  -0.1  -0.1  +0.1  +0.0  +0.0  +1.0\n",
      "   M20  -0.1  +0.1  +0.0  -0.0  +0.1  -0.2  +0.0  +0.1  -0.1  +0.1  -0.0  +0.0  -0.0  -0.0  -0.1  +1.0\n"
     ]
    }
   ],
   "source": [
    "print(\"K-Gaia\")\n",
    "print_vsh_result(output_k1[\"pmt2\"]*1e3, output_k1[\"sig2\"]*1e3, output_k1[\"cor2\"])"
   ]
  },
  {
   "cell_type": "code",
   "execution_count": 27,
   "metadata": {
    "ExecuteTime": {
     "end_time": "2021-03-08T13:57:25.417080Z",
     "start_time": "2021-03-08T13:57:25.410450Z"
    }
   },
   "outputs": [
    {
     "name": "stdout",
     "output_type": "stream",
     "text": [
      "X/Ka-Gaia\n",
      "VSH parameter Estimate Error\n",
      "                uas     uas \n",
      "------------- -------- -----\n",
      "           D1      -13    31\n",
      "           D2       32    30\n",
      "           D3     -205    30\n",
      "           R1      -33    32\n",
      "           R2      -21    31\n",
      "           R3       10    27\n",
      "         E22R        0    17\n",
      "         E22I        3    17\n",
      "         E21R      -25    37\n",
      "         E21I       50    38\n",
      "          E20       79    40\n",
      "         M22R        4    19\n",
      "         M22I      -12    19\n",
      "         M21R       45    37\n",
      "         M21I       49    37\n",
      "          M20      153    35\n",
      "\n",
      "Correlation coefficient\n",
      "---------------------------------------------------------\n",
      "          D1    D2    D3    R1    R2    R3  E22R  E22I  E21R  E21I   E20  M22R  M22I  M21R  M21I   M20\n",
      "    D1  +1.0\n",
      "    D2  -0.0  +1.0\n",
      "    D3  -0.0  +0.0  +1.0\n",
      "    R1  +0.1  +0.2  -0.1  +1.0\n",
      "    R2  -0.3  +0.1  +0.0  -0.0  +1.0\n",
      "    R3  +0.1  -0.0  -0.2  -0.1  -0.1  +1.0\n",
      "  E22R  +0.1  +0.1  -0.1  +0.0  +0.1  -0.1  +1.0\n",
      "  E22I  +0.1  -0.0  -0.0  +0.1  -0.0  +0.2  -0.0  +1.0\n",
      "  E21R  +0.2  +0.1  +0.1  -0.0  -0.2  +0.0  -0.1  +0.1  +1.0\n",
      "  E21I  +0.1  -0.1  -0.1  -0.1  -0.0  +0.1  -0.0  -0.0  +0.0  +1.0\n",
      "   E20  -0.1  +0.0  -0.3  -0.0  -0.1  +0.1  +0.0  +0.0  -0.0  +0.0  +1.0\n",
      "  M22R  -0.0  -0.1  +0.1  +0.1  +0.1  -0.1  +0.2  -0.2  -0.0  -0.0  +0.0  +1.0\n",
      "  M22I  -0.1  +0.0  -0.2  +0.1  -0.0  -0.0  +0.2  +0.2  +0.1  +0.0  +0.1  -0.0  +1.0\n",
      "  M21R  +0.0  +0.4  -0.0  +0.1  -0.1  +0.1  -0.0  -0.1  -0.1  +0.1  +0.1  -0.1  -0.0  +1.0\n",
      "  M21I  +0.2  +0.0  -0.1  -0.1  -0.1  -0.1  +0.1  -0.1  -0.0  -0.1  -0.1  +0.1  +0.0  -0.0  +1.0\n",
      "   M20  -0.1  +0.2  +0.0  -0.1  +0.1  -0.3  +0.0  -0.0  -0.1  +0.2  -0.1  +0.1  +0.0  -0.0  +0.0  +1.0\n"
     ]
    }
   ],
   "source": [
    "print(\"X/Ka-Gaia\")\n",
    "print_vsh_result(output_ka1[\"pmt2\"]*1e3, output_ka1[\"sig2\"]*1e3, output_ka1[\"cor2\"])"
   ]
  }
 ],
 "metadata": {
  "hide_input": false,
  "kernelspec": {
   "display_name": "Python 3",
   "language": "python",
   "name": "python3"
  },
  "language_info": {
   "codemirror_mode": {
    "name": "ipython",
    "version": 3
   },
   "file_extension": ".py",
   "mimetype": "text/x-python",
   "name": "python",
   "nbconvert_exporter": "python",
   "pygments_lexer": "ipython3",
   "version": "3.8.3"
  }
 },
 "nbformat": 4,
 "nbformat_minor": 4
}
