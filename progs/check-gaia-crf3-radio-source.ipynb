{
 "cells": [
  {
   "cell_type": "code",
   "execution_count": 1,
   "metadata": {
    "ExecuteTime": {
     "end_time": "2020-12-18T05:08:06.273251Z",
     "start_time": "2020-12-18T05:08:05.745299Z"
    }
   },
   "outputs": [],
   "source": [
    "import numpy as np\n",
    "from astropy.table import Table, join, setdiff"
   ]
  },
  {
   "cell_type": "code",
   "execution_count": 2,
   "metadata": {
    "ExecuteTime": {
     "end_time": "2020-12-18T05:08:07.592311Z",
     "start_time": "2020-12-18T05:08:06.275422Z"
    }
   },
   "outputs": [
    {
     "name": "stdout",
     "output_type": "stream",
     "text": [
      "There are 3181 ICRF3 sources in EDR3:\n",
      "SX:  3142\n",
      "K:   24\n",
      "XKa: 15\n"
     ]
    }
   ],
   "source": [
    "gedr3_agn = Table.read(\"/Users/Neo/Astronomy/data/catalogs/gaia/edr3/gedr3_agn.fits\")\n",
    "\n",
    "mask1 = (gedr3_agn['catalogue_name'] == 'ICRF3 S/X                                 ')\n",
    "mask2 = (gedr3_agn['catalogue_name'] == 'ICRF3 K                                   ')\n",
    "mask3 = (gedr3_agn['catalogue_name'] == 'ICRF3 X/Ka                                ')\n",
    "mask = (mask1 | mask2 | mask3)\n",
    "gedr3_source = gedr3_agn[mask]\n",
    "\n",
    "print(\"There are {} ICRF3 sources in EDR3:\".format(len(gedr3_source)))\n",
    "print(\"SX:  {}\".format(len(np.nonzero(mask1)[0])))\n",
    "print(\"K:   {}\".format(len(np.nonzero(mask2)[0])))\n",
    "print(\"XKa: {}\".format(len(np.nonzero(mask3)[0])))"
   ]
  },
  {
   "cell_type": "code",
   "execution_count": 3,
   "metadata": {
    "ExecuteTime": {
     "end_time": "2020-12-18T05:08:08.036655Z",
     "start_time": "2020-12-18T05:08:07.595425Z"
    }
   },
   "outputs": [],
   "source": [
    "gcrf3_sou = Table.read('/Users/Neo/Astronomy/data/catalogs/gaia/edr3/gedr3_frame_rotator_source.fits')\n",
    "\n",
    "gcrf3_source = gcrf3_sou[gcrf3_sou['considered_for_reference_frame_orientation']]\n",
    "gcrf3_source = gcrf3_source['source_id', \n",
    "                           'considered_for_reference_frame_orientation',\n",
    "                           'used_for_reference_frame_orientation',\n",
    "                           'considered_for_reference_frame_spin',\n",
    "                           'used_for_reference_frame_spin']"
   ]
  },
  {
   "cell_type": "code",
   "execution_count": 4,
   "metadata": {
    "ExecuteTime": {
     "end_time": "2020-12-18T05:08:08.092533Z",
     "start_time": "2020-12-18T05:08:08.040033Z"
    }
   },
   "outputs": [
    {
     "name": "stderr",
     "output_type": "stream",
     "text": [
      "WARNING: MergeConflictWarning: Cannot merge meta key 'EXTNAME' types <class 'str'> and <class 'str'>, choosing EXTNAME='Joined' [astropy.utils.metadata]\n",
      "WARNING: MergeConflictWarning: Cannot merge meta key 'TCOMM100' types <class 'str'> and <class 'str'>, choosing TCOMM100='Considered for the reference frame orientation' [astropy.utils.metadata]\n",
      "WARNING: MergeConflictWarning: Cannot merge meta key 'TUCD100' types <class 'str'> and <class 'str'>, choosing TUCD100='meta.code' [astropy.utils.metadata]\n",
      "WARNING: MergeConflictWarning: Cannot merge meta key 'TCOMM101' types <class 'str'> and <class 'str'>, choosing TCOMM101='Used for the reference frame orientation' [astropy.utils.metadata]\n",
      "WARNING: MergeConflictWarning: Cannot merge meta key 'TUCD101' types <class 'str'> and <class 'str'>, choosing TUCD101='meta.code' [astropy.utils.metadata]\n",
      "WARNING: MergeConflictWarning: Cannot merge meta key 'DATE-HDU' types <class 'str'> and <class 'str'>, choosing DATE-HDU='2020-12-08T07:57:35' [astropy.utils.metadata]\n"
     ]
    }
   ],
   "source": [
    "gcrf3_icrf3_source = join(gedr3_source, gcrf3_source, keys='source_id', join_type='left')"
   ]
  },
  {
   "cell_type": "code",
   "execution_count": 5,
   "metadata": {
    "ExecuteTime": {
     "end_time": "2020-12-18T05:08:08.101088Z",
     "start_time": "2020-12-18T05:08:08.094951Z"
    }
   },
   "outputs": [],
   "source": [
    "tmp = gcrf3_icrf3_source['considered_for_reference_frame_orientation'].filled(False)\n",
    "gcrf3_icrf3_source['considered_for_reference_frame_orientation'] = tmp\n",
    "\n",
    "tmp = gcrf3_icrf3_source['used_for_reference_frame_orientation'].filled(False)\n",
    "gcrf3_icrf3_source['used_for_reference_frame_orientation'] = tmp\n",
    "\n",
    "tmp = gcrf3_icrf3_source['considered_for_reference_frame_spin'].filled(False)\n",
    "gcrf3_icrf3_source['considered_for_reference_frame_spin'] = tmp\n",
    "\n",
    "tmp = gcrf3_icrf3_source['used_for_reference_frame_spin'].filled(False)\n",
    "gcrf3_icrf3_source['used_for_reference_frame_spin'] = tmp"
   ]
  },
  {
   "cell_type": "code",
   "execution_count": 6,
   "metadata": {
    "ExecuteTime": {
     "end_time": "2020-12-18T05:08:09.587386Z",
     "start_time": "2020-12-18T05:08:08.104110Z"
    }
   },
   "outputs": [],
   "source": [
    "# Find their ICRF name\n",
    "from my_progs.catalog.read_icrf import read_icrf3\n",
    "from astropy.table import Column\n",
    "\n",
    "icrf3sx = read_icrf3(wv=\"sx\")\n",
    "sx_sou_name_i = icrf3sx['icrf_name', 'iers_name']\n",
    "sx_sou_name_i.add_column(sx_sou_name_i['icrf_name'],\n",
    "                         name=\"crossmatch_name\")\n",
    "\n",
    "icrf3k = read_icrf3(wv=\"k\")\n",
    "k_sou_name_i = icrf3k['icrf_name', 'iers_name']\n",
    "k_sou_name_i.add_column(k_sou_name_i['icrf_name'],\n",
    "                         name=\"crossmatch_name\")\n",
    "\n",
    "icrf3xka = read_icrf3(wv=\"xka\")\n",
    "xka_sou_name_i = icrf3xka['icrf_name', 'iers_name']\n",
    "xka_sou_name_i.add_column(xka_sou_name_i['icrf_name'],\n",
    "                         name=\"crossmatch_name\")\n",
    "\n",
    "sou_name = join(sx_sou_name_i, k_sou_name_i, join_type='outer')\n",
    "sou_name = join(sou_name, xka_sou_name_i, join_type='outer')"
   ]
  },
  {
   "cell_type": "code",
   "execution_count": 7,
   "metadata": {
    "ExecuteTime": {
     "end_time": "2020-12-18T05:08:09.646086Z",
     "start_time": "2020-12-18T05:08:09.589924Z"
    }
   },
   "outputs": [],
   "source": [
    "sou_name_g = [sou_namei.strip() for sou_namei in gcrf3_icrf3_source['source_name_in_catalogue']]\n",
    "\n",
    "gcrf3_icrf3_source.add_column(Column(sou_name_g),\n",
    "                              name='crossmatch_name')"
   ]
  },
  {
   "cell_type": "code",
   "execution_count": 8,
   "metadata": {
    "ExecuteTime": {
     "end_time": "2020-12-18T05:08:09.690512Z",
     "start_time": "2020-12-18T05:08:09.650475Z"
    }
   },
   "outputs": [],
   "source": [
    "gcrf3_icrf3_source = join(gcrf3_icrf3_source, sou_name, \n",
    "                          keys='crossmatch_name')\n",
    "gcrf3_icrf3_source.remove_column('crossmatch_name')"
   ]
  },
  {
   "cell_type": "code",
   "execution_count": 9,
   "metadata": {
    "ExecuteTime": {
     "end_time": "2020-12-18T05:08:09.714471Z",
     "start_time": "2020-12-18T05:08:09.693121Z"
    }
   },
   "outputs": [
    {
     "data": {
      "text/plain": [
       "2301"
      ]
     },
     "execution_count": 9,
     "metadata": {},
     "output_type": "execute_result"
    }
   ],
   "source": [
    "mask = (gcrf3_icrf3_source['astrometric_params_solved'] == 31)\n",
    "\n",
    "len(gcrf3_icrf3_source[mask])"
   ]
  },
  {
   "cell_type": "code",
   "execution_count": 10,
   "metadata": {
    "ExecuteTime": {
     "end_time": "2020-12-18T05:08:09.735961Z",
     "start_time": "2020-12-18T05:08:09.716714Z"
    }
   },
   "outputs": [
    {
     "data": {
      "text/plain": [
       "880"
      ]
     },
     "execution_count": 10,
     "metadata": {},
     "output_type": "execute_result"
    }
   ],
   "source": [
    "mask = (gcrf3_icrf3_source['astrometric_params_solved'] == 95)\n",
    "\n",
    "len(gcrf3_icrf3_source[mask])"
   ]
  },
  {
   "cell_type": "code",
   "execution_count": 11,
   "metadata": {
    "ExecuteTime": {
     "end_time": "2020-12-18T05:08:09.758767Z",
     "start_time": "2020-12-18T05:08:09.739866Z"
    }
   },
   "outputs": [
    {
     "data": {
      "text/plain": [
       "0"
      ]
     },
     "execution_count": 11,
     "metadata": {},
     "output_type": "execute_result"
    }
   ],
   "source": [
    "mask = (gcrf3_icrf3_source['astrometric_params_solved'] == 2)\n",
    "\n",
    "len(gcrf3_icrf3_source[mask])"
   ]
  },
  {
   "cell_type": "code",
   "execution_count": 12,
   "metadata": {
    "ExecuteTime": {
     "end_time": "2020-12-18T05:08:09.780097Z",
     "start_time": "2020-12-18T05:08:09.761091Z"
    }
   },
   "outputs": [
    {
     "data": {
      "text/plain": [
       "2007"
      ]
     },
     "execution_count": 12,
     "metadata": {},
     "output_type": "execute_result"
    }
   ],
   "source": [
    "mask = gcrf3_icrf3_source['used_for_reference_frame_orientation']\n",
    "\n",
    "len(gcrf3_icrf3_source[mask])"
   ]
  },
  {
   "cell_type": "code",
   "execution_count": 13,
   "metadata": {
    "ExecuteTime": {
     "end_time": "2020-12-18T05:08:09.800739Z",
     "start_time": "2020-12-18T05:08:09.782735Z"
    }
   },
   "outputs": [
    {
     "data": {
      "text/plain": [
       "2269"
      ]
     },
     "execution_count": 13,
     "metadata": {},
     "output_type": "execute_result"
    }
   ],
   "source": [
    "mask = gcrf3_icrf3_source['considered_for_reference_frame_orientation']\n",
    "\n",
    "len(gcrf3_icrf3_source[mask])"
   ]
  },
  {
   "cell_type": "code",
   "execution_count": 14,
   "metadata": {
    "ExecuteTime": {
     "end_time": "2020-12-18T05:08:10.014857Z",
     "start_time": "2020-12-18T05:08:09.803353Z"
    }
   },
   "outputs": [
    {
     "name": "stderr",
     "output_type": "stream",
     "text": [
      "WARNING: UnitsWarning: ''electron'.s**-1' did not parse as fits unit: At col 0, Unit ''electron'' not supported by the FITS standard.  If this is meant to be a custom unit, define it with 'u.def_unit'. To have it recognized inside a file reader or other code, enable it with 'u.add_enabled_units'. For details, see http://docs.astropy.org/en/latest/units/combining_and_defining.html [astropy.units.core]\n",
      "WARNING: UnitsWarning: 'log(cm.s**-2)' did not parse as fits unit: 'log' is not a recognized function If this is meant to be a custom unit, define it with 'u.def_unit'. To have it recognized inside a file reader or other code, enable it with 'u.add_enabled_units'. For details, see http://docs.astropy.org/en/latest/units/combining_and_defining.html [astropy.units.core]\n",
      "WARNING: UnitsWarning: 'dex' did not parse as fits unit: At col 0, Unit 'dex' not supported by the FITS standard.  If this is meant to be a custom unit, define it with 'u.def_unit'. To have it recognized inside a file reader or other code, enable it with 'u.add_enabled_units'. For details, see http://docs.astropy.org/en/latest/units/combining_and_defining.html [astropy.units.core]\n"
     ]
    }
   ],
   "source": [
    "gcrf3_icrf3_source.write('/Users/Neo/Astronomy/data/catalogs/gaia/edr3/gaia_edr3_icrf3_source.fits',\n",
    "                         overwrite=True)"
   ]
  },
  {
   "cell_type": "code",
   "execution_count": 15,
   "metadata": {
    "ExecuteTime": {
     "end_time": "2020-12-18T05:08:10.023768Z",
     "start_time": "2020-12-18T05:08:10.016942Z"
    }
   },
   "outputs": [
    {
     "name": "stdout",
     "output_type": "stream",
     "text": [
      "There are 3181 ICRF3 sources in EDR3:\n",
      "SX:  3142\n",
      "K:   24\n",
      "XKa: 15\n"
     ]
    }
   ],
   "source": [
    "mask1 = (gcrf3_icrf3_source['catalogue_name'] == 'ICRF3 S/X                                 ')\n",
    "mask2 = (gcrf3_icrf3_source['catalogue_name'] == 'ICRF3 K                                   ')\n",
    "mask3 = (gcrf3_icrf3_source['catalogue_name'] == 'ICRF3 X/Ka                                ')\n",
    "\n",
    "print(\"There are {} ICRF3 sources in EDR3:\".format(len(gcrf3_icrf3_source)))\n",
    "print(\"SX:  {}\".format(len(np.nonzero(mask1)[0])))\n",
    "print(\"K:   {}\".format(len(np.nonzero(mask2)[0])))\n",
    "print(\"XKa: {}\".format(len(np.nonzero(mask3)[0])))"
   ]
  }
 ],
 "metadata": {
  "hide_input": false,
  "kernelspec": {
   "display_name": "Python 3",
   "language": "python",
   "name": "python3"
  },
  "language_info": {
   "codemirror_mode": {
    "name": "ipython",
    "version": 3
   },
   "file_extension": ".py",
   "mimetype": "text/x-python",
   "name": "python",
   "nbconvert_exporter": "python",
   "pygments_lexer": "ipython3",
   "version": "3.7.9"
  }
 },
 "nbformat": 4,
 "nbformat_minor": 4
}
