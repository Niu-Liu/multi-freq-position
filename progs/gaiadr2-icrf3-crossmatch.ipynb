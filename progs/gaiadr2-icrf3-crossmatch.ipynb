{
 "cells": [
  {
   "cell_type": "markdown",
   "metadata": {},
   "source": [
    "This notebook includes the main procedures of cross-match between ICRF3 and Gaia-DR2 catalogs."
   ]
  },
  {
   "cell_type": "code",
   "execution_count": 1,
   "metadata": {
    "ExecuteTime": {
     "end_time": "2021-03-05T04:48:16.426869Z",
     "start_time": "2021-03-05T04:48:15.379846Z"
    }
   },
   "outputs": [],
   "source": [
    "import time\n",
    "import numpy as np\n",
    "from astropy.table import Table, join, Column\n",
    "from astropy import units as u\n",
    "\n",
    "# My progs\n",
    "from my_progs.catalog.read_icrf import read_icrf3\n",
    "from my_progs.catalog.read_gaia import read_dr2_iers\n",
    "from my_progs.catalog.pos_diff import radio_cat_diff_calc"
   ]
  },
  {
   "cell_type": "markdown",
   "metadata": {},
   "source": [
    "Get the Gaia DR2 data."
   ]
  },
  {
   "cell_type": "code",
   "execution_count": 2,
   "metadata": {
    "ExecuteTime": {
     "end_time": "2021-03-05T04:48:16.684468Z",
     "start_time": "2021-03-05T04:48:16.430785Z"
    }
   },
   "outputs": [],
   "source": [
    "gdr2 = read_dr2_iers()\n",
    "\n",
    "gdr2_sou = Table(gdr2)\n",
    "gdr2_sou.keep_columns([\"iers_name\"])"
   ]
  },
  {
   "cell_type": "markdown",
   "metadata": {},
   "source": [
    "Crossmatch with ICRF3 S/X catalog."
   ]
  },
  {
   "cell_type": "code",
   "execution_count": 3,
   "metadata": {
    "ExecuteTime": {
     "end_time": "2021-03-05T04:48:18.419281Z",
     "start_time": "2021-03-05T04:48:16.687496Z"
    }
   },
   "outputs": [],
   "source": [
    "icrf3sx = read_icrf3(wv=\"sx\")\n",
    "icrf3k = read_icrf3(wv=\"k\")\n",
    "icrf3xka = read_icrf3(wv=\"xka\")\n",
    "\n",
    "icrf3sx_sou = Table(icrf3sx)\n",
    "icrf3k_sou = Table(icrf3k)\n",
    "icrf3xka_sou = Table(icrf3xka)\n",
    "\n",
    "icrf3sx_sou.keep_columns([\"iers_name\"])\n",
    "icrf3k_sou.keep_columns([\"iers_name\"])\n",
    "icrf3xka_sou.keep_columns([\"iers_name\"])"
   ]
  },
  {
   "cell_type": "code",
   "execution_count": 4,
   "metadata": {
    "ExecuteTime": {
     "end_time": "2021-03-05T04:48:18.439217Z",
     "start_time": "2021-03-05T04:48:18.421887Z"
    }
   },
   "outputs": [],
   "source": [
    "temp1 = join(icrf3sx_sou, gdr2_sou, keys=\"iers_name\")\n",
    "\n",
    "temp2 = join(icrf3k_sou, icrf3xka_sou, keys=\"iers_name\")\n",
    "\n",
    "com_list = join(temp1, temp2, keys=\"iers_name\")"
   ]
  },
  {
   "cell_type": "code",
   "execution_count": 5,
   "metadata": {
    "ExecuteTime": {
     "end_time": "2021-03-05T04:48:18.447174Z",
     "start_time": "2021-03-05T04:48:18.441652Z"
    }
   },
   "outputs": [],
   "source": [
    "com_list.meta[\"comments\"] = [\n",
    "    \"List of {} common sources between ICRF3 (all 3 bands) and Gaia-CRF2\".\n",
    "    format(len(com_list)), \"Created at {}\".format(time.asctime())\n",
    "]\n",
    "com_list.write(\"../data/com-sou-list-DR2.txt\", format=\"ascii\", overwrite=True)"
   ]
  },
  {
   "cell_type": "code",
   "execution_count": 6,
   "metadata": {
    "ExecuteTime": {
     "end_time": "2021-03-05T04:48:19.011057Z",
     "start_time": "2021-03-05T04:48:18.449226Z"
    }
   },
   "outputs": [],
   "source": [
    "pos_oft = radio_cat_diff_calc(icrf3sx, gdr2, sou_name=\"iers_name\")\n",
    "pos_oft.remove_columns(['ra_err_1', 'dec_err_1', 'ra', 'ra_err_2', 'dec', 'dec_err_2'])\n",
    "\n",
    "pos_oft1 = radio_cat_diff_calc(gdr2, icrf3sx, sou_name=\"iers_name\")\n",
    "pos_oft1.remove_columns(['ra_err_1', 'dec_err_1', 'ra', 'ra_err_2', 'dec', 'dec_err_2'])"
   ]
  },
  {
   "cell_type": "code",
   "execution_count": 7,
   "metadata": {
    "ExecuteTime": {
     "end_time": "2021-03-05T04:48:19.064143Z",
     "start_time": "2021-03-05T04:48:19.014793Z"
    }
   },
   "outputs": [],
   "source": [
    "gdr2_icrf3sx = join(gdr2, icrf3sx, keys='iers_name', table_names=['gdr2', 'icrf3sx'])\n",
    "gdr2_icrf3sx_oft = join(gdr2_icrf3sx, pos_oft, keys='iers_name')\n",
    "\n",
    "gdr2_icrf3sx_oft.rename_columns(['ra_gdr2', 'dec_gdr2'],\n",
    "                                 ['ra', 'dec'])"
   ]
  },
  {
   "cell_type": "code",
   "execution_count": 8,
   "metadata": {
    "ExecuteTime": {
     "end_time": "2021-03-05T04:48:19.093752Z",
     "start_time": "2021-03-05T04:48:19.066746Z"
    }
   },
   "outputs": [],
   "source": [
    "icrf3sx_gdr2_oft = join(gdr2_icrf3sx, pos_oft1, keys='iers_name')\n",
    "icrf3sx_gdr2_oft.rename_columns(['ra_icrf3sx', 'dec_icrf3sx'],\n",
    "                                 ['ra', 'dec'])"
   ]
  },
  {
   "cell_type": "code",
   "execution_count": 9,
   "metadata": {
    "ExecuteTime": {
     "end_time": "2021-03-05T04:48:19.407414Z",
     "start_time": "2021-03-05T04:48:19.096649Z"
    }
   },
   "outputs": [],
   "source": [
    "gdr2_icrf3sx_oft.write('../data/icrf3sx_gdr2.fits', overwrite=True)\n",
    "icrf3sx_gdr2_oft.write('../data/gdr2_icrf3sx.fits', overwrite=True)"
   ]
  },
  {
   "cell_type": "code",
   "execution_count": 10,
   "metadata": {
    "ExecuteTime": {
     "end_time": "2021-03-05T04:48:19.932131Z",
     "start_time": "2021-03-05T04:48:19.413977Z"
    }
   },
   "outputs": [],
   "source": [
    "icrf3k = read_icrf3(wv=\"k\")\n",
    "\n",
    "pos_oft = radio_cat_diff_calc(icrf3k, gdr2, sou_name=\"iers_name\")\n",
    "pos_oft.remove_columns(['ra_err_1', 'dec_err_1', 'ra',\n",
    "                        'ra_err_2', 'dec', 'dec_err_2'])\n",
    "\n",
    "gdr2_icrf3k = join(gdr2, icrf3k, keys='iers_name',\n",
    "                    table_names=['gdr2', 'icrf3k'])\n",
    "gdr2_icrf3k_oft = join(gdr2_icrf3k, pos_oft, keys='iers_name')\n",
    "gdr2_icrf3k_oft.rename_columns(['ra_gdr2', 'dec_gdr2'],\n",
    "                                ['ra', 'dec'])\n",
    "\n",
    "gdr2_icrf3k_oft.write('../data/icrf3k_gdr2.fits', overwrite=True)"
   ]
  },
  {
   "cell_type": "code",
   "execution_count": 11,
   "metadata": {
    "ExecuteTime": {
     "end_time": "2021-03-05T04:48:20.414154Z",
     "start_time": "2021-03-05T04:48:19.934302Z"
    }
   },
   "outputs": [],
   "source": [
    "icrf3xka = read_icrf3(wv=\"xka\")\n",
    "\n",
    "pos_oft = radio_cat_diff_calc(icrf3xka, gdr2, sou_name=\"iers_name\")\n",
    "pos_oft.remove_columns(['ra_err_1', 'dec_err_1', 'ra',\n",
    "                        'ra_err_2', 'dec', 'dec_err_2'])\n",
    "\n",
    "gdr2_icrf3xka = join(gdr2, icrf3xka, keys='iers_name',\n",
    "                      table_names=['gdr2', 'icrf3xka'])\n",
    "gdr2_icrf3xka_oft = join(gdr2_icrf3xka, pos_oft, keys='iers_name')\n",
    "\n",
    "gdr2_icrf3xka_oft.rename_columns(['ra_gdr2', 'dec_gdr2'],\n",
    "                                  ['ra', 'dec'])\n",
    "\n",
    "gdr2_icrf3xka_oft.write('../data/icrf3xka_gdr2.fits', overwrite=True)"
   ]
  }
 ],
 "metadata": {
  "hide_input": false,
  "kernelspec": {
   "display_name": "Python 3",
   "language": "python",
   "name": "python3"
  },
  "language_info": {
   "codemirror_mode": {
    "name": "ipython",
    "version": 3
   },
   "file_extension": ".py",
   "mimetype": "text/x-python",
   "name": "python",
   "nbconvert_exporter": "python",
   "pygments_lexer": "ipython3",
   "version": "3.7.10"
  },
  "varInspector": {
   "cols": {
    "lenName": 16,
    "lenType": 16,
    "lenVar": 40
   },
   "kernels_config": {
    "python": {
     "delete_cmd_postfix": "",
     "delete_cmd_prefix": "del ",
     "library": "var_list.py",
     "varRefreshCmd": "print(var_dic_list())"
    },
    "r": {
     "delete_cmd_postfix": ") ",
     "delete_cmd_prefix": "rm(",
     "library": "var_list.r",
     "varRefreshCmd": "cat(var_dic_list()) "
    }
   },
   "types_to_exclude": [
    "module",
    "function",
    "builtin_function_or_method",
    "instance",
    "_Feature"
   ],
   "window_display": false
  }
 },
 "nbformat": 4,
 "nbformat_minor": 4
}
