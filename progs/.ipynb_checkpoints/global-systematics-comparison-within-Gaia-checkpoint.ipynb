{
 "cells": [
  {
   "cell_type": "markdown",
   "metadata": {},
   "source": [
    "In this notebook I will compare the VSH parameters obtained from different samples.\n",
    "\n",
    "The reference catalog is set to be the Gaia-CRF2 subset."
   ]
  },
  {
   "cell_type": "code",
   "execution_count": 1,
   "metadata": {},
   "outputs": [],
   "source": [
    "from astropy.table import Table, join, Column\n",
    "import matplotlib.pyplot as plt\n",
    "from matplotlib.ticker import MultipleLocator\n",
    "import numpy as np"
   ]
  },
  {
   "cell_type": "markdown",
   "metadata": {},
   "source": [
    "# 1 ICRF3 SX vs. Gaia-CRF2"
   ]
  },
  {
   "cell_type": "code",
   "execution_count": 2,
   "metadata": {},
   "outputs": [],
   "source": [
    "vsh01x2gall = Table.read(\"../logs/icrf3_sx_gaia_vsh01_all.log\", format=\"ascii\")\n",
    "vsh01x2gcln = Table.read(\"../logs/icrf3_sx_gaia_vsh01_cln.log\", format=\"ascii\")\n",
    "vsh01x2gcom = Table.read(\"../logs/icrf3_sx_gaia_vsh01_com.log\", format=\"ascii\")\n",
    "vsh01x2gccl = Table.read(\"../logs/icrf3_ka_sx_vsh01_ccl.log\", format=\"ascii\")\n",
    "\n",
    "vsh02x2gall = Table.read(\"../logs/icrf3_sx_gaia_vsh02_all.log\", format=\"ascii\")\n",
    "vsh02x2gcln = Table.read(\"../logs/icrf3_sx_gaia_vsh02_cln.log\", format=\"ascii\")\n",
    "vsh02x2gcom = Table.read(\"../logs/icrf3_sx_gaia_vsh02_com.log\", format=\"ascii\")\n",
    "vsh02x2gccl = Table.read(\"../logs/icrf3_sx_gaia_vsh02_ccl.log\", format=\"ascii\")"
   ]
  },
  {
   "cell_type": "code",
   "execution_count": 3,
   "metadata": {},
   "outputs": [],
   "source": [
    "names = [\"$D_1$\", \"$D_2$\", \"$D_3$\", \"$R_1$\", \"$R_2$\", \"$R_3$\"]\n",
    "\n",
    "labels = [\"All-01\", \"All-02\", \"Clean-01\", \"Clean-02\",\n",
    "          \"Com-01\", \"Com-02\", \"ComCln-01\", \"ComCln-02\"]\n",
    "\n",
    "estimates = np.array([vsh01x2gall[\"Estimate\"],\n",
    "                      vsh02x2gall[\"Estimate\"][:6],\n",
    "                      vsh01x2gcln[\"Estimate\"],\n",
    "                      vsh02x2gcln[\"Estimate\"][:6],\n",
    "                      vsh01x2gcom[\"Estimate\"],\n",
    "                      vsh02x2gcom[\"Estimate\"][:6],\n",
    "                      vsh01x2gccl[\"Estimate\"],\n",
    "                      vsh02x2gccl[\"Estimate\"][:6]])\n",
    "\n",
    "errors = np.array([vsh01x2gall[\"Error\"],\n",
    "                   vsh02x2gall[\"Error\"][:6],\n",
    "                   vsh01x2gcln[\"Error\"],\n",
    "                   vsh02x2gcln[\"Error\"][:6],\n",
    "                   vsh01x2gcom[\"Error\"],\n",
    "                   vsh02x2gcom[\"Error\"][:6],\n",
    "                   vsh01x2gccl[\"Error\"],\n",
    "                   vsh02x2gccl[\"Error\"][:6]])\n",
    "\n",
    "heights = 2 * errors\n",
    "bottoms = estimates - errors\n",
    "\n",
    "num = len(names)\n",
    "width = 0.2\n",
    "loc = np.arange(num) * 2\n",
    "locs = [loc + width * (i+1) for i in range(len(labels))]\n",
    "\n",
    "colors = [\"r\", \"b\", \"y\", \"m\"]"
   ]
  },
  {
   "cell_type": "code",
   "execution_count": 4,
   "metadata": {},
   "outputs": [
    {
     "data": {
      "image/png": "[encoded data removed]",
      "text/plain": [
       "<Figure size 432x288 with 1 Axes>"
      ]
     },
     "metadata": {
      "needs_background": "light"
     },
     "output_type": "display_data"
    }
   ],
   "source": [
    "fig, ax = plt.subplots()\n",
    "\n",
    "for i, colori in enumerate(colors):\n",
    "    ax.bar(locs[2*i], heights[2*i], fill=False,\n",
    "           bottom=bottoms[2*i], edgecolor=colori,\n",
    "           width=width, align=\"edge\", label=labels[2*i], hatch=\"///\")\n",
    "    ax.bar(locs[2*i+1], heights[2*i+1], fill=False,\n",
    "           bottom=bottoms[2*i+1], edgecolor=colori,\n",
    "           width=width, align=\"edge\", label=labels[2*i+1], hatch=\"\\\\\\\\\\\\\")\n",
    "    ax.hlines(estimates[2*i], locs[2*i], locs[2*i]+width)\n",
    "    ax.hlines(estimates[2*i+1], locs[2*i+1], locs[2*i+1]+width)\n",
    "\n",
    "ax.legend(fontsize=\"x-small\")\n",
    "\n",
    "ax.set_xticks(loc+1)\n",
    "ax.set_xticklabels(names)\n",
    "\n",
    "ax.xaxis.set_minor_locator(MultipleLocator(1))\n",
    "ax.xaxis.grid(True, which=\"Minor\")\n",
    "\n",
    "ax.set_xlim([0, 12])\n",
    "ax.set_ylim([-259, 130])\n",
    "\n",
    "ax.set_xlabel(\"Gaia$-$SX\")\n",
    "ax.set_ylabel(\"$\\mu as$\")\n",
    "\n",
    "plt.tight_layout()"
   ]
  },
  {
   "cell_type": "markdown",
   "metadata": {},
   "source": [
    "The model difference affect the determination of $D_3$ and $R_3$ for the common clean sample.\n",
    "\n",
    "It is better to use VSH02 fit rather than VSH01.\n",
    "\n",
    "The differences in solutions with and without removal of outliers are significant."
   ]
  },
  {
   "cell_type": "code",
   "execution_count": 5,
   "metadata": {},
   "outputs": [],
   "source": [
    "names = [\"$E_{22}^R$\", \"$E_{22}^I$\", \"$E_{21}^R$\", \"$E_{21}^I$\", \"$E_{20}$\",\n",
    "         \"$M_{22}^R$\", \"$M_{22}^I$\", \"$M_{21}^R$\", \"$M_{21}^I$\", \"$M_{20}$\"]\n",
    "\n",
    "labels = [\"All-02\", \"Clean-02\", \"Com-02\", \"ComCln-02\"]\n",
    "\n",
    "estimates = np.array([vsh02x2gall[\"Estimate\"][6:],\n",
    "                      vsh02x2gcln[\"Estimate\"][6:],\n",
    "                      vsh02x2gcom[\"Estimate\"][6:],\n",
    "                      vsh02x2gccl[\"Estimate\"][6:]])\n",
    "\n",
    "errors = np.array([vsh02x2gall[\"Error\"][6:],\n",
    "                   vsh02x2gcln[\"Error\"][6:],\n",
    "                   vsh02x2gcom[\"Error\"][6:],\n",
    "                   vsh02x2gccl[\"Error\"][6:]])\n",
    "\n",
    "heights = 2 * errors\n",
    "bottoms = estimates - errors\n",
    "\n",
    "num = len(names)\n",
    "width = 0.4\n",
    "loc = np.arange(num) * 2\n",
    "locs = [loc + width * (i+0.5) for i in range(len(labels))]\n",
    "\n",
    "colors = [\"r\", \"b\", \"y\", \"m\"]"
   ]
  },
  {
   "cell_type": "code",
   "execution_count": 6,
   "metadata": {},
   "outputs": [
    {
     "data": {
      "image/png": "[encoded data removed]",
      "text/plain": [
       "<Figure size 432x288 with 1 Axes>"
      ]
     },
     "metadata": {
      "needs_background": "light"
     },
     "output_type": "display_data"
    }
   ],
   "source": [
    "fig, ax = plt.subplots()\n",
    "\n",
    "for i, colori in enumerate(colors):\n",
    "    ax.bar(locs[i], heights[i], fill=False,\n",
    "           bottom=bottoms[i], edgecolor=colori,\n",
    "           width=width, align=\"edge\", label=labels[i], hatch=\"\\\\\\\\\\\\\")\n",
    "    ax.hlines(estimates[i], locs[i], locs[i]+width)\n",
    "\n",
    "ax.legend(fontsize=\"x-small\")\n",
    "\n",
    "ax.set_xticks(loc+1)\n",
    "ax.set_xticklabels(names)\n",
    "\n",
    "ax.xaxis.set_minor_locator(MultipleLocator(1))\n",
    "ax.xaxis.grid(True, which=\"Minor\")\n",
    "\n",
    "ax.xaxis.set_ticks_position(\"both\")\n",
    "ax.yaxis.set_ticks_position(\"both\")\n",
    "\n",
    "ax.set_xlim([0, 20])\n",
    "ax.set_ylim([-150, 250])\n",
    "\n",
    "ax.set_xlabel(\"Gaia$-$SX\")\n",
    "ax.set_ylabel(\"$\\mu as$\")\n",
    "\n",
    "plt.tight_layout()"
   ]
  },
  {
   "cell_type": "markdown",
   "metadata": {},
   "source": [
    "While the fittings based on the ``All``, ``Clean``, and ``Clean common`` samples agree well, except for $M_{21}^R$, the fitting from ``Common`` sample stands alone.\n",
    "\n",
    "As a result, this sample won't be used to derive the transformation parameters due to the limited sample size."
   ]
  },
  {
   "cell_type": "markdown",
   "metadata": {},
   "source": [
    "# 2. ICRF3 K vs. Gaia-CRF2"
   ]
  },
  {
   "cell_type": "code",
   "execution_count": 7,
   "metadata": {},
   "outputs": [],
   "source": [
    "vsh01k2gall = Table.read(\"../logs/icrf3_k_gaia_vsh01_all.log\", format=\"ascii\")\n",
    "vsh01k2gcln = Table.read(\"../logs/icrf3_k_gaia_vsh01_cln.log\", format=\"ascii\")\n",
    "vsh01k2gcom = Table.read(\"../logs/icrf3_k_gaia_vsh01_com.log\", format=\"ascii\")\n",
    "vsh01k2gccl = Table.read(\"../logs/icrf3_k_gaia_vsh01_ccl.log\", format=\"ascii\")\n",
    "\n",
    "vsh02k2gall = Table.read(\"../logs/icrf3_k_gaia_vsh02_all.log\", format=\"ascii\")\n",
    "vsh02k2gcln = Table.read(\"../logs/icrf3_k_gaia_vsh02_cln.log\", format=\"ascii\")\n",
    "vsh02k2gcom = Table.read(\"../logs/icrf3_k_gaia_vsh02_com.log\", format=\"ascii\")\n",
    "vsh02k2gccl = Table.read(\"../logs/icrf3_k_gaia_vsh02_ccl.log\", format=\"ascii\")"
   ]
  },
  {
   "cell_type": "code",
   "execution_count": 8,
   "metadata": {},
   "outputs": [],
   "source": [
    "names = [\"$D_1$\", \"$D_2$\", \"$D_3$\", \"$R_1$\", \"$R_2$\", \"$R_3$\"]\n",
    "\n",
    "labels = [\"All-01\", \"All-02\", \"Clean-01\", \"Clean-02\",\n",
    "          \"Com-01\", \"Com-02\", \"ComCln-01\", \"ComCln-02\"]\n",
    "\n",
    "estimates = np.array([vsh01k2gall[\"Estimate\"],\n",
    "                      vsh02k2gall[\"Estimate\"][:6],\n",
    "                      vsh01k2gcln[\"Estimate\"],\n",
    "                      vsh02k2gcln[\"Estimate\"][:6],\n",
    "                      vsh01k2gcom[\"Estimate\"],\n",
    "                      vsh02k2gcom[\"Estimate\"][:6],\n",
    "                      vsh01k2gccl[\"Estimate\"],\n",
    "                      vsh02k2gccl[\"Estimate\"][:6]])\n",
    "\n",
    "errors = np.array([vsh01k2gall[\"Error\"],\n",
    "                   vsh02k2gall[\"Error\"][:6],\n",
    "                   vsh01k2gcln[\"Error\"],\n",
    "                   vsh02k2gcln[\"Error\"][:6],\n",
    "                   vsh01k2gcom[\"Error\"],\n",
    "                   vsh02k2gcom[\"Error\"][:6],\n",
    "                   vsh01k2gccl[\"Error\"],\n",
    "                   vsh02k2gccl[\"Error\"][:6]])\n",
    "\n",
    "heights = 2 * errors\n",
    "bottoms = estimates - errors\n",
    "\n",
    "num = len(names)\n",
    "width = 0.2\n",
    "loc = np.arange(num) * 2\n",
    "locs = [loc + width * (i+1) for i in range(len(labels))]\n",
    "\n",
    "colors = [\"r\", \"b\", \"y\", \"m\"]"
   ]
  },
  {
   "cell_type": "code",
   "execution_count": 9,
   "metadata": {},
   "outputs": [
    {
     "data": {
      "image/png": "[encoded data removed]",
      "text/plain": [
       "<Figure size 432x288 with 1 Axes>"
      ]
     },
     "metadata": {
      "needs_background": "light"
     },
     "output_type": "display_data"
    }
   ],
   "source": [
    "fig, ax = plt.subplots()\n",
    "\n",
    "for i, colori in enumerate(colors):\n",
    "    ax.bar(locs[2*i], heights[2*i], fill=False,\n",
    "           bottom=bottoms[2*i], edgecolor=colori,\n",
    "           width=width, align=\"edge\", label=labels[2*i], hatch=\"///\")\n",
    "    ax.bar(locs[2*i+1], heights[2*i+1], fill=False,\n",
    "           bottom=bottoms[2*i+1], edgecolor=colori,\n",
    "           width=width, align=\"edge\", label=labels[2*i+1], hatch=\"\\\\\\\\\\\\\")\n",
    "    ax.hlines(estimates[2*i], locs[2*i], locs[2*i]+width)\n",
    "    ax.hlines(estimates[2*i+1], locs[2*i+1], locs[2*i+1]+width)\n",
    "    \n",
    "ax.legend(fontsize=\"x-small\")\n",
    "\n",
    "ax.set_xticks(loc+1)\n",
    "ax.set_xticklabels(names)\n",
    "\n",
    "ax.xaxis.set_minor_locator(MultipleLocator(1))\n",
    "ax.xaxis.grid(True, which=\"Minor\")\n",
    "\n",
    "ax.xaxis.set_ticks_position(\"both\")\n",
    "ax.yaxis.set_ticks_position(\"both\")\n",
    "\n",
    "ax.set_xlim([0, 12])\n",
    "ax.set_ylim([-160, 150])\n",
    "\n",
    "ax.set_xlabel(\"K$-$Gaia\")\n",
    "ax.set_ylabel(\"$\\mu as$\")\n",
    "\n",
    "plt.tight_layout()"
   ]
  },
  {
   "cell_type": "markdown",
   "metadata": {},
   "source": [
    "The first degree of VSH terms generally agrees with each other for different models (VSH01 and VSH02).\n",
    "\n",
    "The samples ``Clean`` and ``Clean common`` show almost the same result."
   ]
  },
  {
   "cell_type": "code",
   "execution_count": 10,
   "metadata": {},
   "outputs": [],
   "source": [
    "names = [\"$E_{22}^R$\", \"$E_{22}^I$\", \"$E_{21}^R$\", \"$E_{21}^I$\", \"$E_{20}$\",\n",
    "         \"$M_{22}^R$\", \"$M_{22}^I$\", \"$M_{21}^R$\", \"$M_{21}^I$\", \"$M_{20}$\"]\n",
    "\n",
    "labels = [\"All-02\", \"Clean-02\", \"Com-02\", \"ComCln-02\"]\n",
    "\n",
    "estimates = np.array([vsh02k2gall[\"Estimate\"][6:],\n",
    "                      vsh02k2gcln[\"Estimate\"][6:],\n",
    "                      vsh02k2gcom[\"Estimate\"][6:],\n",
    "                      vsh02k2gccl[\"Estimate\"][6:]])\n",
    "\n",
    "errors = np.array([vsh02k2gall[\"Error\"][6:],\n",
    "                   vsh02k2gcln[\"Error\"][6:],\n",
    "                   vsh02k2gcom[\"Error\"][6:],\n",
    "                   vsh02k2gccl[\"Error\"][6:]])\n",
    "\n",
    "heights = 2 * errors\n",
    "bottoms = estimates - errors\n",
    "\n",
    "num = len(names)\n",
    "width = 0.4\n",
    "loc = np.arange(num) * 2\n",
    "locs = [loc + width * (i+0.5) for i in range(len(labels))]\n",
    "\n",
    "colors = [\"r\", \"b\", \"y\", \"m\"]"
   ]
  },
  {
   "cell_type": "code",
   "execution_count": 11,
   "metadata": {},
   "outputs": [
    {
     "data": {
      "image/png": "[encoded data removed]",
      "text/plain": [
       "<Figure size 432x288 with 1 Axes>"
      ]
     },
     "metadata": {
      "needs_background": "light"
     },
     "output_type": "display_data"
    }
   ],
   "source": [
    "fig, ax = plt.subplots()\n",
    "\n",
    "for i, colori in enumerate(colors):\n",
    "    ax.bar(locs[i], heights[i], fill=False,\n",
    "           bottom=bottoms[i], edgecolor=colori,\n",
    "           width=width, align=\"edge\", label=labels[i], hatch=\"\\\\\\\\\\\\\")\n",
    "    ax.hlines(estimates[i], locs[i], locs[i]+width)\n",
    "\n",
    "ax.legend(fontsize=\"x-small\")\n",
    "\n",
    "ax.set_xticks(loc+1)\n",
    "ax.set_xticklabels(names)\n",
    "\n",
    "ax.xaxis.set_minor_locator(MultipleLocator(1))\n",
    "ax.xaxis.grid(True, which=\"Minor\")\n",
    "\n",
    "ax.xaxis.set_ticks_position(\"both\")\n",
    "ax.yaxis.set_ticks_position(\"both\")\n",
    "\n",
    "ax.set_xlim([0, 20])\n",
    "ax.set_ylim([-150, 250])\n",
    "\n",
    "ax.set_xlabel(\"K$-$Gaia\")\n",
    "ax.set_ylabel(\"$\\mu as$\")\n",
    "\n",
    "plt.tight_layout()"
   ]
  },
  {
   "cell_type": "markdown",
   "metadata": {},
   "source": [
    "The parameters for $E_{20}$ and $M_{21}^R$ without outlier elimination differ significantly from those with outlier elimination.\n",
    "\n",
    "In short, the clean samples of all sources and 488 common sources show similar large-scale differences wrt. the Gaia-CRF2."
   ]
  },
  {
   "cell_type": "markdown",
   "metadata": {},
   "source": [
    "# 5 ICRF3 X/Ka vs. Gaia"
   ]
  },
  {
   "cell_type": "code",
   "execution_count": 12,
   "metadata": {},
   "outputs": [],
   "source": [
    "vsh01ka2gall = Table.read(\"../logs/icrf3_xka_gaia_vsh01_all.log\", format=\"ascii\")\n",
    "vsh01ka2gcln = Table.read(\"../logs/icrf3_xka_gaia_vsh01_cln.log\", format=\"ascii\")\n",
    "vsh01ka2gcom = Table.read(\"../logs/icrf3_xka_gaia_vsh01_com.log\", format=\"ascii\")\n",
    "vsh01ka2gccl = Table.read(\"../logs/icrf3_xka_gaia_vsh01_ccl.log\", format=\"ascii\")\n",
    "\n",
    "vsh02ka2gall = Table.read(\"../logs/icrf3_xka_gaia_vsh02_all.log\", format=\"ascii\")\n",
    "vsh02ka2gcln = Table.read(\"../logs/icrf3_xka_gaia_vsh02_cln.log\", format=\"ascii\")\n",
    "vsh02ka2gcom = Table.read(\"../logs/icrf3_xka_gaia_vsh02_com.log\", format=\"ascii\")\n",
    "vsh02ka2gccl = Table.read(\"../logs/icrf3_xka_gaia_vsh02_ccl.log\", format=\"ascii\")"
   ]
  },
  {
   "cell_type": "code",
   "execution_count": 13,
   "metadata": {},
   "outputs": [],
   "source": [
    "names = [\"$D_1$\", \"$D_2$\", \"$D_3$\", \"$R_1$\", \"$R_2$\", \"$R_3$\"]\n",
    "\n",
    "labels = [\"All-01\", \"All-02\", \"Clean-01\", \"Clean-02\",\n",
    "          \"Com-01\", \"Com-02\", \"ComCln-01\", \"ComCln-02\"]\n",
    "\n",
    "estimates = np.array([vsh01ka2gall[\"Estimate\"],\n",
    "                      vsh02ka2gall[\"Estimate\"][:6],\n",
    "                      vsh01ka2gcln[\"Estimate\"],\n",
    "                      vsh02ka2gcln[\"Estimate\"][:6],\n",
    "                      vsh01ka2gcom[\"Estimate\"],\n",
    "                      vsh02ka2gcom[\"Estimate\"][:6],\n",
    "                      vsh01ka2gccl[\"Estimate\"],\n",
    "                      vsh02ka2gccl[\"Estimate\"][:6]])\n",
    "\n",
    "errors = np.array([vsh01ka2gall[\"Error\"],\n",
    "                   vsh02ka2gall[\"Error\"][:6],\n",
    "                   vsh01ka2gcln[\"Error\"],\n",
    "                   vsh02ka2gcln[\"Error\"][:6],\n",
    "                   vsh01ka2gcom[\"Error\"],\n",
    "                   vsh02ka2gcom[\"Error\"][:6],\n",
    "                   vsh01ka2gccl[\"Error\"],\n",
    "                   vsh02ka2gccl[\"Error\"][:6]])\n",
    "\n",
    "heights = 2 * errors\n",
    "bottoms = estimates - errors\n",
    "\n",
    "num = len(names)\n",
    "width = 0.2\n",
    "loc = np.arange(num) * 2\n",
    "locs = [loc + width * (i+1) for i in range(len(labels))]\n",
    "\n",
    "colors = [\"r\", \"b\", \"y\", \"m\"]"
   ]
  },
  {
   "cell_type": "code",
   "execution_count": 14,
   "metadata": {},
   "outputs": [
    {
     "data": {
      "image/png": "[encoded data removed]",
      "text/plain": [
       "<Figure size 432x288 with 1 Axes>"
      ]
     },
     "metadata": {
      "needs_background": "light"
     },
     "output_type": "display_data"
    }
   ],
   "source": [
    "fig, ax = plt.subplots()\n",
    "\n",
    "for i, colori in enumerate(colors):\n",
    "    ax.bar(locs[2*i], heights[2*i], fill=False,\n",
    "           bottom=bottoms[2*i], edgecolor=colori,\n",
    "           width=width, align=\"edge\", label=labels[2*i], hatch=\"///\")\n",
    "    ax.bar(locs[2*i+1], heights[2*i+1], fill=False,\n",
    "           bottom=bottoms[2*i+1], edgecolor=colori,\n",
    "           width=width, align=\"edge\", label=labels[2*i+1], hatch=\"\\\\\\\\\\\\\")\n",
    "    ax.hlines(estimates[2*i], locs[2*i], locs[2*i]+width)\n",
    "    ax.hlines(estimates[2*i+1], locs[2*i+1], locs[2*i+1]+width)\n",
    "\n",
    "ax.legend(fontsize=\"x-small\")\n",
    "\n",
    "ax.set_xticks(loc+1)\n",
    "ax.set_xticklabels(names)\n",
    "\n",
    "ax.xaxis.set_minor_locator(MultipleLocator(1))\n",
    "ax.xaxis.grid(True, which=\"Minor\")\n",
    "\n",
    "ax.set_xlim([0, 12])\n",
    "ax.set_ylim([-360, 100])\n",
    "\n",
    "ax.set_xlabel(\"X/Ka$-$Gaia\")\n",
    "ax.set_ylabel(\"$\\mu as$\")\n",
    "\n",
    "plt.tight_layout()"
   ]
  },
  {
   "cell_type": "markdown",
   "metadata": {},
   "source": [
    "The difference in the solutions with and without removal of outliers is significant in $D_3$ and $R_2$."
   ]
  },
  {
   "cell_type": "code",
   "execution_count": 15,
   "metadata": {},
   "outputs": [],
   "source": [
    "names = [\"$E_{22}^R$\", \"$E_{22}^I$\", \"$E_{21}^R$\", \"$E_{21}^I$\", \"$E_{20}$\",\n",
    "         \"$M_{22}^R$\", \"$M_{22}^I$\", \"$M_{21}^R$\", \"$M_{21}^I$\", \"$M_{20}$\"]\n",
    "\n",
    "labels = [\"All-02\", \"Clean-02\", \"Com-02\", \"ComCln-02\"]\n",
    "\n",
    "estimates = np.array([vsh02ka2gall[\"Estimate\"][6:],\n",
    "                      vsh02ka2gcln[\"Estimate\"][6:],\n",
    "                      vsh02ka2gcom[\"Estimate\"][6:],\n",
    "                      vsh02ka2gccl[\"Estimate\"][6:]])\n",
    "\n",
    "errors = np.array([vsh02ka2gall[\"Error\"][6:],\n",
    "                   vsh02ka2gcln[\"Error\"][6:],\n",
    "                   vsh02ka2gcom[\"Error\"][6:],\n",
    "                   vsh02ka2gccl[\"Error\"][6:]])\n",
    "\n",
    "heights = 2 * errors\n",
    "bottoms = estimates - errors\n",
    "\n",
    "num = len(names)\n",
    "width = 0.4\n",
    "loc = np.arange(num) * 2\n",
    "locs = [loc + width * (i+0.5) for i in range(len(labels))]\n",
    "\n",
    "colors = [\"r\", \"b\", \"y\", \"m\"]"
   ]
  },
  {
   "cell_type": "code",
   "execution_count": 16,
   "metadata": {},
   "outputs": [
    {
     "data": {
      "image/png": "[encoded data removed]",
      "text/plain": [
       "<Figure size 432x288 with 1 Axes>"
      ]
     },
     "metadata": {
      "needs_background": "light"
     },
     "output_type": "display_data"
    }
   ],
   "source": [
    "fig, ax = plt.subplots()\n",
    "\n",
    "for i, colori in enumerate(colors):\n",
    "    ax.bar(locs[i], heights[i], fill=False,\n",
    "           bottom=bottoms[i], edgecolor=colori,\n",
    "           width=width, align=\"edge\", label=labels[i], hatch=\"\\\\\\\\\\\\\")\n",
    "    ax.hlines(estimates[i], locs[i], locs[i]+width)\n",
    "\n",
    "ax.legend(fontsize=\"x-small\")\n",
    "\n",
    "ax.set_xticks(loc+1)\n",
    "ax.set_xticklabels(names)\n",
    "\n",
    "ax.xaxis.set_minor_locator(MultipleLocator(1))\n",
    "ax.xaxis.grid(True, which=\"Minor\")\n",
    "\n",
    "ax.set_xlim([0, 20])\n",
    "ax.set_ylim([-100, 220])\n",
    "\n",
    "ax.set_xlabel(\"XKa$-$Gaia\")\n",
    "ax.set_ylabel(\"$\\mu as$\")\n",
    "\n",
    "plt.tight_layout()"
   ]
  },
  {
   "cell_type": "markdown",
   "metadata": {},
   "source": [
    "Simialr to $D_3$, The difference in the solutions with and without removal of outliers is significant in $E_{20}$."
   ]
  },
  {
   "cell_type": "markdown",
   "metadata": {},
   "source": [
    "In short, removal of outliers before least square fitting will make the terms like $D_3$ and $E_{20}$ less pronounced."
   ]
  }
 ],
 "metadata": {
  "hide_input": false,
  "kernelspec": {
   "display_name": "Python 3",
   "language": "python",
   "name": "python3"
  },
  "language_info": {
   "codemirror_mode": {
    "name": "ipython",
    "version": 3
   },
   "file_extension": ".py",
   "mimetype": "text/x-python",
   "name": "python",
   "nbconvert_exporter": "python",
   "pygments_lexer": "ipython3",
   "version": "3.7.7"
  },
  "latex_envs": {
   "LaTeX_envs_menu_present": true,
   "autoclose": false,
   "autocomplete": true,
   "bibliofile": "biblio.bib",
   "cite_by": "apalike",
   "current_citInitial": 1,
   "eqLabelWithNumbers": true,
   "eqNumInitial": 1,
   "hotkeys": {
    "equation": "Ctrl-E",
    "itemize": "Ctrl-I"
   },
   "labels_anchors": false,
   "latex_user_defs": false,
   "report_style_numbering": false,
   "user_envs_cfg": false
  }
 },
 "nbformat": 4,
 "nbformat_minor": 2
}
