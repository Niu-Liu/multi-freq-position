{
 "cells": [
  {
   "cell_type": "code",
   "execution_count": 1,
   "metadata": {},
   "outputs": [],
   "source": [
    "import matplotlib.pyplot as plt\n",
    "%matplotlib inline\n",
    "import numpy as np\n",
    "from numpy import cos, pi"
   ]
  },
  {
   "cell_type": "code",
   "execution_count": 39,
   "metadata": {},
   "outputs": [],
   "source": [
    "k = np.arange(0, 1, 0.05)\n",
    "r = np.arange(0, 2, 0.1)\n",
    "\n",
    "K, R = np.meshgrid(k, r)\n",
    "\n",
    "cosx = cos(2*pi*R)\n",
    "# nu = 8.4e9\n",
    "nu = 8.4\n",
    "\n",
    "tau = K * (1-K) / (1+K) / nu * (1- cosx) * R / (R*R + 2*K*cosx + 1)\n",
    "# tau_dot = K * (1-K) / (1+K) / nu * (1- cosx) * R / (R*R + 2*K*cosx + 1)"
   ]
  },
  {
   "cell_type": "code",
   "execution_count": 54,
   "metadata": {},
   "outputs": [
    {
     "data": {
      "image/png": "[encoded data removed]",
      "text/plain": [
       "<Figure size 432x288 with 1 Axes>"
      ]
     },
     "metadata": {
      "needs_background": "light"
     },
     "output_type": "display_data"
    }
   ],
   "source": [
    "fig, ax = plt.subplots()\n",
    "\n",
    "im = ax.imshow(tau, cmap=\"Greys\")\n",
    "\n",
    "ax.set_xlabel(\"K\")\n",
    "ax.set_ylabel(\"R\")\n",
    "\n",
    "ax.axis([0, 20, 20, 0])\n",
    "ax.set_xticks(np.arange(0, 21, 5))\n",
    "ax.set_xticklabels([\"0\", \"0.25\", \"0.5\", \"0.75\", \"1.0\"])\n",
    "\n",
    "ax.set_yticks(np.arange(0, 21, 5))\n",
    "ax.set_yticklabels([\"0.0\", \"0.5\", \"1.0\", \"1.5\", \"2.0\"])\n",
    "\n",
    "plt.tight_layout()"
   ]
  }
 ],
 "metadata": {
  "hide_input": false,
  "kernelspec": {
   "display_name": "Python 3",
   "language": "python",
   "name": "python3"
  },
  "language_info": {
   "codemirror_mode": {
    "name": "ipython",
    "version": 3
   },
   "file_extension": ".py",
   "mimetype": "text/x-python",
   "name": "python",
   "nbconvert_exporter": "python",
   "pygments_lexer": "ipython3",
   "version": "3.7.6"
  },
  "latex_envs": {
   "LaTeX_envs_menu_present": true,
   "autoclose": false,
   "autocomplete": true,
   "bibliofile": "biblio.bib",
   "cite_by": "apalike",
   "current_citInitial": 1,
   "eqLabelWithNumbers": true,
   "eqNumInitial": 1,
   "hotkeys": {
    "equation": "Ctrl-E",
    "itemize": "Ctrl-I"
   },
   "labels_anchors": false,
   "latex_user_defs": false,
   "report_style_numbering": false,
   "user_envs_cfg": false
  }
 },
 "nbformat": 4,
 "nbformat_minor": 2
}
