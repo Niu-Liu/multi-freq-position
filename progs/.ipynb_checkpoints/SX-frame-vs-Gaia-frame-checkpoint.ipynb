{
 "cells": [
  {
   "cell_type": "markdown",
   "metadata": {},
   "source": [
    "I compare the radio-to-optical offsets derived after adjusting the global differences with referred to the SX-frame to those with referred to the Gaia frame."
   ]
  },
  {
   "cell_type": "code",
   "execution_count": 1,
   "metadata": {},
   "outputs": [],
   "source": [
    "from astropy.table import Table, join, Column\n",
    "import matplotlib.pyplot as plt\n",
    "from matplotlib.ticker import MultipleLocator, NullFormatter\n",
    "import numpy as np\n",
    "\n",
    "%matplotlib inline"
   ]
  },
  {
   "cell_type": "code",
   "execution_count": 2,
   "metadata": {},
   "outputs": [],
   "source": [
    "# Within Gaia frame\n",
    "r2o_g = Table.read(\"../data/multiwav-offset-in-Gaia-frame.fits\")\n",
    "\n",
    "# Within SX-frame\n",
    "r2o_x = Table.read(\"../data/multiwav-offset-in-SX-frame.fits\")\n",
    "\n",
    "# Sort the table by alphabetical order\n",
    "r2o_g.sort(\"iers_name\")\n",
    "r2o_x.sort(\"iers_name\")"
   ]
  },
  {
   "cell_type": "code",
   "execution_count": 12,
   "metadata": {},
   "outputs": [
    {
     "name": "stdout",
     "output_type": "stream",
     "text": [
      "Radio-to-optical offset comparison\n",
      "Left: SX-to-Gaia; Middle: K-Gaia; Right: XKa-Gaia\n",
      "x-axis: within SX-frame; y-axis: within Gaia-frame\n",
      "Unit: mas\n"
     ]
    },
    {
     "data": {
      "image/png": "[encoded data removed]",
      "text/plain": [
       "<Figure size 864x288 with 3 Axes>"
      ]
     },
     "metadata": {
      "needs_background": "light"
     },
     "output_type": "display_data"
    }
   ],
   "source": [
    "fig, (ax0, ax1, ax2) = plt.subplots(figsize=(12, 4), ncols=3)\n",
    "\n",
    "ax0.scatter(r2o_x[\"ang_sep_sx_1\"], r2o_g[\"ang_sep_sx_1\"], s=1)\n",
    "ax1.scatter(r2o_x[\"ang_sep_k_1\"], r2o_g[\"ang_sep_k_1\"], s=1)\n",
    "ax2.scatter(r2o_x[\"ang_sep_ka_1\"], r2o_g[\"ang_sep_ka_1\"], s=1)\n",
    "\n",
    "ax0.set_xscale(\"log\")\n",
    "ax0.set_yscale(\"log\")\n",
    "ax1.set_xscale(\"log\")\n",
    "ax1.set_yscale(\"log\")\n",
    "ax2.set_xscale(\"log\")\n",
    "ax2.set_yscale(\"log\")\n",
    "\n",
    "ax0.axis(\"square\")\n",
    "ax0.axis([1e-2, 20, 1e-2, 20])\n",
    "ax1.axis(\"square\")\n",
    "ax1.axis([1e-2, 20, 1e-2, 20])\n",
    "ax2.axis(\"square\")\n",
    "ax2.axis([1e-2, 20, 1e-2, 20])\n",
    "\n",
    "print(\"Radio-to-optical offset comparison\")\n",
    "print(\"Left: SX-to-Gaia; Middle: K-Gaia; Right: XKa-Gaia\")\n",
    "print(\"x-axis: within SX-frame; y-axis: within Gaia-frame\")\n",
    "print(\"Unit: mas\")"
   ]
  },
  {
   "cell_type": "markdown",
   "metadata": {},
   "source": [
    "The plots above show that the radio-to-optical offset will not be affected significantly by the choice of reference catalog."
   ]
  }
 ],
 "metadata": {
  "hide_input": false,
  "kernelspec": {
   "display_name": "Python 3",
   "language": "python",
   "name": "python3"
  },
  "language_info": {
   "codemirror_mode": {
    "name": "ipython",
    "version": 3
   },
   "file_extension": ".py",
   "mimetype": "text/x-python",
   "name": "python",
   "nbconvert_exporter": "python",
   "pygments_lexer": "ipython3",
   "version": "3.7.7"
  },
  "latex_envs": {
   "LaTeX_envs_menu_present": true,
   "autoclose": false,
   "autocomplete": true,
   "bibliofile": "biblio.bib",
   "cite_by": "apalike",
   "current_citInitial": 1,
   "eqLabelWithNumbers": true,
   "eqNumInitial": 1,
   "hotkeys": {
    "equation": "Ctrl-E",
    "itemize": "Ctrl-I"
   },
   "labels_anchors": false,
   "latex_user_defs": false,
   "report_style_numbering": false,
   "user_envs_cfg": false
  }
 },
 "nbformat": 4,
 "nbformat_minor": 4
}
