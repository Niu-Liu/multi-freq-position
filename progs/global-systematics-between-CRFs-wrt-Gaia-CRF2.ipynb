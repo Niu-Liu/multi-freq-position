{
 "cells": [
  {
   "cell_type": "markdown",
   "metadata": {},
   "source": [
    "In this notebook I will model and remove the global difference of ICRF3 S/X-, K-, and X/Ka-band CRFs wrt. the Gaia-CRF2.\n",
    "\n",
    "The global difference is modeled as a 16-parameter transformation, whose parameters are estimated through a least square fitting based on a \"all\" sample of all common sources and a \"clean\" sample.\n",
    "\n",
    "Four criteri are applied the \"all\" sample to the obtain this clean sample, which are listed as followed.\n",
    "\n",
    "- angular separation $\\rho$ less than 10 mas.\n",
    "\n",
    "- normalized separation less than $X_0 = \\sqrt{2\\cdot\\log{N}}$, where $N$ is number of common sources.\n",
    "\n",
    "- formal uncertainties in either catalog less than 10 mas."
   ]
  },
  {
   "cell_type": "code",
   "execution_count": 1,
   "metadata": {
    "ExecuteTime": {
     "end_time": "2021-03-08T13:50:46.318257Z",
     "start_time": "2021-03-08T13:50:44.435454Z"
    }
   },
   "outputs": [],
   "source": [
    "import matplotlib.pyplot as plt\n",
    "\n",
    "from astropy.table import Table, join, Column\n",
    "from astropy import units as u\n",
    "import numpy as np\n",
    "import time\n",
    "import sys\n",
    "\n",
    "# My modules\n",
    "from my_progs.vsh.vsh_fit import rotgliquad_fit_4_table\n",
    "from func_tools import recalc_position_oft"
   ]
  },
  {
   "cell_type": "markdown",
   "metadata": {},
   "source": [
    "First get positions of AGN at 4 bands from catalogs and calculate the position offset of SX-Gaia, K-Gaia, and XKa-Gaia."
   ]
  },
  {
   "cell_type": "code",
   "execution_count": 2,
   "metadata": {
    "ExecuteTime": {
     "end_time": "2021-03-08T13:50:46.527653Z",
     "start_time": "2021-03-08T13:50:46.321354Z"
    }
   },
   "outputs": [],
   "source": [
    "# List of 488 common sources in four catalogs\n",
    "com_sou = Table.read(\"../data/com-sou-list-DR2.txt\", format=\"ascii\")\n",
    "\n",
    "# Gaia DR2 - S/X\n",
    "sx_g = Table.read(\"../data/icrf3sx_gdr2.fits\")\n",
    "\n",
    "# K - Gaia DR2\n",
    "k_g = Table.read(\"../data/icrf3k_gdr2.fits\")\n",
    "\n",
    "# X/Ka - Gaia DR2\n",
    "xka_g = Table.read(\"../data/icrf3xka_gdr2.fits\")\n",
    "\n",
    "# Cross-match for the common source sample\n",
    "sx_g_com = join(sx_g, com_sou, keys=\"iers_name\")\n",
    "k_g_com = join(k_g, com_sou, keys=\"iers_name\")\n",
    "xka_g_com = join(xka_g, com_sou, keys=\"iers_name\")"
   ]
  },
  {
   "cell_type": "code",
   "execution_count": 3,
   "metadata": {
    "ExecuteTime": {
     "end_time": "2021-03-08T13:50:46.533080Z",
     "start_time": "2021-03-08T13:50:46.530645Z"
    }
   },
   "outputs": [],
   "source": [
    "kappa = 3"
   ]
  },
  {
   "cell_type": "markdown",
   "metadata": {},
   "source": [
    "# 1. ICRF3 S/X vs. Gaia-CRF2"
   ]
  },
  {
   "cell_type": "code",
   "execution_count": 4,
   "metadata": {
    "ExecuteTime": {
     "end_time": "2021-03-08T13:50:46.629999Z",
     "start_time": "2021-03-08T13:50:46.534691Z"
    }
   },
   "outputs": [
    {
     "name": "stdout",
     "output_type": "stream",
     "text": [
      "----------------------- VSH Fit (by Niu LIU) -----------------------\n",
      "\n",
      "Pre-fit information:\n",
      "    Number of sources                       488\n",
      "    Maximum degree of VSH                     2\n",
      "    Number of unknowns to determine          16\n",
      "    Number of degree of freedom             959\n",
      "\n",
      "An upper limit will be put on the normalized separation X.\n",
      "Since no value is given, the default value (sqrt(2*ln(#sou))) predicted from a standard Rayleigh distribution is used.\n",
      "The LSQ fit is performed based a clean sample consisted ofall source with a normalized separation with X<=3.519.\n",
      "\n",
      "==================== Standard-elimination ====================\n",
      "    Nb_sources    Nb_outliers    Threshold\n",
      "          386          102        3.519\n",
      "\n",
      "Statistics information\n",
      "-------------------------------------------------------------------\n",
      "             Pre-fit             |             Post-fit            \n",
      "-------------------------------------------------------------------\n",
      "         dRA*         dDec       |         dRA*         dDec       \n",
      "Bias     -0.0          0.0       |         -0.0          0.0\n",
      "WRMS      0.6          0.4       |          0.6          0.4\n",
      "RSE       0.4          0.5       |          0.4          0.5\n",
      "-------------------------------------------------------------------\n",
      "    Nor. dRA*    Nor. dDec       |    Nor. dRA*    Nor. dDec       \n",
      "-------------------------------------------------------------------\n",
      "         dRA*         dDec       |         dRA*         dDec       \n",
      "Bias     -0.2          0.2       |         -0.2          0.2\n",
      "Std       4.6          3.4       |          4.5          3.3\n",
      "RSE       1.8          2.0       |          1.8          2.0\n",
      "-------------------------------------------------------------------\n",
      "Chi-Square         15973.2       |                   15723.0\n",
      "Red. Chi-square       16.7       |                      16.4\n",
      "Good-of-fitness        0.0       |                       0.0\n",
      "-------------------------------------------------------------------\n",
      "\n",
      "Significance level \n",
      "--------------------------------------------------------------------\n",
      "Degree  P_t^0.5      Z_t   P_s^0.5      Z_s  P_rem^0.5\n",
      "--------------------------------------------------------------------\n",
      "     0                                             4.2\n",
      "     1      0.1     4.48       0.0     0.63        4.2\n",
      "     2      0.1     2.65       0.1     1.16        4.2\n",
      "--------------------------------------------------------------------\n",
      "\n",
      "Convert t_lm/s_lm at l=1 into rotation/glide vector\n",
      "--------------------------------------------------------------------\n",
      "           Glide [uas]                 Rotation [uas]   \n",
      "  G1         G2        G3         R1         R2        R3       \n",
      "--------------------------------------------------------------------\n",
      "  -0    0    +0    0   -0    0    +0    0   -0    0    +0    0  \n",
      "--------------------------------------------------------------------\n"
     ]
    }
   ],
   "source": [
    "# S/X - Gaia (common)\n",
    "# output_sx1 = rotgliquad_fit_4_table(sx_g_com, clip_limit=kappa)\n",
    "output_sx1 = rotgliquad_fit_4_table(sx_g_com, std_clean=True)"
   ]
  },
  {
   "cell_type": "code",
   "execution_count": 5,
   "metadata": {
    "ExecuteTime": {
     "end_time": "2021-03-08T13:50:47.327165Z",
     "start_time": "2021-03-08T13:50:46.631964Z"
    }
   },
   "outputs": [
    {
     "name": "stdout",
     "output_type": "stream",
     "text": [
      "----------------------- VSH Fit (by Niu LIU) -----------------------\n",
      "\n",
      "Pre-fit information:\n",
      "    Number of sources                      2820\n",
      "    Maximum degree of VSH                     2\n",
      "    Number of unknowns to determine          16\n",
      "    Number of degree of freedom            5623\n",
      "\n",
      "An upper limit will be put on the normalized separation X.\n",
      "Since no value is given, the default value (sqrt(2*ln(#sou))) predicted from a standard Rayleigh distribution is used.\n",
      "The LSQ fit is performed based a clean sample consisted ofall source with a normalized separation with X<=3.986.\n",
      "\n",
      "==================== Standard-elimination ====================\n",
      "    Nb_sources    Nb_outliers    Threshold\n",
      "         2368          452        3.986\n",
      "\n",
      "Statistics information\n",
      "-------------------------------------------------------------------\n",
      "             Pre-fit             |             Post-fit            \n",
      "-------------------------------------------------------------------\n",
      "         dRA*         dDec       |         dRA*         dDec       \n",
      "Bias     -0.0          0.0       |         -0.0          0.0\n",
      "WRMS      1.4          1.0       |          1.4          1.0\n",
      "RSE       0.7          0.7       |          0.7          0.7\n",
      "-------------------------------------------------------------------\n",
      "    Nor. dRA*    Nor. dDec       |    Nor. dRA*    Nor. dDec       \n",
      "-------------------------------------------------------------------\n",
      "         dRA*         dDec       |         dRA*         dDec       \n",
      "Bias     -0.1          0.1       |         -0.2          0.1\n",
      "Std       7.8          5.0       |          7.8          5.0\n",
      "RSE       1.8          1.7       |          1.8          1.7\n",
      "-------------------------------------------------------------------\n",
      "Chi-Square        241685.1       |                  241577.3\n",
      "Red. Chi-square       43.0       |                      43.0\n",
      "Good-of-fitness        0.0       |                       0.0\n",
      "-------------------------------------------------------------------\n",
      "\n",
      "Significance level \n",
      "--------------------------------------------------------------------\n",
      "Degree  P_t^0.5      Z_t   P_s^0.5      Z_s  P_rem^0.5\n",
      "--------------------------------------------------------------------\n",
      "     0                                            13.8\n",
      "     1      0.1     5.05       0.0     2.64       13.8\n",
      "     2      0.0     0.84       0.1     4.94       13.8\n",
      "--------------------------------------------------------------------\n",
      "\n",
      "Convert t_lm/s_lm at l=1 into rotation/glide vector\n",
      "--------------------------------------------------------------------\n",
      "           Glide [uas]                 Rotation [uas]   \n",
      "  G1         G2        G3         R1         R2        R3       \n",
      "--------------------------------------------------------------------\n",
      "  -0    0    -0    0   +0    0    +0    0   -0    0    +0    0  \n",
      "--------------------------------------------------------------------\n"
     ]
    }
   ],
   "source": [
    "# S/X - Gaia (All)\n",
    "# output_sx2 = rotgliquad_fit_4_table(sx_g, clip_limit=kappa)\n",
    "output_sx2 = rotgliquad_fit_4_table(sx_g, std_clean=True)"
   ]
  },
  {
   "cell_type": "markdown",
   "metadata": {},
   "source": [
    "# 2. ICRF3 K vs. Gaia-CRF2"
   ]
  },
  {
   "cell_type": "code",
   "execution_count": 6,
   "metadata": {
    "ExecuteTime": {
     "end_time": "2021-03-08T13:50:47.450293Z",
     "start_time": "2021-03-08T13:50:47.329285Z"
    }
   },
   "outputs": [
    {
     "name": "stdout",
     "output_type": "stream",
     "text": [
      "----------------------- VSH Fit (by Niu LIU) -----------------------\n",
      "\n",
      "Pre-fit information:\n",
      "    Number of sources                       488\n",
      "    Maximum degree of VSH                     2\n",
      "    Number of unknowns to determine          16\n",
      "    Number of degree of freedom             959\n",
      "\n",
      "An upper limit will be put on the normalized separation X.\n",
      "Since no value is given, the default value (sqrt(2*ln(#sou))) predicted from a standard Rayleigh distribution is used.\n",
      "The LSQ fit is performed based a clean sample consisted ofall source with a normalized separation with X<=3.519.\n",
      "\n",
      "==================== Standard-elimination ====================\n",
      "    Nb_sources    Nb_outliers    Threshold\n",
      "          419           69        3.519\n",
      "\n",
      "Statistics information\n",
      "-------------------------------------------------------------------\n",
      "             Pre-fit             |             Post-fit            \n",
      "-------------------------------------------------------------------\n",
      "         dRA*         dDec       |         dRA*         dDec       \n",
      "Bias     -0.0          0.1       |         -0.0          0.0\n",
      "WRMS      0.6          0.5       |          0.6          0.5\n",
      "RSE       0.4          0.5       |          0.4          0.4\n",
      "-------------------------------------------------------------------\n",
      "    Nor. dRA*    Nor. dDec       |    Nor. dRA*    Nor. dDec       \n",
      "-------------------------------------------------------------------\n",
      "         dRA*         dDec       |         dRA*         dDec       \n",
      "Bias     -0.1          0.2       |         -0.1          0.1\n",
      "Std       3.7          2.6       |          3.7          2.6\n",
      "RSE       1.5          1.5       |          1.5          1.5\n",
      "-------------------------------------------------------------------\n",
      "Chi-Square          9961.4       |                    9735.3\n",
      "Red. Chi-square       10.4       |                      10.2\n",
      "Good-of-fitness        0.0       |                       0.0\n",
      "-------------------------------------------------------------------\n",
      "\n",
      "Significance level \n",
      "--------------------------------------------------------------------\n",
      "Degree  P_t^0.5      Z_t   P_s^0.5      Z_s  P_rem^0.5\n",
      "--------------------------------------------------------------------\n",
      "     0                                             4.2\n",
      "     1      0.2     4.41       0.2     4.47        4.2\n",
      "     2      0.2     4.03       0.1     1.55        4.1\n",
      "--------------------------------------------------------------------\n",
      "\n",
      "Convert t_lm/s_lm at l=1 into rotation/glide vector\n",
      "--------------------------------------------------------------------\n",
      "           Glide [uas]                 Rotation [uas]   \n",
      "  G1         G2        G3         R1         R2        R3       \n",
      "--------------------------------------------------------------------\n",
      "  -0    0    +0    0   +0    0    +0    0   -0    0    -0    0  \n",
      "--------------------------------------------------------------------\n"
     ]
    }
   ],
   "source": [
    "# K - Gaia(common)\n",
    "# output_k1 = rotgliquad_fit_4_table(k_g_com, clip_limit=kappa)\n",
    "output_k1 = rotgliquad_fit_4_table(k_g_com, std_clean=True)"
   ]
  },
  {
   "cell_type": "code",
   "execution_count": 7,
   "metadata": {
    "ExecuteTime": {
     "end_time": "2021-03-08T13:50:47.657300Z",
     "start_time": "2021-03-08T13:50:47.457494Z"
    }
   },
   "outputs": [
    {
     "name": "stdout",
     "output_type": "stream",
     "text": [
      "----------------------- VSH Fit (by Niu LIU) -----------------------\n",
      "\n",
      "Pre-fit information:\n",
      "    Number of sources                       602\n",
      "    Maximum degree of VSH                     2\n",
      "    Number of unknowns to determine          16\n",
      "    Number of degree of freedom            1187\n",
      "\n",
      "An upper limit will be put on the normalized separation X.\n",
      "Since no value is given, the default value (sqrt(2*ln(#sou))) predicted from a standard Rayleigh distribution is used.\n",
      "The LSQ fit is performed based a clean sample consisted ofall source with a normalized separation with X<=3.578.\n",
      "\n",
      "==================== Standard-elimination ====================\n",
      "    Nb_sources    Nb_outliers    Threshold\n",
      "          513           89        3.578\n",
      "\n",
      "Statistics information\n",
      "-------------------------------------------------------------------\n",
      "             Pre-fit             |             Post-fit            \n",
      "-------------------------------------------------------------------\n",
      "         dRA*         dDec       |         dRA*         dDec       \n",
      "Bias      0.0          0.0       |          0.0          0.0\n",
      "WRMS      0.7          0.6       |          0.7          0.6\n",
      "RSE       0.4          0.5       |          0.4          0.5\n",
      "-------------------------------------------------------------------\n",
      "    Nor. dRA*    Nor. dDec       |    Nor. dRA*    Nor. dDec       \n",
      "-------------------------------------------------------------------\n",
      "         dRA*         dDec       |         dRA*         dDec       \n",
      "Bias     -0.0          0.1       |         -0.0          0.0\n",
      "Std       4.7          3.4       |          4.7          3.4\n",
      "RSE       1.6          1.5       |          1.6          1.4\n",
      "-------------------------------------------------------------------\n",
      "Chi-Square         20338.0       |                   20103.9\n",
      "Red. Chi-square       17.1       |                      16.9\n",
      "Good-of-fitness        0.0       |                       0.0\n",
      "-------------------------------------------------------------------\n",
      "\n",
      "Significance level \n",
      "--------------------------------------------------------------------\n",
      "Degree  P_t^0.5      Z_t   P_s^0.5      Z_s  P_rem^0.5\n",
      "--------------------------------------------------------------------\n",
      "     0                                             7.8\n",
      "     1      0.2     5.28       0.2     5.04        7.8\n",
      "     2      0.2     5.06       0.1     2.81        7.8\n",
      "--------------------------------------------------------------------\n",
      "\n",
      "Convert t_lm/s_lm at l=1 into rotation/glide vector\n",
      "--------------------------------------------------------------------\n",
      "           Glide [uas]                 Rotation [uas]   \n",
      "  G1         G2        G3         R1         R2        R3       \n",
      "--------------------------------------------------------------------\n",
      "  -0    0    +0    0   +0    0    +0    0   -0    0    -0    0  \n",
      "--------------------------------------------------------------------\n"
     ]
    }
   ],
   "source": [
    "# K - Gaia (All)\n",
    "# output_k2 = rotgliquad_fit_4_table(k_g, clip_limit=kappa)\n",
    "output_k2 = rotgliquad_fit_4_table(k_g, std_clean=True)"
   ]
  },
  {
   "cell_type": "markdown",
   "metadata": {},
   "source": [
    "# 3 ICRF3 X/Ka vs. Gaia-CRF2"
   ]
  },
  {
   "cell_type": "code",
   "execution_count": 8,
   "metadata": {
    "ExecuteTime": {
     "end_time": "2021-03-08T13:50:47.789999Z",
     "start_time": "2021-03-08T13:50:47.660627Z"
    }
   },
   "outputs": [
    {
     "name": "stdout",
     "output_type": "stream",
     "text": [
      "----------------------- VSH Fit (by Niu LIU) -----------------------\n",
      "\n",
      "Pre-fit information:\n",
      "    Number of sources                       488\n",
      "    Maximum degree of VSH                     2\n",
      "    Number of unknowns to determine          16\n",
      "    Number of degree of freedom             959\n",
      "\n",
      "An upper limit will be put on the normalized separation X.\n",
      "Since no value is given, the default value (sqrt(2*ln(#sou))) predicted from a standard Rayleigh distribution is used.\n",
      "The LSQ fit is performed based a clean sample consisted ofall source with a normalized separation with X<=3.519.\n",
      "\n",
      "==================== Standard-elimination ====================\n",
      "    Nb_sources    Nb_outliers    Threshold\n",
      "          349          139        3.519\n",
      "\n",
      "Statistics information\n",
      "-------------------------------------------------------------------\n",
      "             Pre-fit             |             Post-fit            \n",
      "-------------------------------------------------------------------\n",
      "         dRA*         dDec       |         dRA*         dDec       \n",
      "Bias      0.0         -0.2       |         -0.0         -0.1\n",
      "WRMS      0.6          0.5       |          0.6          0.5\n",
      "RSE       0.4          0.4       |          0.4          0.4\n",
      "-------------------------------------------------------------------\n",
      "    Nor. dRA*    Nor. dDec       |    Nor. dRA*    Nor. dDec       \n",
      "-------------------------------------------------------------------\n",
      "         dRA*         dDec       |         dRA*         dDec       \n",
      "Bias      0.0         -1.3       |         -0.1         -0.4\n",
      "Std       3.8          2.8       |          3.7          2.7\n",
      "RSE       1.9          2.0       |          1.5          1.7\n",
      "-------------------------------------------------------------------\n",
      "Chi-Square         11689.4       |                   10069.6\n",
      "Red. Chi-square       12.2       |                      10.5\n",
      "Good-of-fitness        0.0       |                       0.0\n",
      "-------------------------------------------------------------------\n",
      "\n",
      "Significance level \n",
      "--------------------------------------------------------------------\n",
      "Degree  P_t^0.5      Z_t   P_s^0.5      Z_s  P_rem^0.5\n",
      "--------------------------------------------------------------------\n",
      "     0                                             4.8\n",
      "     1      0.1     3.16       0.7    12.30        4.8\n",
      "     2      0.5    10.06       0.3     5.75        4.7\n",
      "--------------------------------------------------------------------\n",
      "\n",
      "Convert t_lm/s_lm at l=1 into rotation/glide vector\n",
      "--------------------------------------------------------------------\n",
      "           Glide [uas]                 Rotation [uas]   \n",
      "  G1         G2        G3         R1         R2        R3       \n",
      "--------------------------------------------------------------------\n",
      "  -0    0    +0    0   -0    0    -0    0   -0    0    +0    0  \n",
      "--------------------------------------------------------------------\n"
     ]
    }
   ],
   "source": [
    "# X/Ka -  Gaia (common)\n",
    "# output_ka1 = rotgliquad_fit_4_table(xka_g_com, clip_limit=kappa)\n",
    "output_ka1 = rotgliquad_fit_4_table(xka_g_com, std_clean=True)"
   ]
  },
  {
   "cell_type": "code",
   "execution_count": 9,
   "metadata": {
    "ExecuteTime": {
     "end_time": "2021-03-08T13:50:47.942208Z",
     "start_time": "2021-03-08T13:50:47.792866Z"
    }
   },
   "outputs": [
    {
     "name": "stdout",
     "output_type": "stream",
     "text": [
      "----------------------- VSH Fit (by Niu LIU) -----------------------\n",
      "\n",
      "Pre-fit information:\n",
      "    Number of sources                       505\n",
      "    Maximum degree of VSH                     2\n",
      "    Number of unknowns to determine          16\n",
      "    Number of degree of freedom             993\n",
      "\n",
      "An upper limit will be put on the normalized separation X.\n",
      "Since no value is given, the default value (sqrt(2*ln(#sou))) predicted from a standard Rayleigh distribution is used.\n",
      "The LSQ fit is performed based a clean sample consisted ofall source with a normalized separation with X<=3.528.\n",
      "\n",
      "==================== Standard-elimination ====================\n",
      "    Nb_sources    Nb_outliers    Threshold\n",
      "          366          139        3.528\n",
      "\n",
      "Statistics information\n",
      "-------------------------------------------------------------------\n",
      "             Pre-fit             |             Post-fit            \n",
      "-------------------------------------------------------------------\n",
      "         dRA*         dDec       |         dRA*         dDec       \n",
      "Bias      0.0         -0.2       |         -0.0         -0.1\n",
      "WRMS      0.6          0.5       |          0.6          0.5\n",
      "RSE       0.4          0.4       |          0.4          0.4\n",
      "-------------------------------------------------------------------\n",
      "    Nor. dRA*    Nor. dDec       |    Nor. dRA*    Nor. dDec       \n",
      "-------------------------------------------------------------------\n",
      "         dRA*         dDec       |         dRA*         dDec       \n",
      "Bias      0.0         -1.2       |         -0.1         -0.4\n",
      "Std       3.7          2.8       |          3.6          2.6\n",
      "RSE       1.8          1.9       |          1.5          1.6\n",
      "-------------------------------------------------------------------\n",
      "Chi-Square         11748.2       |                   10112.8\n",
      "Red. Chi-square       11.8       |                      10.2\n",
      "Good-of-fitness        0.0       |                       0.0\n",
      "-------------------------------------------------------------------\n",
      "\n",
      "Significance level \n",
      "--------------------------------------------------------------------\n",
      "Degree  P_t^0.5      Z_t   P_s^0.5      Z_s  P_rem^0.5\n",
      "--------------------------------------------------------------------\n",
      "     0                                             4.8\n",
      "     1      0.1     2.99       0.7    12.72        4.7\n",
      "     2      0.4    10.05       0.3     6.15        4.7\n",
      "--------------------------------------------------------------------\n",
      "\n",
      "Convert t_lm/s_lm at l=1 into rotation/glide vector\n",
      "--------------------------------------------------------------------\n",
      "           Glide [uas]                 Rotation [uas]   \n",
      "  G1         G2        G3         R1         R2        R3       \n",
      "--------------------------------------------------------------------\n",
      "  -0    0    +0    0   -0    0    -0    0   -0    0    +0    0  \n",
      "--------------------------------------------------------------------\n"
     ]
    }
   ],
   "source": [
    "# X/Ka - gaia (All)\n",
    "# output_ka2 = rotgliquad_fit_4_table(xka_g, clip_limit=kappa)\n",
    "output_ka2 = rotgliquad_fit_4_table(xka_g, std_clean=True)"
   ]
  },
  {
   "cell_type": "markdown",
   "metadata": {},
   "source": [
    "# 4 Combine all results"
   ]
  },
  {
   "cell_type": "code",
   "execution_count": 10,
   "metadata": {
    "ExecuteTime": {
     "end_time": "2021-03-08T13:50:47.948905Z",
     "start_time": "2021-03-08T13:50:47.944170Z"
    }
   },
   "outputs": [],
   "source": [
    "cat_names = [\"S/X$-$Gaia\", \"K$-$Gaia\", \"X/Ka$-$Gaia\"]\n",
    "\n",
    "names = [\"$D_1$\", \"$D_2$\", \"$D_3$\", \"$R_1$\", \"$R_2$\", \"$R_3$\",\n",
    "        \"$E_{22}^R$\", \"$E_{22}^I$\", \"$E_{21}^R$\", \"$E_{21}^I$\", \"$E_{20}$\",\n",
    "        \"$M_{22}^R$\", \"$M_{22}^I$\", \"$M_{21}^R$\", \"$M_{21}^I$\", \"$M_{20}$\"]\n",
    "\n",
    "num = len(names)\n",
    "width = 0.2\n",
    "loc = np.arange(num) * 2"
   ]
  },
  {
   "cell_type": "code",
   "execution_count": 11,
   "metadata": {
    "ExecuteTime": {
     "end_time": "2021-03-08T13:50:47.957118Z",
     "start_time": "2021-03-08T13:50:47.951517Z"
    }
   },
   "outputs": [],
   "source": [
    "estimates = [[output_sx1[\"pmt2\"]*1e3, output_sx2[\"pmt2\"]*1e3],\n",
    "             [output_k1[\"pmt2\"]*1e3, output_k2[\"pmt2\"]*1e3],\n",
    "             [output_ka1[\"pmt2\"]*1e3, output_ka2[\"pmt2\"]*1e3]\n",
    "             ]\n",
    "\n",
    "heights = [[2*output_sx1[\"sig2\"]*1e3, 2*output_sx2[\"sig2\"]*1e3],\n",
    "           [2*output_k1[\"sig2\"]*1e3, 2*output_k2[\"sig2\"]*1e3],\n",
    "           [2*output_ka1[\"sig2\"]*1e3, 2*output_ka2[\"sig2\"]*1e3]]\n",
    "\n",
    "bottoms = [[(output_sx1[\"pmt2\"]-output_sx1[\"sig2\"])*1e3,\n",
    "            (output_sx2[\"pmt2\"]-output_sx2[\"sig2\"])*1e3],\n",
    "           [(output_k1[\"pmt2\"]-output_k1[\"sig2\"])*1e3,\n",
    "            (output_k2[\"pmt2\"]-output_k2[\"sig2\"])*1e3],\n",
    "           [(output_ka1[\"pmt2\"]-output_ka1[\"sig2\"])*1e3,\n",
    "            (output_ka2[\"pmt2\"]-output_ka2[\"sig2\"])*1e3]]"
   ]
  },
  {
   "cell_type": "code",
   "execution_count": 12,
   "metadata": {
    "ExecuteTime": {
     "end_time": "2021-03-08T13:50:49.100888Z",
     "start_time": "2021-03-08T13:50:47.959637Z"
    }
   },
   "outputs": [
    {
     "data": {
      "image/png": "[encoded data removed]",
      "text/plain": [
       "<Figure size 864x432 with 3 Axes>"
      ]
     },
     "metadata": {
      "needs_background": "light"
     },
     "output_type": "display_data"
    }
   ],
   "source": [
    "fig, ax = plt.subplots(figsize=(12, 6), nrows=3, sharex=True)\n",
    "\n",
    "for i, cat_name in enumerate(cat_names):\n",
    "    ax[i].bar(loc-width, heights[i][0], fill=False,\n",
    "              bottom=bottoms[i][0], edgecolor=\"r\",\n",
    "              width=width, align=\"edge\", label=\"All\")\n",
    "    \n",
    "    ax[i].bar(loc, heights[i][1], fill=False,\n",
    "              bottom=bottoms[i][1], edgecolor=\"b\",\n",
    "              width=width, align=\"edge\", label=\"Common\")\n",
    "    \n",
    "    ax[i].hlines(estimates[i][0], loc-width, loc)\n",
    "    ax[i].hlines(estimates[i][1], loc, loc+width)\n",
    "    \n",
    "    ax[i].legend(fontsize=\"x-small\")\n",
    "\n",
    "    ax[i].set_ylabel(\"{}($\\mu$as)\".format(cat_name))\n",
    "\n",
    "ax[2].set_xticks(loc)\n",
    "ax[2].set_xticklabels(names)\n",
    "plt.tight_layout()"
   ]
  },
  {
   "cell_type": "code",
   "execution_count": 13,
   "metadata": {
    "ExecuteTime": {
     "end_time": "2021-03-08T13:50:49.260885Z",
     "start_time": "2021-03-08T13:50:49.103212Z"
    }
   },
   "outputs": [],
   "source": [
    "# S/X - Gaia (common sources in four bands)\n",
    "sx_g_com.keep_columns([\"source_id\", \"ra\", \"dec\", \"ra_err_gdr2\", \"dec_err_gdr2\",\n",
    "                       \"parallax\", \"parallax_err\", \"pmra\", \"pmra_err\", \"pmdec\", \"pmdec_err\",\n",
    "                       \"ra_dec_corr_gdr2\",\n",
    "                       \"icrf_name\", \"iers_name\",\n",
    "                       \"pos_err_max_gdr2\", \"pos_err_min_gdr2\", \"eepa_gdr2\",\n",
    "                       \"type\", \"ra_icrf3sx\", \"dec_icrf3sx\",\n",
    "                       \"ra_err_icrf3sx\", \"dec_err_icrf3sx\", \"ra_dec_corr_icrf3sx\",\n",
    "                       \"mean_obs\", \"pos_err_max_icrf3sx\", \"pos_err_min_icrf3sx\",\n",
    "                       \"eepa_icrf3sx\", \"beg_obs\", \"end_obs\", \"nb_sess\", \"nb_del\",\n",
    "                       \"dra\", \"ddec\", \"dra_err\", \"ddec_err\", \"dra_ddec_cov\",\n",
    "                       \"ang_sep\", \"ang_sep_err\", \"pa\", \"pa_err\",\n",
    "                       \"nor_ra\", \"nor_dec\", \"nor_sep\"])\n",
    "\n",
    "\n",
    "recalc_position_oft(sx_g, output_sx2[\"residual\"], \"cor\")\n",
    "sx_g.write(\"../data/icrf3sx_gdr2_all_combined.fits\", overwrite=True)"
   ]
  },
  {
   "cell_type": "code",
   "execution_count": 14,
   "metadata": {
    "ExecuteTime": {
     "end_time": "2021-03-08T13:50:49.356504Z",
     "start_time": "2021-03-08T13:50:49.263567Z"
    }
   },
   "outputs": [],
   "source": [
    "# S/X - Gaia (common sources in four bands)\n",
    "sx_g_com.keep_columns([\"source_id\", \"ra\", \"dec\", \"ra_err_gdr2\", \"dec_err_gdr2\",\n",
    "                       \"parallax\", \"parallax_err\",\n",
    "                       \"pmra\", \"pmra_err\", \"pmdec\", \"pmdec_err\",\n",
    "                       \"ra_dec_corr_gdr2\",\n",
    "                       \"icrf_name\", \"iers_name\",\n",
    "                       \"pos_err_max_gdr2\", \"pos_err_min_gdr2\", \"eepa_gdr2\",\n",
    "                       \"type\", \"ra_icrf3sx\", \"dec_icrf3sx\",\n",
    "                       \"ra_err_icrf3sx\", \"dec_err_icrf3sx\", \"ra_dec_corr_icrf3sx\",\n",
    "                       \"mean_obs\", \"pos_err_max_icrf3sx\", \"pos_err_min_icrf3sx\",\n",
    "                       \"eepa_icrf3sx\", \"beg_obs\", \"end_obs\", \"nb_sess\", \"nb_del\",\n",
    "                       \"dra\", \"ddec\", \"dra_err\", \"ddec_err\", \"dra_ddec_cov\",\n",
    "                       \"ang_sep\", \"ang_sep_err\", \"pa\", \"pa_err\",\n",
    "                       \"nor_ra\", \"nor_dec\", \"nor_sep\"])\n",
    "\n",
    "\n",
    "recalc_position_oft(sx_g_com, output_sx1[\"residual\"], \"cor\")\n",
    "sx_g_com.write(\"../data/icrf3sx_gdr2_com_combined.fits\", overwrite=True)"
   ]
  },
  {
   "cell_type": "code",
   "execution_count": 15,
   "metadata": {
    "ExecuteTime": {
     "end_time": "2021-03-08T13:50:49.447125Z",
     "start_time": "2021-03-08T13:50:49.358560Z"
    }
   },
   "outputs": [],
   "source": [
    "# K - Gaia (common sources)\n",
    "k_g.keep_columns([\n",
    "    \"source_id\", \"ra\", \"dec\", \"ra_err_gdr2\", \"dec_err_gdr2\", \"parallax\",\n",
    "    \"parallax_err\", \"pmra\", \"pmra_err\", \"pmdec\",\n",
    "    \"pmdec_err\", \"ra_dec_corr_gdr2\", \"icrf_name\", \"iers_name\",\n",
    "    \"pos_err_max_gdr2\", \"pos_err_min_gdr2\", \"eepa_gdr2\", \"type\",\n",
    "    \"ra_icrf3k\", \"dec_icrf3k\", \"ra_err_icrf3k\", \"dec_err_icrf3k\",\n",
    "    \"ra_dec_corr_icrf3k\", \"mean_obs\", \"pos_err_max_icrf3k\",\n",
    "    \"pos_err_min_icrf3k\", \"eepa_icrf3k\", \"beg_obs\", \"end_obs\", \"nb_sess\",\n",
    "    \"nb_del\", \"dra\", \"ddec\", \"dra_err\", \"ddec_err\", \"dra_ddec_cov\", \"ang_sep\",\n",
    "    \"ang_sep_err\", \"pa\", \"pa_err\", \"nor_ra\", \"nor_dec\", \"nor_sep\"\n",
    "])\n",
    "\n",
    "recalc_position_oft(k_g, output_k2[\"residual\"], \"cor\")\n",
    "k_g.write(\"../data/icrf3k_gdr2_all_combined.fits\", overwrite=True)"
   ]
  },
  {
   "cell_type": "code",
   "execution_count": 16,
   "metadata": {
    "ExecuteTime": {
     "end_time": "2021-03-08T13:50:49.536684Z",
     "start_time": "2021-03-08T13:50:49.449056Z"
    }
   },
   "outputs": [],
   "source": [
    "# K - Gaia (common sources in four bands)\n",
    "k_g_com.keep_columns([\n",
    "    \"source_id\", \"ra\", \"dec\", \"ra_err_gdr2\", \"dec_err_gdr2\", \"parallax\",\n",
    "    \"parallax_err\", \"pmra\", \"pmra_err\", \"pmdec\",\n",
    "    \"pmdec_err\", \"ra_dec_corr_gdr2\", \"icrf_name\", \"iers_name\",\n",
    "    \"pos_err_max_gdr2\", \"pos_err_min_gdr2\", \"eepa_gdr2\", \"type\",\n",
    "    \"ra_icrf3k\", \"dec_icrf3k\", \"ra_err_icrf3k\", \"dec_err_icrf3k\",\n",
    "    \"ra_dec_corr_icrf3k\", \"mean_obs\", \"pos_err_max_icrf3k\",\n",
    "    \"pos_err_min_icrf3k\", \"eepa_icrf3k\", \"beg_obs\", \"end_obs\", \"nb_sess\",\n",
    "    \"nb_del\", \"dra\", \"ddec\", \"dra_err\", \"ddec_err\", \"dra_ddec_cov\", \"ang_sep\",\n",
    "    \"ang_sep_err\", \"pa\", \"pa_err\", \"nor_ra\", \"nor_dec\", \"nor_sep\"\n",
    "])\n",
    "\n",
    "recalc_position_oft(k_g_com, output_k1[\"residual\"], \"cor\")\n",
    "k_g_com.write(\"../data/icrf3k_gdr2_com_combined.fits\", overwrite=True)"
   ]
  },
  {
   "cell_type": "code",
   "execution_count": 17,
   "metadata": {
    "ExecuteTime": {
     "end_time": "2021-03-08T13:50:49.626823Z",
     "start_time": "2021-03-08T13:50:49.539057Z"
    }
   },
   "outputs": [],
   "source": [
    "# X/Ka - Gaia (common sources)\n",
    "xka_g.keep_columns([\n",
    "    \"source_id\", \"ra\", \"dec\", \"ra_err_gdr2\", \"dec_err_gdr2\", \"parallax\",\n",
    "    \"parallax_err\", \"pmra\", \"pmra_err\", \"pmdec\",\n",
    "    \"pmdec_err\", \"ra_dec_corr_gdr2\", \"icrf_name\", \"iers_name\",\n",
    "    \"pos_err_max_gdr2\", \"pos_err_min_gdr2\", \"eepa_gdr2\", \"type\",\n",
    "    \"ra_icrf3xka\", \"dec_icrf3xka\", \"ra_err_icrf3xka\", \"dec_err_icrf3xka\",\n",
    "    \"ra_dec_corr_icrf3xka\", \"mean_obs\", \"pos_err_max_icrf3xka\",\n",
    "    \"pos_err_min_icrf3xka\", \"eepa_icrf3xka\", \"beg_obs\", \"end_obs\", \"nb_sess\",\n",
    "    \"nb_del\", \"dra\", \"ddec\", \"dra_err\", \"ddec_err\", \"dra_ddec_cov\", \"ang_sep\",\n",
    "    \"ang_sep_err\", \"pa\", \"pa_err\", \"nor_ra\", \"nor_dec\", \"nor_sep\"\n",
    "])\n",
    "\n",
    "recalc_position_oft(xka_g, output_ka2[\"residual\"], \"cor\")\n",
    "xka_g.write(\"../data/icrf3xka_gdr2_all_combined.fits\", overwrite=True)"
   ]
  },
  {
   "cell_type": "code",
   "execution_count": 18,
   "metadata": {
    "ExecuteTime": {
     "end_time": "2021-03-08T13:50:49.718633Z",
     "start_time": "2021-03-08T13:50:49.629056Z"
    }
   },
   "outputs": [],
   "source": [
    "# X/Ka - Gaia (common sources in four bands)\n",
    "xka_g_com.keep_columns([\n",
    "    \"source_id\", \"ra\", \"dec\", \"ra_err_gdr2\", \"dec_err_gdr2\", \"parallax\",\n",
    "    \"parallax_err\", \"pmra\", \"pmra_err\", \"pmdec\",\n",
    "    \"pmdec_err\", \"ra_dec_corr_gdr2\", \"icrf_name\", \"iers_name\",\n",
    "    \"pos_err_max_gdr2\", \"pos_err_min_gdr2\", \"eepa_gdr2\", \"type\",\n",
    "    \"ra_icrf3xka\", \"dec_icrf3xka\", \"ra_err_icrf3xka\", \"dec_err_icrf3xka\",\n",
    "    \"ra_dec_corr_icrf3xka\", \"mean_obs\", \"pos_err_max_icrf3xka\",\n",
    "    \"pos_err_min_icrf3xka\", \"eepa_icrf3xka\", \"beg_obs\", \"end_obs\", \"nb_sess\",\n",
    "    \"nb_del\", \"dra\", \"ddec\", \"dra_err\", \"ddec_err\", \"dra_ddec_cov\", \"ang_sep\",\n",
    "    \"ang_sep_err\", \"pa\", \"pa_err\", \"nor_ra\", \"nor_dec\", \"nor_sep\"\n",
    "])\n",
    "\n",
    "recalc_position_oft(xka_g_com, output_ka1[\"residual\"], \"cor\")\n",
    "xka_g_com.write(\"../data/icrf3xka_gdr2_com_combined.fits\", overwrite=True)"
   ]
  },
  {
   "cell_type": "code",
   "execution_count": 19,
   "metadata": {
    "ExecuteTime": {
     "end_time": "2021-03-08T13:50:49.730508Z",
     "start_time": "2021-03-08T13:50:49.721278Z"
    }
   },
   "outputs": [],
   "source": [
    "sx_g_com = sx_g_com[\"icrf_name\", \"iers_name\", \"source_id\", \"ra\", \"dec\", \"dra\",\n",
    "                    \"ddec\", \"dra_err\", \"ddec_err\", \"dra_ddec_cov\", \"ang_sep\",\n",
    "                    \"ang_sep_err\", \"pa\", \"pa_err\", \"nor_ra\", \"nor_dec\",\n",
    "                    \"nor_sep\", \"dra_cor\", \"ddec_cor\", \"ang_sep_cor\", \"pa_cor\",\n",
    "                    \"nor_ra_cor\", \"nor_dec_cor\", \"nor_sep_cor\", \"ra_err_gdr2\",\n",
    "                    \"dec_err_gdr2\", \"ra_dec_corr_gdr2\", \"pos_err_max_gdr2\",\n",
    "                    \"pos_err_min_gdr2\", \"eepa_gdr2\", \"ra_err_icrf3sx\",\n",
    "                    \"dec_err_icrf3sx\", \"ra_dec_corr_icrf3sx\",\n",
    "                    \"pos_err_max_icrf3sx\", \"pos_err_min_icrf3sx\",\n",
    "                    \"eepa_icrf3sx\", \"parallax\", \"parallax_err\", \"pmra\",\n",
    "                    \"pmra_err\", \"pmdec\", \"pmdec_err\"]\n",
    "\n",
    "sx_g_com.rename_columns([\n",
    "    \"dra\", \"ddec\", \"dra_err\", \"ddec_err\", \"dra_ddec_cov\", \"ang_sep\",\n",
    "    \"ang_sep_err\", \"pa\", \"pa_err\", \"nor_ra\", \"nor_dec\", \"nor_sep\", \"dra_cor\",\n",
    "    \"ddec_cor\", \"ang_sep_cor\", \"pa_cor\", \"nor_ra_cor\", \"nor_dec_cor\",\n",
    "    \"nor_sep_cor\"\n",
    "], [\n",
    "    \"dra_sx\", \"ddec_sx\", \"dra_err_sx\", \"ddec_err_sx\", \"dra_ddec_cov_sx\",\n",
    "    \"ang_sep_sx\", \"ang_sep_err_sx\", \"pa_sx\", \"pa_err_sx\", \"nor_ra_sx\",\n",
    "    \"nor_dec_sx\", \"nor_sep_sx\", \"dra_sx_cor\", \"ddec_sx_cor\", \"ang_sep_sx_cor\",\n",
    "    \"pa_sx_cor\", \"nor_ra_sx_cor\", \"nor_dec_sx_cor\", \"nor_sep_sx_cor\"\n",
    "])"
   ]
  },
  {
   "cell_type": "code",
   "execution_count": 20,
   "metadata": {
    "ExecuteTime": {
     "end_time": "2021-03-08T13:50:49.740995Z",
     "start_time": "2021-03-08T13:50:49.732889Z"
    }
   },
   "outputs": [],
   "source": [
    "k_g_com = k_g_com[\"iers_name\", \"dra\", \"ddec\", \"dra_err\", \"ddec_err\",\n",
    "                  \"dra_ddec_cov\", \"ang_sep\", \"ang_sep_err\", \"pa\", \"pa_err\",\n",
    "                  \"nor_ra\", \"nor_dec\", \"nor_sep\", \"dra_cor\", \"ddec_cor\",\n",
    "                  \"ang_sep_cor\", \"pa_cor\", \"nor_ra_cor\", \"nor_dec_cor\",\n",
    "                  \"nor_sep_cor\", \"ra_err_icrf3k\", \"dec_err_icrf3k\",\n",
    "                  \"ra_dec_corr_icrf3k\", \"pos_err_max_icrf3k\",\n",
    "                  \"pos_err_min_icrf3k\", \"eepa_icrf3k\"]\n",
    "\n",
    "k_g_com.rename_columns([\n",
    "    \"dra\", \"ddec\", \"dra_err\", \"ddec_err\", \"dra_ddec_cov\", \"ang_sep\",\n",
    "    \"ang_sep_err\", \"pa\", \"pa_err\", \"nor_ra\", \"nor_dec\", \"nor_sep\", \"dra_cor\",\n",
    "    \"ddec_cor\", \"ang_sep_cor\", \"pa_cor\", \"nor_ra_cor\", \"nor_dec_cor\",\n",
    "    \"nor_sep_cor\"\n",
    "], [\n",
    "    \"dra_k\", \"ddec_k\", \"dra_err_k\", \"ddec_err_k\", \"dra_ddec_cov_k\",\n",
    "    \"ang_sep_k\", \"ang_sep_err_k\", \"pa_k\", \"pa_err_k\", \"nor_ra_k\", \"nor_dec_k\",\n",
    "    \"nor_sep_k\", \"dra_k_cor\", \"ddec_k_cor\", \"ang_sep_k_cor\", \"pa_k_cor\",\n",
    "    \"nor_ra_k_cor\", \"nor_dec_k_cor\", \"nor_sep_k_cor\"\n",
    "])"
   ]
  },
  {
   "cell_type": "code",
   "execution_count": 21,
   "metadata": {
    "ExecuteTime": {
     "end_time": "2021-03-08T13:50:49.750829Z",
     "start_time": "2021-03-08T13:50:49.742615Z"
    }
   },
   "outputs": [],
   "source": [
    "xka_g_com = xka_g_com[\"iers_name\", \"dra\", \"ddec\", \"dra_err\", \"ddec_err\",\n",
    "                      \"dra_ddec_cov\", \"ang_sep\", \"ang_sep_err\", \"pa\", \"pa_err\",\n",
    "                      \"nor_ra\", \"nor_dec\", \"nor_sep\", \"dra_cor\", \"ddec_cor\",\n",
    "                      \"ang_sep_cor\", \"pa_cor\", \"nor_ra_cor\", \"nor_dec_cor\",\n",
    "                      \"nor_sep_cor\", \"ra_err_icrf3xka\", \"dec_err_icrf3xka\",\n",
    "                      \"ra_dec_corr_icrf3xka\", \"pos_err_max_icrf3xka\",\n",
    "                      \"pos_err_min_icrf3xka\", \"eepa_icrf3xka\"]\n",
    "\n",
    "xka_g_com.rename_columns([\n",
    "    \"dra\", \"ddec\", \"dra_err\", \"ddec_err\", \"dra_ddec_cov\", \"ang_sep\",\n",
    "    \"ang_sep_err\", \"pa\", \"pa_err\", \"nor_ra\", \"nor_dec\", \"nor_sep\", \"dra_cor\",\n",
    "    \"ddec_cor\", \"ang_sep_cor\", \"pa_cor\", \"nor_ra_cor\", \"nor_dec_cor\",\n",
    "    \"nor_sep_cor\"\n",
    "], [\n",
    "    \"dra_ka\", \"ddec_ka\", \"dra_err_ka\", \"ddec_err_ka\", \"dra_ddec_cov_ka\",\n",
    "    \"ang_sep_ka\", \"ang_sep_err_ka\", \"pa_ka\", \"pa_err_ka\", \"nor_ra_ka\",\n",
    "    \"nor_dec_ka\", \"nor_sep_ka\", \"dra_ka_cor\", \"ddec_ka_cor\", \"ang_sep_ka_cor\",\n",
    "    \"pa_ka_cor\", \"nor_ra_ka_cor\", \"nor_dec_ka_cor\", \"nor_sep_ka_cor\"\n",
    "])"
   ]
  },
  {
   "cell_type": "code",
   "execution_count": 22,
   "metadata": {
    "ExecuteTime": {
     "end_time": "2021-03-08T13:50:49.912722Z",
     "start_time": "2021-03-08T13:50:49.756659Z"
    }
   },
   "outputs": [],
   "source": [
    "temp1 = join(sx_g_com, k_g_com, keys=\"iers_name\")\n",
    "\n",
    "multi_freq_oft = join(temp1, xka_g_com, keys=\"iers_name\")\n",
    "\n",
    "multi_freq_oft.meta[\"comments\"] = [\n",
    "    \"Position offset for {} common sources between ICRF3 S/X ICRF3 K, and ICRF3 X/Ka \"\n",
    "    \"wrt. Gaia-CRF2\".format(len(multi_freq_oft)),\n",
    "    \"Created at {}\".format(time.asctime())]\n",
    "\n",
    "multi_freq_oft.write(\"../data/multiwav-offset-in-Gaia-frame2.fits\", overwrite=True)"
   ]
  }
 ],
 "metadata": {
  "hide_input": false,
  "kernelspec": {
   "display_name": "Python 3",
   "language": "python",
   "name": "python3"
  },
  "language_info": {
   "codemirror_mode": {
    "name": "ipython",
    "version": 3
   },
   "file_extension": ".py",
   "mimetype": "text/x-python",
   "name": "python",
   "nbconvert_exporter": "python",
   "pygments_lexer": "ipython3",
   "version": "3.7.10"
  },
  "latex_envs": {
   "LaTeX_envs_menu_present": true,
   "autoclose": false,
   "autocomplete": true,
   "bibliofile": "biblio.bib",
   "cite_by": "apalike",
   "current_citInitial": 1,
   "eqLabelWithNumbers": true,
   "eqNumInitial": 1,
   "hotkeys": {
    "equation": "Ctrl-E",
    "itemize": "Ctrl-I"
   },
   "labels_anchors": false,
   "latex_user_defs": false,
   "report_style_numbering": false,
   "user_envs_cfg": false
  }
 },
 "nbformat": 4,
 "nbformat_minor": 2
}
