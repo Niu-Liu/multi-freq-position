{
 "cells": [
  {
   "cell_type": "markdown",
   "metadata": {},
   "source": [
    "I contatenate all the source structure index data piece downloaded from BVID database.\n",
    "\n",
    "This memos contains\n",
    "\n",
    "- 1. A simple statistical analysis of the SI indice at X-band\n",
    "\n",
    "- 2. A proper representation of source sturcture, median of SIs derived at all epochs or the one closest to J2015\n",
    "\n",
    "- 3. Correlation of SI at different bands"
   ]
  },
  {
   "cell_type": "code",
   "execution_count": 1,
   "metadata": {
    "ExecuteTime": {
     "end_time": "2021-03-04T13:36:57.578959Z",
     "start_time": "2021-03-04T13:36:56.693675Z"
    }
   },
   "outputs": [],
   "source": [
    "from astropy.table import Table, setdiff, join\n",
    "from astropy.time import Time\n",
    "# import astropy.units as u\n",
    "import matplotlib.pyplot as plt\n",
    "from matplotlib.ticker import MultipleLocator\n",
    "import numpy as np"
   ]
  },
  {
   "cell_type": "markdown",
   "metadata": {},
   "source": [
    "# 1. Statistical properties of SI at X-band"
   ]
  },
  {
   "cell_type": "code",
   "execution_count": 2,
   "metadata": {
    "ExecuteTime": {
     "end_time": "2021-03-04T13:36:57.656637Z",
     "start_time": "2021-03-04T13:36:57.581762Z"
    }
   },
   "outputs": [
    {
     "name": "stdout",
     "output_type": "stream",
     "text": [
      "383 sources are gvien the SI seasurements.\n"
     ]
    }
   ],
   "source": [
    "# SI data\n",
    "si_x_table = Table.read(\"/Users/Neo/Astronomy/data/bvid/SI_X_20210221.fits\")\n",
    "\n",
    "si_x_table.rename_columns([\"source\", \"date\", \"flux\", \"structure_index\", \"compactness\"],\n",
    "                          [\"iers_name\", \"year\", \"flux\", \"si\", \"compactness\"])\n",
    "\n",
    "# Table of 512 sources\n",
    "com_sou_list = Table.read(\"../data/com-sou-list.txt\", format=\"ascii\")\n",
    "com_sou_list2 = Table.read(\"../data/com-sou-list-DR2.txt\", format=\"ascii\")\n",
    "\n",
    "# Cross-match\n",
    "si_4_com_sou = join(si_x_table, com_sou_list, keys=\"iers_name\")\n",
    "\n",
    "# To see how many sources are given a SI measurement\n",
    "si_4_com_sou_g = si_4_com_sou.group_by(\"iers_name\")\n",
    "\n",
    "com_sou_with_si = si_4_com_sou_g.groups.keys\n",
    "print(len(com_sou_with_si), \"sources are gvien the SI seasurements.\")"
   ]
  },
  {
   "cell_type": "code",
   "execution_count": 3,
   "metadata": {
    "ExecuteTime": {
     "end_time": "2021-03-04T13:36:57.846190Z",
     "start_time": "2021-03-04T13:36:57.659204Z"
    },
    "code_folding": [],
    "scrolled": true
   },
   "outputs": [],
   "source": [
    "num_sou_with_si = len(com_sou_with_si)\n",
    "num_si = np.zeros(num_sou_with_si)\n",
    "std_si = np.zeros(num_sou_with_si)\n",
    "si_dif = np.zeros(num_sou_with_si)\n",
    "epo_dif = np.zeros(num_sou_with_si)\n",
    "si_val = np.zeros(num_sou_with_si)\n",
    "epo_si_val = np.zeros(num_sou_with_si)\n",
    "epo_to_2016 = np.zeros(num_sou_with_si)\n",
    "\n",
    "for i, group in enumerate(si_4_com_sou_g.groups):\n",
    "    num_si[i] = len(group)\n",
    "\n",
    "    if len(group) == 1:\n",
    "        std_si[i] = 0\n",
    "    else:\n",
    "        std_si[i] = np.std(group[\"si\"])\n",
    "\n",
    "    si_dif[i] = group[\"si\"].max() - group[\"si\"].min()\n",
    "    epo_dif[i] = group[\"year\"].max() - group[\"year\"].min()\n",
    "\n",
    "    dif_2016 = np.fabs(group[\"year\"] - 2015)\n",
    "\n",
    "    ind = dif_2016.argmin()\n",
    "    si_val[i] = group[\"si\"][ind]\n",
    "    epo_si_val[i] = group[\"year\"][ind]\n",
    "    epo_to_2016[i] = dif_2016[ind]\n",
    "\n",
    "si_sta = Table([\n",
    "    com_sou_with_si[\"iers_name\"], num_si, std_si, si_dif, epo_dif, si_val,\n",
    "    epo_to_2016\n",
    "],\n",
    "               names=[\n",
    "                   \"iers_name\", \"nb_si\", \"si_std\", \"si_dif\", \"epo_dif\", \"si\",\n",
    "                   \"epo_2_2016\"\n",
    "               ])"
   ]
  },
  {
   "cell_type": "code",
   "execution_count": 4,
   "metadata": {
    "ExecuteTime": {
     "end_time": "2021-03-04T13:36:58.254137Z",
     "start_time": "2021-03-04T13:36:57.848033Z"
    }
   },
   "outputs": [
    {
     "name": "stdout",
     "output_type": "stream",
     "text": [
      "#Sou with only one SI measurements are 84.0\n"
     ]
    },
    {
     "data": {
      "image/png": "[encoded data removed]",
      "text/plain": [
       "<Figure size 864x288 with 2 Axes>"
      ]
     },
     "metadata": {
      "needs_background": "light"
     },
     "output_type": "display_data"
    }
   ],
   "source": [
    "fig, (ax0, ax1) = plt.subplots(figsize=(12, 4), ncols=2, sharex=True)\n",
    "\n",
    "bins = np.arange(1, 50)\n",
    "\n",
    "cou, _, _ = ax0.hist(si_sta[\"nb_si\"], bins)\n",
    "ax0.set_xlabel(\"No. SI\")\n",
    "ax0.set_ylabel(\"No. Source\")\n",
    "ax0.set_title(\"Fig.1 No. SI per source at X-band\")\n",
    "ax0.grid(lw=0.1)\n",
    "\n",
    "num = len(si_sta)\n",
    "ax1.hist(si_sta[\"nb_si\"], bins, histtype=\"step\", cumulative=True, weights=np.ones(num)/num)\n",
    "ax1.grid(lw=0.1)\n",
    "\n",
    "print(\"#Sou with only one SI measurements are\", cou[0])"
   ]
  },
  {
   "cell_type": "code",
   "execution_count": 5,
   "metadata": {
    "ExecuteTime": {
     "end_time": "2021-03-04T13:36:58.678003Z",
     "start_time": "2021-03-04T13:36:58.256021Z"
    }
   },
   "outputs": [
    {
     "name": "stdout",
     "output_type": "stream",
     "text": [
      "Fig.2 Standard deviation of SI at X-band\n"
     ]
    },
    {
     "data": {
      "image/png": "[encoded data removed]",
      "text/plain": [
       "<Figure size 864x288 with 2 Axes>"
      ]
     },
     "metadata": {
      "needs_background": "light"
     },
     "output_type": "display_data"
    }
   ],
   "source": [
    "fig, (ax0, ax1) = plt.subplots(figsize=(12, 4), ncols=2, sharex=True)\n",
    "\n",
    "bins = np.arange(0.1, 4, 0.1)\n",
    "cou_s, _, _ = ax0.hist(si_sta[\"si_std\"], bins)\n",
    "\n",
    "ax0.set_xlabel(\"Std of SI for individual source\")\n",
    "ax0.set_ylabel(\"No. Source\")\n",
    "ax0.set_xlim([0, 2])\n",
    "ax0.set_xticks(np.arange(0, 4.1, 0.5))\n",
    "ax0.grid(lw=0.3)\n",
    "\n",
    "num = len(si_sta[\"si_std\"])\n",
    "ax1.hist(si_sta[\"si_std\"], bins, histtype=\"step\", cumulative=True, weights=np.ones(num)/num)\n",
    "ax1.grid(lw=0.3)\n",
    "\n",
    "print(\"Fig.2 Standard deviation of SI at X-band\")"
   ]
  },
  {
   "cell_type": "code",
   "execution_count": 6,
   "metadata": {
    "ExecuteTime": {
     "end_time": "2021-03-04T13:36:59.048845Z",
     "start_time": "2021-03-04T13:36:58.681555Z"
    }
   },
   "outputs": [
    {
     "name": "stdout",
     "output_type": "stream",
     "text": [
      "Fig.3 Maximum absolute difference in SI at X-band\n"
     ]
    },
    {
     "data": {
      "image/png": "[encoded data removed]",
      "text/plain": [
       "<Figure size 864x288 with 2 Axes>"
      ]
     },
     "metadata": {
      "needs_background": "light"
     },
     "output_type": "display_data"
    }
   ],
   "source": [
    "fig, (ax0, ax1) = plt.subplots(figsize=(12, 4), ncols=2, sharex=True)\n",
    "\n",
    "bins = np.arange(0.1, 4, 0.1)\n",
    "cou_s, _, _ = ax0.hist(si_sta[\"si_dif\"], bins)\n",
    "\n",
    "ax0.set_xlabel(\"Differences of SI for individual source\")\n",
    "ax0.set_ylabel(\"No. Source\")\n",
    "ax0.set_xlim([0, 4])\n",
    "ax0.set_xticks(np.arange(0, 4.1, 0.5))\n",
    "ax0.set_ylim([0, 25])\n",
    "ax0.grid(lw=0.3)\n",
    "\n",
    "num = len(si_sta[\"si_dif\"])\n",
    "ax1.hist(si_sta[\"si_dif\"], bins, histtype=\"step\", cumulative=True, weights=np.ones(num)/num)\n",
    "ax1.grid(lw=0.3)\n",
    "\n",
    "print(\"Fig.3 Maximum absolute difference in SI at X-band\")"
   ]
  },
  {
   "cell_type": "code",
   "execution_count": 7,
   "metadata": {
    "ExecuteTime": {
     "end_time": "2021-03-04T13:36:59.361879Z",
     "start_time": "2021-03-04T13:36:59.051576Z"
    }
   },
   "outputs": [
    {
     "name": "stdout",
     "output_type": "stream",
     "text": [
      "Fig.4 Epoch difference of image\n"
     ]
    },
    {
     "data": {
      "image/png": "[encoded data removed]",
      "text/plain": [
       "<Figure size 432x288 with 1 Axes>"
      ]
     },
     "metadata": {
      "needs_background": "light"
     },
     "output_type": "display_data"
    }
   ],
   "source": [
    "fig, ax = plt.subplots()\n",
    "\n",
    "bins = np.arange(0.1, 25, 0.5)\n",
    "cou_s, _, _ = ax.hist(si_sta[\"epo_dif\"], bins)\n",
    "\n",
    "ax.set_xlabel(\"Epoch difference for individual source (yr)\")\n",
    "ax.set_ylabel(\"No. Source\")\n",
    "\n",
    "ax.set_xlim([0, 25])\n",
    "ax.xaxis.set_minor_locator(MultipleLocator(1))\n",
    "\n",
    "ax.grid(lw=0.1)\n",
    "\n",
    "print(\"Fig.4 Epoch difference of image\")"
   ]
  },
  {
   "cell_type": "code",
   "execution_count": 8,
   "metadata": {
    "ExecuteTime": {
     "end_time": "2021-03-04T13:37:00.017266Z",
     "start_time": "2021-03-04T13:36:59.364709Z"
    }
   },
   "outputs": [
    {
     "name": "stdout",
     "output_type": "stream",
     "text": [
      "Fig.5 Epoch difference to J2016\n"
     ]
    },
    {
     "data": {
      "image/png": "[encoded data removed]",
      "text/plain": [
       "<Figure size 864x288 with 2 Axes>"
      ]
     },
     "metadata": {
      "needs_background": "light"
     },
     "output_type": "display_data"
    }
   ],
   "source": [
    "fig, (ax0, ax1) = plt.subplots(figsize=(12, 4), ncols=2, sharex=True)\n",
    "\n",
    "bins = np.arange(0, 20, 0.5)\n",
    "cou_s, _, _ = ax0.hist(si_sta[\"epo_2_2015\"], bins)\n",
    "\n",
    "ax0.set_xlabel(\"Minimum epoch difference to $J2016$ (yr)\")\n",
    "ax0.set_ylabel(\"No. Source\")\n",
    "ax0.set_xlim([-0.5, 20.5])\n",
    "ax0.set_xticks(np.arange(0, 20.1, 5))\n",
    "ax0.xaxis.set_minor_locator(MultipleLocator(1))\n",
    "ax0.grid(lw=0.3)\n",
    "\n",
    "num = len(si_sta[\"si_dif\"])\n",
    "ax1.hist(si_sta[\"si_dif\"], bins, histtype=\"step\", cumulative=True, weights=np.ones(num)/num)\n",
    "ax1.grid(lw=0.3)\n",
    "\n",
    "print(\"Fig.5 Epoch difference to J2015\")"
   ]
  },
  {
   "cell_type": "markdown",
   "metadata": {},
   "source": [
    "For most sources, the number of SI measurements is less than 5, as shown in Fig. 1.\n",
    "\n",
    "Figure 2 tells us that the standard deviation of SIs for individual sources is less than 1 for most cases, but the maximum of SI difference could be as large as 3-4 (Fig. 3), indicating possible violate changes in source morphology.\n",
    "\n",
    "Since the image is just a snapshot of the source, the epoch is of great importance.\n",
    "Considering the epoch, I find that even for individual source, the gap between the first and the last image could be as long as 20 yr (Fig.4).\n",
    "But if we choose the image made at the median epoch, the median epoch to the J2015.0 is shorter than 1-yr for over 150 sources."
   ]
  },
  {
   "cell_type": "markdown",
   "metadata": {},
   "source": [
    "# 2 Use the extracted SI data"
   ]
  },
  {
   "cell_type": "code",
   "execution_count": 10,
   "metadata": {
    "ExecuteTime": {
     "end_time": "2021-03-04T13:37:13.003486Z",
     "start_time": "2021-03-04T13:37:12.990043Z"
    }
   },
   "outputs": [],
   "source": [
    "si_x_tab = Table.read(\"../data/si_x.fits\")\n",
    "\n",
    "mask = si_x_tab[\"si_c15\"] != 0\n",
    "si_x_tab1 = si_x_tab[mask]"
   ]
  },
  {
   "cell_type": "code",
   "execution_count": 11,
   "metadata": {
    "ExecuteTime": {
     "end_time": "2021-03-04T13:37:13.054811Z",
     "start_time": "2021-03-04T13:37:13.006278Z"
    }
   },
   "outputs": [],
   "source": [
    "# Source with SI in BVID\n",
    "com_sou_si = join(com_sou_list, si_x_tab1, keys=\"iers_name\")\n",
    "\n",
    "com_sou_si.write(\"../data/si_from_bvid.fits\", overwrite=True)"
   ]
  },
  {
   "cell_type": "code",
   "execution_count": 12,
   "metadata": {
    "ExecuteTime": {
     "end_time": "2021-03-04T13:37:13.083730Z",
     "start_time": "2021-03-04T13:37:13.058865Z"
    }
   },
   "outputs": [],
   "source": [
    "# Source without SI in BVID\n",
    "miss_sou_list = setdiff(com_sou_list, com_sou_si, keys=\"iers_name\")\n",
    "miss_sou_list.write(\"../data/miss_sou_in_bvid.txt\",\n",
    "                    format=\"ascii\", formats={\"iers_name\": \"%s\"},\n",
    "                    overwrite=True)"
   ]
  },
  {
   "cell_type": "code",
   "execution_count": 13,
   "metadata": {
    "ExecuteTime": {
     "end_time": "2021-03-04T13:37:13.120540Z",
     "start_time": "2021-03-04T13:37:13.099004Z"
    }
   },
   "outputs": [],
   "source": [
    "# Also about how many new sources when using EDR3 than DR2\n",
    "miss_sou_list2 = setdiff(com_sou_list2, si_x_tab1, keys=\"iers_name\")\n",
    "miss_sou_list2.write(\"../data/miss_sou_in_bvid-DR2.txt\",\n",
    "                    format=\"ascii\", formats={\"iers_name\": \"%s\"},\n",
    "                    overwrite=True)"
   ]
  },
  {
   "cell_type": "markdown",
   "metadata": {},
   "source": [
    "# 3 Use the `Astrogeo` database"
   ]
  },
  {
   "cell_type": "markdown",
   "metadata": {},
   "source": [
    "Then I run the script `get_astrogeo_image.py` to get the images availabel in Astrogeo dababase for those sources that do not have a SI measurement in BVID."
   ]
  },
  {
   "cell_type": "code",
   "execution_count": 14,
   "metadata": {
    "ExecuteTime": {
     "end_time": "2021-03-04T13:37:13.219883Z",
     "start_time": "2021-03-04T13:37:13.135650Z"
    }
   },
   "outputs": [],
   "source": [
    "class_tab = Table.read(\"../logs/sou-class.txt\", format=\"ascii\")\n",
    "\n",
    "class_tab_g = class_tab.group_by(\"class\")\n",
    "\n",
    "comments = [\"use SI from BVID directly\",\n",
    "            \"could calculate the SI using images from Astrogeo\",\n",
    "            \"might use SI from BVID\",\n",
    "            \"use SI from BVID directly\",\n",
    "            \"should calculate the SI using images from Astrogeo\",\n",
    "            \"should calculate the SI using images from Astrogeo\",\n",
    "            \"No idea\"]"
   ]
  },
  {
   "cell_type": "code",
   "execution_count": 15,
   "metadata": {
    "ExecuteTime": {
     "end_time": "2021-03-04T13:37:13.227925Z",
     "start_time": "2021-03-04T13:37:13.222134Z"
    },
    "scrolled": true
   },
   "outputs": [
    {
     "name": "stdout",
     "output_type": "stream",
     "text": [
      "A   381  use SI from BVID directly\n",
      "B1    1  could calculate the SI using images from Astrogeo\n",
      "B2    1  might use SI from BVID\n",
      "C1   29  use SI from BVID directly\n",
      "C2   72  should calculate the SI using images from Astrogeo\n",
      "C3   28  should calculate the SI using images from Astrogeo\n"
     ]
    }
   ],
   "source": [
    "for i in range(len(class_tab_g.groups)):\n",
    "    print(\"{:2s}  {:3d}  {}\".format(class_tab_g.groups[i][\"class\"][0],\n",
    "                                   len(class_tab_g.groups[i]),\n",
    "                                   comments[i]))"
   ]
  },
  {
   "cell_type": "markdown",
   "metadata": {},
   "source": [
    "In short,\n",
    "\n",
    "| Condition | No. Source |\n",
    "| --- | --- |\n",
    "| total |                   512 |\n",
    "| SI in BVID (all epoch)  | 381 |\n",
    "| SI Missing  | 131 |"
   ]
  }
 ],
 "metadata": {
  "hide_input": false,
  "kernelspec": {
   "display_name": "Python 3",
   "language": "python",
   "name": "python3"
  },
  "language_info": {
   "codemirror_mode": {
    "name": "ipython",
    "version": 3
   },
   "file_extension": ".py",
   "mimetype": "text/x-python",
   "name": "python",
   "nbconvert_exporter": "python",
   "pygments_lexer": "ipython3",
   "version": "3.7.10"
  },
  "latex_envs": {
   "LaTeX_envs_menu_present": true,
   "autoclose": false,
   "autocomplete": true,
   "bibliofile": "biblio.bib",
   "cite_by": "apalike",
   "current_citInitial": 1,
   "eqLabelWithNumbers": true,
   "eqNumInitial": 1,
   "hotkeys": {
    "equation": "Ctrl-E",
    "itemize": "Ctrl-I"
   },
   "labels_anchors": false,
   "latex_user_defs": false,
   "report_style_numbering": false,
   "user_envs_cfg": false
  }
 },
 "nbformat": 4,
 "nbformat_minor": 2
}
