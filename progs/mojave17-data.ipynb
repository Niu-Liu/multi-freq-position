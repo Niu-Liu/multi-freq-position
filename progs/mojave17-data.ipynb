{
 "cells": [
  {
   "cell_type": "markdown",
   "metadata": {
    "hideCode": false,
    "hidePrompt": false
   },
   "source": [
    "This notebook reads the tabular data from MOJAVE-17 paper (Lister et al. 2019).\n",
    "\n",
    "The original table header information is commented."
   ]
  },
  {
   "cell_type": "code",
   "execution_count": 1,
   "metadata": {
    "hideCode": false,
    "hidePrompt": false
   },
   "outputs": [],
   "source": [
    "from astropy.table import Table, join, Column\n",
    "from astropy.time import Time\n",
    "from astropy import units as u\n",
    "from datetime import datetime\n",
    "import matplotlib.pyplot as plt\n",
    "import numpy as np\n",
    "\n",
    "# # Local modules\n",
    "from calc_pa import wrap_angle"
   ]
  },
  {
   "cell_type": "code",
   "execution_count": 2,
   "metadata": {},
   "outputs": [],
   "source": [
    "align_sou = Table.read(\"../data/aligned-sou.fits\")"
   ]
  },
  {
   "cell_type": "code",
   "execution_count": 3,
   "metadata": {},
   "outputs": [],
   "source": [
    "souname = align_sou[\"iers_name\"]\n",
    "# pa_k = align_sou[\"pa_k_ccl2\"]\n",
    "# pa_ka = align_sou[\"pa_ka_ccl2\"]\n",
    "r_g = align_sou[\"ang_sep_g_ccl2\"]\n",
    "pa_g = align_sou[\"pa_g_ccl2\"]"
   ]
  },
  {
   "cell_type": "markdown",
   "metadata": {
    "hideCode": false,
    "hidePrompt": false
   },
   "source": [
    "Table 3. \n",
    "\n",
    "Columns are as follows: \n",
    "- (1) B1950 name\n",
    "- (2) feature identification number (zero indicates core feature)\n",
    "- (3) observation epoch\n",
    "- (4) flux density at 15 GHz in milliJansky\n",
    "- (5) position offset from the core feature (or map center for the core feature entries) in milliarcseconds\n",
    "- (6) position angle with respect to the core feature (or map center for the core feature entries) in degrees\n",
    "- (7) FWHM major axis of fitted Gaussian in milliarcseconds\n",
    "- (8) axial ratio of fitted Gaussian\n",
    "- (9) major axis position angle of fitted Gaussian in degrees\n",
    "- (10) robust feature flag a Individual feature epoch not used in kinematic fits."
   ]
  },
  {
   "cell_type": "code",
   "execution_count": 4,
   "metadata": {
    "hideCode": false,
    "hidePrompt": false
   },
   "outputs": [],
   "source": [
    "table3 = Table.read(\"../data/mojave17/apjab08eet3_mrt.txt\",\n",
    "                    format=\"ascii.fixed_width_no_header\",\n",
    "                    col_starts=[0, 9, 12, 14, 26, 34, 40, 46, 52, 57, 61],\n",
    "                    col_ends=[8, 11, 13, 25, 33, 39, 45, 51, 56, 60, 62],\n",
    "                    names=[\"iers_name\", \"F\", \"f_F\", \"ObsEpoch\",\n",
    "                           \"I\", \"r\", \"PA\", \"MajAxis\", \"Ratio\", \"MajPA\", \"Robust\"])\n",
    "\n",
    "table3[\"I\"].unit = u.mJy\n",
    "table3[\"r\"].unit = u.mas\n",
    "table3[\"PA\"].unit = u.deg\n",
    "table3[\"MajAxis\"].unit = u.mas\n",
    "table3[\"MajPA\"].unit = u.deg\n",
    "\n",
    "table3g = table3.group_by(\"iers_name\")"
   ]
  },
  {
   "cell_type": "code",
   "execution_count": 5,
   "metadata": {
    "scrolled": false
   },
   "outputs": [],
   "source": [
    "N = len(table3)\n",
    "obs_epoch = []\n",
    "\n",
    "for i in range(N):\n",
    "    epoch_stri = datetime.strptime(table3[\"ObsEpoch\"][i], \"%Y %b %d\") \n",
    "    obs_epoch.append(epoch_stri.isoformat()) \n",
    "\n",
    "x  = Time(obs_epoch)\n",
    "obs_epoch = Column(x.jyear)\n",
    "    \n",
    "table3[\"ObsEpoch\"] = obs_epoch"
   ]
  },
  {
   "cell_type": "code",
   "execution_count": 6,
   "metadata": {},
   "outputs": [
    {
     "name": "stdout",
     "output_type": "stream",
     "text": [
      "We found the jet feature information of 134 AGNs between 2014 and 2016.\n"
     ]
    }
   ],
   "source": [
    "table3_sub = table3[(table3[\"ObsEpoch\"]<2016)&(table3[\"ObsEpoch\"]>2014)]\n",
    "table3g = table3_sub.group_by(\"iers_name\")\n",
    "\n",
    "print(\"We found the jet feature information of {} AGNs between 2014 and 2016.\".format(len(table3g.groups)))"
   ]
  },
  {
   "cell_type": "code",
   "execution_count": 7,
   "metadata": {},
   "outputs": [
    {
     "data": {
      "text/html": [
       "<i>Table masked=True length=5</i>\n",
       "<table id=\"table4723187152\" class=\"table-striped table-bordered table-condensed\">\n",
       "<thead><tr><th>iers_name</th><th>ra_err_k</th><th>dec_err_k</th><th>pos_err_k</th><th>ra</th><th>dec</th><th>ra_err_x</th><th>dec_err_x</th><th>pos_err_x</th><th>dra_k</th><th>ddec_k</th><th>dra_err_k</th><th>ddec_err_k</th><th>dra_ddec_cov_k</th><th>ang_sep_k</th><th>pa_k</th><th>nor_ra_k</th><th>nor_dec_k</th><th>nor_sep_k</th><th>dra_k_all1</th><th>ddec_k_all1</th><th>ang_sep_k_all1</th><th>pa_k_all1</th><th>nor_ra_k_all1</th><th>nor_dec_k_all1</th><th>nor_sep_k_all1</th><th>dra_k_all2</th><th>ddec_k_all2</th><th>ang_sep_k_all2</th><th>pa_k_all2</th><th>nor_ra_k_all2</th><th>nor_dec_k_all2</th><th>nor_sep_k_all2</th><th>dra_k_cln1</th><th>ddec_k_cln1</th><th>ang_sep_k_cln1</th><th>pa_k_cln1</th><th>nor_ra_k_cln1</th><th>nor_dec_k_cln1</th><th>nor_sep_k_cln1</th><th>dra_k_cln2</th><th>ddec_k_cln2</th><th>ang_sep_k_cln2</th><th>pa_k_cln2</th><th>nor_ra_k_cln2</th><th>nor_dec_k_cln2</th><th>nor_sep_k_cln2</th><th>dra_k_com1</th><th>ddec_k_com1</th><th>ang_sep_k_com1</th><th>pa_k_com1</th><th>nor_ra_k_com1</th><th>nor_dec_k_com1</th><th>nor_sep_k_com1</th><th>dra_k_com2</th><th>ddec_k_com2</th><th>ang_sep_k_com2</th><th>pa_k_com2</th><th>nor_ra_k_com2</th><th>nor_dec_k_com2</th><th>nor_sep_k_com2</th><th>dra_k_ccl1</th><th>ddec_k_ccl1</th><th>ang_sep_k_ccl1</th><th>pa_k_ccl1</th><th>nor_ra_k_ccl1</th><th>nor_dec_k_ccl1</th><th>nor_sep_k_ccl1</th><th>dra_k_ccl2</th><th>ddec_k_ccl2</th><th>ang_sep_k_ccl2</th><th>pa_k_ccl2</th><th>nor_ra_k_ccl2</th><th>nor_dec_k_ccl2</th><th>nor_sep_k_ccl2</th><th>ra_err_ka</th><th>dec_err_ka</th><th>pos_err_ka</th><th>dra_ka</th><th>ddec_ka</th><th>dra_err_ka</th><th>ddec_err_ka</th><th>dra_ddec_cov_ka</th><th>ang_sep_ka</th><th>pa_ka</th><th>nor_ra_ka</th><th>nor_dec_ka</th><th>nor_sep_ka</th><th>dra_ka_all1</th><th>ddec_ka_all1</th><th>ang_sep_ka_all1</th><th>pa_ka_all1</th><th>nor_ra_ka_all1</th><th>nor_dec_ka_all1</th><th>nor_sep_ka_all1</th><th>dra_ka_all2</th><th>ddec_ka_all2</th><th>ang_sep_ka_all2</th><th>pa_ka_all2</th><th>nor_ra_ka_all2</th><th>nor_dec_ka_all2</th><th>nor_sep_ka_all2</th><th>dra_ka_cln1</th><th>ddec_ka_cln1</th><th>ang_sep_ka_cln1</th><th>pa_ka_cln1</th><th>nor_ra_ka_cln1</th><th>nor_dec_ka_cln1</th><th>nor_sep_ka_cln1</th><th>dra_ka_cln2</th><th>ddec_ka_cln2</th><th>ang_sep_ka_cln2</th><th>pa_ka_cln2</th><th>nor_ra_ka_cln2</th><th>nor_dec_ka_cln2</th><th>nor_sep_ka_cln2</th><th>dra_ka_com1</th><th>ddec_ka_com1</th><th>ang_sep_ka_com1</th><th>pa_ka_com1</th><th>nor_ra_ka_com1</th><th>nor_dec_ka_com1</th><th>nor_sep_ka_com1</th><th>dra_ka_com2</th><th>ddec_ka_com2</th><th>ang_sep_ka_com2</th><th>pa_ka_com2</th><th>nor_ra_ka_com2</th><th>nor_dec_ka_com2</th><th>nor_sep_ka_com2</th><th>dra_ka_ccl1</th><th>ddec_ka_ccl1</th><th>ang_sep_ka_ccl1</th><th>pa_ka_ccl1</th><th>nor_ra_ka_ccl1</th><th>nor_dec_ka_ccl1</th><th>nor_sep_ka_ccl1</th><th>dra_ka_ccl2</th><th>ddec_ka_ccl2</th><th>ang_sep_ka_ccl2</th><th>pa_ka_ccl2</th><th>nor_ra_ka_ccl2</th><th>nor_dec_ka_ccl2</th><th>nor_sep_ka_ccl2</th><th>ra_err_g</th><th>dec_err_g</th><th>pos_err_g</th><th>dra_g</th><th>ddec_g</th><th>dra_err_g</th><th>ddec_err_g</th><th>dra_ddec_cov_g</th><th>ang_sep_g</th><th>pa_g</th><th>nor_ra_g</th><th>nor_dec_g</th><th>nor_sep_g</th><th>dra_g_all1</th><th>ddec_g_all1</th><th>ang_sep_g_all1</th><th>pa_g_all1</th><th>nor_ra_g_all1</th><th>nor_dec_g_all1</th><th>nor_sep_g_all1</th><th>dra_g_all2</th><th>ddec_g_all2</th><th>ang_sep_g_all2</th><th>pa_g_all2</th><th>nor_ra_g_all2</th><th>nor_dec_g_all2</th><th>nor_sep_g_all2</th><th>dra_g_cln1</th><th>ddec_g_cln1</th><th>ang_sep_g_cln1</th><th>pa_g_cln1</th><th>nor_ra_g_cln1</th><th>nor_dec_g_cln1</th><th>nor_sep_g_cln1</th><th>dra_g_cln2</th><th>ddec_g_cln2</th><th>ang_sep_g_cln2</th><th>pa_g_cln2</th><th>nor_ra_g_cln2</th><th>nor_dec_g_cln2</th><th>nor_sep_g_cln2</th><th>dra_g_com1</th><th>ddec_g_com1</th><th>ang_sep_g_com1</th><th>pa_g_com1</th><th>nor_ra_g_com1</th><th>nor_dec_g_com1</th><th>nor_sep_g_com1</th><th>dra_g_com2</th><th>ddec_g_com2</th><th>ang_sep_g_com2</th><th>pa_g_com2</th><th>nor_ra_g_com2</th><th>nor_dec_g_com2</th><th>nor_sep_g_com2</th><th>dra_g_ccl1</th><th>ddec_g_ccl1</th><th>ang_sep_g_ccl1</th><th>pa_g_ccl1</th><th>nor_ra_g_ccl1</th><th>nor_dec_g_ccl1</th><th>nor_sep_g_ccl1</th><th>dra_g_ccl2</th><th>ddec_g_ccl2</th><th>ang_sep_g_ccl2</th><th>pa_g_ccl2</th><th>nor_ra_g_ccl2</th><th>nor_dec_g_ccl2</th><th>nor_sep_g_ccl2</th><th>inc_ang_k_g_ccl2</th><th>inc_ang_k_ka_ccl2</th><th>inc_ang_ka_g_ccl2</th><th>max_pa</th></tr></thead>\n",
       "<thead><tr><th></th><th>mas</th><th>mas</th><th></th><th>deg</th><th>deg</th><th>mas</th><th>mas</th><th></th><th>mas</th><th>mas</th><th>mas</th><th>mas</th><th></th><th>mas</th><th>deg</th><th></th><th></th><th></th><th>mas</th><th>mas</th><th></th><th>deg</th><th></th><th></th><th></th><th>mas</th><th>mas</th><th></th><th>deg</th><th></th><th></th><th></th><th>mas</th><th>mas</th><th></th><th>deg</th><th></th><th></th><th></th><th>mas</th><th>mas</th><th></th><th>deg</th><th></th><th></th><th></th><th>mas</th><th>mas</th><th></th><th>deg</th><th></th><th></th><th></th><th>mas</th><th>mas</th><th></th><th>deg</th><th></th><th></th><th></th><th>mas</th><th>mas</th><th></th><th>deg</th><th></th><th></th><th></th><th>mas</th><th>mas</th><th></th><th>deg</th><th></th><th></th><th></th><th>mas</th><th>mas</th><th></th><th>mas</th><th>mas</th><th>mas</th><th>mas</th><th></th><th>mas</th><th>deg</th><th></th><th></th><th></th><th>mas</th><th>mas</th><th></th><th>deg</th><th></th><th></th><th></th><th>mas</th><th>mas</th><th></th><th>deg</th><th></th><th></th><th></th><th>mas</th><th>mas</th><th></th><th>deg</th><th></th><th></th><th></th><th>mas</th><th>mas</th><th></th><th>deg</th><th></th><th></th><th></th><th>mas</th><th>mas</th><th></th><th>deg</th><th></th><th></th><th></th><th>mas</th><th>mas</th><th></th><th>deg</th><th></th><th></th><th></th><th>mas</th><th>mas</th><th></th><th>deg</th><th></th><th></th><th></th><th>mas</th><th>mas</th><th></th><th>deg</th><th></th><th></th><th></th><th>mas</th><th>mas</th><th>mas</th><th>mas</th><th>mas</th><th>mas</th><th>mas</th><th></th><th>mas</th><th>deg</th><th></th><th></th><th></th><th>mas</th><th>mas</th><th></th><th>deg</th><th></th><th></th><th></th><th>mas</th><th>mas</th><th></th><th>deg</th><th></th><th></th><th></th><th>mas</th><th>mas</th><th></th><th>deg</th><th></th><th></th><th></th><th>mas</th><th>mas</th><th></th><th>deg</th><th></th><th></th><th></th><th>mas</th><th>mas</th><th></th><th>deg</th><th></th><th></th><th></th><th>mas</th><th>mas</th><th></th><th>deg</th><th></th><th></th><th></th><th>mas</th><th>mas</th><th></th><th>deg</th><th></th><th></th><th></th><th>mas</th><th>mas</th><th></th><th>deg</th><th></th><th></th><th></th><th>deg</th><th>deg</th><th>deg</th><th></th></tr></thead>\n",
       "<thead><tr><th>str8</th><th>float64</th><th>float64</th><th>float64</th><th>float64</th><th>float64</th><th>float64</th><th>float64</th><th>float64</th><th>float64</th><th>float64</th><th>float64</th><th>float64</th><th>float64</th><th>float64</th><th>float64</th><th>float64</th><th>float64</th><th>float64</th><th>float64</th><th>float64</th><th>float64</th><th>float64</th><th>float64</th><th>float64</th><th>float64</th><th>float64</th><th>float64</th><th>float64</th><th>float64</th><th>float64</th><th>float64</th><th>float64</th><th>float64</th><th>float64</th><th>float64</th><th>float64</th><th>float64</th><th>float64</th><th>float64</th><th>float64</th><th>float64</th><th>float64</th><th>float64</th><th>float64</th><th>float64</th><th>float64</th><th>float64</th><th>float64</th><th>float64</th><th>float64</th><th>float64</th><th>float64</th><th>float64</th><th>float64</th><th>float64</th><th>float64</th><th>float64</th><th>float64</th><th>float64</th><th>float64</th><th>float64</th><th>float64</th><th>float64</th><th>float64</th><th>float64</th><th>float64</th><th>float64</th><th>float64</th><th>float64</th><th>float64</th><th>float64</th><th>float64</th><th>float64</th><th>float64</th><th>float64</th><th>float64</th><th>float64</th><th>float64</th><th>float64</th><th>float64</th><th>float64</th><th>float64</th><th>float64</th><th>float64</th><th>float64</th><th>float64</th><th>float64</th><th>float64</th><th>float64</th><th>float64</th><th>float64</th><th>float64</th><th>float64</th><th>float64</th><th>float64</th><th>float64</th><th>float64</th><th>float64</th><th>float64</th><th>float64</th><th>float64</th><th>float64</th><th>float64</th><th>float64</th><th>float64</th><th>float64</th><th>float64</th><th>float64</th><th>float64</th><th>float64</th><th>float64</th><th>float64</th><th>float64</th><th>float64</th><th>float64</th><th>float64</th><th>float64</th><th>float64</th><th>float64</th><th>float64</th><th>float64</th><th>float64</th><th>float64</th><th>float64</th><th>float64</th><th>float64</th><th>float64</th><th>float64</th><th>float64</th><th>float64</th><th>float64</th><th>float64</th><th>float64</th><th>float64</th><th>float64</th><th>float64</th><th>float64</th><th>float64</th><th>float64</th><th>float64</th><th>float64</th><th>float64</th><th>float64</th><th>float64</th><th>float64</th><th>float64</th><th>float64</th><th>float64</th><th>float64</th><th>float64</th><th>float64</th><th>float64</th><th>float64</th><th>float64</th><th>float64</th><th>float64</th><th>float64</th><th>float64</th><th>float64</th><th>float64</th><th>float64</th><th>float64</th><th>float64</th><th>float64</th><th>float64</th><th>float64</th><th>float64</th><th>float64</th><th>float64</th><th>float64</th><th>float64</th><th>float64</th><th>float64</th><th>float64</th><th>float64</th><th>float64</th><th>float64</th><th>float64</th><th>float64</th><th>float64</th><th>float64</th><th>float64</th><th>float64</th><th>float64</th><th>float64</th><th>float64</th><th>float64</th><th>float64</th><th>float64</th><th>float64</th><th>float64</th><th>float64</th><th>float64</th><th>float64</th><th>float64</th><th>float64</th><th>float64</th><th>float64</th><th>float64</th><th>float64</th><th>float64</th><th>float64</th><th>float64</th><th>float64</th><th>float64</th><th>float64</th><th>float64</th><th>float64</th><th>float64</th><th>float64</th><th>float64</th><th>float64</th><th>float64</th><th>float64</th><th>float64</th><th>float64</th></tr></thead>\n",
       "<tr><td>0430+052</td><td>0.03793375625070821</td><td>0.07169999999999999</td><td>0.07217784719285684</td><td>68.29623137774999</td><td>5.354338684861111</td><td>0.03255731836193835</td><td>0.03529999999999999</td><td>0.03549571022077801</td><td>0.5700517442328014</td><td>0.3400999993630193</td><td>0.04998948731692247</td><td>0.07991858357103182</td><td>-0.0004565192616100255</td><td>0.663797409357392</td><td>59.17916937577944</td><td>11.403432498092997</td><td>4.255580919558436</td><td>12.702192364263619</td><td>0.5666426788469475</td><td>0.32648153613020214</td><td>0.6539679800454923</td><td>60.05081835534037</td><td>11.335236851991626</td><td>4.08517670786826</td><td>12.562639326717594</td><td>0.5734584075934837</td><td>0.3595998147172978</td><td>0.6768800277629478</td><td>57.909319387073445</td><td>11.335236851991626</td><td>4.08517670786826</td><td>12.876528510277975</td><td>0.5825207203044612</td><td>0.3283486902408906</td><td>0.668687708849906</td><td>60.59140541979876</td><td>11.652864463510232</td><td>4.108539911109079</td><td>12.875389033267135</td><td>0.589032909731214</td><td>0.3324680449023059</td><td>0.6763835965098371</td><td>60.55829893328895</td><td>11.652864463510232</td><td>4.108539911109079</td><td>13.021731493030519</td><td>0.5737216007093925</td><td>0.3257921291755578</td><td>0.6597704044236077</td><td>60.40959725331372</td><td>11.47684506288537</td><td>4.0765503418362385</td><td>12.693806343668246</td><td>0.577736354063606</td><td>0.34392152443274016</td><td>0.6723550474078768</td><td>59.235022360399846</td><td>11.47684506288537</td><td>4.0765503418362385</td><td>12.86919334069982</td><td>0.5844237211986332</td><td>0.32346004600121225</td><td>0.6679651841666331</td><td>61.03685920348119</td><td>11.690932485334647</td><td>4.047369604764332</td><td>12.885696311267953</td><td>0.5935882197159928</td><td>0.32464891172470456</td><td>0.6765677279250295</td><td>61.324598172786715</td><td>11.690932485334647</td><td>4.047369604764332</td><td>13.067266629339374</td><td>0.055556524911073865</td><td>0.0842</td><td>0.08964645122332776</td><td>0.6774311416368005</td><td>0.004899997207985506</td><td>0.06439337263348907</td><td>0.09130021905778758</td><td>-0.0021122766102802675</td><td>0.6774488627431425</td><td>89.58557520263173</td><td>10.520199733791996</td><td>0.053669062994077824</td><td>11.293700809945081</td><td>0.5970186839449513</td><td>0.3576310878478585</td><td>0.6959391524943861</td><td>59.07719797182105</td><td>9.271430576295979</td><td>3.9170890446768745</td><td>12.09471237051436</td><td>0.5992491079184298</td><td>0.3464224057771489</td><td>0.6921762611975807</td><td>59.9680442231023</td><td>9.271430576295979</td><td>3.9170890446768745</td><td>12.04587923392043</td><td>0.6242348203041439</td><td>0.24771334185654</td><td>0.6715884235258094</td><td>68.35547671298683</td><td>9.694084884435732</td><td>2.713173576284108</td><td>11.749778396263903</td><td>0.6229290017793697</td><td>0.24769981181622097</td><td>0.6703698516726667</td><td>68.31538571125554</td><td>9.694084884435732</td><td>2.713173576284108</td><td>11.728547239359099</td><td>0.6059027641125132</td><td>0.3607954274627564</td><td>0.7051889817894328</td><td>59.22757455249038</td><td>9.409396329668269</td><td>3.9517476648593193</td><td>12.258445629468962</td><td>0.6076841604807968</td><td>0.346357055650661</td><td>0.6994592546376421</td><td>60.318490633739586</td><td>9.409396329668269</td><td>3.9517476648593193</td><td>12.178694380729741</td><td>0.6283501526309165</td><td>0.23983734357917652</td><td>0.6725666254627953</td><td>69.10845566501644</td><td>9.75799413718129</td><td>2.626908741887835</td><td>11.764536648741196</td><td>0.6193938961507923</td><td>0.24511546450583518</td><td>0.66613091020367</td><td>68.40959091930945</td><td>9.75799413718129</td><td>2.626908741887835</td><td>11.654172076246693</td><td>0.03095691333618429</td><td>0.016205168768127116</td><td>0.03159256716384967</td><td>0.48137701035272934</td><td>0.10048571574827746</td><td>0.044925599186039056</td><td>0.03884195534217455</td><td>-0.0001183681392865992</td><td>0.4917531953791203</td><td>78.209030697894</td><td>10.714982528320304</td><td>2.5870406075867707</td><td>11.217991612121606</td><td>0.4863587422517509</td><td>0.16427431282543428</td><td>0.5133525845059843</td><td>71.33690008154088</td><td>10.825871019276027</td><td>4.2293008005975805</td><td>11.914327334782916</td><td>0.4832794760959675</td><td>0.11797375048764817</td><td>0.49747045924327477</td><td>76.28177041540947</td><td>10.825871019276027</td><td>4.2293008005975805</td><td>11.400694898758497</td><td>0.48892641863694636</td><td>0.13945590789338097</td><td>0.5084259956842467</td><td>74.08032301213304</td><td>10.883024990101493</td><td>3.5903421098360595</td><td>11.71594416253598</td><td>0.49332545362278213</td><td>0.16927658172090915</td><td>0.5215597418429067</td><td>71.06117863890076</td><td>10.883024990101493</td><td>3.5903421098360595</td><td>12.113695919976122</td><td>0.4909344596112406</td><td>0.19401020576543448</td><td>0.527879345660471</td><td>68.43678415986496</td><td>10.927722022766075</td><td>4.994861974798123</td><td>12.347885627220549</td><td>0.4275898043343912</td><td>0.17353758796071156</td><td>0.4614632544482222</td><td>67.91019552296248</td><td>10.927722022766075</td><td>4.994861974798123</td><td>10.809947323881453</td><td>0.4948253974048996</td><td>0.14033940969662062</td><td>0.5143416411597576</td><td>74.16592120847048</td><td>11.014330501320728</td><td>3.6130881790145164</td><td>11.849678802283087</td><td>0.5049194616992702</td><td>0.13204982669812806</td><td>0.5219011587778728</td><td>75.34388959998823</td><td>11.014330501320728</td><td>3.6130881790145164</td><td>11.988249744839779</td><td>-14.019291427201516</td><td>-7.084992746522737</td><td>6.934298680678779</td><td>14.019291427201516</td></tr>\n",
       "<tr><td>0552+398</td><td>0.04274648603086792</td><td>0.0647</td><td>0.06541987045701897</td><td>88.87835672579166</td><td>39.81365693563889</td><td>0.030187545399147288</td><td>0.030399999999999996</td><td>0.031033187487468233</td><td>-0.09148440824648181</td><td>0.06619999908252792</td><td>0.05233115673490091</td><td>0.07148601261785412</td><td>-0.0005241709995745232</td><td>0.11292403123664885</td><td>305.89027233685425</td><td>-1.748182420463652</td><td>0.926055275126564</td><td>1.878652610269839</td><td>-0.10119986056242716</td><td>0.08793837322258537</td><td>0.1340692703899347</td><td>310.98925211550176</td><td>-1.9338357276351688</td><td>1.2301479688436583</td><td>2.1629099944684667</td><td>-0.06821908945513802</td><td>0.09362349297326612</td><td>0.11584128194475117</td><td>323.92091532724396</td><td>-1.9338357276351688</td><td>1.2301479688436583</td><td>1.730603759874293</td><td>-0.08251452277955977</td><td>0.07610938943024133</td><td>0.11225544810378969</td><td>312.68768881536926</td><td>-1.5767762061435353</td><td>1.0646752650354496</td><td>1.7923113098188306</td><td>-0.05468347896694737</td><td>0.10437859638561937</td><td>0.1178353692885146</td><td>332.35015842392704</td><td>-1.5767762061435353</td><td>1.0646752650354496</td><td>1.6888809743840654</td><td>-0.09503879800993277</td><td>0.07928264805211295</td><td>0.12376635814844036</td><td>309.835319985644</td><td>-1.8161035211084702</td><td>1.1090651884017877</td><td>2.0107697760607963</td><td>-0.06396770221988746</td><td>0.08275933393678866</td><td>0.10459911223788228</td><td>322.2982576588365</td><td>-1.8161035211084702</td><td>1.1090651884017877</td><td>1.5769254965052146</td><td>-0.08279447492215067</td><td>0.07357062996117845</td><td>0.11075902974710136</td><td>311.6240826676449</td><td>-1.5821258326386858</td><td>1.0291611920568038</td><td>1.779943926341222</td><td>-0.04430486179640144</td><td>0.08948850136878836</td><td>0.09985545881938486</td><td>333.66044854197133</td><td>-1.5821258326386858</td><td>1.0291611920568038</td><td>1.4236028730121228</td><td>0.04712483233836682</td><td>0.06709999999999999</td><td>0.06837943638578636</td><td>0.09563231067898208</td><td>-0.08820001369258533</td><td>0.05596461131951835</td><td>0.07366525639675735</td><td>-0.0006972119278438368</td><td>0.13009527762825823</td><td>132.68480620902218</td><td>1.7087996936669358</td><td>-1.1973081749358818</td><td>1.9414771833331927</td><td>0.04318585716063748</td><td>0.21316015361974</td><td>0.2174908488876949</td><td>11.4529993547802</td><td>0.7716636664208526</td><td>2.8936321414761688</td><td>3.1638769256316217</td><td>-0.12022104843915944</td><td>0.15711627880600554</td><td>0.1978348441343364</td><td>322.577778828248</td><td>0.7716636664208526</td><td>2.8936321414761688</td><td>2.7996604153438325</td><td>0.05474560918358504</td><td>0.10967563914669314</td><td>0.12257988230993484</td><td>26.526500827878646</td><td>0.978218339997509</td><td>1.4888380833969501</td><td>1.942704426147352</td><td>-0.0602078817546622</td><td>0.09317634103617893</td><td>0.11093610572880998</td><td>327.130613708033</td><td>0.978218339997509</td><td>1.4888380833969501</td><td>1.5377375154656165</td><td>0.044453908645688246</td><td>0.21495294665724418</td><td>0.21950152452889993</td><td>11.684483179901303</td><td>0.7943217615126078</td><td>2.9179691644527574</td><td>3.197155867490469</td><td>-0.11801726994124846</td><td>0.15487606757726385</td><td>0.19471690299658811</td><td>322.6921999492919</td><td>0.7943217615126078</td><td>2.9179691644527574</td><td>2.7540000428290417</td><td>0.055930734765999156</td><td>0.1048841855385655</td><td>0.11886521554917898</td><td>28.069298131365034</td><td>0.9993946790173208</td><td>1.4237944815350208</td><td>1.9001394563575034</td><td>-0.06051704102266335</td><td>0.09364231124495588</td><td>0.11149526765489157</td><td>327.1271337191349</td><td>0.9993946790173208</td><td>1.4237944815350208</td><td>1.5455107963839336</td><td>0.11516380018515798</td><td>0.1082297820734452</td><td>0.1182034454076195</td><td>-0.15032329609394413</td><td>0.12587056517077141</td><td>0.11905456215665393</td><td>0.11241817347593512</td><td>-0.001310569912107092</td><td>0.19606247097534246</td><td>309.94052921153775</td><td>-1.2626420472333206</td><td>1.1196638521948232</td><td>1.6111901477630888</td><td>-0.12847341267545692</td><td>0.15203186043293485</td><td>0.199045483121767</td><td>319.8007630136702</td><td>-1.079113730277799</td><td>1.352377962852062</td><td>1.6534264590330698</td><td>-0.12357542062352828</td><td>0.1880211218015435</td><td>0.22499517067215644</td><td>326.685393055102</td><td>-1.079113730277799</td><td>1.352377962852062</td><td>1.8891607768017957</td><td>-0.1279722575476103</td><td>0.16225764293877015</td><td>0.20665052962399427</td><td>321.73723066724733</td><td>-1.0749042727083598</td><td>1.4433399682792742</td><td>1.7214011272551055</td><td>-0.11623253744081535</td><td>0.20366139442560302</td><td>0.23449513073689096</td><td>330.2859648736521</td><td>-1.0749042727083598</td><td>1.4433399682792742</td><td>1.9815299100436934</td><td>-0.09882870802296213</td><td>0.1766871921828794</td><td>0.20244870315948596</td><td>330.77984722305473</td><td>-0.8301127334618367</td><td>1.5716959875771517</td><td>1.712283636448567</td><td>-0.18813933185101045</td><td>0.17402789545389702</td><td>0.2562852250627358</td><td>312.76866348904434</td><td>-0.8301127334618367</td><td>1.5716959875771517</td><td>2.1112440917357325</td><td>-0.12079514737908292</td><td>0.15747557850900043</td><td>0.19846920531175288</td><td>322.5091873799803</td><td>-1.0146200631953834</td><td>1.4008017888914603</td><td>1.655180014477414</td><td>-0.08509686990784446</td><td>0.14150510456256618</td><td>0.16512168811326813</td><td>328.97857758150656</td><td>-1.0146200631953834</td><td>1.4008017888914603</td><td>1.392012931429817</td><td>4.681870960464778</td><td>6.533314822836417</td><td>1.8514438623716387</td><td>6.533314822836417</td></tr>\n",
       "<tr><td>1742-078</td><td>0.06403884912161563</td><td>0.15119999999999997</td><td>0.15218597867895883</td><td>266.3629372905416</td><td>-7.8844299497499994</td><td>0.09420099849586575</td><td>0.22299999999999998</td><td>0.22441079317765522</td><td>-0.02897338952375937</td><td>-0.3160000005664187</td><td>0.11390698975233764</td><td>0.2694261308782056</td><td>0.002729514595850585</td><td>0.3173254759052165</td><td>185.23868485776615</td><td>-0.2543600668120085</td><td>-1.1728632242774806</td><td>1.1824979779098423</td><td>-0.0461352433018347</td><td>-0.35640133952036346</td><td>0.3593749789376396</td><td>187.3757770892362</td><td>-0.4050255686867355</td><td>-1.3228165299284764</td><td>1.3539151714722453</td><td>-0.04668558020094218</td><td>-0.43524186414550337</td><td>0.43773853349179964</td><td>186.12233924324173</td><td>-0.4050255686867355</td><td>-1.3228165299284764</td><td>1.6373957005806699</td><td>-0.03848030477639783</td><td>-0.3405745017005507</td><td>0.34274148430597495</td><td>186.44630857666178</td><td>-0.3378221552519618</td><td>-1.2640737577696493</td><td>1.284169322215744</td><td>-0.030994148966137995</td><td>-0.38968221495115773</td><td>0.3909128623099724</td><td>184.54756026106674</td><td>-0.3378221552519618</td><td>-1.2640737577696493</td><td>1.4534957214774962</td><td>-0.049469799416094126</td><td>-0.3266081238779846</td><td>0.3303333583478446</td><td>188.61285631629374</td><td>-0.4342999452768779</td><td>-1.212236254937084</td><td>1.2557700808938166</td><td>-0.059840147525550565</td><td>-0.39213964360081194</td><td>0.39667914406892063</td><td>188.67634902704557</td><td>-0.4342999452768779</td><td>-1.212236254937084</td><td>1.5087587216785088</td><td>-0.037671482437760584</td><td>-0.3515188737426884</td><td>0.3535316947409194</td><td>186.1169129312345</td><td>-0.3307214291209682</td><td>-1.3046948066874513</td><td>1.3223783610685937</td><td>-0.03469731738451813</td><td>-0.40092542281047694</td><td>0.40242402822078316</td><td>184.94622869400465</td><td>-0.3307214291209682</td><td>-1.3046948066874513</td><td>1.4980883044009259</td><td>0.06537608725402941</td><td>0.102</td><td>0.10945538618568854</td><td>-0.06478168223042328</td><td>-0.6872999993134953</td><td>0.11466412212311472</td><td>0.24522030910999193</td><td>0.0016317097587077362</td><td>0.6903462576192719</td><td>185.38452421693196</td><td>-0.5649690681874081</td><td>-2.8027857962009644</td><td>2.8316103819478626</td><td>-0.13337951265703785</td><td>-0.3440661284678155</td><td>0.36901435629994156</td><td>201.1891512499784</td><td>-1.1632192370847128</td><td>-1.4030898571026877</td><td>1.7728225174106569</td><td>-0.034513791536465846</td><td>-0.2879012138165816</td><td>0.28996260228395604</td><td>186.83603349060783</td><td>-1.1632192370847128</td><td>-1.4030898571026877</td><td>1.1969991814951737</td><td>-0.10782287698319448</td><td>-0.47442994932755367</td><td>0.4865280563542849</td><td>192.80402358876793</td><td>-0.940336654454348</td><td>-1.9347090420424815</td><td>2.1050191750954563</td><td>-0.02698550922307319</td><td>-0.4047930783666715</td><td>0.40569157496994535</td><td>183.81397675579862</td><td>-0.940336654454348</td><td>-1.9347090420424815</td><td>1.656640336195135</td><td>-0.1322565337684552</td><td>-0.3465943438250763</td><td>0.3709709286399431</td><td>200.8862962485798</td><td>-1.1534255992162181</td><td>-1.4133998325139283</td><td>1.77467914872121</td><td>-0.03959777311258435</td><td>-0.28746980962952196</td><td>0.2901842088810301</td><td>187.8429008114395</td><td>-1.1534255992162181</td><td>-1.4133998325139283</td><td>1.2047523058258465</td><td>-0.11312740030000148</td><td>-0.4798368741901833</td><td>0.49299212420812827</td><td>193.26592986116322</td><td>-0.9865980587941601</td><td>-1.9567582959654277</td><td>2.143288902236081</td><td>-0.02839699879772551</td><td>-0.43019492742649196</td><td>0.43113114608457914</td><td>183.77659313125938</td><td>-0.9865980587941601</td><td>-1.9567582959654277</td><td>1.7603928490656588</td><td>0.4088260916962553</td><td>0.3768636213525655</td><td>0.4359475416359948</td><td>-0.02942217138701008</td><td>-1.1267317638896654</td><td>0.41953855766693604</td><td>0.43789860595686975</td><td>0.03828807443104774</td><td>1.1271158467198674</td><td>181.49581585563965</td><td>-0.07012983872239892</td><td>-2.573042591509509</td><td>2.616807011643175</td><td>-0.1001825090861298</td><td>-1.129244198221109</td><td>1.133679405450601</td><td>185.0698037653524</td><td>-0.23879213782696668</td><td>-2.5787800711389623</td><td>2.5967958947760126</td><td>-0.17666615406175631</td><td>-1.1320964658443828</td><td>1.1457981226936593</td><td>188.86959629658597</td><td>-0.23879213782696668</td><td>-2.5787800711389623</td><td>2.5880931904042783</td><td>-0.031893205072404604</td><td>-1.1308262876050756</td><td>1.1312759474453913</td><td>181.61551052131807</td><td>-0.07601972331163906</td><td>-2.5823929837229374</td><td>2.6252732415253464</td><td>-0.03500513541175883</td><td>-1.155710103150375</td><td>1.156240114348679</td><td>181.73489313258955</td><td>-0.07601972331163906</td><td>-2.5823929837229374</td><td>2.681991294673241</td><td>-0.13628225700987145</td><td>-1.0983885639224245</td><td>1.1068108650222361</td><td>187.07281156846497</td><td>-0.3248384552965533</td><td>-2.5083171057882034</td><td>2.5164668587378323</td><td>-0.2567108815780626</td><td>-1.17092893134568</td><td>1.1987389369595545</td><td>192.36571037029185</td><td>-0.3248384552965533</td><td>-2.5083171057882034</td><td>2.6745555603529096</td><td>-0.029014926440313452</td><td>-1.1599537291868927</td><td>1.1603165601726608</td><td>181.43289011600064</td><td>-0.06915914141876768</td><td>-2.648909389999613</td><td>2.694531752008755</td><td>-0.045069741860587445</td><td>-1.1961173489712824</td><td>1.1969661624880916</td><td>182.15788603703527</td><td>-0.06915914141876768</td><td>-2.648909389999613</td><td>2.77201062782273</td><td>2.7883426569693768</td><td>1.1696355627452704</td><td>-1.6187070942241064</td><td>2.7883426569693768</td></tr>\n",
       "<tr><td>2234+282</td><td>0.05471537557562232</td><td>0.0839</td><td>0.08511926210664844</td><td>339.09362851612497</td><td>28.482614779166664</td><td>0.030456028316416386</td><td>0.030899999999999997</td><td>0.032435217172803406</td><td>-0.2926942604939984</td><td>-0.20019999737996838</td><td>0.06262061948904502</td><td>0.08940928363430724</td><td>-0.0008260138501561995</td><td>0.3546124209289177</td><td>235.6282557318345</td><td>-4.67408759099234</td><td>-2.2391410516027177</td><td>5.533113553140919</td><td>-0.33064700135903624</td><td>-0.260468811094189</td><td>0.42091738032604786</td><td>231.7705530196189</td><td>-5.280161775098382</td><td>-2.913218857222166</td><td>6.466519428347135</td><td>-0.30234557100550447</td><td>-0.3005183413646386</td><td>0.42629111860698904</td><td>225.1736581405723</td><td>-5.280161775098382</td><td>-2.913218857222166</td><td>6.346179112941552</td><td>-0.3119340769709953</td><td>-0.23305138648388168</td><td>0.3893787579180539</td><td>233.23595044292512</td><td>-4.981331700584113</td><td>-2.6065680990923132</td><td>6.018933360543518</td><td>-0.27262164452187104</td><td>-0.2533133533516499</td><td>0.37214273612159526</td><td>227.10251644313837</td><td>-4.981331700584113</td><td>-2.6065680990923132</td><td>5.594733974869543</td><td>-0.31980036759630254</td><td>-0.23756113487770777</td><td>0.39838118419312263</td><td>233.39348541500885</td><td>-5.106949918504864</td><td>-2.657007474183063</td><td>6.162052180187225</td><td>-0.28468528276012317</td><td>-0.24685064802966997</td><td>0.37680359957526854</td><td>229.07143677584216</td><td>-5.106949918504864</td><td>-2.657007474183063</td><td>5.718903732078719</td><td>-0.3108731801080928</td><td>-0.2431395513127346</td><td>0.3946631164969392</td><td>231.9703926671602</td><td>-4.964390046675882</td><td>-2.719399389298311</td><td>6.068381508737688</td><td>-0.27673796349744606</td><td>-0.2613827122531602</td><td>0.38066366086813713</td><td>226.63448917263548</td><td>-4.964390046675882</td><td>-2.719399389298311</td><td>5.709478116268118</td><td>0.05089189153269351</td><td>0.07859999999999999</td><td>0.08105589703535479</td><td>0.03757558170921098</td><td>-0.44999999886385916</td><td>0.05930897305286779</td><td>0.08445572804730297</td><td>-0.001139218495192048</td><td>0.4515660785735116</td><td>175.22680143612004</td><td>0.6335564380067119</td><td>-5.328235387560898</td><td>5.361224763968923</td><td>-0.06669145593354904</td><td>-0.15951453125575277</td><td>0.17289486972226517</td><td>202.68932486967748</td><td>-1.1244749740330275</td><td>-1.888735494251023</td><td>2.4726701516584417</td><td>-0.2194921583657824</td><td>-0.2503005203386121</td><td>0.3329071312931726</td><td>221.24799348355413</td><td>-1.1244749740330275</td><td>-1.888735494251023</td><td>5.382099058515258</td><td>-0.017335881388794584</td><td>-0.25955871989487367</td><td>0.26013700593531836</td><td>183.8210999864752</td><td>-0.29229778390095285</td><td>-3.073311022190193</td><td>3.237509964973491</td><td>-0.13546007543543465</td><td>-0.2997759014768618</td><td>0.32896051912537894</td><td>204.31683701559862</td><td>-0.29229778390095285</td><td>-3.073311022190193</td><td>4.761941294596014</td><td>-0.057320926560869345</td><td>-0.16407876388623882</td><td>0.17380313397701633</td><td>199.25686477607988</td><td>-0.9664798361923026</td><td>-1.9427783962070593</td><td>2.4219804907682345</td><td>-0.2174608945308898</td><td>-0.25245980115701333</td><td>0.3332044295179965</td><td>220.74057037137305</td><td>-0.9664798361923026</td><td>-1.9427783962070593</td><td>5.3719345201997335</td><td>-0.01764617464941607</td><td>-0.2678826034567581</td><td>0.26846317571415335</td><td>183.76878797520112</td><td>-0.2975295936027477</td><td>-3.1718701578976285</td><td>3.3399999019592252</td><td>-0.13220316487252787</td><td>-0.30008641228516236</td><td>0.3279169584521258</td><td>203.77590585279103</td><td>-0.2975295936027477</td><td>-3.1718701578976285</td><td>4.72786491798654</td><td>0.14916909279579585</td><td>0.14882708490311986</td><td>0.15008457755496327</td><td>-0.2785707039498392</td><td>-0.38280046652516825</td><td>0.15224647091585114</td><td>0.15200102368326487</td><td>0.00043091338018519105</td><td>0.4734319742803557</td><td>216.0440478298779</td><td>-1.8297350491875066</td><td>-2.5184071610125223</td><td>3.0857733913063576</td><td>-0.30807975001409227</td><td>-0.3146645683522416</td><td>0.44037134664399785</td><td>224.39418437302518</td><td>-2.023559220524543</td><td>-2.0701476919519313</td><td>2.868300753096864</td><td>-0.31912800803837965</td><td>-0.3275843141910641</td><td>0.4573337604185524</td><td>224.25085231019267</td><td>-2.023559220524543</td><td>-2.0701476919519313</td><td>2.9787987912428338</td><td>-0.3008267767321776</td><td>-0.35746256857288017</td><td>0.4672004254383684</td><td>220.0826778922201</td><td>-1.9759195396946114</td><td>-2.351711586612402</td><td>3.0438404523615907</td><td>-0.3004344323923102</td><td>-0.3509197235633251</td><td>0.4619583320524159</td><td>220.5679680029078</td><td>-1.9759195396946114</td><td>-2.351711586612402</td><td>3.0095680173256913</td><td>-0.34888075008914077</td><td>-0.26007480291750384</td><td>0.435151331027885</td><td>233.29713843094726</td><td>-2.291552296683266</td><td>-1.7110069170286633</td><td>2.834700037363311</td><td>-0.4333984893617088</td><td>-0.20747568734716876</td><td>0.48050016797207407</td><td>244.4187194988731</td><td>-2.291552296683266</td><td>-1.7110069170286633</td><td>3.134559997944001</td><td>-0.2958501520076865</td><td>-0.3635376597283065</td><td>0.46870773674402383</td><td>219.13900014709003</td><td>-1.943231591694544</td><td>-2.3916790224112914</td><td>3.053920204645844</td><td>-0.3094744865871399</td><td>-0.3792796680117284</td><td>0.48951764464160097</td><td>219.2128379690893</td><td>-1.943231591694544</td><td>-2.3916790224112914</td><td>3.189487250412172</td><td>7.42165120354619</td><td>22.858583319844456</td><td>15.436932116298266</td><td>22.858583319844456</td></tr>\n",
       "<tr><td>2251+158</td><td>0.03846984600363165</td><td>0.07079999999999999</td><td>0.07161084112508792</td><td>343.4906164171666</td><td>16.148211355694443</td><td>0.03270657320242272</td><td>0.035699999999999996</td><td>0.0359543617014334</td><td>0.36956989190547546</td><td>0.1813000054085023</td><td>0.05049404897795947</td><td>0.07929142450479748</td><td>-0.0007128016992463383</td><td>0.41164498899433694</td><td>63.868803532559106</td><td>7.319078176257797</td><td>2.2865020592174234</td><td>8.177744436079061</td><td>0.33266478579354747</td><td>0.12013950626139623</td><td>0.35369387989022216</td><td>70.14317731458479</td><td>6.588197867411164</td><td>1.5151639286557055</td><td>7.132088083662692</td><td>0.34497568827596836</td><td>0.08744146727147588</td><td>0.35588514397213417</td><td>75.7767137341159</td><td>6.588197867411164</td><td>1.5151639286557055</td><td>7.2270779712477795</td><td>0.35189922680548874</td><td>0.14638814528282973</td><td>0.3811332508528319</td><td>67.41295777662636</td><td>6.969122776410581</td><td>1.8462040024766184</td><td>7.6426313640804455</td><td>0.372264362780327</td><td>0.12612477376344383</td><td>0.3930498878680959</td><td>71.28339779799865</td><td>6.969122776410581</td><td>1.8462040024766184</td><td>7.940862184458571</td><td>0.34121802406504864</td><td>0.14186866952383176</td><td>0.36953546425115724</td><td>67.42385965260222</td><td>6.757588883672004</td><td>1.789205710577795</td><td>7.410253880353681</td><td>0.3534900554547045</td><td>0.12950730352502238</td><td>0.3764669453905513</td><td>69.87880252770566</td><td>6.757588883672004</td><td>1.789205710577795</td><td>7.587664374923752</td><td>0.35355591463242914</td><td>0.13576059384532496</td><td>0.3787251293653602</td><td>68.99389940629057</td><td>7.001932342299495</td><td>1.7121724662307063</td><td>7.620225078333818</td><td>0.369302297435106</td><td>0.1179266004251888</td><td>0.387673664283105</td><td>72.29053795097187</td><td>7.001932342299495</td><td>1.7121724662307063</td><td>7.843885607141661</td><td>0.10849361068540428</td><td>0.1376</td><td>0.1599844983542998</td><td>0.5081765131258587</td><td>-0.12039999717217141</td><td>0.11331629843143265</td><td>0.14215572447144012</td><td>-0.00965993405634194</td><td>0.5222447010854345</td><td>103.329057977164</td><td>4.4845844786692775</td><td>-0.8469584859831687</td><td>5.041009363271872</td><td>0.3982229722578274</td><td>0.20203858904562672</td><td>0.4465435332612107</td><td>63.0990222942691</td><td>3.514260329451115</td><td>1.4212483513895875</td><td>5.638593652939409</td><td>0.32665107622667555</td><td>0.12545180673622958</td><td>0.3499129626256074</td><td>68.99049065559689</td><td>3.514260329451115</td><td>1.4212483513895875</td><td>4.3539106312066975</td><td>0.45160613058607746</td><td>0.09120454918987524</td><td>0.4607237425788448</td><td>78.58235029030921</td><td>3.9853590069335256</td><td>0.6415819660375248</td><td>5.498532479972105</td><td>0.391271259856226</td><td>0.06713712352344049</td><td>0.39698941062008203</td><td>80.2635947390728</td><td>3.9853590069335256</td><td>0.6415819660375248</td><td>4.692572508678526</td><td>0.4084344563396519</td><td>0.19676099253123758</td><td>0.4533581291951704</td><td>64.27782059083256</td><td>3.6043752045677206</td><td>1.3841228924324323</td><td>5.71157452023038</td><td>0.33008909333702013</td><td>0.12103207326127714</td><td>0.35157868578453266</td><td>69.86378750255243</td><td>3.6043752045677206</td><td>1.3841228924324323</td><td>4.362048438767115</td><td>0.4511280694058016</td><td>0.08139638010036461</td><td>0.45841237515936323</td><td>79.77224494551113</td><td>3.981140185926368</td><td>0.5725860172216815</td><td>5.434247945868132</td><td>0.39280221704037344</td><td>0.06406389920584578</td><td>0.39799216687428585</td><td>80.73692830048162</td><td>3.981140185926368</td><td>0.5725860172216815</td><td>4.691125455392395</td><td>0.04767436559223877</td><td>0.046721466315750686</td><td>0.053722131271964485</td><td>0.5111045078017642</td><td>0.12449666257907664</td><td>0.05781492078406642</td><td>0.058799535837401176</td><td>0.0005929064346720873</td><td>0.5260487020120971</td><td>76.31028408712284</td><td>8.84035644899859</td><td>2.117306893771207</td><td>8.859652484915596</td><td>0.4890487210715819</td><td>0.1886057262175047</td><td>0.524157201175165</td><td>68.91045002491472</td><td>8.458866922920043</td><td>3.2076056984371037</td><td>8.639873238663798</td><td>0.4795366465979484</td><td>0.1788246888445209</td><td>0.511794553283586</td><td>69.5489404402055</td><td>8.458866922920043</td><td>3.2076056984371037</td><td>8.450961210097747</td><td>0.4944101752855542</td><td>0.15225755479061143</td><td>0.5173236747112087</td><td>72.88336708844066</td><td>8.55160170731933</td><td>2.589434637913647</td><td>8.623989706402323</td><td>0.4900144824876144</td><td>0.14660525384210416</td><td>0.5114756040142212</td><td>73.34357671912811</td><td>8.55160170731933</td><td>2.589434637913647</td><td>8.538033729874186</td><td>0.4496055175346277</td><td>0.2423480321841764</td><td>0.510761872207708</td><td>61.67428010145184</td><td>7.776634672109372</td><td>4.1215977087700715</td><td>8.268172637822572</td><td>0.3444983842034589</td><td>0.23635819723628146</td><td>0.417785033383891</td><td>55.546224075900284</td><td>7.776634672109372</td><td>4.1215977087700715</td><td>6.683364929389462</td><td>0.5030155540493031</td><td>0.14529651136543895</td><td>0.5235797206066087</td><td>73.88858906246243</td><td>8.70044526962203</td><td>2.471048611118777</td><td>8.754177946996919</td><td>0.47378594070951896</td><td>0.12441147199183669</td><td>0.4898482744454444</td><td>75.2868695358722</td><td>8.70044526962203</td><td>2.471048611118777</td><td>8.224483989454304</td><td>-2.9963315849003322</td><td>-8.446390349509755</td><td>-5.450058764609423</td><td>8.446390349509755</td></tr>\n",
       "</table>"
      ],
      "text/plain": [
       "<Table masked=True length=5>\n",
       "iers_name       ra_err_k      ...  inc_ang_ka_g_ccl2        max_pa      \n",
       "                  mas         ...         deg                           \n",
       "   str8         float64       ...       float64            float64      \n",
       "--------- ------------------- ... ------------------- ------------------\n",
       " 0430+052 0.03793375625070821 ...   6.934298680678779 14.019291427201516\n",
       " 0552+398 0.04274648603086792 ...  1.8514438623716387  6.533314822836417\n",
       " 1742-078 0.06403884912161563 ... -1.6187070942241064 2.7883426569693768\n",
       " 2234+282 0.05471537557562232 ...  15.436932116298266 22.858583319844456\n",
       " 2251+158 0.03846984600363165 ...  -5.450058764609423  8.446390349509755"
      ]
     },
     "execution_count": 7,
     "metadata": {},
     "output_type": "execute_result"
    }
   ],
   "source": [
    "join(align_sou, table3g.groups.keys)"
   ]
  },
  {
   "cell_type": "code",
   "execution_count": 8,
   "metadata": {},
   "outputs": [
    {
     "name": "stdout",
     "output_type": "stream",
     "text": [
      "1742-078 1 2014.3586584531142 6.78 182.3 1.20 182.2\n",
      "1742-078 2 2014.3586584531142 2.75 187.5 1.20 182.2\n",
      "1742-078 3 2014.3586584531142 1.67 173.1 1.20 182.2\n",
      "1742-078 4 2014.3586584531142 0.4 199.0 1.20 182.2\n",
      "1742-078 1 2014.8761122518822 5.1 182.5 1.20 182.2\n",
      "1742-078 2 2014.8761122518822 3.0 195.7 1.20 182.2\n",
      "1742-078 4 2014.8761122518822 0.41 197.6 1.20 182.2\n",
      "1742-078 5 2014.8761122518822 2.06 183.2 1.20 182.2\n",
      "1742-078 6 2014.8761122518822 1.68 175.1 1.20 182.2\n",
      "1742-078 1 2015.453798767967 5.03 183.5 1.20 182.2\n",
      "1742-078 2 2015.453798767967 3.29 193.4 1.20 182.2\n",
      "1742-078 3 2015.453798767967 1.74 178.0 1.20 182.2\n",
      "1742-078 4 2015.453798767967 0.46 198.8 1.20 182.2\n",
      "1742-078 1 2015.678302532512 5.04 183.1 1.20 182.2\n",
      "1742-078 2 2015.678302532512 3.38 193.6 1.20 182.2\n",
      "1742-078 3 2015.678302532512 1.78 177.7 1.20 182.2\n",
      "1742-078 4 2015.678302532512 0.42 197.4 1.20 182.2\n",
      "1742-078 1 2015.8973305954826 4.97 184.1 1.20 182.2\n",
      "1742-078 2 2015.8973305954826 3.47 193.4 1.20 182.2\n",
      "1742-078 3 2015.8973305954826 1.78 178.2 1.20 182.2\n",
      "1742-078 4 2015.8973305954826 0.43 197.6 1.20 182.2\n"
     ]
    }
   ],
   "source": [
    "nosou = len(align_sou)\n",
    "\n",
    "for i in range(nosou):\n",
    "    mask = (table3_sub[\"iers_name\"] == souname[i])\n",
    "    table3_sou = table3_sub[mask]\n",
    "\n",
    "    pai = pa_g[i]\n",
    "    pa_diff = wrap_angle(table3_sou[\"PA\"] - pai)\n",
    "    \n",
    "    mask1 = (np.fabs(pa_diff) < 30) &(table3_sou[\"F\"] != 0)\n",
    "    table3_sou1 = table3_sou[mask1]\n",
    "    \n",
    "    for j in range(len(table3_sou1)):\n",
    "        print(table3_sou1[\"iers_name\"][j], table3_sou1[\"F\"][j], \n",
    "              table3_sou1[\"ObsEpoch\"][j], \n",
    "              table3_sou1[\"r\"][j], table3_sou1[\"PA\"][j], \"%.2f\"%r_g[i], \"%.1f\"%pai) "
   ]
  },
  {
   "cell_type": "markdown",
   "metadata": {
    "hideCode": false,
    "hidePrompt": false
   },
   "source": [
    "Meta information of the table 4.\n",
    "Columns are as follows: \n",
    "- (1) B1950 name, \n",
    "- (2) feature number, \n",
    "- (3) number of fitted epochs, \n",
    "- (4) mean flux density at 15 GHz in milliJansky, \n",
    "- (5) mean distance from core feature in milliarcseconds, \n",
    "- (6) mean projected distance from core feature in parsec, \n",
    "- (7) mean position angle with respect to the core feature in degrees, \n",
    "- (8) position angle of velocity vector in degrees, \n",
    "- (9) offset between mean position angle and velocity vector position angle in degrees, \n",
    "- (10) proper motion in μas yr−1, \n",
    "- (11) apparent speed in units of the speed of light, \n",
    "- (12) estimated epoch of origin,\n",
    "- (13) date of reference (middle) epoch used for fit,\n",
    "- (14) fitted R.A. position with respect to the core at the middle epoch in μas,\n",
    "- (15) fitted decl. position with respect to the core at the middle epoch in μas. \n",
    "\n",
    "A question mark indicates a feature whose motion is not consistent with outward, radial motion but for which the possibility of inward motion and its degree of non-radialness are uncertain."
   ]
  },
  {
   "cell_type": "code",
   "execution_count": 9,
   "metadata": {
    "hideCode": false,
    "hidePrompt": false
   },
   "outputs": [
    {
     "name": "stdout",
     "output_type": "stream",
     "text": [
      "Table 4 offers jet directions for 382 AGNs.\n"
     ]
    }
   ],
   "source": [
    "table4 = Table.read(\"../data/mojave17/apjab08eet4_mrt.txt\",\n",
    "                    format=\"ascii.fixed_width_no_header\",\n",
    "                    col_starts=[0, 9, 12, 14, 18, 23, 29, 36, 42, 49, 56, 59, 66,\n",
    "                                73, 76, 84, 91, 93, 102, 111, 120, 127, 135, 144, 150, 160],\n",
    "                    col_ends=[8, 11, 13, 17, 22, 28, 35, 41, 48, 55, 58, 65, 72, 75,\n",
    "                              83, 90, 92, 101, 110, 119, 126, 134, 143, 149, 159, 166],\n",
    "                    names=[\"iers_name\", \"F\", \"f_F\", \"Num\", \"S\", \"R\",\n",
    "                           \"dproj\", \"theta\", \"phi\", \"e_phi\", \"f_phi\",\n",
    "                           \"Diff\", \"e_Diff\", \"f_Diff\", \"pm\", \"e_pm\", \"f_pm\",\n",
    "                           \"beta-app\", \"e_beta-app\", \"tej\", \"e_tej\", \"tmid\",\n",
    "                           \"alpha-m\", \"e_alpha-m\", \"delta\", \"e_delta-m\"])\n",
    "\n",
    "table4g = table4.group_by(\"iers_name\")\n",
    "soulist4 = table4g.groups.keys\n",
    "print(\"Table 4 offers jet directions for {:d} AGNs.\".format(len(soulist4)))"
   ]
  },
  {
   "cell_type": "code",
   "execution_count": 10,
   "metadata": {
    "hideCode": false,
    "hidePrompt": false
   },
   "outputs": [
    {
     "data": {
      "text/plain": [
       "20"
      ]
     },
     "execution_count": 10,
     "metadata": {},
     "output_type": "execute_result"
    }
   ],
   "source": [
    "len(join(align_sou, table4g.groups.keys))"
   ]
  },
  {
   "cell_type": "code",
   "execution_count": 11,
   "metadata": {
    "hideCode": false,
    "hidePrompt": false
   },
   "outputs": [
    {
     "name": "stdout",
     "output_type": "stream",
     "text": [
      "0003+380 2 120.1 8.42 130.3\n",
      "0430+052 39 48.0 0.52 75.3\n",
      "0552+398 2 324.3 0.17 329.0\n",
      "0743-006 3 225.0 0.98 233.3\n",
      "0859-140 1 178.4 0.21 204.1\n",
      "0917+449 4 142.0 0.33 150.1\n",
      "1157-215 1 324.0 3.97 316.9\n",
      "1243-072 1 268.1 0.61 256.1\n",
      "1742-078 2 169.3 1.20 182.2\n",
      "2134+004 1 96.0 1.41 125.5\n",
      "10\n"
     ]
    }
   ],
   "source": [
    "nosou = len(align_sou)\n",
    "\n",
    "num = 0\n",
    "\n",
    "for i in range(nosou):\n",
    "    mask = (table4[\"iers_name\"] == souname[i])\n",
    "    table4_sou = table4[mask]\n",
    "\n",
    "    pai = pa_g[i]\n",
    "    pa_diff = table4_sou[\"phi\"] - pai\n",
    "\n",
    "    mask1 = (np.fabs(pa_diff) < 30)\n",
    "    \n",
    "    table4_sou1 = table4_sou[mask1]\n",
    "    pa_diff1 = table4_sou1[\"phi\"] - pai\n",
    "    \n",
    "    if len(table4_sou1):\n",
    "        num += 1\n",
    "        j = np.argmin(np.fabs(pa_diff1))\n",
    "        print(table4_sou1[\"iers_name\"][j], table4_sou1[\"F\"][j],\n",
    "              table4_sou1[\"phi\"][j], \"%.2f\" % r_g[i], \"%.1f\" % pai)\n",
    "\n",
    "print(num)"
   ]
  },
  {
   "cell_type": "code",
   "execution_count": 12,
   "metadata": {},
   "outputs": [
    {
     "data": {
      "text/plain": [
       "1740"
      ]
     },
     "execution_count": 12,
     "metadata": {},
     "output_type": "execute_result"
    }
   ],
   "source": [
    "np.argmin(table4[\"phi\"])"
   ]
  },
  {
   "cell_type": "code",
   "execution_count": 13,
   "metadata": {
    "hideCode": false,
    "hidePrompt": false
   },
   "outputs": [
    {
     "name": "stdout",
     "output_type": "stream",
     "text": [
      "0003+380 6 335.0 8.42 130.3\n",
      "0133+476 2 342.8 0.15 116.0\n",
      "0430+052 28 262.9 0.52 75.3\n",
      "0723-008 5 343.2 1.38 147.7\n",
      "0743-006 1 42.0 0.98 233.3\n",
      "0850+581 8 135.9 0.71 336.4\n",
      "0953+254 4 275.3 0.79 49.2\n",
      "1038+064 1 137.0 0.38 350.0\n",
      "1157-215 2 85.0 3.97 316.9\n",
      "1243-072 4 72.0 0.61 256.1\n",
      "2251+158 13 342.0 0.49 75.3\n",
      "11\n"
     ]
    }
   ],
   "source": [
    "nosou = len(align_sou)\n",
    "\n",
    "num = 0\n",
    "\n",
    "for i in range(nosou):\n",
    "    mask = (table4[\"iers_name\"] == souname[i])\n",
    "    table4_sou = table4[mask]\n",
    "\n",
    "    pai = pa_g[i]\n",
    "    pa_diff = table4_sou[\"phi\"] - pai\n",
    "\n",
    "    mask1 = (np.fabs(pa_diff) > 150)\n",
    "    table4_sou1 = table4_sou[mask1]\n",
    "    \n",
    "    table4_sou1 = table4_sou[mask1]\n",
    "    pa_diff1 = table4_sou1[\"phi\"] - pai\n",
    "\n",
    "    if len(table4_sou1):\n",
    "        num += 1\n",
    "        j = np.argmax(np.fabs(pa_diff1))\n",
    "        print(table4_sou1[\"iers_name\"][j], table4_sou1[\"F\"][j],\n",
    "              table4_sou1[\"phi\"][j], \"%.2f\" % r_g[i], \"%.1f\" % pai)\n",
    "print(num)"
   ]
  }
 ],
 "metadata": {
  "hide_code_all_hidden": false,
  "hide_input": false,
  "kernelspec": {
   "display_name": "Python 3",
   "language": "python",
   "name": "python3"
  },
  "language_info": {
   "codemirror_mode": {
    "name": "ipython",
    "version": 3
   },
   "file_extension": ".py",
   "mimetype": "text/x-python",
   "name": "python",
   "nbconvert_exporter": "python",
   "pygments_lexer": "ipython3",
   "version": "3.7.6"
  },
  "latex_envs": {
   "LaTeX_envs_menu_present": true,
   "autoclose": false,
   "autocomplete": true,
   "bibliofile": "biblio.bib",
   "cite_by": "apalike",
   "current_citInitial": 1,
   "eqLabelWithNumbers": true,
   "eqNumInitial": 1,
   "hotkeys": {
    "equation": "Ctrl-E",
    "itemize": "Ctrl-I"
   },
   "labels_anchors": false,
   "latex_user_defs": false,
   "report_style_numbering": false,
   "user_envs_cfg": false
  }
 },
 "nbformat": 4,
 "nbformat_minor": 2
}
