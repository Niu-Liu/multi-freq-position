{
 "cells": [
  {
   "cell_type": "code",
   "execution_count": 1,
   "metadata": {
    "ExecuteTime": {
     "end_time": "2021-03-05T04:48:34.872875Z",
     "start_time": "2021-03-05T04:48:33.321670Z"
    }
   },
   "outputs": [],
   "source": [
    "from astropy.table import Table, join, Column\n",
    "import numpy as np\n",
    "from scipy import stats\n",
    "\n",
    "import matplotlib.pyplot as plt\n",
    "from matplotlib.ticker import MultipleLocator, NullFormatter\n",
    "%matplotlib inline"
   ]
  },
  {
   "cell_type": "code",
   "execution_count": 2,
   "metadata": {
    "ExecuteTime": {
     "end_time": "2021-03-05T04:48:34.971270Z",
     "start_time": "2021-03-05T04:48:34.875466Z"
    }
   },
   "outputs": [
    {
     "ename": "FileNotFoundError",
     "evalue": "[Errno 2] No such file or directory: '../data/gedr3_icrf3sx_combined.fits'",
     "output_type": "error",
     "traceback": [
      "\u001b[0;31m---------------------------------------------------------------------------\u001b[0m",
      "\u001b[0;31mFileNotFoundError\u001b[0m                         Traceback (most recent call last)",
      "\u001b[0;32m<ipython-input-2-24a50ef02daa>\u001b[0m in \u001b[0;36m<module>\u001b[0;34m\u001b[0m\n\u001b[1;32m      1\u001b[0m \u001b[0;31m# SX - Gaia\u001b[0m\u001b[0;34m\u001b[0m\u001b[0;34m\u001b[0m\u001b[0;34m\u001b[0m\u001b[0m\n\u001b[0;32m----> 2\u001b[0;31m \u001b[0msx2g\u001b[0m \u001b[0;34m=\u001b[0m \u001b[0mTable\u001b[0m\u001b[0;34m.\u001b[0m\u001b[0mread\u001b[0m\u001b[0;34m(\u001b[0m\u001b[0;34m'../data/gedr3_icrf3sx_combined.fits'\u001b[0m\u001b[0;34m)\u001b[0m\u001b[0;34m\u001b[0m\u001b[0;34m\u001b[0m\u001b[0m\n\u001b[0m\u001b[1;32m      3\u001b[0m \u001b[0;34m\u001b[0m\u001b[0m\n\u001b[1;32m      4\u001b[0m \u001b[0mnum_sou\u001b[0m \u001b[0;34m=\u001b[0m \u001b[0mlen\u001b[0m\u001b[0;34m(\u001b[0m\u001b[0msx2g\u001b[0m\u001b[0;34m)\u001b[0m\u001b[0;34m\u001b[0m\u001b[0;34m\u001b[0m\u001b[0m\n",
      "\u001b[0;32m~/scisoft/opt64/miniconda3/lib/python3.7/site-packages/astropy/table/connect.py\u001b[0m in \u001b[0;36m__call__\u001b[0;34m(self, *args, **kwargs)\u001b[0m\n\u001b[1;32m     59\u001b[0m         \u001b[0mdescriptions\u001b[0m \u001b[0;34m=\u001b[0m \u001b[0mkwargs\u001b[0m\u001b[0;34m.\u001b[0m\u001b[0mpop\u001b[0m\u001b[0;34m(\u001b[0m\u001b[0;34m'descriptions'\u001b[0m\u001b[0;34m,\u001b[0m \u001b[0;32mNone\u001b[0m\u001b[0;34m)\u001b[0m\u001b[0;34m\u001b[0m\u001b[0;34m\u001b[0m\u001b[0m\n\u001b[1;32m     60\u001b[0m \u001b[0;34m\u001b[0m\u001b[0m\n\u001b[0;32m---> 61\u001b[0;31m         \u001b[0mout\u001b[0m \u001b[0;34m=\u001b[0m \u001b[0mregistry\u001b[0m\u001b[0;34m.\u001b[0m\u001b[0mread\u001b[0m\u001b[0;34m(\u001b[0m\u001b[0mcls\u001b[0m\u001b[0;34m,\u001b[0m \u001b[0;34m*\u001b[0m\u001b[0margs\u001b[0m\u001b[0;34m,\u001b[0m \u001b[0;34m**\u001b[0m\u001b[0mkwargs\u001b[0m\u001b[0;34m)\u001b[0m\u001b[0;34m\u001b[0m\u001b[0;34m\u001b[0m\u001b[0m\n\u001b[0m\u001b[1;32m     62\u001b[0m \u001b[0;34m\u001b[0m\u001b[0m\n\u001b[1;32m     63\u001b[0m         \u001b[0;31m# For some readers (e.g., ascii.ecsv), the returned `out` class is not\u001b[0m\u001b[0;34m\u001b[0m\u001b[0;34m\u001b[0m\u001b[0;34m\u001b[0m\u001b[0m\n",
      "\u001b[0;32m~/scisoft/opt64/miniconda3/lib/python3.7/site-packages/astropy/io/registry.py\u001b[0m in \u001b[0;36mread\u001b[0;34m(cls, format, cache, *args, **kwargs)\u001b[0m\n\u001b[1;32m    503\u001b[0m                     \u001b[0;32mtry\u001b[0m\u001b[0;34m:\u001b[0m\u001b[0;34m\u001b[0m\u001b[0;34m\u001b[0m\u001b[0m\n\u001b[1;32m    504\u001b[0m                         \u001b[0mctx\u001b[0m \u001b[0;34m=\u001b[0m \u001b[0mget_readable_fileobj\u001b[0m\u001b[0;34m(\u001b[0m\u001b[0margs\u001b[0m\u001b[0;34m[\u001b[0m\u001b[0;36m0\u001b[0m\u001b[0;34m]\u001b[0m\u001b[0;34m,\u001b[0m \u001b[0mencoding\u001b[0m\u001b[0;34m=\u001b[0m\u001b[0;34m'binary'\u001b[0m\u001b[0;34m,\u001b[0m \u001b[0mcache\u001b[0m\u001b[0;34m=\u001b[0m\u001b[0mcache\u001b[0m\u001b[0;34m)\u001b[0m\u001b[0;34m\u001b[0m\u001b[0;34m\u001b[0m\u001b[0m\n\u001b[0;32m--> 505\u001b[0;31m                         \u001b[0mfileobj\u001b[0m \u001b[0;34m=\u001b[0m \u001b[0mctx\u001b[0m\u001b[0;34m.\u001b[0m\u001b[0m__enter__\u001b[0m\u001b[0;34m(\u001b[0m\u001b[0;34m)\u001b[0m\u001b[0;34m\u001b[0m\u001b[0;34m\u001b[0m\u001b[0m\n\u001b[0m\u001b[1;32m    506\u001b[0m                     \u001b[0;32mexcept\u001b[0m \u001b[0mOSError\u001b[0m\u001b[0;34m:\u001b[0m\u001b[0;34m\u001b[0m\u001b[0;34m\u001b[0m\u001b[0m\n\u001b[1;32m    507\u001b[0m                         \u001b[0;32mraise\u001b[0m\u001b[0;34m\u001b[0m\u001b[0;34m\u001b[0m\u001b[0m\n",
      "\u001b[0;32m~/scisoft/opt64/miniconda3/lib/python3.7/contextlib.py\u001b[0m in \u001b[0;36m__enter__\u001b[0;34m(self)\u001b[0m\n\u001b[1;32m    110\u001b[0m         \u001b[0;32mdel\u001b[0m \u001b[0mself\u001b[0m\u001b[0;34m.\u001b[0m\u001b[0margs\u001b[0m\u001b[0;34m,\u001b[0m \u001b[0mself\u001b[0m\u001b[0;34m.\u001b[0m\u001b[0mkwds\u001b[0m\u001b[0;34m,\u001b[0m \u001b[0mself\u001b[0m\u001b[0;34m.\u001b[0m\u001b[0mfunc\u001b[0m\u001b[0;34m\u001b[0m\u001b[0;34m\u001b[0m\u001b[0m\n\u001b[1;32m    111\u001b[0m         \u001b[0;32mtry\u001b[0m\u001b[0;34m:\u001b[0m\u001b[0;34m\u001b[0m\u001b[0;34m\u001b[0m\u001b[0m\n\u001b[0;32m--> 112\u001b[0;31m             \u001b[0;32mreturn\u001b[0m \u001b[0mnext\u001b[0m\u001b[0;34m(\u001b[0m\u001b[0mself\u001b[0m\u001b[0;34m.\u001b[0m\u001b[0mgen\u001b[0m\u001b[0;34m)\u001b[0m\u001b[0;34m\u001b[0m\u001b[0;34m\u001b[0m\u001b[0m\n\u001b[0m\u001b[1;32m    113\u001b[0m         \u001b[0;32mexcept\u001b[0m \u001b[0mStopIteration\u001b[0m\u001b[0;34m:\u001b[0m\u001b[0;34m\u001b[0m\u001b[0;34m\u001b[0m\u001b[0m\n\u001b[1;32m    114\u001b[0m             \u001b[0;32mraise\u001b[0m \u001b[0mRuntimeError\u001b[0m\u001b[0;34m(\u001b[0m\u001b[0;34m\"generator didn't yield\"\u001b[0m\u001b[0;34m)\u001b[0m \u001b[0;32mfrom\u001b[0m \u001b[0;32mNone\u001b[0m\u001b[0;34m\u001b[0m\u001b[0;34m\u001b[0m\u001b[0m\n",
      "\u001b[0;32m~/scisoft/opt64/miniconda3/lib/python3.7/site-packages/astropy/utils/data.py\u001b[0m in \u001b[0;36mget_readable_fileobj\u001b[0;34m(name_or_obj, encoding, cache, show_progress, remote_timeout, sources, http_headers)\u001b[0m\n\u001b[1;32m    250\u001b[0m                 \u001b[0mtimeout\u001b[0m\u001b[0;34m=\u001b[0m\u001b[0mremote_timeout\u001b[0m\u001b[0;34m,\u001b[0m \u001b[0msources\u001b[0m\u001b[0;34m=\u001b[0m\u001b[0msources\u001b[0m\u001b[0;34m,\u001b[0m\u001b[0;34m\u001b[0m\u001b[0;34m\u001b[0m\u001b[0m\n\u001b[1;32m    251\u001b[0m                 http_headers=http_headers)\n\u001b[0;32m--> 252\u001b[0;31m         \u001b[0mfileobj\u001b[0m \u001b[0;34m=\u001b[0m \u001b[0mio\u001b[0m\u001b[0;34m.\u001b[0m\u001b[0mFileIO\u001b[0m\u001b[0;34m(\u001b[0m\u001b[0mname_or_obj\u001b[0m\u001b[0;34m,\u001b[0m \u001b[0;34m'r'\u001b[0m\u001b[0;34m)\u001b[0m\u001b[0;34m\u001b[0m\u001b[0;34m\u001b[0m\u001b[0m\n\u001b[0m\u001b[1;32m    253\u001b[0m         \u001b[0;32mif\u001b[0m \u001b[0mis_url\u001b[0m \u001b[0;32mand\u001b[0m \u001b[0;32mnot\u001b[0m \u001b[0mcache\u001b[0m\u001b[0;34m:\u001b[0m\u001b[0;34m\u001b[0m\u001b[0;34m\u001b[0m\u001b[0m\n\u001b[1;32m    254\u001b[0m             \u001b[0mdelete_fds\u001b[0m\u001b[0;34m.\u001b[0m\u001b[0mappend\u001b[0m\u001b[0;34m(\u001b[0m\u001b[0mfileobj\u001b[0m\u001b[0;34m)\u001b[0m\u001b[0;34m\u001b[0m\u001b[0;34m\u001b[0m\u001b[0m\n",
      "\u001b[0;31mFileNotFoundError\u001b[0m: [Errno 2] No such file or directory: '../data/gedr3_icrf3sx_combined.fits'"
     ]
    }
   ],
   "source": [
    "# SX - Gaia\n",
    "sx2g = Table.read('../data/gedr3_icrf3sx_all_combined.fits')\n",
    "\n",
    "num_sou = len(sx2g)"
   ]
  },
  {
   "cell_type": "code",
   "execution_count": null,
   "metadata": {
    "ExecuteTime": {
     "end_time": "2021-03-05T04:48:34.975418Z",
     "start_time": "2021-03-05T04:48:33.315Z"
    }
   },
   "outputs": [],
   "source": [
    "x, y = sx2g[\"dra_cor\"], sx2g[\"ddec_cor\"]\n",
    "\n",
    "nullfmt = NullFormatter()         # no labels\n",
    "\n",
    "# definitions for the axes\n",
    "left, width = 0.12, 0.65\n",
    "bottom, height = 0.12, 0.65\n",
    "bottom_h = left_h = left + width + 0.02\n",
    "\n",
    "rect_scatter = [left, bottom, width, height]\n",
    "rect_histx = [left, bottom_h, width, 0.2]\n",
    "rect_histy = [left_h, bottom, 0.2, height]\n",
    "\n",
    "# start with a rectangular Figure\n",
    "plt.figure(1, figsize=(6., 6.))\n",
    "\n",
    "axScatter = plt.axes(rect_scatter)\n",
    "axHistx = plt.axes(rect_histx)\n",
    "axHisty = plt.axes(rect_histy)\n",
    "\n",
    "# no labels\n",
    "axHistx.xaxis.set_major_formatter(nullfmt)\n",
    "axHisty.yaxis.set_major_formatter(nullfmt)\n",
    "\n",
    "# the scatter plot:\n",
    "axScatter.scatter(x, y, s=2, lw=0.5, facecolors=\"None\", edgecolors=\"r\")\n",
    "axScatter.set_xlabel(\"$\\Delta\\,\\\\alpha\\,\\cos\\delta$ (S/X$-$Gaia, mas)\", fontsize=12)\n",
    "axScatter.set_ylabel(\"$\\Delta\\,\\delta$ (S/X$-$Gaia, mas)\", fontsize=12)\n",
    "\n",
    "# now determine nice limits by hand:\n",
    "binwidth = 0.1\n",
    "xymax = 2\n",
    "lim = (int(xymax/binwidth) + 1) * binwidth\n",
    "\n",
    "axScatter.set_xlim((-lim, lim))\n",
    "axScatter.set_ylim((-lim, lim))\n",
    "\n",
    "bins = np.arange(-lim, lim + binwidth, binwidth)\n",
    "axHistx.hist(x, bins=bins, fill=False)\n",
    "axHisty.hist(y, bins=bins, orientation=\"horizontal\", fill=False)\n",
    "\n",
    "axHistx.set_xlim(axScatter.get_xlim())\n",
    "axHisty.set_ylim(axScatter.get_ylim())\n",
    "\n",
    "axScatter.grid(lw=0.1)\n",
    "axHistx.grid(lw=0.1)\n",
    "axHisty.grid(lw=0.1)\n",
    "\n",
    "# plt.savefig(\"../plots/k-sx-scatter.eps\", hbox=\"tight\")"
   ]
  },
  {
   "cell_type": "code",
   "execution_count": null,
   "metadata": {
    "ExecuteTime": {
     "end_time": "2021-03-05T04:48:34.977562Z",
     "start_time": "2021-03-05T04:48:33.317Z"
    }
   },
   "outputs": [],
   "source": [
    "# Difference in RA and decl.\n",
    "bins_array = np.linspace(-10, 10, 50)\n",
    "bin_size = 20. / 50\n",
    "weights = np.ones(num_sou) * 100. / num_sou \n",
    "\n",
    "fig, (ax0, ax1) = plt.subplots(figsize=(8, 4), ncols=2, sharey=True)\n",
    "ax0.hist(sx2g[\"nor_ra\"], bins_array, weights=weights, facecolor='w', alpha=0.75, edgecolor=\"b\")\n",
    "ax1.hist(sx2g[\"nor_dec\"], bins_array, weights=weights, facecolor=\"w\", edgecolor=\"b\", alpha=0.75)\n",
    "\n",
    "# add a '(standard) Gaussian distribution' line\n",
    "Gaussian_dist = stats.norm.pdf(bins_array, 0, 1) * bin_size\n",
    "ax0.plot(bins_array, Gaussian_dist * 100, \"r--\", linewidth=1)\n",
    "ax1.plot(bins_array, Gaussian_dist * 100, \"r--\", linewidth=1)\n",
    "\n",
    "ax0.set_yticks(np.arange(0, 26, 2))\n",
    "ax1.set_yticks(np.arange(0, 26, 2))\n",
    "\n",
    "ax0.set_ylim([0, 16])\n",
    "ax1.set_ylim([0, 16])\n",
    "\n",
    "ax0.set_xlabel(\"$X_\\\\alpha*$\", fontsize=12)\n",
    "ax1.set_xlabel(\"$X_\\\\delta$\", fontsize=12)\n",
    "\n",
    "ax0.set_ylabel(\"% in bin\", fontsize=12)\n",
    "# ax1.set_ylabel(\"% in bin\")\n",
    "\n",
    "fig.tight_layout()\n",
    "plt.show()"
   ]
  },
  {
   "cell_type": "code",
   "execution_count": null,
   "metadata": {
    "ExecuteTime": {
     "end_time": "2021-03-05T04:48:34.979495Z",
     "start_time": "2021-03-05T04:48:33.320Z"
    }
   },
   "outputs": [],
   "source": [
    "# Distribution of normalized separation\n",
    "bins_array = np.linspace(0, 5, 50)\n",
    "weights = np.ones(num_sou) * 100. / num_sou\n",
    "\n",
    "fig, ax = plt.subplots(figsize=(6, 3))\n",
    "ax.hist(sx2g[\"ang_sep\"], bins_array, weights=weights, \n",
    "        facecolor=\"w\", edgecolor=\"b\")\n",
    "\n",
    "ax.text(3.5, 10.5, \"ICRF3 S/X\", fontsize=15)\n",
    "# ax.set_xlim([0, 10])\n",
    "ax.set_xlabel(\"Angular separation $\\\\rho$ (mas)\", fontsize=12)\n",
    "ax.set_ylabel(\"% in bin\", fontsize=12)\n",
    "# ax.grid()\n",
    "\n",
    "plt.savefig(\"../plots/rho_icrf3sx_gaiaedr3.eps\")"
   ]
  },
  {
   "cell_type": "code",
   "execution_count": null,
   "metadata": {
    "ExecuteTime": {
     "end_time": "2021-03-05T04:48:34.981230Z",
     "start_time": "2021-03-05T04:48:33.322Z"
    }
   },
   "outputs": [],
   "source": [
    "# Distribution of normalized separation\n",
    "bins_array = np.linspace(0, 10, 50)\n",
    "weights = np.ones(num_sou) * 100. / num_sou\n",
    "\n",
    "fig, ax = plt.subplots(figsize=(6, 3))\n",
    "ax.hist(sx2g[\"nor_sep\"], bins_array, weights=weights, \n",
    "        facecolor=\"w\", edgecolor=\"b\")\n",
    "\n",
    "# add a '(standard) Rqyleigh distribution' line\n",
    "rayleigh_dist = stats.rayleigh.pdf(bins_array) * 10. / 50  * 100\n",
    "ax.plot(bins_array, rayleigh_dist, \"r--\", linewidth=1)\n",
    "\n",
    "ax.text(6.5, 10.5, \"ICRF3 S/X\", fontsize=15)\n",
    "\n",
    "ax.set_xlim([0, 10])\n",
    "ax.set_xlabel(\"Normalized separation $X$\", fontsize=12)\n",
    "ax.set_ylabel(\"% in bin\", fontsize=12)\n",
    "# ax.grid()\n",
    "\n",
    "# plt.savefig(\"../plots/x_icrf3sx_gaiaedr3.eps\")"
   ]
  },
  {
   "cell_type": "code",
   "execution_count": null,
   "metadata": {
    "ExecuteTime": {
     "end_time": "2021-03-05T04:48:34.982819Z",
     "start_time": "2021-03-05T04:48:33.324Z"
    }
   },
   "outputs": [],
   "source": [
    "# Angular separation vs. normalized separation\n",
    "fig, ax = plt.subplots()\n",
    "\n",
    "ax.plot(sx2g[\"nor_sep\"], sx2g[\"ang_sep\"], \"b*\", ms=1.5)\n",
    "\n",
    "ax.set_ylabel(\"Normalized separation $X$\", fontsize=12)\n",
    "ax.set_xlabel(\"Angular separation $\\\\rho$ (mas)\", fontsize=12)\n",
    "\n",
    "ax.set_xscale(\"log\")\n",
    "ax.set_yscale(\"log\")\n",
    "\n",
    "ax.set_xlim([0.02, 600])\n",
    "ax.set_ylim([0.01, 600])\n",
    "\n",
    "fig.tight_layout()"
   ]
  },
  {
   "cell_type": "code",
   "execution_count": null,
   "metadata": {
    "ExecuteTime": {
     "end_time": "2021-03-05T04:48:34.983941Z",
     "start_time": "2021-03-05T04:48:33.325Z"
    }
   },
   "outputs": [],
   "source": [
    "# Difference in RA and decl.\n",
    "fig, (ax0, ax1) = plt.subplots(figsize=(8, 6), nrows=2, sharex=True, sharey=True)\n",
    "\n",
    "ax0.errorbar(sx2g['ra'], sx2g['dra'], yerr=sx2g['dra_err'],\n",
    "             fmt='.', color='b', elinewidth=0.2, ms=2)\n",
    "ax1.errorbar(sx2g['ra'], sx2g['ddec'], yerr=sx2g['ddec_err'],\n",
    "             fmt='.', color='b', elinewidth=0.2, ms=2)\n",
    "\n",
    "ax0.set_xticks(np.arange(0, 361, 60))\n",
    "\n",
    "ax0.set_ylim([-2.5, 2.5])\n",
    "\n",
    "\n",
    "ax1.set_xlabel('RA ($^\\circ$)', fontsize=15)\n",
    "ax0.set_ylabel('$\\Delta_\\\\alpha*$ (mas)', fontsize=15)\n",
    "ax1.set_ylabel('$\\Delta_\\\\delta$ (mas)', fontsize=15)\n",
    "\n",
    "ax0.set_title(\"ICRF3 SX $-$ Gaia EDR3\", fontsize=15)\n",
    "fig.tight_layout()"
   ]
  },
  {
   "cell_type": "code",
   "execution_count": null,
   "metadata": {
    "ExecuteTime": {
     "end_time": "2021-03-05T04:48:34.985848Z",
     "start_time": "2021-03-05T04:48:33.327Z"
    }
   },
   "outputs": [],
   "source": [
    "# Difference in RA and decl.\n",
    "fig, (ax0, ax1) = plt.subplots(figsize=(8, 6), nrows=2, sharex=True, sharey=True)\n",
    "\n",
    "ax0.errorbar(sx2g['dec'], sx2g['dra'], yerr=sx2g['dra_err'],\n",
    "             fmt='.', color='b', elinewidth=0.2, ms=2)\n",
    "ax1.errorbar(sx2g['dec'], sx2g['ddec'], yerr=sx2g['ddec_err'],\n",
    "             fmt='.', color='b', elinewidth=0.2, ms=2)\n",
    "\n",
    "ax0.set_xticks(np.arange(-90, 91, 30))\n",
    "ax0.set_xlim([-90, 90])\n",
    "ax0.set_ylim([-2.5, 2.5])\n",
    "\n",
    "ax1.set_xlabel('Declination ($^\\circ$)', fontsize=15)\n",
    "ax0.set_ylabel('$\\Delta_\\\\alpha*$ (mas)', fontsize=15)\n",
    "ax1.set_ylabel('$\\Delta_\\\\delta$ (mas)', fontsize=15)\n",
    "\n",
    "ax0.set_title(\"ICRF3 SX $-$ Gaia EDR3\", fontsize=15)\n",
    "fig.tight_layout()"
   ]
  }
 ],
 "metadata": {
  "hide_input": false,
  "kernelspec": {
   "display_name": "Python 3",
   "language": "python",
   "name": "python3"
  },
  "language_info": {
   "codemirror_mode": {
    "name": "ipython",
    "version": 3
   },
   "file_extension": ".py",
   "mimetype": "text/x-python",
   "name": "python",
   "nbconvert_exporter": "python",
   "pygments_lexer": "ipython3",
   "version": "3.7.10"
  },
  "latex_envs": {
   "LaTeX_envs_menu_present": true,
   "autoclose": false,
   "autocomplete": true,
   "bibliofile": "biblio.bib",
   "cite_by": "apalike",
   "current_citInitial": 1,
   "eqLabelWithNumbers": true,
   "eqNumInitial": 1,
   "hotkeys": {
    "equation": "Ctrl-E",
    "itemize": "Ctrl-I"
   },
   "labels_anchors": false,
   "latex_user_defs": false,
   "report_style_numbering": false,
   "user_envs_cfg": false
  },
  "varInspector": {
   "cols": {
    "lenName": 16,
    "lenType": 16,
    "lenVar": 40
   },
   "kernels_config": {
    "python": {
     "delete_cmd_postfix": "",
     "delete_cmd_prefix": "del ",
     "library": "var_list.py",
     "varRefreshCmd": "print(var_dic_list())"
    },
    "r": {
     "delete_cmd_postfix": ") ",
     "delete_cmd_prefix": "rm(",
     "library": "var_list.r",
     "varRefreshCmd": "cat(var_dic_list()) "
    }
   },
   "types_to_exclude": [
    "module",
    "function",
    "builtin_function_or_method",
    "instance",
    "_Feature"
   ],
   "window_display": false
  }
 },
 "nbformat": 4,
 "nbformat_minor": 2
}
